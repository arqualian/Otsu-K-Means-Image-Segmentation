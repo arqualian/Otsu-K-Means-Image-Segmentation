{
 "cells": [
  {
   "cell_type": "markdown",
   "metadata": {},
   "source": [
    "Labeling Data Set\n"
   ]
  },
  {
   "cell_type": "code",
   "execution_count": 33,
   "metadata": {},
   "outputs": [
    {
     "name": "stderr",
     "output_type": "stream",
     "text": [
      "Processing images:   0%|          | 0/2360 [00:00<?, ?it/s]"
     ]
    },
    {
     "name": "stderr",
     "output_type": "stream",
     "text": [
      "Processing images:   0%|          | 5/2360 [00:00<00:56, 41.69it/s]"
     ]
    },
    {
     "name": "stdout",
     "output_type": "stream",
     "text": [
      "Processing C:\\Users\\USER\\Desktop\\Selected Perogram\\Preproses\\Tahap B\\Avicennia alba\\Avicennia.alba_1.jpg\n",
      "Processing C:\\Users\\USER\\Desktop\\Selected Perogram\\Preproses\\Tahap B\\Avicennia alba\\Avicennia.alba_10.jpg\n",
      "Processing C:\\Users\\USER\\Desktop\\Selected Perogram\\Preproses\\Tahap B\\Avicennia alba\\Avicennia.alba_11.jpg\n",
      "Processing C:\\Users\\USER\\Desktop\\Selected Perogram\\Preproses\\Tahap B\\Avicennia alba\\Avicennia.alba_12.jpg\n",
      "Processing C:\\Users\\USER\\Desktop\\Selected Perogram\\Preproses\\Tahap B\\Avicennia alba\\Avicennia.alba_13.jpg\n",
      "Processing C:\\Users\\USER\\Desktop\\Selected Perogram\\Preproses\\Tahap B\\Avicennia alba\\Avicennia.alba_14.jpg\n",
      "Processing C:\\Users\\USER\\Desktop\\Selected Perogram\\Preproses\\Tahap B\\Avicennia alba\\Avicennia.alba_15.jpg\n",
      "Processing C:\\Users\\USER\\Desktop\\Selected Perogram\\Preproses\\Tahap B\\Avicennia alba\\Avicennia.alba_16.jpg\n",
      "Processing C:\\Users\\USER\\Desktop\\Selected Perogram\\Preproses\\Tahap B\\Avicennia alba\\Avicennia.alba_17.jpg\n"
     ]
    },
    {
     "name": "stderr",
     "output_type": "stream",
     "text": [
      "Processing images:   1%|          | 15/2360 [00:00<00:54, 42.81it/s]"
     ]
    },
    {
     "name": "stdout",
     "output_type": "stream",
     "text": [
      "Processing C:\\Users\\USER\\Desktop\\Selected Perogram\\Preproses\\Tahap B\\Avicennia alba\\Avicennia.alba_18.jpg\n",
      "Processing C:\\Users\\USER\\Desktop\\Selected Perogram\\Preproses\\Tahap B\\Avicennia alba\\Avicennia.alba_19.jpg\n",
      "Processing C:\\Users\\USER\\Desktop\\Selected Perogram\\Preproses\\Tahap B\\Avicennia alba\\Avicennia.alba_2.jpg\n",
      "Processing C:\\Users\\USER\\Desktop\\Selected Perogram\\Preproses\\Tahap B\\Avicennia alba\\Avicennia.alba_20.jpg\n",
      "Processing C:\\Users\\USER\\Desktop\\Selected Perogram\\Preproses\\Tahap B\\Avicennia alba\\Avicennia.alba_21.jpg\n",
      "Processing C:\\Users\\USER\\Desktop\\Selected Perogram\\Preproses\\Tahap B\\Avicennia alba\\Avicennia.alba_22.jpg\n",
      "Processing C:\\Users\\USER\\Desktop\\Selected Perogram\\Preproses\\Tahap B\\Avicennia alba\\Avicennia.alba_23.jpg\n",
      "Processing C:\\Users\\USER\\Desktop\\Selected Perogram\\Preproses\\Tahap B\\Avicennia alba\\Avicennia.alba_24.jpg\n",
      "Processing C:\\Users\\USER\\Desktop\\Selected Perogram\\Preproses\\Tahap B\\Avicennia alba\\Avicennia.alba_25.jpg\n"
     ]
    },
    {
     "name": "stderr",
     "output_type": "stream",
     "text": [
      "Processing images:   1%|          | 25/2360 [00:00<00:56, 41.02it/s]"
     ]
    },
    {
     "name": "stdout",
     "output_type": "stream",
     "text": [
      "Processing C:\\Users\\USER\\Desktop\\Selected Perogram\\Preproses\\Tahap B\\Avicennia alba\\Avicennia.alba_26.jpg\n",
      "Processing C:\\Users\\USER\\Desktop\\Selected Perogram\\Preproses\\Tahap B\\Avicennia alba\\Avicennia.alba_27.jpg\n",
      "Processing C:\\Users\\USER\\Desktop\\Selected Perogram\\Preproses\\Tahap B\\Avicennia alba\\Avicennia.alba_28.jpg\n",
      "Processing C:\\Users\\USER\\Desktop\\Selected Perogram\\Preproses\\Tahap B\\Avicennia alba\\Avicennia.alba_29.jpg\n",
      "Processing C:\\Users\\USER\\Desktop\\Selected Perogram\\Preproses\\Tahap B\\Avicennia alba\\Avicennia.alba_3.jpg\n",
      "Processing C:\\Users\\USER\\Desktop\\Selected Perogram\\Preproses\\Tahap B\\Avicennia alba\\Avicennia.alba_30.jpg\n",
      "Processing C:\\Users\\USER\\Desktop\\Selected Perogram\\Preproses\\Tahap B\\Avicennia alba\\Avicennia.alba_31.jpg\n",
      "Processing C:\\Users\\USER\\Desktop\\Selected Perogram\\Preproses\\Tahap B\\Avicennia alba\\Avicennia.alba_32.jpg\n",
      "Processing C:\\Users\\USER\\Desktop\\Selected Perogram\\Preproses\\Tahap B\\Avicennia alba\\Avicennia.alba_33.jpg\n"
     ]
    },
    {
     "name": "stderr",
     "output_type": "stream",
     "text": [
      "Processing images:   1%|▏         | 35/2360 [00:00<00:55, 42.08it/s]"
     ]
    },
    {
     "name": "stdout",
     "output_type": "stream",
     "text": [
      "Processing C:\\Users\\USER\\Desktop\\Selected Perogram\\Preproses\\Tahap B\\Avicennia alba\\Avicennia.alba_34.jpg\n",
      "Processing C:\\Users\\USER\\Desktop\\Selected Perogram\\Preproses\\Tahap B\\Avicennia alba\\Avicennia.alba_35.jpg\n",
      "Processing C:\\Users\\USER\\Desktop\\Selected Perogram\\Preproses\\Tahap B\\Avicennia alba\\Avicennia.alba_36.jpg\n",
      "Processing C:\\Users\\USER\\Desktop\\Selected Perogram\\Preproses\\Tahap B\\Avicennia alba\\Avicennia.alba_37.jpg\n",
      "Processing C:\\Users\\USER\\Desktop\\Selected Perogram\\Preproses\\Tahap B\\Avicennia alba\\Avicennia.alba_38.jpg\n",
      "Processing C:\\Users\\USER\\Desktop\\Selected Perogram\\Preproses\\Tahap B\\Avicennia alba\\Avicennia.alba_39.jpg\n",
      "Processing C:\\Users\\USER\\Desktop\\Selected Perogram\\Preproses\\Tahap B\\Avicennia alba\\Avicennia.alba_4.jpg\n",
      "Processing C:\\Users\\USER\\Desktop\\Selected Perogram\\Preproses\\Tahap B\\Avicennia alba\\Avicennia.alba_40.jpg\n"
     ]
    },
    {
     "name": "stderr",
     "output_type": "stream",
     "text": [
      "Processing images:   2%|▏         | 40/2360 [00:00<00:54, 42.66it/s]"
     ]
    },
    {
     "name": "stdout",
     "output_type": "stream",
     "text": [
      "Processing C:\\Users\\USER\\Desktop\\Selected Perogram\\Preproses\\Tahap B\\Avicennia alba\\Avicennia.alba_41.jpg\n",
      "Processing C:\\Users\\USER\\Desktop\\Selected Perogram\\Preproses\\Tahap B\\Avicennia alba\\Avicennia.alba_42.jpg\n",
      "Processing C:\\Users\\USER\\Desktop\\Selected Perogram\\Preproses\\Tahap B\\Avicennia alba\\Avicennia.alba_43.jpg\n",
      "Processing C:\\Users\\USER\\Desktop\\Selected Perogram\\Preproses\\Tahap B\\Avicennia alba\\Avicennia.alba_44.jpg\n",
      "Processing C:\\Users\\USER\\Desktop\\Selected Perogram\\Preproses\\Tahap B\\Avicennia alba\\Avicennia.alba_45.jpg\n",
      "Processing C:\\Users\\USER\\Desktop\\Selected Perogram\\Preproses\\Tahap B\\Avicennia alba\\Avicennia.alba_46.jpg\n",
      "Processing C:\\Users\\USER\\Desktop\\Selected Perogram\\Preproses\\Tahap B\\Avicennia alba\\Avicennia.alba_47.jpg\n",
      "Processing C:\\Users\\USER\\Desktop\\Selected Perogram\\Preproses\\Tahap B\\Avicennia alba\\Avicennia.alba_48.jpg\n",
      "Processing C:\\Users\\USER\\Desktop\\Selected Perogram\\Preproses\\Tahap B\\Avicennia alba\\Avicennia.alba_49.jpg\n",
      "Processing C:\\Users\\USER\\Desktop\\Selected Perogram\\Preproses\\Tahap B\\Avicennia alba\\Avicennia.alba_5.jpg\n"
     ]
    },
    {
     "name": "stderr",
     "output_type": "stream",
     "text": [
      "Processing images:   2%|▏         | 50/2360 [00:01<00:53, 43.26it/s]"
     ]
    },
    {
     "name": "stdout",
     "output_type": "stream",
     "text": [
      "Processing C:\\Users\\USER\\Desktop\\Selected Perogram\\Preproses\\Tahap B\\Avicennia alba\\Avicennia.alba_50.jpg\n",
      "Processing C:\\Users\\USER\\Desktop\\Selected Perogram\\Preproses\\Tahap B\\Avicennia alba\\Avicennia.alba_51.jpg\n",
      "Processing C:\\Users\\USER\\Desktop\\Selected Perogram\\Preproses\\Tahap B\\Avicennia alba\\Avicennia.alba_52.jpg\n",
      "Processing C:\\Users\\USER\\Desktop\\Selected Perogram\\Preproses\\Tahap B\\Avicennia alba\\Avicennia.alba_53.jpg\n",
      "Processing C:\\Users\\USER\\Desktop\\Selected Perogram\\Preproses\\Tahap B\\Avicennia alba\\Avicennia.alba_54.jpg\n",
      "Processing C:\\Users\\USER\\Desktop\\Selected Perogram\\Preproses\\Tahap B\\Avicennia alba\\Avicennia.alba_55.jpg\n",
      "Processing C:\\Users\\USER\\Desktop\\Selected Perogram\\Preproses\\Tahap B\\Avicennia alba\\Avicennia.alba_56.jpg\n",
      "Processing C:\\Users\\USER\\Desktop\\Selected Perogram\\Preproses\\Tahap B\\Avicennia alba\\Avicennia.alba_57.jpg\n",
      "Processing C:\\Users\\USER\\Desktop\\Selected Perogram\\Preproses\\Tahap B\\Avicennia alba\\Avicennia.alba_58.jpg\n"
     ]
    },
    {
     "name": "stderr",
     "output_type": "stream",
     "text": [
      "Processing images:   3%|▎         | 60/2360 [00:01<00:53, 43.20it/s]"
     ]
    },
    {
     "name": "stdout",
     "output_type": "stream",
     "text": [
      "Processing C:\\Users\\USER\\Desktop\\Selected Perogram\\Preproses\\Tahap B\\Avicennia alba\\Avicennia.alba_59.jpg\n",
      "Processing C:\\Users\\USER\\Desktop\\Selected Perogram\\Preproses\\Tahap B\\Avicennia alba\\Avicennia.alba_6.jpg\n",
      "Processing C:\\Users\\USER\\Desktop\\Selected Perogram\\Preproses\\Tahap B\\Avicennia alba\\Avicennia.alba_7.jpg\n",
      "Processing C:\\Users\\USER\\Desktop\\Selected Perogram\\Preproses\\Tahap B\\Avicennia alba\\Avicennia.alba_8.jpg\n",
      "Processing C:\\Users\\USER\\Desktop\\Selected Perogram\\Preproses\\Tahap B\\Avicennia alba\\Avicennia.alba_9.jpg\n",
      "Processing C:\\Users\\USER\\Desktop\\Selected Perogram\\Preproses\\Tahap B\\Avicennia alba\\Avicennia_alba10_horizontal_0.jpg\n",
      "Processing C:\\Users\\USER\\Desktop\\Selected Perogram\\Preproses\\Tahap B\\Avicennia alba\\Avicennia_alba10_horizontal_270.jpg\n",
      "Processing C:\\Users\\USER\\Desktop\\Selected Perogram\\Preproses\\Tahap B\\Avicennia alba\\Avicennia_alba10_horizontal_90.jpg\n",
      "Processing C:\\Users\\USER\\Desktop\\Selected Perogram\\Preproses\\Tahap B\\Avicennia alba\\Avicennia_alba10_original_0.jpg\n"
     ]
    },
    {
     "name": "stderr",
     "output_type": "stream",
     "text": [
      "Processing images:   3%|▎         | 70/2360 [00:01<00:51, 44.12it/s]"
     ]
    },
    {
     "name": "stdout",
     "output_type": "stream",
     "text": [
      "Processing C:\\Users\\USER\\Desktop\\Selected Perogram\\Preproses\\Tahap B\\Avicennia alba\\Avicennia_alba10_original_270.jpg\n",
      "Processing C:\\Users\\USER\\Desktop\\Selected Perogram\\Preproses\\Tahap B\\Avicennia alba\\Avicennia_alba10_original_90.jpg\n",
      "Processing C:\\Users\\USER\\Desktop\\Selected Perogram\\Preproses\\Tahap B\\Avicennia alba\\Avicennia_alba10_vertical_0.jpg\n",
      "Processing C:\\Users\\USER\\Desktop\\Selected Perogram\\Preproses\\Tahap B\\Avicennia alba\\Avicennia_alba10_vertical_270.jpg\n",
      "Processing C:\\Users\\USER\\Desktop\\Selected Perogram\\Preproses\\Tahap B\\Avicennia alba\\Avicennia_alba10_vertical_90.jpg\n",
      "Processing C:\\Users\\USER\\Desktop\\Selected Perogram\\Preproses\\Tahap B\\Avicennia alba\\Avicennia_alba11_horizontal_0.jpg\n",
      "Processing C:\\Users\\USER\\Desktop\\Selected Perogram\\Preproses\\Tahap B\\Avicennia alba\\Avicennia_alba11_horizontal_270.jpg\n",
      "Processing C:\\Users\\USER\\Desktop\\Selected Perogram\\Preproses\\Tahap B\\Avicennia alba\\Avicennia_alba11_horizontal_90.jpg\n",
      "Processing C:\\Users\\USER\\Desktop\\Selected Perogram\\Preproses\\Tahap B\\Avicennia alba\\Avicennia_alba11_original_0.jpg\n",
      "Processing C:\\Users\\USER\\Desktop\\Selected Perogram\\Preproses\\Tahap B\\Avicennia alba\\Avicennia_alba11_original_270.jpg\n"
     ]
    },
    {
     "name": "stderr",
     "output_type": "stream",
     "text": [
      "Processing images:   3%|▎         | 80/2360 [00:01<00:52, 43.57it/s]"
     ]
    },
    {
     "name": "stdout",
     "output_type": "stream",
     "text": [
      "Processing C:\\Users\\USER\\Desktop\\Selected Perogram\\Preproses\\Tahap B\\Avicennia alba\\Avicennia_alba11_original_90.jpg\n",
      "Processing C:\\Users\\USER\\Desktop\\Selected Perogram\\Preproses\\Tahap B\\Avicennia alba\\Avicennia_alba11_vertical_0.jpg\n",
      "Processing C:\\Users\\USER\\Desktop\\Selected Perogram\\Preproses\\Tahap B\\Avicennia alba\\Avicennia_alba11_vertical_270.jpg\n",
      "Processing C:\\Users\\USER\\Desktop\\Selected Perogram\\Preproses\\Tahap B\\Avicennia alba\\Avicennia_alba11_vertical_90.jpg\n",
      "Processing C:\\Users\\USER\\Desktop\\Selected Perogram\\Preproses\\Tahap B\\Avicennia alba\\Avicennia_alba12_horizontal_0.jpg\n",
      "Processing C:\\Users\\USER\\Desktop\\Selected Perogram\\Preproses\\Tahap B\\Avicennia alba\\Avicennia_alba12_horizontal_270.jpg\n",
      "Processing C:\\Users\\USER\\Desktop\\Selected Perogram\\Preproses\\Tahap B\\Avicennia alba\\Avicennia_alba12_horizontal_90.jpg\n",
      "Processing C:\\Users\\USER\\Desktop\\Selected Perogram\\Preproses\\Tahap B\\Avicennia alba\\Avicennia_alba12_original_0.jpg\n",
      "Processing C:\\Users\\USER\\Desktop\\Selected Perogram\\Preproses\\Tahap B\\Avicennia alba\\Avicennia_alba12_original_270.jpg\n"
     ]
    },
    {
     "name": "stderr",
     "output_type": "stream",
     "text": [
      "Processing images:   4%|▍         | 90/2360 [00:02<00:51, 43.70it/s]"
     ]
    },
    {
     "name": "stdout",
     "output_type": "stream",
     "text": [
      "Processing C:\\Users\\USER\\Desktop\\Selected Perogram\\Preproses\\Tahap B\\Avicennia alba\\Avicennia_alba12_original_90.jpg\n",
      "Processing C:\\Users\\USER\\Desktop\\Selected Perogram\\Preproses\\Tahap B\\Avicennia alba\\Avicennia_alba12_vertical_0.jpg\n",
      "Processing C:\\Users\\USER\\Desktop\\Selected Perogram\\Preproses\\Tahap B\\Avicennia alba\\Avicennia_alba12_vertical_270.jpg\n",
      "Processing C:\\Users\\USER\\Desktop\\Selected Perogram\\Preproses\\Tahap B\\Avicennia alba\\Avicennia_alba12_vertical_90.jpg\n",
      "Processing C:\\Users\\USER\\Desktop\\Selected Perogram\\Preproses\\Tahap B\\Avicennia alba\\Avicennia_alba13_horizontal_0.jpg\n",
      "Processing C:\\Users\\USER\\Desktop\\Selected Perogram\\Preproses\\Tahap B\\Avicennia alba\\Avicennia_alba13_horizontal_270.jpg\n",
      "Processing C:\\Users\\USER\\Desktop\\Selected Perogram\\Preproses\\Tahap B\\Avicennia alba\\Avicennia_alba13_horizontal_90.jpg\n",
      "Processing C:\\Users\\USER\\Desktop\\Selected Perogram\\Preproses\\Tahap B\\Avicennia alba\\Avicennia_alba13_original_0.jpg\n",
      "Processing C:\\Users\\USER\\Desktop\\Selected Perogram\\Preproses\\Tahap B\\Avicennia alba\\Avicennia_alba13_original_270.jpg\n",
      "Processing C:\\Users\\USER\\Desktop\\Selected Perogram\\Preproses\\Tahap B\\Avicennia alba\\Avicennia_alba13_original_90.jpg\n"
     ]
    },
    {
     "name": "stderr",
     "output_type": "stream",
     "text": [
      "Processing images:   4%|▍         | 95/2360 [00:02<00:53, 42.72it/s]"
     ]
    },
    {
     "name": "stdout",
     "output_type": "stream",
     "text": [
      "Processing C:\\Users\\USER\\Desktop\\Selected Perogram\\Preproses\\Tahap B\\Avicennia alba\\Avicennia_alba13_vertical_0.jpg\n",
      "Processing C:\\Users\\USER\\Desktop\\Selected Perogram\\Preproses\\Tahap B\\Avicennia alba\\Avicennia_alba13_vertical_270.jpg\n",
      "Processing C:\\Users\\USER\\Desktop\\Selected Perogram\\Preproses\\Tahap B\\Avicennia alba\\Avicennia_alba13_vertical_90.jpg\n",
      "Processing C:\\Users\\USER\\Desktop\\Selected Perogram\\Preproses\\Tahap B\\Avicennia alba\\Avicennia_alba14_horizontal_0.jpg\n",
      "Processing C:\\Users\\USER\\Desktop\\Selected Perogram\\Preproses\\Tahap B\\Avicennia alba\\Avicennia_alba14_horizontal_270.jpg\n",
      "Processing C:\\Users\\USER\\Desktop\\Selected Perogram\\Preproses\\Tahap B\\Avicennia alba\\Avicennia_alba14_horizontal_90.jpg\n",
      "Processing C:\\Users\\USER\\Desktop\\Selected Perogram\\Preproses\\Tahap B\\Avicennia alba\\Avicennia_alba14_original_0.jpg\n",
      "Processing C:\\Users\\USER\\Desktop\\Selected Perogram\\Preproses\\Tahap B\\Avicennia alba\\Avicennia_alba14_original_270.jpg\n"
     ]
    },
    {
     "name": "stderr",
     "output_type": "stream",
     "text": [
      "Processing images:   4%|▍         | 105/2360 [00:02<00:55, 40.99it/s]"
     ]
    },
    {
     "name": "stdout",
     "output_type": "stream",
     "text": [
      "Processing C:\\Users\\USER\\Desktop\\Selected Perogram\\Preproses\\Tahap B\\Avicennia alba\\Avicennia_alba14_original_90.jpg\n",
      "Processing C:\\Users\\USER\\Desktop\\Selected Perogram\\Preproses\\Tahap B\\Avicennia alba\\Avicennia_alba14_vertical_0.jpg\n",
      "Processing C:\\Users\\USER\\Desktop\\Selected Perogram\\Preproses\\Tahap B\\Avicennia alba\\Avicennia_alba14_vertical_270.jpg\n",
      "Processing C:\\Users\\USER\\Desktop\\Selected Perogram\\Preproses\\Tahap B\\Avicennia alba\\Avicennia_alba14_vertical_90.jpg\n",
      "Processing C:\\Users\\USER\\Desktop\\Selected Perogram\\Preproses\\Tahap B\\Avicennia alba\\Avicennia_alba15_horizontal_0.jpg\n",
      "Processing C:\\Users\\USER\\Desktop\\Selected Perogram\\Preproses\\Tahap B\\Avicennia alba\\Avicennia_alba15_horizontal_270.jpg\n",
      "Processing C:\\Users\\USER\\Desktop\\Selected Perogram\\Preproses\\Tahap B\\Avicennia alba\\Avicennia_alba15_horizontal_90.jpg\n",
      "Processing C:\\Users\\USER\\Desktop\\Selected Perogram\\Preproses\\Tahap B\\Avicennia alba\\Avicennia_alba15_original_0.jpg\n",
      "Processing C:\\Users\\USER\\Desktop\\Selected Perogram\\Preproses\\Tahap B\\Avicennia alba\\Avicennia_alba15_original_270.jpg\n"
     ]
    },
    {
     "name": "stderr",
     "output_type": "stream",
     "text": [
      "Processing images:   5%|▍         | 115/2360 [00:02<00:55, 40.22it/s]"
     ]
    },
    {
     "name": "stdout",
     "output_type": "stream",
     "text": [
      "Processing C:\\Users\\USER\\Desktop\\Selected Perogram\\Preproses\\Tahap B\\Avicennia alba\\Avicennia_alba15_original_90.jpg\n",
      "Processing C:\\Users\\USER\\Desktop\\Selected Perogram\\Preproses\\Tahap B\\Avicennia alba\\Avicennia_alba15_vertical_0.jpg\n",
      "Processing C:\\Users\\USER\\Desktop\\Selected Perogram\\Preproses\\Tahap B\\Avicennia alba\\Avicennia_alba15_vertical_270.jpg\n",
      "Processing C:\\Users\\USER\\Desktop\\Selected Perogram\\Preproses\\Tahap B\\Avicennia alba\\Avicennia_alba15_vertical_90.jpg\n",
      "Processing C:\\Users\\USER\\Desktop\\Selected Perogram\\Preproses\\Tahap B\\Avicennia alba\\Avicennia_alba16_horizontal_0.jpg\n",
      "Processing C:\\Users\\USER\\Desktop\\Selected Perogram\\Preproses\\Tahap B\\Avicennia alba\\Avicennia_alba16_horizontal_270.jpg\n",
      "Processing C:\\Users\\USER\\Desktop\\Selected Perogram\\Preproses\\Tahap B\\Avicennia alba\\Avicennia_alba16_horizontal_90.jpg\n",
      "Processing C:\\Users\\USER\\Desktop\\Selected Perogram\\Preproses\\Tahap B\\Avicennia alba\\Avicennia_alba16_original_0.jpg\n",
      "Processing C:\\Users\\USER\\Desktop\\Selected Perogram\\Preproses\\Tahap B\\Avicennia alba\\Avicennia_alba16_original_270.jpg\n"
     ]
    },
    {
     "name": "stderr",
     "output_type": "stream",
     "text": [
      "Processing images:   5%|▌         | 125/2360 [00:02<00:56, 39.87it/s]"
     ]
    },
    {
     "name": "stdout",
     "output_type": "stream",
     "text": [
      "Processing C:\\Users\\USER\\Desktop\\Selected Perogram\\Preproses\\Tahap B\\Avicennia alba\\Avicennia_alba16_original_90.jpg\n",
      "Processing C:\\Users\\USER\\Desktop\\Selected Perogram\\Preproses\\Tahap B\\Avicennia alba\\Avicennia_alba16_vertical_0.jpg\n",
      "Processing C:\\Users\\USER\\Desktop\\Selected Perogram\\Preproses\\Tahap B\\Avicennia alba\\Avicennia_alba16_vertical_270.jpg\n",
      "Processing C:\\Users\\USER\\Desktop\\Selected Perogram\\Preproses\\Tahap B\\Avicennia alba\\Avicennia_alba16_vertical_90.jpg\n",
      "Processing C:\\Users\\USER\\Desktop\\Selected Perogram\\Preproses\\Tahap B\\Avicennia alba\\Avicennia_alba17_horizontal_0.jpg\n",
      "Processing C:\\Users\\USER\\Desktop\\Selected Perogram\\Preproses\\Tahap B\\Avicennia alba\\Avicennia_alba17_horizontal_270.jpg\n",
      "Processing C:\\Users\\USER\\Desktop\\Selected Perogram\\Preproses\\Tahap B\\Avicennia alba\\Avicennia_alba17_horizontal_90.jpg\n"
     ]
    },
    {
     "name": "stderr",
     "output_type": "stream",
     "text": [
      "Processing images:   6%|▌         | 133/2360 [00:03<00:57, 39.03it/s]"
     ]
    },
    {
     "name": "stdout",
     "output_type": "stream",
     "text": [
      "Processing C:\\Users\\USER\\Desktop\\Selected Perogram\\Preproses\\Tahap B\\Avicennia alba\\Avicennia_alba17_original_0.jpg\n",
      "Processing C:\\Users\\USER\\Desktop\\Selected Perogram\\Preproses\\Tahap B\\Avicennia alba\\Avicennia_alba17_original_270.jpg\n",
      "Processing C:\\Users\\USER\\Desktop\\Selected Perogram\\Preproses\\Tahap B\\Avicennia alba\\Avicennia_alba17_original_90.jpg\n",
      "Processing C:\\Users\\USER\\Desktop\\Selected Perogram\\Preproses\\Tahap B\\Avicennia alba\\Avicennia_alba17_vertical_0.jpg\n",
      "Processing C:\\Users\\USER\\Desktop\\Selected Perogram\\Preproses\\Tahap B\\Avicennia alba\\Avicennia_alba17_vertical_270.jpg\n",
      "Processing C:\\Users\\USER\\Desktop\\Selected Perogram\\Preproses\\Tahap B\\Avicennia alba\\Avicennia_alba17_vertical_90.jpg\n",
      "Processing C:\\Users\\USER\\Desktop\\Selected Perogram\\Preproses\\Tahap B\\Avicennia alba\\Avicennia_alba18_horizontal_0.jpg\n",
      "Processing C:\\Users\\USER\\Desktop\\Selected Perogram\\Preproses\\Tahap B\\Avicennia alba\\Avicennia_alba18_horizontal_270.jpg\n"
     ]
    },
    {
     "name": "stderr",
     "output_type": "stream",
     "text": [
      "Processing images:   6%|▌         | 137/2360 [00:03<00:56, 39.08it/s]"
     ]
    },
    {
     "name": "stdout",
     "output_type": "stream",
     "text": [
      "Processing C:\\Users\\USER\\Desktop\\Selected Perogram\\Preproses\\Tahap B\\Avicennia alba\\Avicennia_alba18_horizontal_90.jpg\n",
      "Processing C:\\Users\\USER\\Desktop\\Selected Perogram\\Preproses\\Tahap B\\Avicennia alba\\Avicennia_alba18_original_0.jpg\n",
      "Processing C:\\Users\\USER\\Desktop\\Selected Perogram\\Preproses\\Tahap B\\Avicennia alba\\Avicennia_alba18_original_270.jpg\n",
      "Processing C:\\Users\\USER\\Desktop\\Selected Perogram\\Preproses\\Tahap B\\Avicennia alba\\Avicennia_alba18_original_90.jpg\n",
      "Processing C:\\Users\\USER\\Desktop\\Selected Perogram\\Preproses\\Tahap B\\Avicennia alba\\Avicennia_alba18_vertical_0.jpg\n",
      "Processing C:\\Users\\USER\\Desktop\\Selected Perogram\\Preproses\\Tahap B\\Avicennia alba\\Avicennia_alba18_vertical_270.jpg\n",
      "Processing C:\\Users\\USER\\Desktop\\Selected Perogram\\Preproses\\Tahap B\\Avicennia alba\\Avicennia_alba18_vertical_90.jpg\n",
      "Processing C:\\Users\\USER\\Desktop\\Selected Perogram\\Preproses\\Tahap B\\Avicennia alba\\Avicennia_alba19_horizontal_0.jpg\n",
      "Processing C:\\Users\\USER\\Desktop\\Selected Perogram\\Preproses\\Tahap B\\Avicennia alba\\Avicennia_alba19_horizontal_270.jpg\n"
     ]
    },
    {
     "name": "stderr",
     "output_type": "stream",
     "text": [
      "Processing images:   6%|▌         | 147/2360 [00:03<01:00, 36.86it/s]"
     ]
    },
    {
     "name": "stdout",
     "output_type": "stream",
     "text": [
      "Processing C:\\Users\\USER\\Desktop\\Selected Perogram\\Preproses\\Tahap B\\Avicennia alba\\Avicennia_alba19_horizontal_90.jpg\n",
      "Processing C:\\Users\\USER\\Desktop\\Selected Perogram\\Preproses\\Tahap B\\Avicennia alba\\Avicennia_alba19_original_0.jpg\n",
      "Processing C:\\Users\\USER\\Desktop\\Selected Perogram\\Preproses\\Tahap B\\Avicennia alba\\Avicennia_alba19_original_270.jpg\n",
      "Processing C:\\Users\\USER\\Desktop\\Selected Perogram\\Preproses\\Tahap B\\Avicennia alba\\Avicennia_alba19_original_90.jpg\n",
      "Processing C:\\Users\\USER\\Desktop\\Selected Perogram\\Preproses\\Tahap B\\Avicennia alba\\Avicennia_alba19_vertical_0.jpg\n",
      "Processing C:\\Users\\USER\\Desktop\\Selected Perogram\\Preproses\\Tahap B\\Avicennia alba\\Avicennia_alba19_vertical_270.jpg\n",
      "Processing C:\\Users\\USER\\Desktop\\Selected Perogram\\Preproses\\Tahap B\\Avicennia alba\\Avicennia_alba19_vertical_90.jpg\n"
     ]
    },
    {
     "name": "stderr",
     "output_type": "stream",
     "text": [
      "Processing images:   7%|▋         | 155/2360 [00:03<01:03, 34.90it/s]"
     ]
    },
    {
     "name": "stdout",
     "output_type": "stream",
     "text": [
      "Processing C:\\Users\\USER\\Desktop\\Selected Perogram\\Preproses\\Tahap B\\Avicennia alba\\Avicennia_alba1_horizontal_0.jpg\n",
      "Processing C:\\Users\\USER\\Desktop\\Selected Perogram\\Preproses\\Tahap B\\Avicennia alba\\Avicennia_alba1_horizontal_270.jpg\n",
      "Processing C:\\Users\\USER\\Desktop\\Selected Perogram\\Preproses\\Tahap B\\Avicennia alba\\Avicennia_alba1_horizontal_90.jpg\n",
      "Processing C:\\Users\\USER\\Desktop\\Selected Perogram\\Preproses\\Tahap B\\Avicennia alba\\Avicennia_alba1_original_0.jpg\n",
      "Processing C:\\Users\\USER\\Desktop\\Selected Perogram\\Preproses\\Tahap B\\Avicennia alba\\Avicennia_alba1_original_270.jpg\n",
      "Processing C:\\Users\\USER\\Desktop\\Selected Perogram\\Preproses\\Tahap B\\Avicennia alba\\Avicennia_alba1_original_90.jpg\n",
      "Processing C:\\Users\\USER\\Desktop\\Selected Perogram\\Preproses\\Tahap B\\Avicennia alba\\Avicennia_alba1_vertical_0.jpg\n"
     ]
    },
    {
     "name": "stderr",
     "output_type": "stream",
     "text": [
      "Processing images:   7%|▋         | 164/2360 [00:04<00:59, 36.79it/s]"
     ]
    },
    {
     "name": "stdout",
     "output_type": "stream",
     "text": [
      "Processing C:\\Users\\USER\\Desktop\\Selected Perogram\\Preproses\\Tahap B\\Avicennia alba\\Avicennia_alba1_vertical_270.jpg\n",
      "Processing C:\\Users\\USER\\Desktop\\Selected Perogram\\Preproses\\Tahap B\\Avicennia alba\\Avicennia_alba1_vertical_90.jpg\n",
      "Processing C:\\Users\\USER\\Desktop\\Selected Perogram\\Preproses\\Tahap B\\Avicennia alba\\Avicennia_alba20_horizontal_0.jpg\n",
      "Processing C:\\Users\\USER\\Desktop\\Selected Perogram\\Preproses\\Tahap B\\Avicennia alba\\Avicennia_alba20_horizontal_270.jpg\n",
      "Processing C:\\Users\\USER\\Desktop\\Selected Perogram\\Preproses\\Tahap B\\Avicennia alba\\Avicennia_alba20_horizontal_90.jpg\n",
      "Processing C:\\Users\\USER\\Desktop\\Selected Perogram\\Preproses\\Tahap B\\Avicennia alba\\Avicennia_alba20_original_0.jpg\n",
      "Processing C:\\Users\\USER\\Desktop\\Selected Perogram\\Preproses\\Tahap B\\Avicennia alba\\Avicennia_alba20_original_270.jpg\n",
      "Processing C:\\Users\\USER\\Desktop\\Selected Perogram\\Preproses\\Tahap B\\Avicennia alba\\Avicennia_alba20_original_90.jpg\n"
     ]
    },
    {
     "name": "stderr",
     "output_type": "stream",
     "text": [
      "Processing images:   7%|▋         | 168/2360 [00:04<00:59, 36.86it/s]"
     ]
    },
    {
     "name": "stdout",
     "output_type": "stream",
     "text": [
      "Processing C:\\Users\\USER\\Desktop\\Selected Perogram\\Preproses\\Tahap B\\Avicennia alba\\Avicennia_alba20_vertical_0.jpg\n",
      "Processing C:\\Users\\USER\\Desktop\\Selected Perogram\\Preproses\\Tahap B\\Avicennia alba\\Avicennia_alba20_vertical_270.jpg\n",
      "Processing C:\\Users\\USER\\Desktop\\Selected Perogram\\Preproses\\Tahap B\\Avicennia alba\\Avicennia_alba20_vertical_90.jpg\n",
      "Processing C:\\Users\\USER\\Desktop\\Selected Perogram\\Preproses\\Tahap B\\Avicennia alba\\Avicennia_alba21_horizontal_0.jpg\n",
      "Processing C:\\Users\\USER\\Desktop\\Selected Perogram\\Preproses\\Tahap B\\Avicennia alba\\Avicennia_alba21_horizontal_270.jpg\n",
      "Processing C:\\Users\\USER\\Desktop\\Selected Perogram\\Preproses\\Tahap B\\Avicennia alba\\Avicennia_alba21_horizontal_90.jpg\n",
      "Processing C:\\Users\\USER\\Desktop\\Selected Perogram\\Preproses\\Tahap B\\Avicennia alba\\Avicennia_alba21_original_0.jpg\n",
      "Processing C:\\Users\\USER\\Desktop\\Selected Perogram\\Preproses\\Tahap B\\Avicennia alba\\Avicennia_alba21_original_270.jpg\n",
      "Processing C:\\Users\\USER\\Desktop\\Selected Perogram\\Preproses\\Tahap B\\Avicennia alba\\Avicennia_alba21_original_90.jpg\n"
     ]
    },
    {
     "name": "stderr",
     "output_type": "stream",
     "text": [
      "Processing images:   8%|▊         | 178/2360 [00:04<00:55, 39.18it/s]"
     ]
    },
    {
     "name": "stdout",
     "output_type": "stream",
     "text": [
      "Processing C:\\Users\\USER\\Desktop\\Selected Perogram\\Preproses\\Tahap B\\Avicennia alba\\Avicennia_alba21_vertical_0.jpg\n",
      "Processing C:\\Users\\USER\\Desktop\\Selected Perogram\\Preproses\\Tahap B\\Avicennia alba\\Avicennia_alba21_vertical_270.jpg\n",
      "Processing C:\\Users\\USER\\Desktop\\Selected Perogram\\Preproses\\Tahap B\\Avicennia alba\\Avicennia_alba21_vertical_90.jpg\n",
      "Processing C:\\Users\\USER\\Desktop\\Selected Perogram\\Preproses\\Tahap B\\Avicennia alba\\Avicennia_alba22_horizontal_0.jpg\n",
      "Processing C:\\Users\\USER\\Desktop\\Selected Perogram\\Preproses\\Tahap B\\Avicennia alba\\Avicennia_alba22_horizontal_270.jpg\n",
      "Processing C:\\Users\\USER\\Desktop\\Selected Perogram\\Preproses\\Tahap B\\Avicennia alba\\Avicennia_alba22_horizontal_90.jpg\n",
      "Processing C:\\Users\\USER\\Desktop\\Selected Perogram\\Preproses\\Tahap B\\Avicennia alba\\Avicennia_alba22_original_0.jpg\n",
      "Processing C:\\Users\\USER\\Desktop\\Selected Perogram\\Preproses\\Tahap B\\Avicennia alba\\Avicennia_alba22_original_270.jpg\n",
      "Processing C:\\Users\\USER\\Desktop\\Selected Perogram\\Preproses\\Tahap B\\Avicennia alba\\Avicennia_alba22_original_90.jpg\n"
     ]
    },
    {
     "name": "stderr",
     "output_type": "stream",
     "text": [
      "Processing images:   8%|▊         | 188/2360 [00:04<00:52, 41.18it/s]"
     ]
    },
    {
     "name": "stdout",
     "output_type": "stream",
     "text": [
      "Processing C:\\Users\\USER\\Desktop\\Selected Perogram\\Preproses\\Tahap B\\Avicennia alba\\Avicennia_alba22_vertical_0.jpg\n",
      "Processing C:\\Users\\USER\\Desktop\\Selected Perogram\\Preproses\\Tahap B\\Avicennia alba\\Avicennia_alba22_vertical_270.jpg\n",
      "Processing C:\\Users\\USER\\Desktop\\Selected Perogram\\Preproses\\Tahap B\\Avicennia alba\\Avicennia_alba22_vertical_90.jpg\n",
      "Processing C:\\Users\\USER\\Desktop\\Selected Perogram\\Preproses\\Tahap B\\Avicennia alba\\Avicennia_alba23_horizontal_0.jpg\n",
      "Processing C:\\Users\\USER\\Desktop\\Selected Perogram\\Preproses\\Tahap B\\Avicennia alba\\Avicennia_alba23_horizontal_270.jpg\n",
      "Processing C:\\Users\\USER\\Desktop\\Selected Perogram\\Preproses\\Tahap B\\Avicennia alba\\Avicennia_alba23_horizontal_90.jpg\n",
      "Processing C:\\Users\\USER\\Desktop\\Selected Perogram\\Preproses\\Tahap B\\Avicennia alba\\Avicennia_alba23_original_0.jpg\n",
      "Processing C:\\Users\\USER\\Desktop\\Selected Perogram\\Preproses\\Tahap B\\Avicennia alba\\Avicennia_alba23_original_270.jpg\n"
     ]
    },
    {
     "name": "stderr",
     "output_type": "stream",
     "text": [
      "Processing images:   8%|▊         | 193/2360 [00:04<00:54, 39.45it/s]"
     ]
    },
    {
     "name": "stdout",
     "output_type": "stream",
     "text": [
      "Processing C:\\Users\\USER\\Desktop\\Selected Perogram\\Preproses\\Tahap B\\Avicennia alba\\Avicennia_alba23_original_90.jpg\n",
      "Processing C:\\Users\\USER\\Desktop\\Selected Perogram\\Preproses\\Tahap B\\Avicennia alba\\Avicennia_alba23_vertical_0.jpg\n",
      "Processing C:\\Users\\USER\\Desktop\\Selected Perogram\\Preproses\\Tahap B\\Avicennia alba\\Avicennia_alba23_vertical_270.jpg\n",
      "Processing C:\\Users\\USER\\Desktop\\Selected Perogram\\Preproses\\Tahap B\\Avicennia alba\\Avicennia_alba23_vertical_90.jpg\n",
      "Processing C:\\Users\\USER\\Desktop\\Selected Perogram\\Preproses\\Tahap B\\Avicennia alba\\Avicennia_alba24_horizontal_0.jpg\n",
      "Processing C:\\Users\\USER\\Desktop\\Selected Perogram\\Preproses\\Tahap B\\Avicennia alba\\Avicennia_alba24_horizontal_270.jpg\n",
      "Processing C:\\Users\\USER\\Desktop\\Selected Perogram\\Preproses\\Tahap B\\Avicennia alba\\Avicennia_alba24_horizontal_90.jpg\n",
      "Processing C:\\Users\\USER\\Desktop\\Selected Perogram\\Preproses\\Tahap B\\Avicennia alba\\Avicennia_alba24_original_0.jpg\n"
     ]
    },
    {
     "name": "stderr",
     "output_type": "stream",
     "text": [
      "Processing images:   9%|▊         | 202/2360 [00:05<00:57, 37.44it/s]"
     ]
    },
    {
     "name": "stdout",
     "output_type": "stream",
     "text": [
      "Processing C:\\Users\\USER\\Desktop\\Selected Perogram\\Preproses\\Tahap B\\Avicennia alba\\Avicennia_alba24_original_270.jpg\n",
      "Processing C:\\Users\\USER\\Desktop\\Selected Perogram\\Preproses\\Tahap B\\Avicennia alba\\Avicennia_alba24_original_90.jpg\n",
      "Processing C:\\Users\\USER\\Desktop\\Selected Perogram\\Preproses\\Tahap B\\Avicennia alba\\Avicennia_alba24_vertical_0.jpg\n",
      "Processing C:\\Users\\USER\\Desktop\\Selected Perogram\\Preproses\\Tahap B\\Avicennia alba\\Avicennia_alba24_vertical_270.jpg\n",
      "Processing C:\\Users\\USER\\Desktop\\Selected Perogram\\Preproses\\Tahap B\\Avicennia alba\\Avicennia_alba24_vertical_90.jpg\n",
      "Processing C:\\Users\\USER\\Desktop\\Selected Perogram\\Preproses\\Tahap B\\Avicennia alba\\Avicennia_alba25_horizontal_0.jpg\n",
      "Processing C:\\Users\\USER\\Desktop\\Selected Perogram\\Preproses\\Tahap B\\Avicennia alba\\Avicennia_alba25_horizontal_270.jpg\n"
     ]
    },
    {
     "name": "stderr",
     "output_type": "stream",
     "text": [
      "Processing images:   9%|▉         | 210/2360 [00:05<01:00, 35.45it/s]"
     ]
    },
    {
     "name": "stdout",
     "output_type": "stream",
     "text": [
      "Processing C:\\Users\\USER\\Desktop\\Selected Perogram\\Preproses\\Tahap B\\Avicennia alba\\Avicennia_alba25_horizontal_90.jpg\n",
      "Processing C:\\Users\\USER\\Desktop\\Selected Perogram\\Preproses\\Tahap B\\Avicennia alba\\Avicennia_alba25_original_0.jpg\n",
      "Processing C:\\Users\\USER\\Desktop\\Selected Perogram\\Preproses\\Tahap B\\Avicennia alba\\Avicennia_alba25_original_270.jpg\n",
      "Processing C:\\Users\\USER\\Desktop\\Selected Perogram\\Preproses\\Tahap B\\Avicennia alba\\Avicennia_alba25_original_90.jpg\n",
      "Processing C:\\Users\\USER\\Desktop\\Selected Perogram\\Preproses\\Tahap B\\Avicennia alba\\Avicennia_alba25_vertical_0.jpg\n",
      "Processing C:\\Users\\USER\\Desktop\\Selected Perogram\\Preproses\\Tahap B\\Avicennia alba\\Avicennia_alba25_vertical_270.jpg\n",
      "Processing C:\\Users\\USER\\Desktop\\Selected Perogram\\Preproses\\Tahap B\\Avicennia alba\\Avicennia_alba25_vertical_90.jpg\n"
     ]
    },
    {
     "name": "stderr",
     "output_type": "stream",
     "text": [
      "Processing images:   9%|▉         | 218/2360 [00:05<01:02, 34.01it/s]"
     ]
    },
    {
     "name": "stdout",
     "output_type": "stream",
     "text": [
      "Processing C:\\Users\\USER\\Desktop\\Selected Perogram\\Preproses\\Tahap B\\Avicennia alba\\Avicennia_alba26_horizontal_0.jpg\n",
      "Processing C:\\Users\\USER\\Desktop\\Selected Perogram\\Preproses\\Tahap B\\Avicennia alba\\Avicennia_alba26_horizontal_270.jpg\n",
      "Processing C:\\Users\\USER\\Desktop\\Selected Perogram\\Preproses\\Tahap B\\Avicennia alba\\Avicennia_alba26_horizontal_90.jpg\n",
      "Processing C:\\Users\\USER\\Desktop\\Selected Perogram\\Preproses\\Tahap B\\Avicennia alba\\Avicennia_alba26_original_0.jpg\n",
      "Processing C:\\Users\\USER\\Desktop\\Selected Perogram\\Preproses\\Tahap B\\Avicennia alba\\Avicennia_alba26_original_270.jpg\n",
      "Processing C:\\Users\\USER\\Desktop\\Selected Perogram\\Preproses\\Tahap B\\Avicennia alba\\Avicennia_alba26_original_90.jpg\n",
      "Processing C:\\Users\\USER\\Desktop\\Selected Perogram\\Preproses\\Tahap B\\Avicennia alba\\Avicennia_alba26_vertical_0.jpg\n",
      "Processing C:\\Users\\USER\\Desktop\\Selected Perogram\\Preproses\\Tahap B\\Avicennia alba\\Avicennia_alba26_vertical_270.jpg\n"
     ]
    },
    {
     "name": "stderr",
     "output_type": "stream",
     "text": [
      "Processing images:   9%|▉         | 222/2360 [00:05<01:04, 33.23it/s]"
     ]
    },
    {
     "name": "stdout",
     "output_type": "stream",
     "text": [
      "Processing C:\\Users\\USER\\Desktop\\Selected Perogram\\Preproses\\Tahap B\\Avicennia alba\\Avicennia_alba26_vertical_90.jpg\n",
      "Processing C:\\Users\\USER\\Desktop\\Selected Perogram\\Preproses\\Tahap B\\Avicennia alba\\Avicennia_alba27_horizontal_0.jpg\n",
      "Processing C:\\Users\\USER\\Desktop\\Selected Perogram\\Preproses\\Tahap B\\Avicennia alba\\Avicennia_alba27_horizontal_270.jpg\n",
      "Processing C:\\Users\\USER\\Desktop\\Selected Perogram\\Preproses\\Tahap B\\Avicennia alba\\Avicennia_alba27_horizontal_90.jpg\n",
      "Processing C:\\Users\\USER\\Desktop\\Selected Perogram\\Preproses\\Tahap B\\Avicennia alba\\Avicennia_alba27_original_0.jpg\n",
      "Processing C:\\Users\\USER\\Desktop\\Selected Perogram\\Preproses\\Tahap B\\Avicennia alba\\Avicennia_alba27_original_270.jpg\n"
     ]
    },
    {
     "name": "stderr",
     "output_type": "stream",
     "text": [
      "Processing images:  10%|▉         | 230/2360 [00:05<01:06, 31.96it/s]"
     ]
    },
    {
     "name": "stdout",
     "output_type": "stream",
     "text": [
      "Processing C:\\Users\\USER\\Desktop\\Selected Perogram\\Preproses\\Tahap B\\Avicennia alba\\Avicennia_alba27_original_90.jpg\n",
      "Processing C:\\Users\\USER\\Desktop\\Selected Perogram\\Preproses\\Tahap B\\Avicennia alba\\Avicennia_alba27_vertical_0.jpg\n",
      "Processing C:\\Users\\USER\\Desktop\\Selected Perogram\\Preproses\\Tahap B\\Avicennia alba\\Avicennia_alba27_vertical_270.jpg\n",
      "Processing C:\\Users\\USER\\Desktop\\Selected Perogram\\Preproses\\Tahap B\\Avicennia alba\\Avicennia_alba27_vertical_90.jpg\n",
      "Processing C:\\Users\\USER\\Desktop\\Selected Perogram\\Preproses\\Tahap B\\Avicennia alba\\Avicennia_alba28_horizontal_0.jpg\n",
      "Processing C:\\Users\\USER\\Desktop\\Selected Perogram\\Preproses\\Tahap B\\Avicennia alba\\Avicennia_alba28_horizontal_270.jpg\n",
      "Processing C:\\Users\\USER\\Desktop\\Selected Perogram\\Preproses\\Tahap B\\Avicennia alba\\Avicennia_alba28_horizontal_90.jpg\n",
      "Processing C:\\Users\\USER\\Desktop\\Selected Perogram\\Preproses\\Tahap B\\Avicennia alba\\Avicennia_alba28_original_0.jpg\n"
     ]
    },
    {
     "name": "stderr",
     "output_type": "stream",
     "text": [
      "Processing images:  10%|█         | 238/2360 [00:06<01:03, 33.63it/s]"
     ]
    },
    {
     "name": "stdout",
     "output_type": "stream",
     "text": [
      "Processing C:\\Users\\USER\\Desktop\\Selected Perogram\\Preproses\\Tahap B\\Avicennia alba\\Avicennia_alba28_original_270.jpg\n",
      "Processing C:\\Users\\USER\\Desktop\\Selected Perogram\\Preproses\\Tahap B\\Avicennia alba\\Avicennia_alba28_original_90.jpg\n",
      "Processing C:\\Users\\USER\\Desktop\\Selected Perogram\\Preproses\\Tahap B\\Avicennia alba\\Avicennia_alba28_vertical_0.jpg\n",
      "Processing C:\\Users\\USER\\Desktop\\Selected Perogram\\Preproses\\Tahap B\\Avicennia alba\\Avicennia_alba28_vertical_270.jpg\n",
      "Processing C:\\Users\\USER\\Desktop\\Selected Perogram\\Preproses\\Tahap B\\Avicennia alba\\Avicennia_alba28_vertical_90.jpg\n",
      "Processing C:\\Users\\USER\\Desktop\\Selected Perogram\\Preproses\\Tahap B\\Avicennia alba\\Avicennia_alba29_horizontal_0.jpg\n",
      "Processing C:\\Users\\USER\\Desktop\\Selected Perogram\\Preproses\\Tahap B\\Avicennia alba\\Avicennia_alba29_horizontal_270.jpg\n",
      "Processing C:\\Users\\USER\\Desktop\\Selected Perogram\\Preproses\\Tahap B\\Avicennia alba\\Avicennia_alba29_horizontal_90.jpg\n"
     ]
    },
    {
     "name": "stderr",
     "output_type": "stream",
     "text": [
      "Processing images:  10%|█         | 246/2360 [00:06<00:58, 35.93it/s]"
     ]
    },
    {
     "name": "stdout",
     "output_type": "stream",
     "text": [
      "Processing C:\\Users\\USER\\Desktop\\Selected Perogram\\Preproses\\Tahap B\\Avicennia alba\\Avicennia_alba29_original_0.jpg\n",
      "Processing C:\\Users\\USER\\Desktop\\Selected Perogram\\Preproses\\Tahap B\\Avicennia alba\\Avicennia_alba29_original_270.jpg\n",
      "Processing C:\\Users\\USER\\Desktop\\Selected Perogram\\Preproses\\Tahap B\\Avicennia alba\\Avicennia_alba29_original_90.jpg\n",
      "Processing C:\\Users\\USER\\Desktop\\Selected Perogram\\Preproses\\Tahap B\\Avicennia alba\\Avicennia_alba29_vertical_0.jpg\n",
      "Processing C:\\Users\\USER\\Desktop\\Selected Perogram\\Preproses\\Tahap B\\Avicennia alba\\Avicennia_alba29_vertical_270.jpg\n",
      "Processing C:\\Users\\USER\\Desktop\\Selected Perogram\\Preproses\\Tahap B\\Avicennia alba\\Avicennia_alba29_vertical_90.jpg\n",
      "Processing C:\\Users\\USER\\Desktop\\Selected Perogram\\Preproses\\Tahap B\\Avicennia alba\\Avicennia_alba2_horizontal_0.jpg\n",
      "Processing C:\\Users\\USER\\Desktop\\Selected Perogram\\Preproses\\Tahap B\\Avicennia alba\\Avicennia_alba2_horizontal_270.jpg\n",
      "Processing C:\\Users\\USER\\Desktop\\Selected Perogram\\Preproses\\Tahap B\\Avicennia alba\\Avicennia_alba2_horizontal_90.jpg\n"
     ]
    },
    {
     "name": "stderr",
     "output_type": "stream",
     "text": [
      "Processing images:  11%|█         | 255/2360 [00:06<00:55, 37.78it/s]"
     ]
    },
    {
     "name": "stdout",
     "output_type": "stream",
     "text": [
      "Processing C:\\Users\\USER\\Desktop\\Selected Perogram\\Preproses\\Tahap B\\Avicennia alba\\Avicennia_alba2_original_0.jpg\n",
      "Processing C:\\Users\\USER\\Desktop\\Selected Perogram\\Preproses\\Tahap B\\Avicennia alba\\Avicennia_alba2_original_270.jpg\n",
      "Processing C:\\Users\\USER\\Desktop\\Selected Perogram\\Preproses\\Tahap B\\Avicennia alba\\Avicennia_alba2_original_90.jpg\n",
      "Processing C:\\Users\\USER\\Desktop\\Selected Perogram\\Preproses\\Tahap B\\Avicennia alba\\Avicennia_alba2_vertical_0.jpg\n",
      "Processing C:\\Users\\USER\\Desktop\\Selected Perogram\\Preproses\\Tahap B\\Avicennia alba\\Avicennia_alba2_vertical_270.jpg\n",
      "Processing C:\\Users\\USER\\Desktop\\Selected Perogram\\Preproses\\Tahap B\\Avicennia alba\\Avicennia_alba2_vertical_90.jpg\n",
      "Processing C:\\Users\\USER\\Desktop\\Selected Perogram\\Preproses\\Tahap B\\Avicennia alba\\Avicennia_alba30_horizontal_0.jpg\n",
      "Processing C:\\Users\\USER\\Desktop\\Selected Perogram\\Preproses\\Tahap B\\Avicennia alba\\Avicennia_alba30_horizontal_270.jpg\n",
      "Processing C:\\Users\\USER\\Desktop\\Selected Perogram\\Preproses\\Tahap B\\Avicennia alba\\Avicennia_alba30_horizontal_90.jpg\n"
     ]
    },
    {
     "name": "stderr",
     "output_type": "stream",
     "text": [
      "Processing images:  11%|█         | 264/2360 [00:06<00:55, 37.56it/s]"
     ]
    },
    {
     "name": "stdout",
     "output_type": "stream",
     "text": [
      "Processing C:\\Users\\USER\\Desktop\\Selected Perogram\\Preproses\\Tahap B\\Avicennia alba\\Avicennia_alba30_original_0.jpg\n",
      "Processing C:\\Users\\USER\\Desktop\\Selected Perogram\\Preproses\\Tahap B\\Avicennia alba\\Avicennia_alba30_original_270.jpg\n",
      "Processing C:\\Users\\USER\\Desktop\\Selected Perogram\\Preproses\\Tahap B\\Avicennia alba\\Avicennia_alba30_original_90.jpg\n",
      "Processing C:\\Users\\USER\\Desktop\\Selected Perogram\\Preproses\\Tahap B\\Avicennia alba\\Avicennia_alba30_vertical_0.jpg\n",
      "Processing C:\\Users\\USER\\Desktop\\Selected Perogram\\Preproses\\Tahap B\\Avicennia alba\\Avicennia_alba30_vertical_270.jpg\n",
      "Processing C:\\Users\\USER\\Desktop\\Selected Perogram\\Preproses\\Tahap B\\Avicennia alba\\Avicennia_alba30_vertical_90.jpg\n",
      "Processing C:\\Users\\USER\\Desktop\\Selected Perogram\\Preproses\\Tahap B\\Avicennia alba\\Avicennia_alba31_horizontal_0.jpg\n",
      "Processing C:\\Users\\USER\\Desktop\\Selected Perogram\\Preproses\\Tahap B\\Avicennia alba\\Avicennia_alba31_horizontal_270.jpg\n"
     ]
    },
    {
     "name": "stderr",
     "output_type": "stream",
     "text": [
      "Processing images:  12%|█▏        | 274/2360 [00:07<00:51, 40.65it/s]"
     ]
    },
    {
     "name": "stdout",
     "output_type": "stream",
     "text": [
      "Processing C:\\Users\\USER\\Desktop\\Selected Perogram\\Preproses\\Tahap B\\Avicennia alba\\Avicennia_alba31_horizontal_90.jpg\n",
      "Processing C:\\Users\\USER\\Desktop\\Selected Perogram\\Preproses\\Tahap B\\Avicennia alba\\Avicennia_alba31_original_0.jpg\n",
      "Processing C:\\Users\\USER\\Desktop\\Selected Perogram\\Preproses\\Tahap B\\Avicennia alba\\Avicennia_alba31_original_270.jpg\n",
      "Processing C:\\Users\\USER\\Desktop\\Selected Perogram\\Preproses\\Tahap B\\Avicennia alba\\Avicennia_alba31_original_90.jpg\n",
      "Processing C:\\Users\\USER\\Desktop\\Selected Perogram\\Preproses\\Tahap B\\Avicennia alba\\Avicennia_alba31_vertical_0.jpg\n",
      "Processing C:\\Users\\USER\\Desktop\\Selected Perogram\\Preproses\\Tahap B\\Avicennia alba\\Avicennia_alba31_vertical_270.jpg\n",
      "Processing C:\\Users\\USER\\Desktop\\Selected Perogram\\Preproses\\Tahap B\\Avicennia alba\\Avicennia_alba31_vertical_90.jpg\n",
      "Processing C:\\Users\\USER\\Desktop\\Selected Perogram\\Preproses\\Tahap B\\Avicennia alba\\Avicennia_alba32_horizontal_0.jpg\n",
      "Processing C:\\Users\\USER\\Desktop\\Selected Perogram\\Preproses\\Tahap B\\Avicennia alba\\Avicennia_alba32_horizontal_270.jpg\n"
     ]
    },
    {
     "name": "stderr",
     "output_type": "stream",
     "text": [
      "Processing images:  12%|█▏        | 284/2360 [00:07<00:50, 41.51it/s]"
     ]
    },
    {
     "name": "stdout",
     "output_type": "stream",
     "text": [
      "Processing C:\\Users\\USER\\Desktop\\Selected Perogram\\Preproses\\Tahap B\\Avicennia alba\\Avicennia_alba32_horizontal_90.jpg\n",
      "Processing C:\\Users\\USER\\Desktop\\Selected Perogram\\Preproses\\Tahap B\\Avicennia alba\\Avicennia_alba32_original_0.jpg\n",
      "Processing C:\\Users\\USER\\Desktop\\Selected Perogram\\Preproses\\Tahap B\\Avicennia alba\\Avicennia_alba32_original_270.jpg\n",
      "Processing C:\\Users\\USER\\Desktop\\Selected Perogram\\Preproses\\Tahap B\\Avicennia alba\\Avicennia_alba32_original_90.jpg\n",
      "Processing C:\\Users\\USER\\Desktop\\Selected Perogram\\Preproses\\Tahap B\\Avicennia alba\\Avicennia_alba32_vertical_0.jpg\n",
      "Processing C:\\Users\\USER\\Desktop\\Selected Perogram\\Preproses\\Tahap B\\Avicennia alba\\Avicennia_alba32_vertical_270.jpg\n",
      "Processing C:\\Users\\USER\\Desktop\\Selected Perogram\\Preproses\\Tahap B\\Avicennia alba\\Avicennia_alba32_vertical_90.jpg\n",
      "Processing C:\\Users\\USER\\Desktop\\Selected Perogram\\Preproses\\Tahap B\\Avicennia alba\\Avicennia_alba33_horizontal_0.jpg\n",
      "Processing C:\\Users\\USER\\Desktop\\Selected Perogram\\Preproses\\Tahap B\\Avicennia alba\\Avicennia_alba33_horizontal_270.jpg\n",
      "Processing C:\\Users\\USER\\Desktop\\Selected Perogram\\Preproses\\Tahap B\\Avicennia alba\\Avicennia_alba33_horizontal_90.jpg\n"
     ]
    },
    {
     "name": "stderr",
     "output_type": "stream",
     "text": [
      "Processing images:  12%|█▏        | 294/2360 [00:07<00:48, 42.35it/s]"
     ]
    },
    {
     "name": "stdout",
     "output_type": "stream",
     "text": [
      "Processing C:\\Users\\USER\\Desktop\\Selected Perogram\\Preproses\\Tahap B\\Avicennia alba\\Avicennia_alba33_original_0.jpg\n",
      "Processing C:\\Users\\USER\\Desktop\\Selected Perogram\\Preproses\\Tahap B\\Avicennia alba\\Avicennia_alba33_original_270.jpg\n",
      "Processing C:\\Users\\USER\\Desktop\\Selected Perogram\\Preproses\\Tahap B\\Avicennia alba\\Avicennia_alba33_original_90.jpg\n",
      "Processing C:\\Users\\USER\\Desktop\\Selected Perogram\\Preproses\\Tahap B\\Avicennia alba\\Avicennia_alba33_vertical_0.jpg\n",
      "Processing C:\\Users\\USER\\Desktop\\Selected Perogram\\Preproses\\Tahap B\\Avicennia alba\\Avicennia_alba33_vertical_270.jpg\n",
      "Processing C:\\Users\\USER\\Desktop\\Selected Perogram\\Preproses\\Tahap B\\Avicennia alba\\Avicennia_alba33_vertical_90.jpg\n",
      "Processing C:\\Users\\USER\\Desktop\\Selected Perogram\\Preproses\\Tahap B\\Avicennia alba\\Avicennia_alba34_horizontal_0.jpg\n",
      "Processing C:\\Users\\USER\\Desktop\\Selected Perogram\\Preproses\\Tahap B\\Avicennia alba\\Avicennia_alba34_horizontal_270.jpg\n",
      "Processing C:\\Users\\USER\\Desktop\\Selected Perogram\\Preproses\\Tahap B\\Avicennia alba\\Avicennia_alba34_horizontal_90.jpg\n"
     ]
    },
    {
     "name": "stderr",
     "output_type": "stream",
     "text": [
      "Processing images:  13%|█▎        | 304/2360 [00:07<00:47, 43.05it/s]"
     ]
    },
    {
     "name": "stdout",
     "output_type": "stream",
     "text": [
      "Processing C:\\Users\\USER\\Desktop\\Selected Perogram\\Preproses\\Tahap B\\Avicennia alba\\Avicennia_alba34_original_0.jpg\n",
      "Processing C:\\Users\\USER\\Desktop\\Selected Perogram\\Preproses\\Tahap B\\Avicennia alba\\Avicennia_alba34_original_270.jpg\n",
      "Processing C:\\Users\\USER\\Desktop\\Selected Perogram\\Preproses\\Tahap B\\Avicennia alba\\Avicennia_alba34_original_90.jpg\n",
      "Processing C:\\Users\\USER\\Desktop\\Selected Perogram\\Preproses\\Tahap B\\Avicennia alba\\Avicennia_alba34_vertical_0.jpg\n",
      "Processing C:\\Users\\USER\\Desktop\\Selected Perogram\\Preproses\\Tahap B\\Avicennia alba\\Avicennia_alba34_vertical_270.jpg\n",
      "Processing C:\\Users\\USER\\Desktop\\Selected Perogram\\Preproses\\Tahap B\\Avicennia alba\\Avicennia_alba34_vertical_90.jpg\n",
      "Processing C:\\Users\\USER\\Desktop\\Selected Perogram\\Preproses\\Tahap B\\Avicennia alba\\Avicennia_alba35_horizontal_0.jpg\n",
      "Processing C:\\Users\\USER\\Desktop\\Selected Perogram\\Preproses\\Tahap B\\Avicennia alba\\Avicennia_alba35_horizontal_270.jpg\n"
     ]
    },
    {
     "name": "stderr",
     "output_type": "stream",
     "text": [
      "Processing images:  13%|█▎        | 309/2360 [00:07<00:47, 42.83it/s]"
     ]
    },
    {
     "name": "stdout",
     "output_type": "stream",
     "text": [
      "Processing C:\\Users\\USER\\Desktop\\Selected Perogram\\Preproses\\Tahap B\\Avicennia alba\\Avicennia_alba35_horizontal_90.jpg\n",
      "Processing C:\\Users\\USER\\Desktop\\Selected Perogram\\Preproses\\Tahap B\\Avicennia alba\\Avicennia_alba35_original_0.jpg\n",
      "Processing C:\\Users\\USER\\Desktop\\Selected Perogram\\Preproses\\Tahap B\\Avicennia alba\\Avicennia_alba35_original_270.jpg\n",
      "Processing C:\\Users\\USER\\Desktop\\Selected Perogram\\Preproses\\Tahap B\\Avicennia alba\\Avicennia_alba35_original_90.jpg\n",
      "Processing C:\\Users\\USER\\Desktop\\Selected Perogram\\Preproses\\Tahap B\\Avicennia alba\\Avicennia_alba35_vertical_0.jpg\n",
      "Processing C:\\Users\\USER\\Desktop\\Selected Perogram\\Preproses\\Tahap B\\Avicennia alba\\Avicennia_alba35_vertical_270.jpg\n",
      "Processing C:\\Users\\USER\\Desktop\\Selected Perogram\\Preproses\\Tahap B\\Avicennia alba\\Avicennia_alba35_vertical_90.jpg\n",
      "Processing C:\\Users\\USER\\Desktop\\Selected Perogram\\Preproses\\Tahap B\\Avicennia alba\\Avicennia_alba36_horizontal_0.jpg\n",
      "Processing C:\\Users\\USER\\Desktop\\Selected Perogram\\Preproses\\Tahap B\\Avicennia alba\\Avicennia_alba36_horizontal_270.jpg\n"
     ]
    },
    {
     "name": "stderr",
     "output_type": "stream",
     "text": [
      "Processing images:  14%|█▎        | 319/2360 [00:08<00:47, 42.67it/s]"
     ]
    },
    {
     "name": "stdout",
     "output_type": "stream",
     "text": [
      "Processing C:\\Users\\USER\\Desktop\\Selected Perogram\\Preproses\\Tahap B\\Avicennia alba\\Avicennia_alba36_horizontal_90.jpg\n",
      "Processing C:\\Users\\USER\\Desktop\\Selected Perogram\\Preproses\\Tahap B\\Avicennia alba\\Avicennia_alba36_original_0.jpg\n",
      "Processing C:\\Users\\USER\\Desktop\\Selected Perogram\\Preproses\\Tahap B\\Avicennia alba\\Avicennia_alba36_original_270.jpg\n",
      "Processing C:\\Users\\USER\\Desktop\\Selected Perogram\\Preproses\\Tahap B\\Avicennia alba\\Avicennia_alba36_original_90.jpg\n",
      "Processing C:\\Users\\USER\\Desktop\\Selected Perogram\\Preproses\\Tahap B\\Avicennia alba\\Avicennia_alba36_vertical_0.jpg\n",
      "Processing C:\\Users\\USER\\Desktop\\Selected Perogram\\Preproses\\Tahap B\\Avicennia alba\\Avicennia_alba36_vertical_270.jpg\n",
      "Processing C:\\Users\\USER\\Desktop\\Selected Perogram\\Preproses\\Tahap B\\Avicennia alba\\Avicennia_alba36_vertical_90.jpg\n",
      "Processing C:\\Users\\USER\\Desktop\\Selected Perogram\\Preproses\\Tahap B\\Avicennia alba\\Avicennia_alba37_horizontal_0.jpg\n",
      "Processing C:\\Users\\USER\\Desktop\\Selected Perogram\\Preproses\\Tahap B\\Avicennia alba\\Avicennia_alba37_horizontal_270.jpg\n",
      "Processing C:\\Users\\USER\\Desktop\\Selected Perogram\\Preproses\\Tahap B\\Avicennia alba\\Avicennia_alba37_horizontal_90.jpg\n"
     ]
    },
    {
     "name": "stderr",
     "output_type": "stream",
     "text": [
      "Processing images:  14%|█▍        | 329/2360 [00:08<00:47, 42.42it/s]"
     ]
    },
    {
     "name": "stdout",
     "output_type": "stream",
     "text": [
      "Processing C:\\Users\\USER\\Desktop\\Selected Perogram\\Preproses\\Tahap B\\Avicennia alba\\Avicennia_alba37_original_0.jpg\n",
      "Processing C:\\Users\\USER\\Desktop\\Selected Perogram\\Preproses\\Tahap B\\Avicennia alba\\Avicennia_alba37_original_270.jpg\n",
      "Processing C:\\Users\\USER\\Desktop\\Selected Perogram\\Preproses\\Tahap B\\Avicennia alba\\Avicennia_alba37_original_90.jpg\n",
      "Processing C:\\Users\\USER\\Desktop\\Selected Perogram\\Preproses\\Tahap B\\Avicennia alba\\Avicennia_alba37_vertical_0.jpg\n",
      "Processing C:\\Users\\USER\\Desktop\\Selected Perogram\\Preproses\\Tahap B\\Avicennia alba\\Avicennia_alba37_vertical_270.jpg\n",
      "Processing C:\\Users\\USER\\Desktop\\Selected Perogram\\Preproses\\Tahap B\\Avicennia alba\\Avicennia_alba37_vertical_90.jpg\n",
      "Processing C:\\Users\\USER\\Desktop\\Selected Perogram\\Preproses\\Tahap B\\Avicennia alba\\Avicennia_alba38_horizontal_0.jpg\n",
      "Processing C:\\Users\\USER\\Desktop\\Selected Perogram\\Preproses\\Tahap B\\Avicennia alba\\Avicennia_alba38_horizontal_270.jpg\n",
      "Processing C:\\Users\\USER\\Desktop\\Selected Perogram\\Preproses\\Tahap B\\Avicennia alba\\Avicennia_alba38_horizontal_90.jpg\n"
     ]
    },
    {
     "name": "stderr",
     "output_type": "stream",
     "text": [
      "Processing images:  14%|█▍        | 339/2360 [00:08<00:47, 42.38it/s]"
     ]
    },
    {
     "name": "stdout",
     "output_type": "stream",
     "text": [
      "Processing C:\\Users\\USER\\Desktop\\Selected Perogram\\Preproses\\Tahap B\\Avicennia alba\\Avicennia_alba38_original_0.jpg\n",
      "Processing C:\\Users\\USER\\Desktop\\Selected Perogram\\Preproses\\Tahap B\\Avicennia alba\\Avicennia_alba38_original_270.jpg\n",
      "Processing C:\\Users\\USER\\Desktop\\Selected Perogram\\Preproses\\Tahap B\\Avicennia alba\\Avicennia_alba38_original_90.jpg\n",
      "Processing C:\\Users\\USER\\Desktop\\Selected Perogram\\Preproses\\Tahap B\\Avicennia alba\\Avicennia_alba38_vertical_0.jpg\n",
      "Processing C:\\Users\\USER\\Desktop\\Selected Perogram\\Preproses\\Tahap B\\Avicennia alba\\Avicennia_alba38_vertical_270.jpg\n",
      "Processing C:\\Users\\USER\\Desktop\\Selected Perogram\\Preproses\\Tahap B\\Avicennia alba\\Avicennia_alba38_vertical_90.jpg\n",
      "Processing C:\\Users\\USER\\Desktop\\Selected Perogram\\Preproses\\Tahap B\\Avicennia alba\\Avicennia_alba39_horizontal_0.jpg\n",
      "Processing C:\\Users\\USER\\Desktop\\Selected Perogram\\Preproses\\Tahap B\\Avicennia alba\\Avicennia_alba39_horizontal_270.jpg\n",
      "Processing C:\\Users\\USER\\Desktop\\Selected Perogram\\Preproses\\Tahap B\\Avicennia alba\\Avicennia_alba39_horizontal_90.jpg\n"
     ]
    },
    {
     "name": "stderr",
     "output_type": "stream",
     "text": [
      "Processing images:  15%|█▍        | 344/2360 [00:08<00:47, 42.13it/s]"
     ]
    },
    {
     "name": "stdout",
     "output_type": "stream",
     "text": [
      "Processing C:\\Users\\USER\\Desktop\\Selected Perogram\\Preproses\\Tahap B\\Avicennia alba\\Avicennia_alba39_original_0.jpg\n",
      "Processing C:\\Users\\USER\\Desktop\\Selected Perogram\\Preproses\\Tahap B\\Avicennia alba\\Avicennia_alba39_original_270.jpg\n",
      "Processing C:\\Users\\USER\\Desktop\\Selected Perogram\\Preproses\\Tahap B\\Avicennia alba\\Avicennia_alba39_original_90.jpg\n",
      "Processing C:\\Users\\USER\\Desktop\\Selected Perogram\\Preproses\\Tahap B\\Avicennia alba\\Avicennia_alba39_vertical_0.jpg\n",
      "Processing C:\\Users\\USER\\Desktop\\Selected Perogram\\Preproses\\Tahap B\\Avicennia alba\\Avicennia_alba39_vertical_270.jpg\n",
      "Processing C:\\Users\\USER\\Desktop\\Selected Perogram\\Preproses\\Tahap B\\Avicennia alba\\Avicennia_alba39_vertical_90.jpg\n",
      "Processing C:\\Users\\USER\\Desktop\\Selected Perogram\\Preproses\\Tahap B\\Avicennia alba\\Avicennia_alba3_horizontal_0.jpg\n",
      "Processing C:\\Users\\USER\\Desktop\\Selected Perogram\\Preproses\\Tahap B\\Avicennia alba\\Avicennia_alba3_horizontal_270.jpg\n"
     ]
    },
    {
     "name": "stderr",
     "output_type": "stream",
     "text": [
      "Processing images:  15%|█▌        | 354/2360 [00:08<00:48, 41.16it/s]"
     ]
    },
    {
     "name": "stdout",
     "output_type": "stream",
     "text": [
      "Processing C:\\Users\\USER\\Desktop\\Selected Perogram\\Preproses\\Tahap B\\Avicennia alba\\Avicennia_alba3_horizontal_90.jpg\n",
      "Processing C:\\Users\\USER\\Desktop\\Selected Perogram\\Preproses\\Tahap B\\Avicennia alba\\Avicennia_alba3_original_0.jpg\n",
      "Processing C:\\Users\\USER\\Desktop\\Selected Perogram\\Preproses\\Tahap B\\Avicennia alba\\Avicennia_alba3_original_270.jpg\n",
      "Processing C:\\Users\\USER\\Desktop\\Selected Perogram\\Preproses\\Tahap B\\Avicennia alba\\Avicennia_alba3_original_90.jpg\n",
      "Processing C:\\Users\\USER\\Desktop\\Selected Perogram\\Preproses\\Tahap B\\Avicennia alba\\Avicennia_alba3_vertical_0.jpg\n",
      "Processing C:\\Users\\USER\\Desktop\\Selected Perogram\\Preproses\\Tahap B\\Avicennia alba\\Avicennia_alba3_vertical_270.jpg\n",
      "Processing C:\\Users\\USER\\Desktop\\Selected Perogram\\Preproses\\Tahap B\\Avicennia alba\\Avicennia_alba3_vertical_90.jpg\n",
      "Processing C:\\Users\\USER\\Desktop\\Selected Perogram\\Preproses\\Tahap B\\Avicennia alba\\Avicennia_alba40_horizontal_0.jpg\n",
      "Processing C:\\Users\\USER\\Desktop\\Selected Perogram\\Preproses\\Tahap B\\Avicennia alba\\Avicennia_alba40_horizontal_270.jpg\n"
     ]
    },
    {
     "name": "stderr",
     "output_type": "stream",
     "text": [
      "Processing images:  15%|█▌        | 364/2360 [00:09<00:47, 42.22it/s]"
     ]
    },
    {
     "name": "stdout",
     "output_type": "stream",
     "text": [
      "Processing C:\\Users\\USER\\Desktop\\Selected Perogram\\Preproses\\Tahap B\\Avicennia alba\\Avicennia_alba40_horizontal_90.jpg\n",
      "Processing C:\\Users\\USER\\Desktop\\Selected Perogram\\Preproses\\Tahap B\\Avicennia alba\\Avicennia_alba40_original_0.jpg\n",
      "Processing C:\\Users\\USER\\Desktop\\Selected Perogram\\Preproses\\Tahap B\\Avicennia alba\\Avicennia_alba40_original_270.jpg\n",
      "Processing C:\\Users\\USER\\Desktop\\Selected Perogram\\Preproses\\Tahap B\\Avicennia alba\\Avicennia_alba40_original_90.jpg\n",
      "Processing C:\\Users\\USER\\Desktop\\Selected Perogram\\Preproses\\Tahap B\\Avicennia alba\\Avicennia_alba40_vertical_0.jpg\n",
      "Processing C:\\Users\\USER\\Desktop\\Selected Perogram\\Preproses\\Tahap B\\Avicennia alba\\Avicennia_alba40_vertical_270.jpg\n",
      "Processing C:\\Users\\USER\\Desktop\\Selected Perogram\\Preproses\\Tahap B\\Avicennia alba\\Avicennia_alba40_vertical_90.jpg\n",
      "Processing C:\\Users\\USER\\Desktop\\Selected Perogram\\Preproses\\Tahap B\\Avicennia alba\\Avicennia_alba41_horizontal_0.jpg\n",
      "Processing C:\\Users\\USER\\Desktop\\Selected Perogram\\Preproses\\Tahap B\\Avicennia alba\\Avicennia_alba41_horizontal_270.jpg\n"
     ]
    },
    {
     "name": "stderr",
     "output_type": "stream",
     "text": [
      "Processing images:  16%|█▌        | 374/2360 [00:09<00:46, 42.64it/s]"
     ]
    },
    {
     "name": "stdout",
     "output_type": "stream",
     "text": [
      "Processing C:\\Users\\USER\\Desktop\\Selected Perogram\\Preproses\\Tahap B\\Avicennia alba\\Avicennia_alba41_horizontal_90.jpg\n",
      "Processing C:\\Users\\USER\\Desktop\\Selected Perogram\\Preproses\\Tahap B\\Avicennia alba\\Avicennia_alba41_original_0.jpg\n",
      "Processing C:\\Users\\USER\\Desktop\\Selected Perogram\\Preproses\\Tahap B\\Avicennia alba\\Avicennia_alba41_original_270.jpg\n",
      "Processing C:\\Users\\USER\\Desktop\\Selected Perogram\\Preproses\\Tahap B\\Avicennia alba\\Avicennia_alba41_original_90.jpg\n",
      "Processing C:\\Users\\USER\\Desktop\\Selected Perogram\\Preproses\\Tahap B\\Avicennia alba\\Avicennia_alba41_vertical_0.jpg\n",
      "Processing C:\\Users\\USER\\Desktop\\Selected Perogram\\Preproses\\Tahap B\\Avicennia alba\\Avicennia_alba41_vertical_270.jpg\n",
      "Processing C:\\Users\\USER\\Desktop\\Selected Perogram\\Preproses\\Tahap B\\Avicennia alba\\Avicennia_alba41_vertical_90.jpg\n",
      "Processing C:\\Users\\USER\\Desktop\\Selected Perogram\\Preproses\\Tahap B\\Avicennia alba\\Avicennia_alba42_horizontal_0.jpg\n",
      "Processing C:\\Users\\USER\\Desktop\\Selected Perogram\\Preproses\\Tahap B\\Avicennia alba\\Avicennia_alba42_horizontal_270.jpg\n"
     ]
    },
    {
     "name": "stderr",
     "output_type": "stream",
     "text": [
      "Processing images:  16%|█▌        | 379/2360 [00:09<00:46, 42.68it/s]"
     ]
    },
    {
     "name": "stdout",
     "output_type": "stream",
     "text": [
      "Processing C:\\Users\\USER\\Desktop\\Selected Perogram\\Preproses\\Tahap B\\Avicennia alba\\Avicennia_alba42_horizontal_90.jpg\n",
      "Processing C:\\Users\\USER\\Desktop\\Selected Perogram\\Preproses\\Tahap B\\Avicennia alba\\Avicennia_alba42_original_0.jpg\n",
      "Processing C:\\Users\\USER\\Desktop\\Selected Perogram\\Preproses\\Tahap B\\Avicennia alba\\Avicennia_alba42_original_270.jpg\n",
      "Processing C:\\Users\\USER\\Desktop\\Selected Perogram\\Preproses\\Tahap B\\Avicennia alba\\Avicennia_alba42_original_90.jpg\n",
      "Processing C:\\Users\\USER\\Desktop\\Selected Perogram\\Preproses\\Tahap B\\Avicennia alba\\Avicennia_alba42_vertical_0.jpg\n",
      "Processing C:\\Users\\USER\\Desktop\\Selected Perogram\\Preproses\\Tahap B\\Avicennia alba\\Avicennia_alba42_vertical_270.jpg\n",
      "Processing C:\\Users\\USER\\Desktop\\Selected Perogram\\Preproses\\Tahap B\\Avicennia alba\\Avicennia_alba42_vertical_90.jpg\n",
      "Processing C:\\Users\\USER\\Desktop\\Selected Perogram\\Preproses\\Tahap B\\Avicennia alba\\Avicennia_alba43_horizontal_0.jpg\n"
     ]
    },
    {
     "name": "stderr",
     "output_type": "stream",
     "text": [
      "Processing images:  16%|█▋        | 389/2360 [00:09<00:46, 42.64it/s]"
     ]
    },
    {
     "name": "stdout",
     "output_type": "stream",
     "text": [
      "Processing C:\\Users\\USER\\Desktop\\Selected Perogram\\Preproses\\Tahap B\\Avicennia alba\\Avicennia_alba43_horizontal_270.jpg\n",
      "Processing C:\\Users\\USER\\Desktop\\Selected Perogram\\Preproses\\Tahap B\\Avicennia alba\\Avicennia_alba43_horizontal_90.jpg\n",
      "Processing C:\\Users\\USER\\Desktop\\Selected Perogram\\Preproses\\Tahap B\\Avicennia alba\\Avicennia_alba43_original_0.jpg\n",
      "Processing C:\\Users\\USER\\Desktop\\Selected Perogram\\Preproses\\Tahap B\\Avicennia alba\\Avicennia_alba43_original_270.jpg\n",
      "Processing C:\\Users\\USER\\Desktop\\Selected Perogram\\Preproses\\Tahap B\\Avicennia alba\\Avicennia_alba43_original_90.jpg\n",
      "Processing C:\\Users\\USER\\Desktop\\Selected Perogram\\Preproses\\Tahap B\\Avicennia alba\\Avicennia_alba43_vertical_0.jpg\n",
      "Processing C:\\Users\\USER\\Desktop\\Selected Perogram\\Preproses\\Tahap B\\Avicennia alba\\Avicennia_alba43_vertical_270.jpg\n",
      "Processing C:\\Users\\USER\\Desktop\\Selected Perogram\\Preproses\\Tahap B\\Avicennia alba\\Avicennia_alba43_vertical_90.jpg\n",
      "Processing C:\\Users\\USER\\Desktop\\Selected Perogram\\Preproses\\Tahap B\\Avicennia alba\\Avicennia_alba44_horizontal_0.jpg\n"
     ]
    },
    {
     "name": "stderr",
     "output_type": "stream",
     "text": [
      "Processing images:  17%|█▋        | 399/2360 [00:09<00:46, 42.16it/s]"
     ]
    },
    {
     "name": "stdout",
     "output_type": "stream",
     "text": [
      "Processing C:\\Users\\USER\\Desktop\\Selected Perogram\\Preproses\\Tahap B\\Avicennia alba\\Avicennia_alba44_horizontal_270.jpg\n",
      "Processing C:\\Users\\USER\\Desktop\\Selected Perogram\\Preproses\\Tahap B\\Avicennia alba\\Avicennia_alba44_horizontal_90.jpg\n",
      "Processing C:\\Users\\USER\\Desktop\\Selected Perogram\\Preproses\\Tahap B\\Avicennia alba\\Avicennia_alba44_original_0.jpg\n",
      "Processing C:\\Users\\USER\\Desktop\\Selected Perogram\\Preproses\\Tahap B\\Avicennia alba\\Avicennia_alba44_original_270.jpg\n",
      "Processing C:\\Users\\USER\\Desktop\\Selected Perogram\\Preproses\\Tahap B\\Avicennia alba\\Avicennia_alba44_original_90.jpg\n",
      "Processing C:\\Users\\USER\\Desktop\\Selected Perogram\\Preproses\\Tahap B\\Avicennia alba\\Avicennia_alba44_vertical_0.jpg\n",
      "Processing C:\\Users\\USER\\Desktop\\Selected Perogram\\Preproses\\Tahap B\\Avicennia alba\\Avicennia_alba44_vertical_270.jpg\n",
      "Processing C:\\Users\\USER\\Desktop\\Selected Perogram\\Preproses\\Tahap B\\Avicennia alba\\Avicennia_alba44_vertical_90.jpg\n",
      "Processing C:\\Users\\USER\\Desktop\\Selected Perogram\\Preproses\\Tahap B\\Avicennia alba\\Avicennia_alba45_horizontal_0.jpg\n",
      "Processing C:\\Users\\USER\\Desktop\\Selected Perogram\\Preproses\\Tahap B\\Avicennia alba\\Avicennia_alba45_horizontal_270.jpg\n"
     ]
    },
    {
     "name": "stderr",
     "output_type": "stream",
     "text": [
      "Processing images:  17%|█▋        | 409/2360 [00:10<00:47, 41.39it/s]"
     ]
    },
    {
     "name": "stdout",
     "output_type": "stream",
     "text": [
      "Processing C:\\Users\\USER\\Desktop\\Selected Perogram\\Preproses\\Tahap B\\Avicennia alba\\Avicennia_alba45_horizontal_90.jpg\n",
      "Processing C:\\Users\\USER\\Desktop\\Selected Perogram\\Preproses\\Tahap B\\Avicennia alba\\Avicennia_alba45_original_0.jpg\n",
      "Processing C:\\Users\\USER\\Desktop\\Selected Perogram\\Preproses\\Tahap B\\Avicennia alba\\Avicennia_alba45_original_270.jpg\n",
      "Processing C:\\Users\\USER\\Desktop\\Selected Perogram\\Preproses\\Tahap B\\Avicennia alba\\Avicennia_alba45_original_90.jpg\n",
      "Processing C:\\Users\\USER\\Desktop\\Selected Perogram\\Preproses\\Tahap B\\Avicennia alba\\Avicennia_alba45_vertical_0.jpg\n",
      "Processing C:\\Users\\USER\\Desktop\\Selected Perogram\\Preproses\\Tahap B\\Avicennia alba\\Avicennia_alba45_vertical_270.jpg\n",
      "Processing C:\\Users\\USER\\Desktop\\Selected Perogram\\Preproses\\Tahap B\\Avicennia alba\\Avicennia_alba45_vertical_90.jpg\n",
      "Processing C:\\Users\\USER\\Desktop\\Selected Perogram\\Preproses\\Tahap B\\Avicennia alba\\Avicennia_alba46_horizontal_0.jpg\n",
      "Processing C:\\Users\\USER\\Desktop\\Selected Perogram\\Preproses\\Tahap B\\Avicennia alba\\Avicennia_alba46_horizontal_270.jpg\n"
     ]
    },
    {
     "name": "stderr",
     "output_type": "stream",
     "text": [
      "Processing images:  18%|█▊        | 419/2360 [00:10<00:46, 41.31it/s]"
     ]
    },
    {
     "name": "stdout",
     "output_type": "stream",
     "text": [
      "Processing C:\\Users\\USER\\Desktop\\Selected Perogram\\Preproses\\Tahap B\\Avicennia alba\\Avicennia_alba46_horizontal_90.jpg\n",
      "Processing C:\\Users\\USER\\Desktop\\Selected Perogram\\Preproses\\Tahap B\\Avicennia alba\\Avicennia_alba46_original_0.jpg\n",
      "Processing C:\\Users\\USER\\Desktop\\Selected Perogram\\Preproses\\Tahap B\\Avicennia alba\\Avicennia_alba46_original_270.jpg\n",
      "Processing C:\\Users\\USER\\Desktop\\Selected Perogram\\Preproses\\Tahap B\\Avicennia alba\\Avicennia_alba46_original_90.jpg\n",
      "Processing C:\\Users\\USER\\Desktop\\Selected Perogram\\Preproses\\Tahap B\\Avicennia alba\\Avicennia_alba46_vertical_0.jpg\n",
      "Processing C:\\Users\\USER\\Desktop\\Selected Perogram\\Preproses\\Tahap B\\Avicennia alba\\Avicennia_alba46_vertical_270.jpg\n",
      "Processing C:\\Users\\USER\\Desktop\\Selected Perogram\\Preproses\\Tahap B\\Avicennia alba\\Avicennia_alba46_vertical_90.jpg\n",
      "Processing C:\\Users\\USER\\Desktop\\Selected Perogram\\Preproses\\Tahap B\\Avicennia alba\\Avicennia_alba47_horizontal_0.jpg\n",
      "Processing C:\\Users\\USER\\Desktop\\Selected Perogram\\Preproses\\Tahap B\\Avicennia alba\\Avicennia_alba47_horizontal_270.jpg\n"
     ]
    },
    {
     "name": "stderr",
     "output_type": "stream",
     "text": [
      "Processing images:  18%|█▊        | 429/2360 [00:10<00:46, 41.39it/s]"
     ]
    },
    {
     "name": "stdout",
     "output_type": "stream",
     "text": [
      "Processing C:\\Users\\USER\\Desktop\\Selected Perogram\\Preproses\\Tahap B\\Avicennia alba\\Avicennia_alba47_horizontal_90.jpg\n",
      "Processing C:\\Users\\USER\\Desktop\\Selected Perogram\\Preproses\\Tahap B\\Avicennia alba\\Avicennia_alba47_original_0.jpg\n",
      "Processing C:\\Users\\USER\\Desktop\\Selected Perogram\\Preproses\\Tahap B\\Avicennia alba\\Avicennia_alba47_original_270.jpg\n",
      "Processing C:\\Users\\USER\\Desktop\\Selected Perogram\\Preproses\\Tahap B\\Avicennia alba\\Avicennia_alba47_original_90.jpg\n",
      "Processing C:\\Users\\USER\\Desktop\\Selected Perogram\\Preproses\\Tahap B\\Avicennia alba\\Avicennia_alba47_vertical_0.jpg\n",
      "Processing C:\\Users\\USER\\Desktop\\Selected Perogram\\Preproses\\Tahap B\\Avicennia alba\\Avicennia_alba47_vertical_270.jpg\n",
      "Processing C:\\Users\\USER\\Desktop\\Selected Perogram\\Preproses\\Tahap B\\Avicennia alba\\Avicennia_alba47_vertical_90.jpg\n",
      "Processing C:\\Users\\USER\\Desktop\\Selected Perogram\\Preproses\\Tahap B\\Avicennia alba\\Avicennia_alba48_horizontal_0.jpg\n"
     ]
    },
    {
     "name": "stderr",
     "output_type": "stream",
     "text": [
      "Processing images:  18%|█▊        | 434/2360 [00:10<00:46, 41.71it/s]"
     ]
    },
    {
     "name": "stdout",
     "output_type": "stream",
     "text": [
      "Processing C:\\Users\\USER\\Desktop\\Selected Perogram\\Preproses\\Tahap B\\Avicennia alba\\Avicennia_alba48_horizontal_270.jpg\n",
      "Processing C:\\Users\\USER\\Desktop\\Selected Perogram\\Preproses\\Tahap B\\Avicennia alba\\Avicennia_alba48_horizontal_90.jpg\n",
      "Processing C:\\Users\\USER\\Desktop\\Selected Perogram\\Preproses\\Tahap B\\Avicennia alba\\Avicennia_alba48_original_0.jpg\n",
      "Processing C:\\Users\\USER\\Desktop\\Selected Perogram\\Preproses\\Tahap B\\Avicennia alba\\Avicennia_alba48_original_270.jpg\n",
      "Processing C:\\Users\\USER\\Desktop\\Selected Perogram\\Preproses\\Tahap B\\Avicennia alba\\Avicennia_alba48_original_90.jpg\n",
      "Processing C:\\Users\\USER\\Desktop\\Selected Perogram\\Preproses\\Tahap B\\Avicennia alba\\Avicennia_alba48_vertical_0.jpg\n",
      "Processing C:\\Users\\USER\\Desktop\\Selected Perogram\\Preproses\\Tahap B\\Avicennia alba\\Avicennia_alba48_vertical_270.jpg\n",
      "Processing C:\\Users\\USER\\Desktop\\Selected Perogram\\Preproses\\Tahap B\\Avicennia alba\\Avicennia_alba48_vertical_90.jpg\n",
      "Processing C:\\Users\\USER\\Desktop\\Selected Perogram\\Preproses\\Tahap B\\Avicennia alba\\Avicennia_alba49_horizontal_0.jpg\n"
     ]
    },
    {
     "name": "stderr",
     "output_type": "stream",
     "text": [
      "Processing images:  19%|█▉        | 444/2360 [00:11<00:47, 40.56it/s]"
     ]
    },
    {
     "name": "stdout",
     "output_type": "stream",
     "text": [
      "Processing C:\\Users\\USER\\Desktop\\Selected Perogram\\Preproses\\Tahap B\\Avicennia alba\\Avicennia_alba49_horizontal_270.jpg\n",
      "Processing C:\\Users\\USER\\Desktop\\Selected Perogram\\Preproses\\Tahap B\\Avicennia alba\\Avicennia_alba49_horizontal_90.jpg\n",
      "Processing C:\\Users\\USER\\Desktop\\Selected Perogram\\Preproses\\Tahap B\\Avicennia alba\\Avicennia_alba49_original_0.jpg\n",
      "Processing C:\\Users\\USER\\Desktop\\Selected Perogram\\Preproses\\Tahap B\\Avicennia alba\\Avicennia_alba49_original_270.jpg\n",
      "Processing C:\\Users\\USER\\Desktop\\Selected Perogram\\Preproses\\Tahap B\\Avicennia alba\\Avicennia_alba49_original_90.jpg\n",
      "Processing C:\\Users\\USER\\Desktop\\Selected Perogram\\Preproses\\Tahap B\\Avicennia alba\\Avicennia_alba49_vertical_0.jpg\n",
      "Processing C:\\Users\\USER\\Desktop\\Selected Perogram\\Preproses\\Tahap B\\Avicennia alba\\Avicennia_alba49_vertical_270.jpg\n",
      "Processing C:\\Users\\USER\\Desktop\\Selected Perogram\\Preproses\\Tahap B\\Avicennia alba\\Avicennia_alba49_vertical_90.jpg\n",
      "Processing C:\\Users\\USER\\Desktop\\Selected Perogram\\Preproses\\Tahap B\\Avicennia alba\\Avicennia_alba4_horizontal_0.jpg\n"
     ]
    },
    {
     "name": "stderr",
     "output_type": "stream",
     "text": [
      "Processing images:  19%|█▉        | 454/2360 [00:11<00:45, 41.89it/s]"
     ]
    },
    {
     "name": "stdout",
     "output_type": "stream",
     "text": [
      "Processing C:\\Users\\USER\\Desktop\\Selected Perogram\\Preproses\\Tahap B\\Avicennia alba\\Avicennia_alba4_horizontal_270.jpg\n",
      "Processing C:\\Users\\USER\\Desktop\\Selected Perogram\\Preproses\\Tahap B\\Avicennia alba\\Avicennia_alba4_horizontal_90.jpg\n",
      "Processing C:\\Users\\USER\\Desktop\\Selected Perogram\\Preproses\\Tahap B\\Avicennia alba\\Avicennia_alba4_original_0.jpg\n",
      "Processing C:\\Users\\USER\\Desktop\\Selected Perogram\\Preproses\\Tahap B\\Avicennia alba\\Avicennia_alba4_original_270.jpg\n",
      "Processing C:\\Users\\USER\\Desktop\\Selected Perogram\\Preproses\\Tahap B\\Avicennia alba\\Avicennia_alba4_original_90.jpg\n",
      "Processing C:\\Users\\USER\\Desktop\\Selected Perogram\\Preproses\\Tahap B\\Avicennia alba\\Avicennia_alba4_vertical_0.jpg\n",
      "Processing C:\\Users\\USER\\Desktop\\Selected Perogram\\Preproses\\Tahap B\\Avicennia alba\\Avicennia_alba4_vertical_270.jpg\n",
      "Processing C:\\Users\\USER\\Desktop\\Selected Perogram\\Preproses\\Tahap B\\Avicennia alba\\Avicennia_alba4_vertical_90.jpg\n",
      "Processing C:\\Users\\USER\\Desktop\\Selected Perogram\\Preproses\\Tahap B\\Avicennia alba\\Avicennia_alba50_horizontal_0.jpg\n"
     ]
    },
    {
     "name": "stderr",
     "output_type": "stream",
     "text": [
      "Processing images:  20%|█▉        | 464/2360 [00:11<00:44, 42.98it/s]"
     ]
    },
    {
     "name": "stdout",
     "output_type": "stream",
     "text": [
      "Processing C:\\Users\\USER\\Desktop\\Selected Perogram\\Preproses\\Tahap B\\Avicennia alba\\Avicennia_alba50_horizontal_270.jpg\n",
      "Processing C:\\Users\\USER\\Desktop\\Selected Perogram\\Preproses\\Tahap B\\Avicennia alba\\Avicennia_alba50_horizontal_90.jpg\n",
      "Processing C:\\Users\\USER\\Desktop\\Selected Perogram\\Preproses\\Tahap B\\Avicennia alba\\Avicennia_alba50_original_0.jpg\n",
      "Processing C:\\Users\\USER\\Desktop\\Selected Perogram\\Preproses\\Tahap B\\Avicennia alba\\Avicennia_alba50_original_270.jpg\n",
      "Processing C:\\Users\\USER\\Desktop\\Selected Perogram\\Preproses\\Tahap B\\Avicennia alba\\Avicennia_alba50_original_90.jpg\n",
      "Processing C:\\Users\\USER\\Desktop\\Selected Perogram\\Preproses\\Tahap B\\Avicennia alba\\Avicennia_alba50_vertical_0.jpg\n",
      "Processing C:\\Users\\USER\\Desktop\\Selected Perogram\\Preproses\\Tahap B\\Avicennia alba\\Avicennia_alba50_vertical_270.jpg\n",
      "Processing C:\\Users\\USER\\Desktop\\Selected Perogram\\Preproses\\Tahap B\\Avicennia alba\\Avicennia_alba50_vertical_90.jpg\n",
      "Processing C:\\Users\\USER\\Desktop\\Selected Perogram\\Preproses\\Tahap B\\Avicennia alba\\Avicennia_alba51_horizontal_0.jpg\n",
      "Processing C:\\Users\\USER\\Desktop\\Selected Perogram\\Preproses\\Tahap B\\Avicennia alba\\Avicennia_alba51_horizontal_270.jpg\n"
     ]
    },
    {
     "name": "stderr",
     "output_type": "stream",
     "text": [
      "Processing images:  20%|██        | 474/2360 [00:11<00:43, 43.49it/s]"
     ]
    },
    {
     "name": "stdout",
     "output_type": "stream",
     "text": [
      "Processing C:\\Users\\USER\\Desktop\\Selected Perogram\\Preproses\\Tahap B\\Avicennia alba\\Avicennia_alba51_horizontal_90.jpg\n",
      "Processing C:\\Users\\USER\\Desktop\\Selected Perogram\\Preproses\\Tahap B\\Avicennia alba\\Avicennia_alba51_original_0.jpg\n",
      "Processing C:\\Users\\USER\\Desktop\\Selected Perogram\\Preproses\\Tahap B\\Avicennia alba\\Avicennia_alba51_original_270.jpg\n",
      "Processing C:\\Users\\USER\\Desktop\\Selected Perogram\\Preproses\\Tahap B\\Avicennia alba\\Avicennia_alba51_original_90.jpg\n",
      "Processing C:\\Users\\USER\\Desktop\\Selected Perogram\\Preproses\\Tahap B\\Avicennia alba\\Avicennia_alba51_vertical_0.jpg\n",
      "Processing C:\\Users\\USER\\Desktop\\Selected Perogram\\Preproses\\Tahap B\\Avicennia alba\\Avicennia_alba51_vertical_270.jpg\n",
      "Processing C:\\Users\\USER\\Desktop\\Selected Perogram\\Preproses\\Tahap B\\Avicennia alba\\Avicennia_alba51_vertical_90.jpg\n",
      "Processing C:\\Users\\USER\\Desktop\\Selected Perogram\\Preproses\\Tahap B\\Avicennia alba\\Avicennia_alba52_horizontal_0.jpg\n"
     ]
    },
    {
     "name": "stderr",
     "output_type": "stream",
     "text": [
      "Processing images:  20%|██        | 479/2360 [00:11<00:43, 43.67it/s]"
     ]
    },
    {
     "name": "stdout",
     "output_type": "stream",
     "text": [
      "Processing C:\\Users\\USER\\Desktop\\Selected Perogram\\Preproses\\Tahap B\\Avicennia alba\\Avicennia_alba52_horizontal_270.jpg\n",
      "Processing C:\\Users\\USER\\Desktop\\Selected Perogram\\Preproses\\Tahap B\\Avicennia alba\\Avicennia_alba52_horizontal_90.jpg\n",
      "Processing C:\\Users\\USER\\Desktop\\Selected Perogram\\Preproses\\Tahap B\\Avicennia alba\\Avicennia_alba52_original_0.jpg\n",
      "Processing C:\\Users\\USER\\Desktop\\Selected Perogram\\Preproses\\Tahap B\\Avicennia alba\\Avicennia_alba52_original_270.jpg\n",
      "Processing C:\\Users\\USER\\Desktop\\Selected Perogram\\Preproses\\Tahap B\\Avicennia alba\\Avicennia_alba52_original_90.jpg\n",
      "Processing C:\\Users\\USER\\Desktop\\Selected Perogram\\Preproses\\Tahap B\\Avicennia alba\\Avicennia_alba52_vertical_0.jpg\n",
      "Processing C:\\Users\\USER\\Desktop\\Selected Perogram\\Preproses\\Tahap B\\Avicennia alba\\Avicennia_alba52_vertical_270.jpg\n",
      "Processing C:\\Users\\USER\\Desktop\\Selected Perogram\\Preproses\\Tahap B\\Avicennia alba\\Avicennia_alba52_vertical_90.jpg\n",
      "Processing C:\\Users\\USER\\Desktop\\Selected Perogram\\Preproses\\Tahap B\\Avicennia alba\\Avicennia_alba53_horizontal_0.jpg\n"
     ]
    },
    {
     "name": "stderr",
     "output_type": "stream",
     "text": [
      "Processing images:  21%|██        | 489/2360 [00:12<00:43, 43.26it/s]"
     ]
    },
    {
     "name": "stdout",
     "output_type": "stream",
     "text": [
      "Processing C:\\Users\\USER\\Desktop\\Selected Perogram\\Preproses\\Tahap B\\Avicennia alba\\Avicennia_alba53_horizontal_270.jpg\n",
      "Processing C:\\Users\\USER\\Desktop\\Selected Perogram\\Preproses\\Tahap B\\Avicennia alba\\Avicennia_alba53_horizontal_90.jpg\n",
      "Processing C:\\Users\\USER\\Desktop\\Selected Perogram\\Preproses\\Tahap B\\Avicennia alba\\Avicennia_alba53_original_0.jpg\n",
      "Processing C:\\Users\\USER\\Desktop\\Selected Perogram\\Preproses\\Tahap B\\Avicennia alba\\Avicennia_alba53_original_270.jpg\n",
      "Processing C:\\Users\\USER\\Desktop\\Selected Perogram\\Preproses\\Tahap B\\Avicennia alba\\Avicennia_alba53_original_90.jpg\n",
      "Processing C:\\Users\\USER\\Desktop\\Selected Perogram\\Preproses\\Tahap B\\Avicennia alba\\Avicennia_alba53_vertical_0.jpg\n",
      "Processing C:\\Users\\USER\\Desktop\\Selected Perogram\\Preproses\\Tahap B\\Avicennia alba\\Avicennia_alba53_vertical_270.jpg\n",
      "Processing C:\\Users\\USER\\Desktop\\Selected Perogram\\Preproses\\Tahap B\\Avicennia alba\\Avicennia_alba53_vertical_90.jpg\n",
      "Processing C:\\Users\\USER\\Desktop\\Selected Perogram\\Preproses\\Tahap B\\Avicennia alba\\Avicennia_alba54_horizontal_0.jpg\n"
     ]
    },
    {
     "name": "stderr",
     "output_type": "stream",
     "text": [
      "Processing images:  21%|██        | 499/2360 [00:12<00:42, 43.99it/s]"
     ]
    },
    {
     "name": "stdout",
     "output_type": "stream",
     "text": [
      "Processing C:\\Users\\USER\\Desktop\\Selected Perogram\\Preproses\\Tahap B\\Avicennia alba\\Avicennia_alba54_horizontal_270.jpg\n",
      "Processing C:\\Users\\USER\\Desktop\\Selected Perogram\\Preproses\\Tahap B\\Avicennia alba\\Avicennia_alba54_horizontal_90.jpg\n",
      "Processing C:\\Users\\USER\\Desktop\\Selected Perogram\\Preproses\\Tahap B\\Avicennia alba\\Avicennia_alba54_original_0.jpg\n",
      "Processing C:\\Users\\USER\\Desktop\\Selected Perogram\\Preproses\\Tahap B\\Avicennia alba\\Avicennia_alba54_original_270.jpg\n",
      "Processing C:\\Users\\USER\\Desktop\\Selected Perogram\\Preproses\\Tahap B\\Avicennia alba\\Avicennia_alba54_original_90.jpg\n",
      "Processing C:\\Users\\USER\\Desktop\\Selected Perogram\\Preproses\\Tahap B\\Avicennia alba\\Avicennia_alba54_vertical_0.jpg\n",
      "Processing C:\\Users\\USER\\Desktop\\Selected Perogram\\Preproses\\Tahap B\\Avicennia alba\\Avicennia_alba54_vertical_270.jpg\n",
      "Processing C:\\Users\\USER\\Desktop\\Selected Perogram\\Preproses\\Tahap B\\Avicennia alba\\Avicennia_alba54_vertical_90.jpg\n",
      "Processing C:\\Users\\USER\\Desktop\\Selected Perogram\\Preproses\\Tahap B\\Avicennia alba\\Avicennia_alba55_horizontal_0.jpg\n",
      "Processing C:\\Users\\USER\\Desktop\\Selected Perogram\\Preproses\\Tahap B\\Avicennia alba\\Avicennia_alba55_horizontal_270.jpg\n"
     ]
    },
    {
     "name": "stderr",
     "output_type": "stream",
     "text": [
      "Processing images:  22%|██▏       | 509/2360 [00:12<00:42, 43.88it/s]"
     ]
    },
    {
     "name": "stdout",
     "output_type": "stream",
     "text": [
      "Processing C:\\Users\\USER\\Desktop\\Selected Perogram\\Preproses\\Tahap B\\Avicennia alba\\Avicennia_alba55_horizontal_90.jpg\n",
      "Processing C:\\Users\\USER\\Desktop\\Selected Perogram\\Preproses\\Tahap B\\Avicennia alba\\Avicennia_alba55_original_0.jpg\n",
      "Processing C:\\Users\\USER\\Desktop\\Selected Perogram\\Preproses\\Tahap B\\Avicennia alba\\Avicennia_alba55_original_270.jpg\n",
      "Processing C:\\Users\\USER\\Desktop\\Selected Perogram\\Preproses\\Tahap B\\Avicennia alba\\Avicennia_alba55_original_90.jpg\n",
      "Processing C:\\Users\\USER\\Desktop\\Selected Perogram\\Preproses\\Tahap B\\Avicennia alba\\Avicennia_alba55_vertical_0.jpg\n",
      "Processing C:\\Users\\USER\\Desktop\\Selected Perogram\\Preproses\\Tahap B\\Avicennia alba\\Avicennia_alba55_vertical_270.jpg\n",
      "Processing C:\\Users\\USER\\Desktop\\Selected Perogram\\Preproses\\Tahap B\\Avicennia alba\\Avicennia_alba55_vertical_90.jpg\n",
      "Processing C:\\Users\\USER\\Desktop\\Selected Perogram\\Preproses\\Tahap B\\Avicennia alba\\Avicennia_alba56_horizontal_0.jpg\n",
      "Processing C:\\Users\\USER\\Desktop\\Selected Perogram\\Preproses\\Tahap B\\Avicennia alba\\Avicennia_alba56_horizontal_270.jpg\n",
      "Processing C:\\Users\\USER\\Desktop\\Selected Perogram\\Preproses\\Tahap B\\Avicennia alba\\Avicennia_alba56_horizontal_90.jpg\n"
     ]
    },
    {
     "name": "stderr",
     "output_type": "stream",
     "text": [
      "Processing images:  22%|██▏       | 519/2360 [00:12<00:42, 43.64it/s]"
     ]
    },
    {
     "name": "stdout",
     "output_type": "stream",
     "text": [
      "Processing C:\\Users\\USER\\Desktop\\Selected Perogram\\Preproses\\Tahap B\\Avicennia alba\\Avicennia_alba56_original_0.jpg\n",
      "Processing C:\\Users\\USER\\Desktop\\Selected Perogram\\Preproses\\Tahap B\\Avicennia alba\\Avicennia_alba56_original_270.jpg\n",
      "Processing C:\\Users\\USER\\Desktop\\Selected Perogram\\Preproses\\Tahap B\\Avicennia alba\\Avicennia_alba56_original_90.jpg\n",
      "Processing C:\\Users\\USER\\Desktop\\Selected Perogram\\Preproses\\Tahap B\\Avicennia alba\\Avicennia_alba56_vertical_0.jpg\n",
      "Processing C:\\Users\\USER\\Desktop\\Selected Perogram\\Preproses\\Tahap B\\Avicennia alba\\Avicennia_alba56_vertical_270.jpg\n",
      "Processing C:\\Users\\USER\\Desktop\\Selected Perogram\\Preproses\\Tahap B\\Avicennia alba\\Avicennia_alba56_vertical_90.jpg\n",
      "Processing C:\\Users\\USER\\Desktop\\Selected Perogram\\Preproses\\Tahap B\\Avicennia alba\\Avicennia_alba57_horizontal_0.jpg\n",
      "Processing C:\\Users\\USER\\Desktop\\Selected Perogram\\Preproses\\Tahap B\\Avicennia alba\\Avicennia_alba57_horizontal_270.jpg\n",
      "Processing C:\\Users\\USER\\Desktop\\Selected Perogram\\Preproses\\Tahap B\\Avicennia alba\\Avicennia_alba57_horizontal_90.jpg\n"
     ]
    },
    {
     "name": "stderr",
     "output_type": "stream",
     "text": [
      "Processing images:  22%|██▏       | 529/2360 [00:13<00:41, 43.73it/s]"
     ]
    },
    {
     "name": "stdout",
     "output_type": "stream",
     "text": [
      "Processing C:\\Users\\USER\\Desktop\\Selected Perogram\\Preproses\\Tahap B\\Avicennia alba\\Avicennia_alba57_original_0.jpg\n",
      "Processing C:\\Users\\USER\\Desktop\\Selected Perogram\\Preproses\\Tahap B\\Avicennia alba\\Avicennia_alba57_original_270.jpg\n",
      "Processing C:\\Users\\USER\\Desktop\\Selected Perogram\\Preproses\\Tahap B\\Avicennia alba\\Avicennia_alba57_original_90.jpg\n",
      "Processing C:\\Users\\USER\\Desktop\\Selected Perogram\\Preproses\\Tahap B\\Avicennia alba\\Avicennia_alba57_vertical_0.jpg\n",
      "Processing C:\\Users\\USER\\Desktop\\Selected Perogram\\Preproses\\Tahap B\\Avicennia alba\\Avicennia_alba57_vertical_270.jpg\n",
      "Processing C:\\Users\\USER\\Desktop\\Selected Perogram\\Preproses\\Tahap B\\Avicennia alba\\Avicennia_alba57_vertical_90.jpg\n",
      "Processing C:\\Users\\USER\\Desktop\\Selected Perogram\\Preproses\\Tahap B\\Avicennia alba\\Avicennia_alba58_horizontal_0.jpg\n",
      "Processing C:\\Users\\USER\\Desktop\\Selected Perogram\\Preproses\\Tahap B\\Avicennia alba\\Avicennia_alba58_horizontal_270.jpg\n",
      "Processing C:\\Users\\USER\\Desktop\\Selected Perogram\\Preproses\\Tahap B\\Avicennia alba\\Avicennia_alba58_horizontal_90.jpg\n",
      "Processing C:\\Users\\USER\\Desktop\\Selected Perogram\\Preproses\\Tahap B\\Avicennia alba\\Avicennia_alba58_original_0.jpg\n"
     ]
    },
    {
     "name": "stderr",
     "output_type": "stream",
     "text": [
      "Processing images:  23%|██▎       | 539/2360 [00:13<00:41, 43.65it/s]"
     ]
    },
    {
     "name": "stdout",
     "output_type": "stream",
     "text": [
      "Processing C:\\Users\\USER\\Desktop\\Selected Perogram\\Preproses\\Tahap B\\Avicennia alba\\Avicennia_alba58_original_270.jpg\n",
      "Processing C:\\Users\\USER\\Desktop\\Selected Perogram\\Preproses\\Tahap B\\Avicennia alba\\Avicennia_alba58_original_90.jpg\n",
      "Processing C:\\Users\\USER\\Desktop\\Selected Perogram\\Preproses\\Tahap B\\Avicennia alba\\Avicennia_alba58_vertical_0.jpg\n",
      "Processing C:\\Users\\USER\\Desktop\\Selected Perogram\\Preproses\\Tahap B\\Avicennia alba\\Avicennia_alba58_vertical_270.jpg\n",
      "Processing C:\\Users\\USER\\Desktop\\Selected Perogram\\Preproses\\Tahap B\\Avicennia alba\\Avicennia_alba58_vertical_90.jpg\n",
      "Processing C:\\Users\\USER\\Desktop\\Selected Perogram\\Preproses\\Tahap B\\Avicennia alba\\Avicennia_alba59_horizontal_0.jpg\n",
      "Processing C:\\Users\\USER\\Desktop\\Selected Perogram\\Preproses\\Tahap B\\Avicennia alba\\Avicennia_alba59_horizontal_270.jpg\n",
      "Processing C:\\Users\\USER\\Desktop\\Selected Perogram\\Preproses\\Tahap B\\Avicennia alba\\Avicennia_alba59_horizontal_90.jpg\n"
     ]
    },
    {
     "name": "stderr",
     "output_type": "stream",
     "text": [
      "Processing images:  23%|██▎       | 544/2360 [00:13<00:43, 41.37it/s]"
     ]
    },
    {
     "name": "stdout",
     "output_type": "stream",
     "text": [
      "Processing C:\\Users\\USER\\Desktop\\Selected Perogram\\Preproses\\Tahap B\\Avicennia alba\\Avicennia_alba59_original_0.jpg\n",
      "Processing C:\\Users\\USER\\Desktop\\Selected Perogram\\Preproses\\Tahap B\\Avicennia alba\\Avicennia_alba59_original_270.jpg\n",
      "Processing C:\\Users\\USER\\Desktop\\Selected Perogram\\Preproses\\Tahap B\\Avicennia alba\\Avicennia_alba59_original_90.jpg\n",
      "Processing C:\\Users\\USER\\Desktop\\Selected Perogram\\Preproses\\Tahap B\\Avicennia alba\\Avicennia_alba59_vertical_0.jpg\n",
      "Processing C:\\Users\\USER\\Desktop\\Selected Perogram\\Preproses\\Tahap B\\Avicennia alba\\Avicennia_alba59_vertical_270.jpg\n",
      "Processing C:\\Users\\USER\\Desktop\\Selected Perogram\\Preproses\\Tahap B\\Avicennia alba\\Avicennia_alba59_vertical_90.jpg\n",
      "Processing C:\\Users\\USER\\Desktop\\Selected Perogram\\Preproses\\Tahap B\\Avicennia alba\\Avicennia_alba5_horizontal_0.jpg\n",
      "Processing C:\\Users\\USER\\Desktop\\Selected Perogram\\Preproses\\Tahap B\\Avicennia alba\\Avicennia_alba5_horizontal_270.jpg\n"
     ]
    },
    {
     "name": "stderr",
     "output_type": "stream",
     "text": [
      "Processing images:  23%|██▎       | 554/2360 [00:13<00:43, 41.99it/s]"
     ]
    },
    {
     "name": "stdout",
     "output_type": "stream",
     "text": [
      "Processing C:\\Users\\USER\\Desktop\\Selected Perogram\\Preproses\\Tahap B\\Avicennia alba\\Avicennia_alba5_horizontal_90.jpg\n",
      "Processing C:\\Users\\USER\\Desktop\\Selected Perogram\\Preproses\\Tahap B\\Avicennia alba\\Avicennia_alba5_original_0.jpg\n",
      "Processing C:\\Users\\USER\\Desktop\\Selected Perogram\\Preproses\\Tahap B\\Avicennia alba\\Avicennia_alba5_original_270.jpg\n",
      "Processing C:\\Users\\USER\\Desktop\\Selected Perogram\\Preproses\\Tahap B\\Avicennia alba\\Avicennia_alba5_original_90.jpg\n",
      "Processing C:\\Users\\USER\\Desktop\\Selected Perogram\\Preproses\\Tahap B\\Avicennia alba\\Avicennia_alba5_vertical_0.jpg\n",
      "Processing C:\\Users\\USER\\Desktop\\Selected Perogram\\Preproses\\Tahap B\\Avicennia alba\\Avicennia_alba5_vertical_270.jpg\n",
      "Processing C:\\Users\\USER\\Desktop\\Selected Perogram\\Preproses\\Tahap B\\Avicennia alba\\Avicennia_alba5_vertical_90.jpg\n",
      "Processing C:\\Users\\USER\\Desktop\\Selected Perogram\\Preproses\\Tahap B\\Avicennia alba\\Avicennia_alba6_horizontal_0.jpg\n",
      "Processing C:\\Users\\USER\\Desktop\\Selected Perogram\\Preproses\\Tahap B\\Avicennia alba\\Avicennia_alba6_horizontal_270.jpg\n"
     ]
    },
    {
     "name": "stderr",
     "output_type": "stream",
     "text": [
      "Processing images:  24%|██▍       | 564/2360 [00:13<00:41, 43.25it/s]"
     ]
    },
    {
     "name": "stdout",
     "output_type": "stream",
     "text": [
      "Processing C:\\Users\\USER\\Desktop\\Selected Perogram\\Preproses\\Tahap B\\Avicennia alba\\Avicennia_alba6_horizontal_90.jpg\n",
      "Processing C:\\Users\\USER\\Desktop\\Selected Perogram\\Preproses\\Tahap B\\Avicennia alba\\Avicennia_alba6_original_0.jpg\n",
      "Processing C:\\Users\\USER\\Desktop\\Selected Perogram\\Preproses\\Tahap B\\Avicennia alba\\Avicennia_alba6_original_270.jpg\n",
      "Processing C:\\Users\\USER\\Desktop\\Selected Perogram\\Preproses\\Tahap B\\Avicennia alba\\Avicennia_alba6_original_90.jpg\n",
      "Processing C:\\Users\\USER\\Desktop\\Selected Perogram\\Preproses\\Tahap B\\Avicennia alba\\Avicennia_alba6_vertical_0.jpg\n",
      "Processing C:\\Users\\USER\\Desktop\\Selected Perogram\\Preproses\\Tahap B\\Avicennia alba\\Avicennia_alba6_vertical_270.jpg\n",
      "Processing C:\\Users\\USER\\Desktop\\Selected Perogram\\Preproses\\Tahap B\\Avicennia alba\\Avicennia_alba6_vertical_90.jpg\n",
      "Processing C:\\Users\\USER\\Desktop\\Selected Perogram\\Preproses\\Tahap B\\Avicennia alba\\Avicennia_alba7_horizontal_0.jpg\n",
      "Processing C:\\Users\\USER\\Desktop\\Selected Perogram\\Preproses\\Tahap B\\Avicennia alba\\Avicennia_alba7_horizontal_270.jpg\n",
      "Processing C:\\Users\\USER\\Desktop\\Selected Perogram\\Preproses\\Tahap B\\Avicennia alba\\Avicennia_alba7_horizontal_90.jpg\n"
     ]
    },
    {
     "name": "stderr",
     "output_type": "stream",
     "text": [
      "Processing images:  24%|██▍       | 574/2360 [00:14<00:41, 43.40it/s]"
     ]
    },
    {
     "name": "stdout",
     "output_type": "stream",
     "text": [
      "Processing C:\\Users\\USER\\Desktop\\Selected Perogram\\Preproses\\Tahap B\\Avicennia alba\\Avicennia_alba7_original_0.jpg\n",
      "Processing C:\\Users\\USER\\Desktop\\Selected Perogram\\Preproses\\Tahap B\\Avicennia alba\\Avicennia_alba7_original_270.jpg\n",
      "Processing C:\\Users\\USER\\Desktop\\Selected Perogram\\Preproses\\Tahap B\\Avicennia alba\\Avicennia_alba7_original_90.jpg\n",
      "Processing C:\\Users\\USER\\Desktop\\Selected Perogram\\Preproses\\Tahap B\\Avicennia alba\\Avicennia_alba7_vertical_0.jpg\n",
      "Processing C:\\Users\\USER\\Desktop\\Selected Perogram\\Preproses\\Tahap B\\Avicennia alba\\Avicennia_alba7_vertical_270.jpg\n",
      "Processing C:\\Users\\USER\\Desktop\\Selected Perogram\\Preproses\\Tahap B\\Avicennia alba\\Avicennia_alba7_vertical_90.jpg\n",
      "Processing C:\\Users\\USER\\Desktop\\Selected Perogram\\Preproses\\Tahap B\\Avicennia alba\\Avicennia_alba8_horizontal_0.jpg\n",
      "Processing C:\\Users\\USER\\Desktop\\Selected Perogram\\Preproses\\Tahap B\\Avicennia alba\\Avicennia_alba8_horizontal_270.jpg\n"
     ]
    },
    {
     "name": "stderr",
     "output_type": "stream",
     "text": [
      "Processing images:  25%|██▍       | 579/2360 [00:14<00:40, 43.47it/s]"
     ]
    },
    {
     "name": "stdout",
     "output_type": "stream",
     "text": [
      "Processing C:\\Users\\USER\\Desktop\\Selected Perogram\\Preproses\\Tahap B\\Avicennia alba\\Avicennia_alba8_horizontal_90.jpg\n",
      "Processing C:\\Users\\USER\\Desktop\\Selected Perogram\\Preproses\\Tahap B\\Avicennia alba\\Avicennia_alba8_original_0.jpg\n",
      "Processing C:\\Users\\USER\\Desktop\\Selected Perogram\\Preproses\\Tahap B\\Avicennia alba\\Avicennia_alba8_original_270.jpg\n",
      "Processing C:\\Users\\USER\\Desktop\\Selected Perogram\\Preproses\\Tahap B\\Avicennia alba\\Avicennia_alba8_original_90.jpg\n",
      "Processing C:\\Users\\USER\\Desktop\\Selected Perogram\\Preproses\\Tahap B\\Avicennia alba\\Avicennia_alba8_vertical_0.jpg\n",
      "Processing C:\\Users\\USER\\Desktop\\Selected Perogram\\Preproses\\Tahap B\\Avicennia alba\\Avicennia_alba8_vertical_270.jpg\n",
      "Processing C:\\Users\\USER\\Desktop\\Selected Perogram\\Preproses\\Tahap B\\Avicennia alba\\Avicennia_alba8_vertical_90.jpg\n",
      "Processing C:\\Users\\USER\\Desktop\\Selected Perogram\\Preproses\\Tahap B\\Avicennia alba\\Avicennia_alba9_horizontal_0.jpg\n",
      "Processing C:\\Users\\USER\\Desktop\\Selected Perogram\\Preproses\\Tahap B\\Avicennia alba\\Avicennia_alba9_horizontal_270.jpg\n",
      "Processing C:\\Users\\USER\\Desktop\\Selected Perogram\\Preproses\\Tahap B\\Avicennia alba\\Avicennia_alba9_horizontal_90.jpg\n"
     ]
    },
    {
     "name": "stderr",
     "output_type": "stream",
     "text": [
      "Processing images:  25%|██▍       | 589/2360 [00:14<00:40, 43.22it/s]"
     ]
    },
    {
     "name": "stdout",
     "output_type": "stream",
     "text": [
      "Processing C:\\Users\\USER\\Desktop\\Selected Perogram\\Preproses\\Tahap B\\Avicennia alba\\Avicennia_alba9_original_0.jpg\n",
      "Processing C:\\Users\\USER\\Desktop\\Selected Perogram\\Preproses\\Tahap B\\Avicennia alba\\Avicennia_alba9_original_270.jpg\n",
      "Processing C:\\Users\\USER\\Desktop\\Selected Perogram\\Preproses\\Tahap B\\Avicennia alba\\Avicennia_alba9_original_90.jpg\n",
      "Processing C:\\Users\\USER\\Desktop\\Selected Perogram\\Preproses\\Tahap B\\Avicennia alba\\Avicennia_alba9_vertical_0.jpg\n",
      "Processing C:\\Users\\USER\\Desktop\\Selected Perogram\\Preproses\\Tahap B\\Avicennia alba\\Avicennia_alba9_vertical_270.jpg\n",
      "Processing C:\\Users\\USER\\Desktop\\Selected Perogram\\Preproses\\Tahap B\\Avicennia alba\\Avicennia_alba9_vertical_90.jpg\n",
      "Processing C:\\Users\\USER\\Desktop\\Selected Perogram\\Preproses\\Tahap B\\Bruguiera cylindrica\\Bruguiera.cylindrica_1.jpg\n",
      "Processing C:\\Users\\USER\\Desktop\\Selected Perogram\\Preproses\\Tahap B\\Bruguiera cylindrica\\Bruguiera.cylindrica_10.jpg\n",
      "Processing C:\\Users\\USER\\Desktop\\Selected Perogram\\Preproses\\Tahap B\\Bruguiera cylindrica\\Bruguiera.cylindrica_11.jpg\n",
      "Processing C:\\Users\\USER\\Desktop\\Selected Perogram\\Preproses\\Tahap B\\Bruguiera cylindrica\\Bruguiera.cylindrica_12.jpg\n"
     ]
    },
    {
     "name": "stderr",
     "output_type": "stream",
     "text": [
      "Processing images:  25%|██▌       | 599/2360 [00:14<00:40, 43.18it/s]"
     ]
    },
    {
     "name": "stdout",
     "output_type": "stream",
     "text": [
      "Processing C:\\Users\\USER\\Desktop\\Selected Perogram\\Preproses\\Tahap B\\Bruguiera cylindrica\\Bruguiera.cylindrica_13.jpg\n",
      "Processing C:\\Users\\USER\\Desktop\\Selected Perogram\\Preproses\\Tahap B\\Bruguiera cylindrica\\Bruguiera.cylindrica_14.jpg\n",
      "Processing C:\\Users\\USER\\Desktop\\Selected Perogram\\Preproses\\Tahap B\\Bruguiera cylindrica\\Bruguiera.cylindrica_15.jpg\n",
      "Processing C:\\Users\\USER\\Desktop\\Selected Perogram\\Preproses\\Tahap B\\Bruguiera cylindrica\\Bruguiera.cylindrica_16.jpg\n",
      "Processing C:\\Users\\USER\\Desktop\\Selected Perogram\\Preproses\\Tahap B\\Bruguiera cylindrica\\Bruguiera.cylindrica_17.jpg\n",
      "Processing C:\\Users\\USER\\Desktop\\Selected Perogram\\Preproses\\Tahap B\\Bruguiera cylindrica\\Bruguiera.cylindrica_18.jpg\n",
      "Processing C:\\Users\\USER\\Desktop\\Selected Perogram\\Preproses\\Tahap B\\Bruguiera cylindrica\\Bruguiera.cylindrica_19.jpg\n",
      "Processing C:\\Users\\USER\\Desktop\\Selected Perogram\\Preproses\\Tahap B\\Bruguiera cylindrica\\Bruguiera.cylindrica_2.jpg\n",
      "Processing C:\\Users\\USER\\Desktop\\Selected Perogram\\Preproses\\Tahap B\\Bruguiera cylindrica\\Bruguiera.cylindrica_20.jpg\n"
     ]
    },
    {
     "name": "stderr",
     "output_type": "stream",
     "text": [
      "Processing images:  26%|██▌       | 609/2360 [00:14<00:40, 43.31it/s]"
     ]
    },
    {
     "name": "stdout",
     "output_type": "stream",
     "text": [
      "Processing C:\\Users\\USER\\Desktop\\Selected Perogram\\Preproses\\Tahap B\\Bruguiera cylindrica\\Bruguiera.cylindrica_21.jpg\n",
      "Processing C:\\Users\\USER\\Desktop\\Selected Perogram\\Preproses\\Tahap B\\Bruguiera cylindrica\\Bruguiera.cylindrica_22.jpg\n",
      "Processing C:\\Users\\USER\\Desktop\\Selected Perogram\\Preproses\\Tahap B\\Bruguiera cylindrica\\Bruguiera.cylindrica_23.jpg\n",
      "Processing C:\\Users\\USER\\Desktop\\Selected Perogram\\Preproses\\Tahap B\\Bruguiera cylindrica\\Bruguiera.cylindrica_24.jpg\n",
      "Processing C:\\Users\\USER\\Desktop\\Selected Perogram\\Preproses\\Tahap B\\Bruguiera cylindrica\\Bruguiera.cylindrica_25.jpg\n",
      "Processing C:\\Users\\USER\\Desktop\\Selected Perogram\\Preproses\\Tahap B\\Bruguiera cylindrica\\Bruguiera.cylindrica_26.jpg\n",
      "Processing C:\\Users\\USER\\Desktop\\Selected Perogram\\Preproses\\Tahap B\\Bruguiera cylindrica\\Bruguiera.cylindrica_27.jpg\n",
      "Processing C:\\Users\\USER\\Desktop\\Selected Perogram\\Preproses\\Tahap B\\Bruguiera cylindrica\\Bruguiera.cylindrica_28.jpg\n",
      "Processing C:\\Users\\USER\\Desktop\\Selected Perogram\\Preproses\\Tahap B\\Bruguiera cylindrica\\Bruguiera.cylindrica_29.jpg\n",
      "Processing C:\\Users\\USER\\Desktop\\Selected Perogram\\Preproses\\Tahap B\\Bruguiera cylindrica\\Bruguiera.cylindrica_3.jpg\n"
     ]
    },
    {
     "name": "stderr",
     "output_type": "stream",
     "text": [
      "Processing images:  26%|██▌       | 619/2360 [00:15<00:40, 43.30it/s]"
     ]
    },
    {
     "name": "stdout",
     "output_type": "stream",
     "text": [
      "Processing C:\\Users\\USER\\Desktop\\Selected Perogram\\Preproses\\Tahap B\\Bruguiera cylindrica\\Bruguiera.cylindrica_30.jpg\n",
      "Processing C:\\Users\\USER\\Desktop\\Selected Perogram\\Preproses\\Tahap B\\Bruguiera cylindrica\\Bruguiera.cylindrica_31.jpg\n",
      "Processing C:\\Users\\USER\\Desktop\\Selected Perogram\\Preproses\\Tahap B\\Bruguiera cylindrica\\Bruguiera.cylindrica_32.jpg\n",
      "Processing C:\\Users\\USER\\Desktop\\Selected Perogram\\Preproses\\Tahap B\\Bruguiera cylindrica\\Bruguiera.cylindrica_33.jpg\n",
      "Processing C:\\Users\\USER\\Desktop\\Selected Perogram\\Preproses\\Tahap B\\Bruguiera cylindrica\\Bruguiera.cylindrica_34.jpg\n",
      "Processing C:\\Users\\USER\\Desktop\\Selected Perogram\\Preproses\\Tahap B\\Bruguiera cylindrica\\Bruguiera.cylindrica_35.jpg\n",
      "Processing C:\\Users\\USER\\Desktop\\Selected Perogram\\Preproses\\Tahap B\\Bruguiera cylindrica\\Bruguiera.cylindrica_36.jpg\n",
      "Processing C:\\Users\\USER\\Desktop\\Selected Perogram\\Preproses\\Tahap B\\Bruguiera cylindrica\\Bruguiera.cylindrica_37.jpg\n",
      "Processing C:\\Users\\USER\\Desktop\\Selected Perogram\\Preproses\\Tahap B\\Bruguiera cylindrica\\Bruguiera.cylindrica_38.jpg\n",
      "Processing C:\\Users\\USER\\Desktop\\Selected Perogram\\Preproses\\Tahap B\\Bruguiera cylindrica\\Bruguiera.cylindrica_39.jpg\n"
     ]
    },
    {
     "name": "stderr",
     "output_type": "stream",
     "text": [
      "Processing images:  27%|██▋       | 629/2360 [00:15<00:40, 42.53it/s]"
     ]
    },
    {
     "name": "stdout",
     "output_type": "stream",
     "text": [
      "Processing C:\\Users\\USER\\Desktop\\Selected Perogram\\Preproses\\Tahap B\\Bruguiera cylindrica\\Bruguiera.cylindrica_4.jpg\n",
      "Processing C:\\Users\\USER\\Desktop\\Selected Perogram\\Preproses\\Tahap B\\Bruguiera cylindrica\\Bruguiera.cylindrica_40.jpg\n",
      "Processing C:\\Users\\USER\\Desktop\\Selected Perogram\\Preproses\\Tahap B\\Bruguiera cylindrica\\Bruguiera.cylindrica_41.jpg\n",
      "Processing C:\\Users\\USER\\Desktop\\Selected Perogram\\Preproses\\Tahap B\\Bruguiera cylindrica\\Bruguiera.cylindrica_42.jpg\n",
      "Processing C:\\Users\\USER\\Desktop\\Selected Perogram\\Preproses\\Tahap B\\Bruguiera cylindrica\\Bruguiera.cylindrica_43.jpg\n",
      "Processing C:\\Users\\USER\\Desktop\\Selected Perogram\\Preproses\\Tahap B\\Bruguiera cylindrica\\Bruguiera.cylindrica_44.jpg\n",
      "Processing C:\\Users\\USER\\Desktop\\Selected Perogram\\Preproses\\Tahap B\\Bruguiera cylindrica\\Bruguiera.cylindrica_45.jpg\n",
      "Processing C:\\Users\\USER\\Desktop\\Selected Perogram\\Preproses\\Tahap B\\Bruguiera cylindrica\\Bruguiera.cylindrica_46.jpg\n",
      "Processing C:\\Users\\USER\\Desktop\\Selected Perogram\\Preproses\\Tahap B\\Bruguiera cylindrica\\Bruguiera.cylindrica_47.jpg\n"
     ]
    },
    {
     "name": "stderr",
     "output_type": "stream",
     "text": [
      "Processing images:  27%|██▋       | 639/2360 [00:15<00:43, 39.92it/s]"
     ]
    },
    {
     "name": "stdout",
     "output_type": "stream",
     "text": [
      "Processing C:\\Users\\USER\\Desktop\\Selected Perogram\\Preproses\\Tahap B\\Bruguiera cylindrica\\Bruguiera.cylindrica_48.jpg\n",
      "Processing C:\\Users\\USER\\Desktop\\Selected Perogram\\Preproses\\Tahap B\\Bruguiera cylindrica\\Bruguiera.cylindrica_49.jpg\n",
      "Processing C:\\Users\\USER\\Desktop\\Selected Perogram\\Preproses\\Tahap B\\Bruguiera cylindrica\\Bruguiera.cylindrica_5.jpg\n",
      "Processing C:\\Users\\USER\\Desktop\\Selected Perogram\\Preproses\\Tahap B\\Bruguiera cylindrica\\Bruguiera.cylindrica_50.jpg\n",
      "Processing C:\\Users\\USER\\Desktop\\Selected Perogram\\Preproses\\Tahap B\\Bruguiera cylindrica\\Bruguiera.cylindrica_51.jpg\n",
      "Processing C:\\Users\\USER\\Desktop\\Selected Perogram\\Preproses\\Tahap B\\Bruguiera cylindrica\\Bruguiera.cylindrica_52.jpg\n",
      "Processing C:\\Users\\USER\\Desktop\\Selected Perogram\\Preproses\\Tahap B\\Bruguiera cylindrica\\Bruguiera.cylindrica_53.jpg\n"
     ]
    },
    {
     "name": "stderr",
     "output_type": "stream",
     "text": [
      "Processing images:  27%|██▋       | 644/2360 [00:15<00:43, 39.87it/s]"
     ]
    },
    {
     "name": "stdout",
     "output_type": "stream",
     "text": [
      "Processing C:\\Users\\USER\\Desktop\\Selected Perogram\\Preproses\\Tahap B\\Bruguiera cylindrica\\Bruguiera.cylindrica_54.jpg\n",
      "Processing C:\\Users\\USER\\Desktop\\Selected Perogram\\Preproses\\Tahap B\\Bruguiera cylindrica\\Bruguiera.cylindrica_55.jpg\n",
      "Processing C:\\Users\\USER\\Desktop\\Selected Perogram\\Preproses\\Tahap B\\Bruguiera cylindrica\\Bruguiera.cylindrica_56.jpg\n",
      "Processing C:\\Users\\USER\\Desktop\\Selected Perogram\\Preproses\\Tahap B\\Bruguiera cylindrica\\Bruguiera.cylindrica_57.jpg\n",
      "Processing C:\\Users\\USER\\Desktop\\Selected Perogram\\Preproses\\Tahap B\\Bruguiera cylindrica\\Bruguiera.cylindrica_58.jpg\n",
      "Processing C:\\Users\\USER\\Desktop\\Selected Perogram\\Preproses\\Tahap B\\Bruguiera cylindrica\\Bruguiera.cylindrica_59.jpg\n",
      "Processing C:\\Users\\USER\\Desktop\\Selected Perogram\\Preproses\\Tahap B\\Bruguiera cylindrica\\Bruguiera.cylindrica_6.jpg\n",
      "Processing C:\\Users\\USER\\Desktop\\Selected Perogram\\Preproses\\Tahap B\\Bruguiera cylindrica\\Bruguiera.cylindrica_7.jpg\n",
      "Processing C:\\Users\\USER\\Desktop\\Selected Perogram\\Preproses\\Tahap B\\Bruguiera cylindrica\\Bruguiera.cylindrica_8.jpg\n"
     ]
    },
    {
     "name": "stderr",
     "output_type": "stream",
     "text": [
      "Processing images:  28%|██▊       | 654/2360 [00:15<00:42, 40.38it/s]"
     ]
    },
    {
     "name": "stdout",
     "output_type": "stream",
     "text": [
      "Processing C:\\Users\\USER\\Desktop\\Selected Perogram\\Preproses\\Tahap B\\Bruguiera cylindrica\\Bruguiera.cylindrica_9.jpg\n",
      "Processing C:\\Users\\USER\\Desktop\\Selected Perogram\\Preproses\\Tahap B\\Bruguiera cylindrica\\Bruguiera_cylindrica10_horizontal_0.jpg\n",
      "Processing C:\\Users\\USER\\Desktop\\Selected Perogram\\Preproses\\Tahap B\\Bruguiera cylindrica\\Bruguiera_cylindrica10_horizontal_270.jpg\n",
      "Processing C:\\Users\\USER\\Desktop\\Selected Perogram\\Preproses\\Tahap B\\Bruguiera cylindrica\\Bruguiera_cylindrica10_horizontal_90.jpg\n",
      "Processing C:\\Users\\USER\\Desktop\\Selected Perogram\\Preproses\\Tahap B\\Bruguiera cylindrica\\Bruguiera_cylindrica10_original_0.jpg\n",
      "Processing C:\\Users\\USER\\Desktop\\Selected Perogram\\Preproses\\Tahap B\\Bruguiera cylindrica\\Bruguiera_cylindrica10_original_270.jpg\n",
      "Processing C:\\Users\\USER\\Desktop\\Selected Perogram\\Preproses\\Tahap B\\Bruguiera cylindrica\\Bruguiera_cylindrica10_original_90.jpg\n",
      "Processing C:\\Users\\USER\\Desktop\\Selected Perogram\\Preproses\\Tahap B\\Bruguiera cylindrica\\Bruguiera_cylindrica10_vertical_0.jpg\n"
     ]
    },
    {
     "name": "stderr",
     "output_type": "stream",
     "text": [
      "Processing images:  28%|██▊       | 659/2360 [00:16<00:42, 40.22it/s]"
     ]
    },
    {
     "name": "stdout",
     "output_type": "stream",
     "text": [
      "Processing C:\\Users\\USER\\Desktop\\Selected Perogram\\Preproses\\Tahap B\\Bruguiera cylindrica\\Bruguiera_cylindrica10_vertical_270.jpg\n",
      "Processing C:\\Users\\USER\\Desktop\\Selected Perogram\\Preproses\\Tahap B\\Bruguiera cylindrica\\Bruguiera_cylindrica10_vertical_90.jpg\n",
      "Processing C:\\Users\\USER\\Desktop\\Selected Perogram\\Preproses\\Tahap B\\Bruguiera cylindrica\\Bruguiera_cylindrica11_horizontal_0.jpg\n",
      "Processing C:\\Users\\USER\\Desktop\\Selected Perogram\\Preproses\\Tahap B\\Bruguiera cylindrica\\Bruguiera_cylindrica11_horizontal_270.jpg\n",
      "Processing C:\\Users\\USER\\Desktop\\Selected Perogram\\Preproses\\Tahap B\\Bruguiera cylindrica\\Bruguiera_cylindrica11_horizontal_90.jpg\n",
      "Processing C:\\Users\\USER\\Desktop\\Selected Perogram\\Preproses\\Tahap B\\Bruguiera cylindrica\\Bruguiera_cylindrica11_original_0.jpg\n",
      "Processing C:\\Users\\USER\\Desktop\\Selected Perogram\\Preproses\\Tahap B\\Bruguiera cylindrica\\Bruguiera_cylindrica11_original_270.jpg\n",
      "Processing C:\\Users\\USER\\Desktop\\Selected Perogram\\Preproses\\Tahap B\\Bruguiera cylindrica\\Bruguiera_cylindrica11_original_90.jpg\n"
     ]
    },
    {
     "name": "stderr",
     "output_type": "stream",
     "text": [
      "Processing images:  28%|██▊       | 668/2360 [00:16<00:42, 39.44it/s]"
     ]
    },
    {
     "name": "stdout",
     "output_type": "stream",
     "text": [
      "Processing C:\\Users\\USER\\Desktop\\Selected Perogram\\Preproses\\Tahap B\\Bruguiera cylindrica\\Bruguiera_cylindrica11_vertical_0.jpg\n",
      "Processing C:\\Users\\USER\\Desktop\\Selected Perogram\\Preproses\\Tahap B\\Bruguiera cylindrica\\Bruguiera_cylindrica11_vertical_270.jpg\n",
      "Processing C:\\Users\\USER\\Desktop\\Selected Perogram\\Preproses\\Tahap B\\Bruguiera cylindrica\\Bruguiera_cylindrica11_vertical_90.jpg\n",
      "Processing C:\\Users\\USER\\Desktop\\Selected Perogram\\Preproses\\Tahap B\\Bruguiera cylindrica\\Bruguiera_cylindrica12_horizontal_0.jpg\n",
      "Processing C:\\Users\\USER\\Desktop\\Selected Perogram\\Preproses\\Tahap B\\Bruguiera cylindrica\\Bruguiera_cylindrica12_horizontal_270.jpg\n",
      "Processing C:\\Users\\USER\\Desktop\\Selected Perogram\\Preproses\\Tahap B\\Bruguiera cylindrica\\Bruguiera_cylindrica12_horizontal_90.jpg\n",
      "Processing C:\\Users\\USER\\Desktop\\Selected Perogram\\Preproses\\Tahap B\\Bruguiera cylindrica\\Bruguiera_cylindrica12_original_0.jpg\n",
      "Processing C:\\Users\\USER\\Desktop\\Selected Perogram\\Preproses\\Tahap B\\Bruguiera cylindrica\\Bruguiera_cylindrica12_original_270.jpg\n"
     ]
    },
    {
     "name": "stderr",
     "output_type": "stream",
     "text": [
      "Processing images:  29%|██▊       | 678/2360 [00:16<00:40, 41.15it/s]"
     ]
    },
    {
     "name": "stdout",
     "output_type": "stream",
     "text": [
      "Processing C:\\Users\\USER\\Desktop\\Selected Perogram\\Preproses\\Tahap B\\Bruguiera cylindrica\\Bruguiera_cylindrica12_original_90.jpg\n",
      "Processing C:\\Users\\USER\\Desktop\\Selected Perogram\\Preproses\\Tahap B\\Bruguiera cylindrica\\Bruguiera_cylindrica12_vertical_0.jpg\n",
      "Processing C:\\Users\\USER\\Desktop\\Selected Perogram\\Preproses\\Tahap B\\Bruguiera cylindrica\\Bruguiera_cylindrica12_vertical_270.jpg\n",
      "Processing C:\\Users\\USER\\Desktop\\Selected Perogram\\Preproses\\Tahap B\\Bruguiera cylindrica\\Bruguiera_cylindrica12_vertical_90.jpg\n",
      "Processing C:\\Users\\USER\\Desktop\\Selected Perogram\\Preproses\\Tahap B\\Bruguiera cylindrica\\Bruguiera_cylindrica13_horizontal_0.jpg\n",
      "Processing C:\\Users\\USER\\Desktop\\Selected Perogram\\Preproses\\Tahap B\\Bruguiera cylindrica\\Bruguiera_cylindrica13_horizontal_270.jpg\n",
      "Processing C:\\Users\\USER\\Desktop\\Selected Perogram\\Preproses\\Tahap B\\Bruguiera cylindrica\\Bruguiera_cylindrica13_horizontal_90.jpg\n",
      "Processing C:\\Users\\USER\\Desktop\\Selected Perogram\\Preproses\\Tahap B\\Bruguiera cylindrica\\Bruguiera_cylindrica13_original_0.jpg\n",
      "Processing C:\\Users\\USER\\Desktop\\Selected Perogram\\Preproses\\Tahap B\\Bruguiera cylindrica\\Bruguiera_cylindrica13_original_270.jpg\n",
      "Processing C:\\Users\\USER\\Desktop\\Selected Perogram\\Preproses\\Tahap B\\Bruguiera cylindrica\\Bruguiera_cylindrica13_original_90.jpg\n"
     ]
    },
    {
     "name": "stderr",
     "output_type": "stream",
     "text": [
      "Processing images:  29%|██▉       | 688/2360 [00:16<00:40, 41.68it/s]"
     ]
    },
    {
     "name": "stdout",
     "output_type": "stream",
     "text": [
      "Processing C:\\Users\\USER\\Desktop\\Selected Perogram\\Preproses\\Tahap B\\Bruguiera cylindrica\\Bruguiera_cylindrica13_vertical_0.jpg\n",
      "Processing C:\\Users\\USER\\Desktop\\Selected Perogram\\Preproses\\Tahap B\\Bruguiera cylindrica\\Bruguiera_cylindrica13_vertical_270.jpg\n",
      "Processing C:\\Users\\USER\\Desktop\\Selected Perogram\\Preproses\\Tahap B\\Bruguiera cylindrica\\Bruguiera_cylindrica13_vertical_90.jpg\n",
      "Processing C:\\Users\\USER\\Desktop\\Selected Perogram\\Preproses\\Tahap B\\Bruguiera cylindrica\\Bruguiera_cylindrica14_horizontal_0.jpg\n",
      "Processing C:\\Users\\USER\\Desktop\\Selected Perogram\\Preproses\\Tahap B\\Bruguiera cylindrica\\Bruguiera_cylindrica14_horizontal_270.jpg\n",
      "Processing C:\\Users\\USER\\Desktop\\Selected Perogram\\Preproses\\Tahap B\\Bruguiera cylindrica\\Bruguiera_cylindrica14_horizontal_90.jpg\n",
      "Processing C:\\Users\\USER\\Desktop\\Selected Perogram\\Preproses\\Tahap B\\Bruguiera cylindrica\\Bruguiera_cylindrica14_original_0.jpg\n",
      "Processing C:\\Users\\USER\\Desktop\\Selected Perogram\\Preproses\\Tahap B\\Bruguiera cylindrica\\Bruguiera_cylindrica14_original_270.jpg\n",
      "Processing C:\\Users\\USER\\Desktop\\Selected Perogram\\Preproses\\Tahap B\\Bruguiera cylindrica\\Bruguiera_cylindrica14_original_90.jpg\n"
     ]
    },
    {
     "name": "stderr",
     "output_type": "stream",
     "text": [
      "Processing images:  30%|██▉       | 698/2360 [00:17<00:40, 41.28it/s]"
     ]
    },
    {
     "name": "stdout",
     "output_type": "stream",
     "text": [
      "Processing C:\\Users\\USER\\Desktop\\Selected Perogram\\Preproses\\Tahap B\\Bruguiera cylindrica\\Bruguiera_cylindrica14_vertical_0.jpg\n",
      "Processing C:\\Users\\USER\\Desktop\\Selected Perogram\\Preproses\\Tahap B\\Bruguiera cylindrica\\Bruguiera_cylindrica14_vertical_270.jpg\n",
      "Processing C:\\Users\\USER\\Desktop\\Selected Perogram\\Preproses\\Tahap B\\Bruguiera cylindrica\\Bruguiera_cylindrica14_vertical_90.jpg\n",
      "Processing C:\\Users\\USER\\Desktop\\Selected Perogram\\Preproses\\Tahap B\\Bruguiera cylindrica\\Bruguiera_cylindrica15_horizontal_0.jpg\n",
      "Processing C:\\Users\\USER\\Desktop\\Selected Perogram\\Preproses\\Tahap B\\Bruguiera cylindrica\\Bruguiera_cylindrica15_horizontal_270.jpg\n",
      "Processing C:\\Users\\USER\\Desktop\\Selected Perogram\\Preproses\\Tahap B\\Bruguiera cylindrica\\Bruguiera_cylindrica15_horizontal_90.jpg\n",
      "Processing C:\\Users\\USER\\Desktop\\Selected Perogram\\Preproses\\Tahap B\\Bruguiera cylindrica\\Bruguiera_cylindrica15_original_0.jpg\n",
      "Processing C:\\Users\\USER\\Desktop\\Selected Perogram\\Preproses\\Tahap B\\Bruguiera cylindrica\\Bruguiera_cylindrica15_original_270.jpg\n",
      "Processing C:\\Users\\USER\\Desktop\\Selected Perogram\\Preproses\\Tahap B\\Bruguiera cylindrica\\Bruguiera_cylindrica15_original_90.jpg\n"
     ]
    },
    {
     "name": "stderr",
     "output_type": "stream",
     "text": [
      "Processing images:  30%|███       | 708/2360 [00:17<00:39, 42.17it/s]"
     ]
    },
    {
     "name": "stdout",
     "output_type": "stream",
     "text": [
      "Processing C:\\Users\\USER\\Desktop\\Selected Perogram\\Preproses\\Tahap B\\Bruguiera cylindrica\\Bruguiera_cylindrica15_vertical_0.jpg\n",
      "Processing C:\\Users\\USER\\Desktop\\Selected Perogram\\Preproses\\Tahap B\\Bruguiera cylindrica\\Bruguiera_cylindrica15_vertical_270.jpg\n",
      "Processing C:\\Users\\USER\\Desktop\\Selected Perogram\\Preproses\\Tahap B\\Bruguiera cylindrica\\Bruguiera_cylindrica15_vertical_90.jpg\n",
      "Processing C:\\Users\\USER\\Desktop\\Selected Perogram\\Preproses\\Tahap B\\Bruguiera cylindrica\\Bruguiera_cylindrica16_horizontal_0.jpg\n",
      "Processing C:\\Users\\USER\\Desktop\\Selected Perogram\\Preproses\\Tahap B\\Bruguiera cylindrica\\Bruguiera_cylindrica16_horizontal_270.jpg\n",
      "Processing C:\\Users\\USER\\Desktop\\Selected Perogram\\Preproses\\Tahap B\\Bruguiera cylindrica\\Bruguiera_cylindrica16_horizontal_90.jpg\n",
      "Processing C:\\Users\\USER\\Desktop\\Selected Perogram\\Preproses\\Tahap B\\Bruguiera cylindrica\\Bruguiera_cylindrica16_original_0.jpg\n",
      "Processing C:\\Users\\USER\\Desktop\\Selected Perogram\\Preproses\\Tahap B\\Bruguiera cylindrica\\Bruguiera_cylindrica16_original_270.jpg\n"
     ]
    },
    {
     "name": "stderr",
     "output_type": "stream",
     "text": [
      "Processing images:  30%|███       | 713/2360 [00:17<00:38, 42.34it/s]"
     ]
    },
    {
     "name": "stdout",
     "output_type": "stream",
     "text": [
      "Processing C:\\Users\\USER\\Desktop\\Selected Perogram\\Preproses\\Tahap B\\Bruguiera cylindrica\\Bruguiera_cylindrica16_original_90.jpg\n",
      "Processing C:\\Users\\USER\\Desktop\\Selected Perogram\\Preproses\\Tahap B\\Bruguiera cylindrica\\Bruguiera_cylindrica16_vertical_0.jpg\n",
      "Processing C:\\Users\\USER\\Desktop\\Selected Perogram\\Preproses\\Tahap B\\Bruguiera cylindrica\\Bruguiera_cylindrica16_vertical_270.jpg\n",
      "Processing C:\\Users\\USER\\Desktop\\Selected Perogram\\Preproses\\Tahap B\\Bruguiera cylindrica\\Bruguiera_cylindrica16_vertical_90.jpg\n",
      "Processing C:\\Users\\USER\\Desktop\\Selected Perogram\\Preproses\\Tahap B\\Bruguiera cylindrica\\Bruguiera_cylindrica17_horizontal_0.jpg\n",
      "Processing C:\\Users\\USER\\Desktop\\Selected Perogram\\Preproses\\Tahap B\\Bruguiera cylindrica\\Bruguiera_cylindrica17_horizontal_270.jpg\n",
      "Processing C:\\Users\\USER\\Desktop\\Selected Perogram\\Preproses\\Tahap B\\Bruguiera cylindrica\\Bruguiera_cylindrica17_horizontal_90.jpg\n",
      "Processing C:\\Users\\USER\\Desktop\\Selected Perogram\\Preproses\\Tahap B\\Bruguiera cylindrica\\Bruguiera_cylindrica17_original_0.jpg\n",
      "Processing C:\\Users\\USER\\Desktop\\Selected Perogram\\Preproses\\Tahap B\\Bruguiera cylindrica\\Bruguiera_cylindrica17_original_270.jpg\n",
      "Processing C:\\Users\\USER\\Desktop\\Selected Perogram\\Preproses\\Tahap B\\Bruguiera cylindrica\\Bruguiera_cylindrica17_original_90.jpg\n"
     ]
    },
    {
     "name": "stderr",
     "output_type": "stream",
     "text": [
      "Processing images:  31%|███       | 723/2360 [00:17<00:40, 40.58it/s]"
     ]
    },
    {
     "name": "stdout",
     "output_type": "stream",
     "text": [
      "Processing C:\\Users\\USER\\Desktop\\Selected Perogram\\Preproses\\Tahap B\\Bruguiera cylindrica\\Bruguiera_cylindrica17_vertical_0.jpg\n",
      "Processing C:\\Users\\USER\\Desktop\\Selected Perogram\\Preproses\\Tahap B\\Bruguiera cylindrica\\Bruguiera_cylindrica17_vertical_270.jpg\n",
      "Processing C:\\Users\\USER\\Desktop\\Selected Perogram\\Preproses\\Tahap B\\Bruguiera cylindrica\\Bruguiera_cylindrica17_vertical_90.jpg\n",
      "Processing C:\\Users\\USER\\Desktop\\Selected Perogram\\Preproses\\Tahap B\\Bruguiera cylindrica\\Bruguiera_cylindrica18_horizontal_0.jpg\n",
      "Processing C:\\Users\\USER\\Desktop\\Selected Perogram\\Preproses\\Tahap B\\Bruguiera cylindrica\\Bruguiera_cylindrica18_horizontal_270.jpg\n",
      "Processing C:\\Users\\USER\\Desktop\\Selected Perogram\\Preproses\\Tahap B\\Bruguiera cylindrica\\Bruguiera_cylindrica18_horizontal_90.jpg\n",
      "Processing C:\\Users\\USER\\Desktop\\Selected Perogram\\Preproses\\Tahap B\\Bruguiera cylindrica\\Bruguiera_cylindrica18_original_0.jpg\n",
      "Processing C:\\Users\\USER\\Desktop\\Selected Perogram\\Preproses\\Tahap B\\Bruguiera cylindrica\\Bruguiera_cylindrica18_original_270.jpg\n",
      "Processing C:\\Users\\USER\\Desktop\\Selected Perogram\\Preproses\\Tahap B\\Bruguiera cylindrica\\Bruguiera_cylindrica18_original_90.jpg\n"
     ]
    },
    {
     "name": "stderr",
     "output_type": "stream",
     "text": [
      "Processing images:  31%|███       | 733/2360 [00:17<00:38, 42.05it/s]"
     ]
    },
    {
     "name": "stdout",
     "output_type": "stream",
     "text": [
      "Processing C:\\Users\\USER\\Desktop\\Selected Perogram\\Preproses\\Tahap B\\Bruguiera cylindrica\\Bruguiera_cylindrica18_vertical_0.jpg\n",
      "Processing C:\\Users\\USER\\Desktop\\Selected Perogram\\Preproses\\Tahap B\\Bruguiera cylindrica\\Bruguiera_cylindrica18_vertical_270.jpg\n",
      "Processing C:\\Users\\USER\\Desktop\\Selected Perogram\\Preproses\\Tahap B\\Bruguiera cylindrica\\Bruguiera_cylindrica18_vertical_90.jpg\n",
      "Processing C:\\Users\\USER\\Desktop\\Selected Perogram\\Preproses\\Tahap B\\Bruguiera cylindrica\\Bruguiera_cylindrica19_horizontal_0.jpg\n",
      "Processing C:\\Users\\USER\\Desktop\\Selected Perogram\\Preproses\\Tahap B\\Bruguiera cylindrica\\Bruguiera_cylindrica19_horizontal_270.jpg\n",
      "Processing C:\\Users\\USER\\Desktop\\Selected Perogram\\Preproses\\Tahap B\\Bruguiera cylindrica\\Bruguiera_cylindrica19_horizontal_90.jpg\n",
      "Processing C:\\Users\\USER\\Desktop\\Selected Perogram\\Preproses\\Tahap B\\Bruguiera cylindrica\\Bruguiera_cylindrica19_original_0.jpg\n",
      "Processing C:\\Users\\USER\\Desktop\\Selected Perogram\\Preproses\\Tahap B\\Bruguiera cylindrica\\Bruguiera_cylindrica19_original_270.jpg\n",
      "Processing C:\\Users\\USER\\Desktop\\Selected Perogram\\Preproses\\Tahap B\\Bruguiera cylindrica\\Bruguiera_cylindrica19_original_90.jpg\n"
     ]
    },
    {
     "name": "stderr",
     "output_type": "stream",
     "text": [
      "Processing images:  31%|███▏      | 743/2360 [00:18<00:37, 43.15it/s]"
     ]
    },
    {
     "name": "stdout",
     "output_type": "stream",
     "text": [
      "Processing C:\\Users\\USER\\Desktop\\Selected Perogram\\Preproses\\Tahap B\\Bruguiera cylindrica\\Bruguiera_cylindrica19_vertical_0.jpg\n",
      "Processing C:\\Users\\USER\\Desktop\\Selected Perogram\\Preproses\\Tahap B\\Bruguiera cylindrica\\Bruguiera_cylindrica19_vertical_270.jpg\n",
      "Processing C:\\Users\\USER\\Desktop\\Selected Perogram\\Preproses\\Tahap B\\Bruguiera cylindrica\\Bruguiera_cylindrica19_vertical_90.jpg\n",
      "Processing C:\\Users\\USER\\Desktop\\Selected Perogram\\Preproses\\Tahap B\\Bruguiera cylindrica\\Bruguiera_cylindrica1_horizontal_0.jpg\n",
      "Processing C:\\Users\\USER\\Desktop\\Selected Perogram\\Preproses\\Tahap B\\Bruguiera cylindrica\\Bruguiera_cylindrica1_horizontal_270.jpg\n",
      "Processing C:\\Users\\USER\\Desktop\\Selected Perogram\\Preproses\\Tahap B\\Bruguiera cylindrica\\Bruguiera_cylindrica1_horizontal_90.jpg\n",
      "Processing C:\\Users\\USER\\Desktop\\Selected Perogram\\Preproses\\Tahap B\\Bruguiera cylindrica\\Bruguiera_cylindrica1_original_0.jpg\n",
      "Processing C:\\Users\\USER\\Desktop\\Selected Perogram\\Preproses\\Tahap B\\Bruguiera cylindrica\\Bruguiera_cylindrica1_original_270.jpg\n",
      "Processing C:\\Users\\USER\\Desktop\\Selected Perogram\\Preproses\\Tahap B\\Bruguiera cylindrica\\Bruguiera_cylindrica1_original_90.jpg\n",
      "Processing C:\\Users\\USER\\Desktop\\Selected Perogram\\Preproses\\Tahap B\\Bruguiera cylindrica\\Bruguiera_cylindrica1_vertical_0.jpg\n"
     ]
    },
    {
     "name": "stderr",
     "output_type": "stream",
     "text": [
      "Processing images:  32%|███▏      | 753/2360 [00:18<00:36, 44.09it/s]"
     ]
    },
    {
     "name": "stdout",
     "output_type": "stream",
     "text": [
      "Processing C:\\Users\\USER\\Desktop\\Selected Perogram\\Preproses\\Tahap B\\Bruguiera cylindrica\\Bruguiera_cylindrica1_vertical_270.jpg\n",
      "Processing C:\\Users\\USER\\Desktop\\Selected Perogram\\Preproses\\Tahap B\\Bruguiera cylindrica\\Bruguiera_cylindrica1_vertical_90.jpg\n",
      "Processing C:\\Users\\USER\\Desktop\\Selected Perogram\\Preproses\\Tahap B\\Bruguiera cylindrica\\Bruguiera_cylindrica20_horizontal_0.jpg\n",
      "Processing C:\\Users\\USER\\Desktop\\Selected Perogram\\Preproses\\Tahap B\\Bruguiera cylindrica\\Bruguiera_cylindrica20_horizontal_270.jpg\n",
      "Processing C:\\Users\\USER\\Desktop\\Selected Perogram\\Preproses\\Tahap B\\Bruguiera cylindrica\\Bruguiera_cylindrica20_horizontal_90.jpg\n",
      "Processing C:\\Users\\USER\\Desktop\\Selected Perogram\\Preproses\\Tahap B\\Bruguiera cylindrica\\Bruguiera_cylindrica20_original_0.jpg\n",
      "Processing C:\\Users\\USER\\Desktop\\Selected Perogram\\Preproses\\Tahap B\\Bruguiera cylindrica\\Bruguiera_cylindrica20_original_270.jpg\n",
      "Processing C:\\Users\\USER\\Desktop\\Selected Perogram\\Preproses\\Tahap B\\Bruguiera cylindrica\\Bruguiera_cylindrica20_original_90.jpg\n",
      "Processing C:\\Users\\USER\\Desktop\\Selected Perogram\\Preproses\\Tahap B\\Bruguiera cylindrica\\Bruguiera_cylindrica20_vertical_0.jpg\n"
     ]
    },
    {
     "name": "stderr",
     "output_type": "stream",
     "text": [
      "Processing images:  32%|███▏      | 763/2360 [00:18<00:36, 43.87it/s]"
     ]
    },
    {
     "name": "stdout",
     "output_type": "stream",
     "text": [
      "Processing C:\\Users\\USER\\Desktop\\Selected Perogram\\Preproses\\Tahap B\\Bruguiera cylindrica\\Bruguiera_cylindrica20_vertical_270.jpg\n",
      "Processing C:\\Users\\USER\\Desktop\\Selected Perogram\\Preproses\\Tahap B\\Bruguiera cylindrica\\Bruguiera_cylindrica20_vertical_90.jpg\n",
      "Processing C:\\Users\\USER\\Desktop\\Selected Perogram\\Preproses\\Tahap B\\Bruguiera cylindrica\\Bruguiera_cylindrica21_horizontal_0.jpg\n",
      "Processing C:\\Users\\USER\\Desktop\\Selected Perogram\\Preproses\\Tahap B\\Bruguiera cylindrica\\Bruguiera_cylindrica21_horizontal_270.jpg\n",
      "Processing C:\\Users\\USER\\Desktop\\Selected Perogram\\Preproses\\Tahap B\\Bruguiera cylindrica\\Bruguiera_cylindrica21_horizontal_90.jpg\n",
      "Processing C:\\Users\\USER\\Desktop\\Selected Perogram\\Preproses\\Tahap B\\Bruguiera cylindrica\\Bruguiera_cylindrica21_original_0.jpg\n",
      "Processing C:\\Users\\USER\\Desktop\\Selected Perogram\\Preproses\\Tahap B\\Bruguiera cylindrica\\Bruguiera_cylindrica21_original_270.jpg\n",
      "Processing C:\\Users\\USER\\Desktop\\Selected Perogram\\Preproses\\Tahap B\\Bruguiera cylindrica\\Bruguiera_cylindrica21_original_90.jpg\n"
     ]
    },
    {
     "name": "stderr",
     "output_type": "stream",
     "text": [
      "Processing images:  33%|███▎      | 768/2360 [00:18<00:35, 44.36it/s]"
     ]
    },
    {
     "name": "stdout",
     "output_type": "stream",
     "text": [
      "Processing C:\\Users\\USER\\Desktop\\Selected Perogram\\Preproses\\Tahap B\\Bruguiera cylindrica\\Bruguiera_cylindrica21_vertical_0.jpg\n",
      "Processing C:\\Users\\USER\\Desktop\\Selected Perogram\\Preproses\\Tahap B\\Bruguiera cylindrica\\Bruguiera_cylindrica21_vertical_270.jpg\n",
      "Processing C:\\Users\\USER\\Desktop\\Selected Perogram\\Preproses\\Tahap B\\Bruguiera cylindrica\\Bruguiera_cylindrica21_vertical_90.jpg\n",
      "Processing C:\\Users\\USER\\Desktop\\Selected Perogram\\Preproses\\Tahap B\\Bruguiera cylindrica\\Bruguiera_cylindrica22_horizontal_0.jpg\n",
      "Processing C:\\Users\\USER\\Desktop\\Selected Perogram\\Preproses\\Tahap B\\Bruguiera cylindrica\\Bruguiera_cylindrica22_horizontal_270.jpg\n",
      "Processing C:\\Users\\USER\\Desktop\\Selected Perogram\\Preproses\\Tahap B\\Bruguiera cylindrica\\Bruguiera_cylindrica22_horizontal_90.jpg\n",
      "Processing C:\\Users\\USER\\Desktop\\Selected Perogram\\Preproses\\Tahap B\\Bruguiera cylindrica\\Bruguiera_cylindrica22_original_0.jpg\n",
      "Processing C:\\Users\\USER\\Desktop\\Selected Perogram\\Preproses\\Tahap B\\Bruguiera cylindrica\\Bruguiera_cylindrica22_original_270.jpg\n",
      "Processing C:\\Users\\USER\\Desktop\\Selected Perogram\\Preproses\\Tahap B\\Bruguiera cylindrica\\Bruguiera_cylindrica22_original_90.jpg\n",
      "Processing C:\\Users\\USER\\Desktop\\Selected Perogram\\Preproses\\Tahap B\\Bruguiera cylindrica\\Bruguiera_cylindrica22_vertical_0.jpg\n"
     ]
    },
    {
     "name": "stderr",
     "output_type": "stream",
     "text": [
      "Processing images:  33%|███▎      | 778/2360 [00:18<00:36, 43.79it/s]"
     ]
    },
    {
     "name": "stdout",
     "output_type": "stream",
     "text": [
      "Processing C:\\Users\\USER\\Desktop\\Selected Perogram\\Preproses\\Tahap B\\Bruguiera cylindrica\\Bruguiera_cylindrica22_vertical_270.jpg\n",
      "Processing C:\\Users\\USER\\Desktop\\Selected Perogram\\Preproses\\Tahap B\\Bruguiera cylindrica\\Bruguiera_cylindrica22_vertical_90.jpg\n",
      "Processing C:\\Users\\USER\\Desktop\\Selected Perogram\\Preproses\\Tahap B\\Bruguiera cylindrica\\Bruguiera_cylindrica23_horizontal_0.jpg\n",
      "Processing C:\\Users\\USER\\Desktop\\Selected Perogram\\Preproses\\Tahap B\\Bruguiera cylindrica\\Bruguiera_cylindrica23_horizontal_270.jpg\n",
      "Processing C:\\Users\\USER\\Desktop\\Selected Perogram\\Preproses\\Tahap B\\Bruguiera cylindrica\\Bruguiera_cylindrica23_horizontal_90.jpg\n",
      "Processing C:\\Users\\USER\\Desktop\\Selected Perogram\\Preproses\\Tahap B\\Bruguiera cylindrica\\Bruguiera_cylindrica23_original_0.jpg\n",
      "Processing C:\\Users\\USER\\Desktop\\Selected Perogram\\Preproses\\Tahap B\\Bruguiera cylindrica\\Bruguiera_cylindrica23_original_270.jpg\n",
      "Processing C:\\Users\\USER\\Desktop\\Selected Perogram\\Preproses\\Tahap B\\Bruguiera cylindrica\\Bruguiera_cylindrica23_original_90.jpg\n",
      "Processing C:\\Users\\USER\\Desktop\\Selected Perogram\\Preproses\\Tahap B\\Bruguiera cylindrica\\Bruguiera_cylindrica23_vertical_0.jpg\n"
     ]
    },
    {
     "name": "stderr",
     "output_type": "stream",
     "text": [
      "Processing images:  33%|███▎      | 788/2360 [00:19<00:35, 44.22it/s]"
     ]
    },
    {
     "name": "stdout",
     "output_type": "stream",
     "text": [
      "Processing C:\\Users\\USER\\Desktop\\Selected Perogram\\Preproses\\Tahap B\\Bruguiera cylindrica\\Bruguiera_cylindrica23_vertical_270.jpg\n",
      "Processing C:\\Users\\USER\\Desktop\\Selected Perogram\\Preproses\\Tahap B\\Bruguiera cylindrica\\Bruguiera_cylindrica23_vertical_90.jpg\n",
      "Processing C:\\Users\\USER\\Desktop\\Selected Perogram\\Preproses\\Tahap B\\Bruguiera cylindrica\\Bruguiera_cylindrica24_horizontal_0.jpg\n",
      "Processing C:\\Users\\USER\\Desktop\\Selected Perogram\\Preproses\\Tahap B\\Bruguiera cylindrica\\Bruguiera_cylindrica24_horizontal_270.jpg\n",
      "Processing C:\\Users\\USER\\Desktop\\Selected Perogram\\Preproses\\Tahap B\\Bruguiera cylindrica\\Bruguiera_cylindrica24_horizontal_90.jpg\n",
      "Processing C:\\Users\\USER\\Desktop\\Selected Perogram\\Preproses\\Tahap B\\Bruguiera cylindrica\\Bruguiera_cylindrica24_original_0.jpg\n",
      "Processing C:\\Users\\USER\\Desktop\\Selected Perogram\\Preproses\\Tahap B\\Bruguiera cylindrica\\Bruguiera_cylindrica24_original_270.jpg\n",
      "Processing C:\\Users\\USER\\Desktop\\Selected Perogram\\Preproses\\Tahap B\\Bruguiera cylindrica\\Bruguiera_cylindrica24_original_90.jpg\n",
      "Processing C:\\Users\\USER\\Desktop\\Selected Perogram\\Preproses\\Tahap B\\Bruguiera cylindrica\\Bruguiera_cylindrica24_vertical_0.jpg\n"
     ]
    },
    {
     "name": "stderr",
     "output_type": "stream",
     "text": [
      "Processing images:  34%|███▍      | 798/2360 [00:19<00:35, 43.69it/s]"
     ]
    },
    {
     "name": "stdout",
     "output_type": "stream",
     "text": [
      "Processing C:\\Users\\USER\\Desktop\\Selected Perogram\\Preproses\\Tahap B\\Bruguiera cylindrica\\Bruguiera_cylindrica24_vertical_270.jpg\n",
      "Processing C:\\Users\\USER\\Desktop\\Selected Perogram\\Preproses\\Tahap B\\Bruguiera cylindrica\\Bruguiera_cylindrica24_vertical_90.jpg\n",
      "Processing C:\\Users\\USER\\Desktop\\Selected Perogram\\Preproses\\Tahap B\\Bruguiera cylindrica\\Bruguiera_cylindrica25_horizontal_0.jpg\n",
      "Processing C:\\Users\\USER\\Desktop\\Selected Perogram\\Preproses\\Tahap B\\Bruguiera cylindrica\\Bruguiera_cylindrica25_horizontal_270.jpg\n",
      "Processing C:\\Users\\USER\\Desktop\\Selected Perogram\\Preproses\\Tahap B\\Bruguiera cylindrica\\Bruguiera_cylindrica25_horizontal_90.jpg\n",
      "Processing C:\\Users\\USER\\Desktop\\Selected Perogram\\Preproses\\Tahap B\\Bruguiera cylindrica\\Bruguiera_cylindrica25_original_0.jpg\n",
      "Processing C:\\Users\\USER\\Desktop\\Selected Perogram\\Preproses\\Tahap B\\Bruguiera cylindrica\\Bruguiera_cylindrica25_original_270.jpg\n",
      "Processing C:\\Users\\USER\\Desktop\\Selected Perogram\\Preproses\\Tahap B\\Bruguiera cylindrica\\Bruguiera_cylindrica25_original_90.jpg\n",
      "Processing C:\\Users\\USER\\Desktop\\Selected Perogram\\Preproses\\Tahap B\\Bruguiera cylindrica\\Bruguiera_cylindrica25_vertical_0.jpg\n"
     ]
    },
    {
     "name": "stderr",
     "output_type": "stream",
     "text": [
      "Processing images:  34%|███▍      | 803/2360 [00:19<00:35, 43.87it/s]"
     ]
    },
    {
     "name": "stdout",
     "output_type": "stream",
     "text": [
      "Processing C:\\Users\\USER\\Desktop\\Selected Perogram\\Preproses\\Tahap B\\Bruguiera cylindrica\\Bruguiera_cylindrica25_vertical_270.jpg\n",
      "Processing C:\\Users\\USER\\Desktop\\Selected Perogram\\Preproses\\Tahap B\\Bruguiera cylindrica\\Bruguiera_cylindrica25_vertical_90.jpg\n",
      "Processing C:\\Users\\USER\\Desktop\\Selected Perogram\\Preproses\\Tahap B\\Bruguiera cylindrica\\Bruguiera_cylindrica26_horizontal_0.jpg\n",
      "Processing C:\\Users\\USER\\Desktop\\Selected Perogram\\Preproses\\Tahap B\\Bruguiera cylindrica\\Bruguiera_cylindrica26_horizontal_270.jpg\n",
      "Processing C:\\Users\\USER\\Desktop\\Selected Perogram\\Preproses\\Tahap B\\Bruguiera cylindrica\\Bruguiera_cylindrica26_horizontal_90.jpg\n",
      "Processing C:\\Users\\USER\\Desktop\\Selected Perogram\\Preproses\\Tahap B\\Bruguiera cylindrica\\Bruguiera_cylindrica26_original_0.jpg\n",
      "Processing C:\\Users\\USER\\Desktop\\Selected Perogram\\Preproses\\Tahap B\\Bruguiera cylindrica\\Bruguiera_cylindrica26_original_270.jpg\n",
      "Processing C:\\Users\\USER\\Desktop\\Selected Perogram\\Preproses\\Tahap B\\Bruguiera cylindrica\\Bruguiera_cylindrica26_original_90.jpg\n"
     ]
    },
    {
     "name": "stderr",
     "output_type": "stream",
     "text": [
      "Processing images:  34%|███▍      | 813/2360 [00:19<00:36, 42.55it/s]"
     ]
    },
    {
     "name": "stdout",
     "output_type": "stream",
     "text": [
      "Processing C:\\Users\\USER\\Desktop\\Selected Perogram\\Preproses\\Tahap B\\Bruguiera cylindrica\\Bruguiera_cylindrica26_vertical_0.jpg\n",
      "Processing C:\\Users\\USER\\Desktop\\Selected Perogram\\Preproses\\Tahap B\\Bruguiera cylindrica\\Bruguiera_cylindrica26_vertical_270.jpg\n",
      "Processing C:\\Users\\USER\\Desktop\\Selected Perogram\\Preproses\\Tahap B\\Bruguiera cylindrica\\Bruguiera_cylindrica26_vertical_90.jpg\n",
      "Processing C:\\Users\\USER\\Desktop\\Selected Perogram\\Preproses\\Tahap B\\Bruguiera cylindrica\\Bruguiera_cylindrica27_horizontal_0.jpg\n",
      "Processing C:\\Users\\USER\\Desktop\\Selected Perogram\\Preproses\\Tahap B\\Bruguiera cylindrica\\Bruguiera_cylindrica27_horizontal_270.jpg\n",
      "Processing C:\\Users\\USER\\Desktop\\Selected Perogram\\Preproses\\Tahap B\\Bruguiera cylindrica\\Bruguiera_cylindrica27_horizontal_90.jpg\n",
      "Processing C:\\Users\\USER\\Desktop\\Selected Perogram\\Preproses\\Tahap B\\Bruguiera cylindrica\\Bruguiera_cylindrica27_original_0.jpg\n",
      "Processing C:\\Users\\USER\\Desktop\\Selected Perogram\\Preproses\\Tahap B\\Bruguiera cylindrica\\Bruguiera_cylindrica27_original_270.jpg\n",
      "Processing C:\\Users\\USER\\Desktop\\Selected Perogram\\Preproses\\Tahap B\\Bruguiera cylindrica\\Bruguiera_cylindrica27_original_90.jpg\n"
     ]
    },
    {
     "name": "stderr",
     "output_type": "stream",
     "text": [
      "Processing images:  35%|███▍      | 823/2360 [00:19<00:35, 43.48it/s]"
     ]
    },
    {
     "name": "stdout",
     "output_type": "stream",
     "text": [
      "Processing C:\\Users\\USER\\Desktop\\Selected Perogram\\Preproses\\Tahap B\\Bruguiera cylindrica\\Bruguiera_cylindrica27_vertical_0.jpg\n",
      "Processing C:\\Users\\USER\\Desktop\\Selected Perogram\\Preproses\\Tahap B\\Bruguiera cylindrica\\Bruguiera_cylindrica27_vertical_270.jpg\n",
      "Processing C:\\Users\\USER\\Desktop\\Selected Perogram\\Preproses\\Tahap B\\Bruguiera cylindrica\\Bruguiera_cylindrica27_vertical_90.jpg\n",
      "Processing C:\\Users\\USER\\Desktop\\Selected Perogram\\Preproses\\Tahap B\\Bruguiera cylindrica\\Bruguiera_cylindrica28_horizontal_0.jpg\n",
      "Processing C:\\Users\\USER\\Desktop\\Selected Perogram\\Preproses\\Tahap B\\Bruguiera cylindrica\\Bruguiera_cylindrica28_horizontal_270.jpg\n",
      "Processing C:\\Users\\USER\\Desktop\\Selected Perogram\\Preproses\\Tahap B\\Bruguiera cylindrica\\Bruguiera_cylindrica28_horizontal_90.jpg\n",
      "Processing C:\\Users\\USER\\Desktop\\Selected Perogram\\Preproses\\Tahap B\\Bruguiera cylindrica\\Bruguiera_cylindrica28_original_0.jpg\n",
      "Processing C:\\Users\\USER\\Desktop\\Selected Perogram\\Preproses\\Tahap B\\Bruguiera cylindrica\\Bruguiera_cylindrica28_original_270.jpg\n",
      "Processing C:\\Users\\USER\\Desktop\\Selected Perogram\\Preproses\\Tahap B\\Bruguiera cylindrica\\Bruguiera_cylindrica28_original_90.jpg\n"
     ]
    },
    {
     "name": "stderr",
     "output_type": "stream",
     "text": [
      "Processing images:  35%|███▌      | 833/2360 [00:20<00:34, 43.98it/s]"
     ]
    },
    {
     "name": "stdout",
     "output_type": "stream",
     "text": [
      "Processing C:\\Users\\USER\\Desktop\\Selected Perogram\\Preproses\\Tahap B\\Bruguiera cylindrica\\Bruguiera_cylindrica28_vertical_0.jpg\n",
      "Processing C:\\Users\\USER\\Desktop\\Selected Perogram\\Preproses\\Tahap B\\Bruguiera cylindrica\\Bruguiera_cylindrica28_vertical_270.jpg\n",
      "Processing C:\\Users\\USER\\Desktop\\Selected Perogram\\Preproses\\Tahap B\\Bruguiera cylindrica\\Bruguiera_cylindrica28_vertical_90.jpg\n",
      "Processing C:\\Users\\USER\\Desktop\\Selected Perogram\\Preproses\\Tahap B\\Bruguiera cylindrica\\Bruguiera_cylindrica29_horizontal_0.jpg\n",
      "Processing C:\\Users\\USER\\Desktop\\Selected Perogram\\Preproses\\Tahap B\\Bruguiera cylindrica\\Bruguiera_cylindrica29_horizontal_270.jpg\n",
      "Processing C:\\Users\\USER\\Desktop\\Selected Perogram\\Preproses\\Tahap B\\Bruguiera cylindrica\\Bruguiera_cylindrica29_horizontal_90.jpg\n",
      "Processing C:\\Users\\USER\\Desktop\\Selected Perogram\\Preproses\\Tahap B\\Bruguiera cylindrica\\Bruguiera_cylindrica29_original_0.jpg\n",
      "Processing C:\\Users\\USER\\Desktop\\Selected Perogram\\Preproses\\Tahap B\\Bruguiera cylindrica\\Bruguiera_cylindrica29_original_270.jpg\n",
      "Processing C:\\Users\\USER\\Desktop\\Selected Perogram\\Preproses\\Tahap B\\Bruguiera cylindrica\\Bruguiera_cylindrica29_original_90.jpg\n",
      "Processing C:\\Users\\USER\\Desktop\\Selected Perogram\\Preproses\\Tahap B\\Bruguiera cylindrica\\Bruguiera_cylindrica29_vertical_0.jpg\n"
     ]
    },
    {
     "name": "stderr",
     "output_type": "stream",
     "text": [
      "Processing images:  36%|███▌      | 843/2360 [00:20<00:34, 43.97it/s]"
     ]
    },
    {
     "name": "stdout",
     "output_type": "stream",
     "text": [
      "Processing C:\\Users\\USER\\Desktop\\Selected Perogram\\Preproses\\Tahap B\\Bruguiera cylindrica\\Bruguiera_cylindrica29_vertical_270.jpg\n",
      "Processing C:\\Users\\USER\\Desktop\\Selected Perogram\\Preproses\\Tahap B\\Bruguiera cylindrica\\Bruguiera_cylindrica29_vertical_90.jpg\n",
      "Processing C:\\Users\\USER\\Desktop\\Selected Perogram\\Preproses\\Tahap B\\Bruguiera cylindrica\\Bruguiera_cylindrica2_horizontal_0.jpg\n",
      "Processing C:\\Users\\USER\\Desktop\\Selected Perogram\\Preproses\\Tahap B\\Bruguiera cylindrica\\Bruguiera_cylindrica2_horizontal_270.jpg\n",
      "Processing C:\\Users\\USER\\Desktop\\Selected Perogram\\Preproses\\Tahap B\\Bruguiera cylindrica\\Bruguiera_cylindrica2_horizontal_90.jpg\n",
      "Processing C:\\Users\\USER\\Desktop\\Selected Perogram\\Preproses\\Tahap B\\Bruguiera cylindrica\\Bruguiera_cylindrica2_original_0.jpg\n",
      "Processing C:\\Users\\USER\\Desktop\\Selected Perogram\\Preproses\\Tahap B\\Bruguiera cylindrica\\Bruguiera_cylindrica2_original_270.jpg\n",
      "Processing C:\\Users\\USER\\Desktop\\Selected Perogram\\Preproses\\Tahap B\\Bruguiera cylindrica\\Bruguiera_cylindrica2_original_90.jpg\n",
      "Processing C:\\Users\\USER\\Desktop\\Selected Perogram\\Preproses\\Tahap B\\Bruguiera cylindrica\\Bruguiera_cylindrica2_vertical_0.jpg\n",
      "Processing C:\\Users\\USER\\Desktop\\Selected Perogram\\Preproses\\Tahap B\\Bruguiera cylindrica\\Bruguiera_cylindrica2_vertical_270.jpg\n"
     ]
    },
    {
     "name": "stderr",
     "output_type": "stream",
     "text": [
      "Processing images:  36%|███▌      | 853/2360 [00:20<00:34, 43.45it/s]"
     ]
    },
    {
     "name": "stdout",
     "output_type": "stream",
     "text": [
      "Processing C:\\Users\\USER\\Desktop\\Selected Perogram\\Preproses\\Tahap B\\Bruguiera cylindrica\\Bruguiera_cylindrica2_vertical_90.jpg\n",
      "Processing C:\\Users\\USER\\Desktop\\Selected Perogram\\Preproses\\Tahap B\\Bruguiera cylindrica\\Bruguiera_cylindrica30_horizontal_0.jpg\n",
      "Processing C:\\Users\\USER\\Desktop\\Selected Perogram\\Preproses\\Tahap B\\Bruguiera cylindrica\\Bruguiera_cylindrica30_horizontal_270.jpg\n",
      "Processing C:\\Users\\USER\\Desktop\\Selected Perogram\\Preproses\\Tahap B\\Bruguiera cylindrica\\Bruguiera_cylindrica30_horizontal_90.jpg\n",
      "Processing C:\\Users\\USER\\Desktop\\Selected Perogram\\Preproses\\Tahap B\\Bruguiera cylindrica\\Bruguiera_cylindrica30_original_0.jpg\n",
      "Processing C:\\Users\\USER\\Desktop\\Selected Perogram\\Preproses\\Tahap B\\Bruguiera cylindrica\\Bruguiera_cylindrica30_original_270.jpg\n",
      "Processing C:\\Users\\USER\\Desktop\\Selected Perogram\\Preproses\\Tahap B\\Bruguiera cylindrica\\Bruguiera_cylindrica30_original_90.jpg\n",
      "Processing C:\\Users\\USER\\Desktop\\Selected Perogram\\Preproses\\Tahap B\\Bruguiera cylindrica\\Bruguiera_cylindrica30_vertical_0.jpg\n",
      "Processing C:\\Users\\USER\\Desktop\\Selected Perogram\\Preproses\\Tahap B\\Bruguiera cylindrica\\Bruguiera_cylindrica30_vertical_270.jpg\n"
     ]
    },
    {
     "name": "stderr",
     "output_type": "stream",
     "text": [
      "Processing images:  37%|███▋      | 863/2360 [00:20<00:34, 42.89it/s]"
     ]
    },
    {
     "name": "stdout",
     "output_type": "stream",
     "text": [
      "Processing C:\\Users\\USER\\Desktop\\Selected Perogram\\Preproses\\Tahap B\\Bruguiera cylindrica\\Bruguiera_cylindrica30_vertical_90.jpg\n",
      "Processing C:\\Users\\USER\\Desktop\\Selected Perogram\\Preproses\\Tahap B\\Bruguiera cylindrica\\Bruguiera_cylindrica31_horizontal_0.jpg\n",
      "Processing C:\\Users\\USER\\Desktop\\Selected Perogram\\Preproses\\Tahap B\\Bruguiera cylindrica\\Bruguiera_cylindrica31_horizontal_270.jpg\n",
      "Processing C:\\Users\\USER\\Desktop\\Selected Perogram\\Preproses\\Tahap B\\Bruguiera cylindrica\\Bruguiera_cylindrica31_horizontal_90.jpg\n",
      "Processing C:\\Users\\USER\\Desktop\\Selected Perogram\\Preproses\\Tahap B\\Bruguiera cylindrica\\Bruguiera_cylindrica31_original_0.jpg\n",
      "Processing C:\\Users\\USER\\Desktop\\Selected Perogram\\Preproses\\Tahap B\\Bruguiera cylindrica\\Bruguiera_cylindrica31_original_270.jpg\n",
      "Processing C:\\Users\\USER\\Desktop\\Selected Perogram\\Preproses\\Tahap B\\Bruguiera cylindrica\\Bruguiera_cylindrica31_original_90.jpg\n",
      "Processing C:\\Users\\USER\\Desktop\\Selected Perogram\\Preproses\\Tahap B\\Bruguiera cylindrica\\Bruguiera_cylindrica31_vertical_0.jpg\n"
     ]
    },
    {
     "name": "stderr",
     "output_type": "stream",
     "text": [
      "Processing images:  37%|███▋      | 868/2360 [00:21<00:34, 43.32it/s]"
     ]
    },
    {
     "name": "stdout",
     "output_type": "stream",
     "text": [
      "Processing C:\\Users\\USER\\Desktop\\Selected Perogram\\Preproses\\Tahap B\\Bruguiera cylindrica\\Bruguiera_cylindrica31_vertical_270.jpg\n",
      "Processing C:\\Users\\USER\\Desktop\\Selected Perogram\\Preproses\\Tahap B\\Bruguiera cylindrica\\Bruguiera_cylindrica31_vertical_90.jpg\n",
      "Processing C:\\Users\\USER\\Desktop\\Selected Perogram\\Preproses\\Tahap B\\Bruguiera cylindrica\\Bruguiera_cylindrica32_horizontal_0.jpg\n",
      "Processing C:\\Users\\USER\\Desktop\\Selected Perogram\\Preproses\\Tahap B\\Bruguiera cylindrica\\Bruguiera_cylindrica32_horizontal_270.jpg\n",
      "Processing C:\\Users\\USER\\Desktop\\Selected Perogram\\Preproses\\Tahap B\\Bruguiera cylindrica\\Bruguiera_cylindrica32_horizontal_90.jpg\n",
      "Processing C:\\Users\\USER\\Desktop\\Selected Perogram\\Preproses\\Tahap B\\Bruguiera cylindrica\\Bruguiera_cylindrica32_original_0.jpg\n",
      "Processing C:\\Users\\USER\\Desktop\\Selected Perogram\\Preproses\\Tahap B\\Bruguiera cylindrica\\Bruguiera_cylindrica32_original_270.jpg\n",
      "Processing C:\\Users\\USER\\Desktop\\Selected Perogram\\Preproses\\Tahap B\\Bruguiera cylindrica\\Bruguiera_cylindrica32_original_90.jpg\n",
      "Processing C:\\Users\\USER\\Desktop\\Selected Perogram\\Preproses\\Tahap B\\Bruguiera cylindrica\\Bruguiera_cylindrica32_vertical_0.jpg\n",
      "Processing C:\\Users\\USER\\Desktop\\Selected Perogram\\Preproses\\Tahap B\\Bruguiera cylindrica\\Bruguiera_cylindrica32_vertical_270.jpg\n"
     ]
    },
    {
     "name": "stderr",
     "output_type": "stream",
     "text": [
      "Processing images:  37%|███▋      | 878/2360 [00:21<00:34, 43.58it/s]"
     ]
    },
    {
     "name": "stdout",
     "output_type": "stream",
     "text": [
      "Processing C:\\Users\\USER\\Desktop\\Selected Perogram\\Preproses\\Tahap B\\Bruguiera cylindrica\\Bruguiera_cylindrica32_vertical_90.jpg\n",
      "Processing C:\\Users\\USER\\Desktop\\Selected Perogram\\Preproses\\Tahap B\\Bruguiera cylindrica\\Bruguiera_cylindrica33_horizontal_0.jpg\n",
      "Processing C:\\Users\\USER\\Desktop\\Selected Perogram\\Preproses\\Tahap B\\Bruguiera cylindrica\\Bruguiera_cylindrica33_horizontal_270.jpg\n",
      "Processing C:\\Users\\USER\\Desktop\\Selected Perogram\\Preproses\\Tahap B\\Bruguiera cylindrica\\Bruguiera_cylindrica33_horizontal_90.jpg\n",
      "Processing C:\\Users\\USER\\Desktop\\Selected Perogram\\Preproses\\Tahap B\\Bruguiera cylindrica\\Bruguiera_cylindrica33_original_0.jpg\n",
      "Processing C:\\Users\\USER\\Desktop\\Selected Perogram\\Preproses\\Tahap B\\Bruguiera cylindrica\\Bruguiera_cylindrica33_original_270.jpg\n",
      "Processing C:\\Users\\USER\\Desktop\\Selected Perogram\\Preproses\\Tahap B\\Bruguiera cylindrica\\Bruguiera_cylindrica33_original_90.jpg\n",
      "Processing C:\\Users\\USER\\Desktop\\Selected Perogram\\Preproses\\Tahap B\\Bruguiera cylindrica\\Bruguiera_cylindrica33_vertical_0.jpg\n",
      "Processing C:\\Users\\USER\\Desktop\\Selected Perogram\\Preproses\\Tahap B\\Bruguiera cylindrica\\Bruguiera_cylindrica33_vertical_270.jpg\n"
     ]
    },
    {
     "name": "stderr",
     "output_type": "stream",
     "text": [
      "Processing images:  38%|███▊      | 888/2360 [00:21<00:33, 43.75it/s]"
     ]
    },
    {
     "name": "stdout",
     "output_type": "stream",
     "text": [
      "Processing C:\\Users\\USER\\Desktop\\Selected Perogram\\Preproses\\Tahap B\\Bruguiera cylindrica\\Bruguiera_cylindrica33_vertical_90.jpg\n",
      "Processing C:\\Users\\USER\\Desktop\\Selected Perogram\\Preproses\\Tahap B\\Bruguiera cylindrica\\Bruguiera_cylindrica34_horizontal_0.jpg\n",
      "Processing C:\\Users\\USER\\Desktop\\Selected Perogram\\Preproses\\Tahap B\\Bruguiera cylindrica\\Bruguiera_cylindrica34_horizontal_270.jpg\n",
      "Processing C:\\Users\\USER\\Desktop\\Selected Perogram\\Preproses\\Tahap B\\Bruguiera cylindrica\\Bruguiera_cylindrica34_horizontal_90.jpg\n",
      "Processing C:\\Users\\USER\\Desktop\\Selected Perogram\\Preproses\\Tahap B\\Bruguiera cylindrica\\Bruguiera_cylindrica34_original_0.jpg\n",
      "Processing C:\\Users\\USER\\Desktop\\Selected Perogram\\Preproses\\Tahap B\\Bruguiera cylindrica\\Bruguiera_cylindrica34_original_270.jpg\n",
      "Processing C:\\Users\\USER\\Desktop\\Selected Perogram\\Preproses\\Tahap B\\Bruguiera cylindrica\\Bruguiera_cylindrica34_original_90.jpg\n",
      "Processing C:\\Users\\USER\\Desktop\\Selected Perogram\\Preproses\\Tahap B\\Bruguiera cylindrica\\Bruguiera_cylindrica34_vertical_0.jpg\n",
      "Processing C:\\Users\\USER\\Desktop\\Selected Perogram\\Preproses\\Tahap B\\Bruguiera cylindrica\\Bruguiera_cylindrica34_vertical_270.jpg\n",
      "Processing C:\\Users\\USER\\Desktop\\Selected Perogram\\Preproses\\Tahap B\\Bruguiera cylindrica\\Bruguiera_cylindrica34_vertical_90.jpg\n"
     ]
    },
    {
     "name": "stderr",
     "output_type": "stream",
     "text": [
      "Processing images:  38%|███▊      | 898/2360 [00:21<00:34, 42.49it/s]"
     ]
    },
    {
     "name": "stdout",
     "output_type": "stream",
     "text": [
      "Processing C:\\Users\\USER\\Desktop\\Selected Perogram\\Preproses\\Tahap B\\Bruguiera cylindrica\\Bruguiera_cylindrica35_horizontal_0.jpg\n",
      "Processing C:\\Users\\USER\\Desktop\\Selected Perogram\\Preproses\\Tahap B\\Bruguiera cylindrica\\Bruguiera_cylindrica35_horizontal_270.jpg\n",
      "Processing C:\\Users\\USER\\Desktop\\Selected Perogram\\Preproses\\Tahap B\\Bruguiera cylindrica\\Bruguiera_cylindrica35_horizontal_90.jpg\n",
      "Processing C:\\Users\\USER\\Desktop\\Selected Perogram\\Preproses\\Tahap B\\Bruguiera cylindrica\\Bruguiera_cylindrica35_original_0.jpg\n",
      "Processing C:\\Users\\USER\\Desktop\\Selected Perogram\\Preproses\\Tahap B\\Bruguiera cylindrica\\Bruguiera_cylindrica35_original_270.jpg\n",
      "Processing C:\\Users\\USER\\Desktop\\Selected Perogram\\Preproses\\Tahap B\\Bruguiera cylindrica\\Bruguiera_cylindrica35_original_90.jpg\n",
      "Processing C:\\Users\\USER\\Desktop\\Selected Perogram\\Preproses\\Tahap B\\Bruguiera cylindrica\\Bruguiera_cylindrica35_vertical_0.jpg\n",
      "Processing C:\\Users\\USER\\Desktop\\Selected Perogram\\Preproses\\Tahap B\\Bruguiera cylindrica\\Bruguiera_cylindrica35_vertical_270.jpg\n",
      "Processing C:\\Users\\USER\\Desktop\\Selected Perogram\\Preproses\\Tahap B\\Bruguiera cylindrica\\Bruguiera_cylindrica35_vertical_90.jpg\n"
     ]
    },
    {
     "name": "stderr",
     "output_type": "stream",
     "text": [
      "Processing images:  38%|███▊      | 908/2360 [00:21<00:33, 43.59it/s]"
     ]
    },
    {
     "name": "stdout",
     "output_type": "stream",
     "text": [
      "Processing C:\\Users\\USER\\Desktop\\Selected Perogram\\Preproses\\Tahap B\\Bruguiera cylindrica\\Bruguiera_cylindrica36_horizontal_0.jpg\n",
      "Processing C:\\Users\\USER\\Desktop\\Selected Perogram\\Preproses\\Tahap B\\Bruguiera cylindrica\\Bruguiera_cylindrica36_horizontal_270.jpg\n",
      "Processing C:\\Users\\USER\\Desktop\\Selected Perogram\\Preproses\\Tahap B\\Bruguiera cylindrica\\Bruguiera_cylindrica36_horizontal_90.jpg\n",
      "Processing C:\\Users\\USER\\Desktop\\Selected Perogram\\Preproses\\Tahap B\\Bruguiera cylindrica\\Bruguiera_cylindrica36_original_0.jpg\n",
      "Processing C:\\Users\\USER\\Desktop\\Selected Perogram\\Preproses\\Tahap B\\Bruguiera cylindrica\\Bruguiera_cylindrica36_original_270.jpg\n",
      "Processing C:\\Users\\USER\\Desktop\\Selected Perogram\\Preproses\\Tahap B\\Bruguiera cylindrica\\Bruguiera_cylindrica36_original_90.jpg\n",
      "Processing C:\\Users\\USER\\Desktop\\Selected Perogram\\Preproses\\Tahap B\\Bruguiera cylindrica\\Bruguiera_cylindrica36_vertical_0.jpg\n",
      "Processing C:\\Users\\USER\\Desktop\\Selected Perogram\\Preproses\\Tahap B\\Bruguiera cylindrica\\Bruguiera_cylindrica36_vertical_270.jpg\n",
      "Processing C:\\Users\\USER\\Desktop\\Selected Perogram\\Preproses\\Tahap B\\Bruguiera cylindrica\\Bruguiera_cylindrica36_vertical_90.jpg\n",
      "Processing C:\\Users\\USER\\Desktop\\Selected Perogram\\Preproses\\Tahap B\\Bruguiera cylindrica\\Bruguiera_cylindrica37_horizontal_0.jpg\n"
     ]
    },
    {
     "name": "stderr",
     "output_type": "stream",
     "text": [
      "Processing images:  39%|███▉      | 918/2360 [00:22<00:33, 43.55it/s]"
     ]
    },
    {
     "name": "stdout",
     "output_type": "stream",
     "text": [
      "Processing C:\\Users\\USER\\Desktop\\Selected Perogram\\Preproses\\Tahap B\\Bruguiera cylindrica\\Bruguiera_cylindrica37_horizontal_270.jpg\n",
      "Processing C:\\Users\\USER\\Desktop\\Selected Perogram\\Preproses\\Tahap B\\Bruguiera cylindrica\\Bruguiera_cylindrica37_horizontal_90.jpg\n",
      "Processing C:\\Users\\USER\\Desktop\\Selected Perogram\\Preproses\\Tahap B\\Bruguiera cylindrica\\Bruguiera_cylindrica37_original_0.jpg\n",
      "Processing C:\\Users\\USER\\Desktop\\Selected Perogram\\Preproses\\Tahap B\\Bruguiera cylindrica\\Bruguiera_cylindrica37_original_270.jpg\n",
      "Processing C:\\Users\\USER\\Desktop\\Selected Perogram\\Preproses\\Tahap B\\Bruguiera cylindrica\\Bruguiera_cylindrica37_original_90.jpg\n",
      "Processing C:\\Users\\USER\\Desktop\\Selected Perogram\\Preproses\\Tahap B\\Bruguiera cylindrica\\Bruguiera_cylindrica37_vertical_0.jpg\n",
      "Processing C:\\Users\\USER\\Desktop\\Selected Perogram\\Preproses\\Tahap B\\Bruguiera cylindrica\\Bruguiera_cylindrica37_vertical_270.jpg\n",
      "Processing C:\\Users\\USER\\Desktop\\Selected Perogram\\Preproses\\Tahap B\\Bruguiera cylindrica\\Bruguiera_cylindrica37_vertical_90.jpg\n",
      "Processing C:\\Users\\USER\\Desktop\\Selected Perogram\\Preproses\\Tahap B\\Bruguiera cylindrica\\Bruguiera_cylindrica38_horizontal_0.jpg\n",
      "Processing C:\\Users\\USER\\Desktop\\Selected Perogram\\Preproses\\Tahap B\\Bruguiera cylindrica\\Bruguiera_cylindrica38_horizontal_270.jpg\n"
     ]
    },
    {
     "name": "stderr",
     "output_type": "stream",
     "text": [
      "Processing images:  39%|███▉      | 928/2360 [00:22<00:32, 44.29it/s]"
     ]
    },
    {
     "name": "stdout",
     "output_type": "stream",
     "text": [
      "Processing C:\\Users\\USER\\Desktop\\Selected Perogram\\Preproses\\Tahap B\\Bruguiera cylindrica\\Bruguiera_cylindrica38_horizontal_90.jpg\n",
      "Processing C:\\Users\\USER\\Desktop\\Selected Perogram\\Preproses\\Tahap B\\Bruguiera cylindrica\\Bruguiera_cylindrica38_original_0.jpg\n",
      "Processing C:\\Users\\USER\\Desktop\\Selected Perogram\\Preproses\\Tahap B\\Bruguiera cylindrica\\Bruguiera_cylindrica38_original_270.jpg\n",
      "Processing C:\\Users\\USER\\Desktop\\Selected Perogram\\Preproses\\Tahap B\\Bruguiera cylindrica\\Bruguiera_cylindrica38_original_90.jpg\n",
      "Processing C:\\Users\\USER\\Desktop\\Selected Perogram\\Preproses\\Tahap B\\Bruguiera cylindrica\\Bruguiera_cylindrica38_vertical_0.jpg\n",
      "Processing C:\\Users\\USER\\Desktop\\Selected Perogram\\Preproses\\Tahap B\\Bruguiera cylindrica\\Bruguiera_cylindrica38_vertical_270.jpg\n",
      "Processing C:\\Users\\USER\\Desktop\\Selected Perogram\\Preproses\\Tahap B\\Bruguiera cylindrica\\Bruguiera_cylindrica38_vertical_90.jpg\n",
      "Processing C:\\Users\\USER\\Desktop\\Selected Perogram\\Preproses\\Tahap B\\Bruguiera cylindrica\\Bruguiera_cylindrica39_horizontal_0.jpg\n",
      "Processing C:\\Users\\USER\\Desktop\\Selected Perogram\\Preproses\\Tahap B\\Bruguiera cylindrica\\Bruguiera_cylindrica39_horizontal_270.jpg\n",
      "Processing C:\\Users\\USER\\Desktop\\Selected Perogram\\Preproses\\Tahap B\\Bruguiera cylindrica\\Bruguiera_cylindrica39_horizontal_90.jpg\n"
     ]
    },
    {
     "name": "stderr",
     "output_type": "stream",
     "text": [
      "Processing images:  40%|███▉      | 938/2360 [00:22<00:31, 44.56it/s]"
     ]
    },
    {
     "name": "stdout",
     "output_type": "stream",
     "text": [
      "Processing C:\\Users\\USER\\Desktop\\Selected Perogram\\Preproses\\Tahap B\\Bruguiera cylindrica\\Bruguiera_cylindrica39_original_0.jpg\n",
      "Processing C:\\Users\\USER\\Desktop\\Selected Perogram\\Preproses\\Tahap B\\Bruguiera cylindrica\\Bruguiera_cylindrica39_original_270.jpg\n",
      "Processing C:\\Users\\USER\\Desktop\\Selected Perogram\\Preproses\\Tahap B\\Bruguiera cylindrica\\Bruguiera_cylindrica39_original_90.jpg\n",
      "Processing C:\\Users\\USER\\Desktop\\Selected Perogram\\Preproses\\Tahap B\\Bruguiera cylindrica\\Bruguiera_cylindrica39_vertical_0.jpg\n",
      "Processing C:\\Users\\USER\\Desktop\\Selected Perogram\\Preproses\\Tahap B\\Bruguiera cylindrica\\Bruguiera_cylindrica39_vertical_270.jpg\n",
      "Processing C:\\Users\\USER\\Desktop\\Selected Perogram\\Preproses\\Tahap B\\Bruguiera cylindrica\\Bruguiera_cylindrica39_vertical_90.jpg\n",
      "Processing C:\\Users\\USER\\Desktop\\Selected Perogram\\Preproses\\Tahap B\\Bruguiera cylindrica\\Bruguiera_cylindrica3_horizontal_0.jpg\n",
      "Processing C:\\Users\\USER\\Desktop\\Selected Perogram\\Preproses\\Tahap B\\Bruguiera cylindrica\\Bruguiera_cylindrica3_horizontal_270.jpg\n",
      "Processing C:\\Users\\USER\\Desktop\\Selected Perogram\\Preproses\\Tahap B\\Bruguiera cylindrica\\Bruguiera_cylindrica3_horizontal_90.jpg\n",
      "Processing C:\\Users\\USER\\Desktop\\Selected Perogram\\Preproses\\Tahap B\\Bruguiera cylindrica\\Bruguiera_cylindrica3_original_0.jpg\n"
     ]
    },
    {
     "name": "stderr",
     "output_type": "stream",
     "text": [
      "Processing images:  40%|████      | 948/2360 [00:22<00:31, 44.82it/s]"
     ]
    },
    {
     "name": "stdout",
     "output_type": "stream",
     "text": [
      "Processing C:\\Users\\USER\\Desktop\\Selected Perogram\\Preproses\\Tahap B\\Bruguiera cylindrica\\Bruguiera_cylindrica3_original_270.jpg\n",
      "Processing C:\\Users\\USER\\Desktop\\Selected Perogram\\Preproses\\Tahap B\\Bruguiera cylindrica\\Bruguiera_cylindrica3_original_90.jpg\n",
      "Processing C:\\Users\\USER\\Desktop\\Selected Perogram\\Preproses\\Tahap B\\Bruguiera cylindrica\\Bruguiera_cylindrica3_vertical_0.jpg\n",
      "Processing C:\\Users\\USER\\Desktop\\Selected Perogram\\Preproses\\Tahap B\\Bruguiera cylindrica\\Bruguiera_cylindrica3_vertical_270.jpg\n",
      "Processing C:\\Users\\USER\\Desktop\\Selected Perogram\\Preproses\\Tahap B\\Bruguiera cylindrica\\Bruguiera_cylindrica3_vertical_90.jpg\n",
      "Processing C:\\Users\\USER\\Desktop\\Selected Perogram\\Preproses\\Tahap B\\Bruguiera cylindrica\\Bruguiera_cylindrica40_horizontal_0.jpg\n",
      "Processing C:\\Users\\USER\\Desktop\\Selected Perogram\\Preproses\\Tahap B\\Bruguiera cylindrica\\Bruguiera_cylindrica40_horizontal_270.jpg\n",
      "Processing C:\\Users\\USER\\Desktop\\Selected Perogram\\Preproses\\Tahap B\\Bruguiera cylindrica\\Bruguiera_cylindrica40_horizontal_90.jpg\n",
      "Processing C:\\Users\\USER\\Desktop\\Selected Perogram\\Preproses\\Tahap B\\Bruguiera cylindrica\\Bruguiera_cylindrica40_original_0.jpg\n",
      "Processing C:\\Users\\USER\\Desktop\\Selected Perogram\\Preproses\\Tahap B\\Bruguiera cylindrica\\Bruguiera_cylindrica40_original_270.jpg\n"
     ]
    },
    {
     "name": "stderr",
     "output_type": "stream",
     "text": [
      "Processing images:  41%|████      | 958/2360 [00:23<00:31, 44.88it/s]"
     ]
    },
    {
     "name": "stdout",
     "output_type": "stream",
     "text": [
      "Processing C:\\Users\\USER\\Desktop\\Selected Perogram\\Preproses\\Tahap B\\Bruguiera cylindrica\\Bruguiera_cylindrica40_original_90.jpg\n",
      "Processing C:\\Users\\USER\\Desktop\\Selected Perogram\\Preproses\\Tahap B\\Bruguiera cylindrica\\Bruguiera_cylindrica40_vertical_0.jpg\n",
      "Processing C:\\Users\\USER\\Desktop\\Selected Perogram\\Preproses\\Tahap B\\Bruguiera cylindrica\\Bruguiera_cylindrica40_vertical_270.jpg\n",
      "Processing C:\\Users\\USER\\Desktop\\Selected Perogram\\Preproses\\Tahap B\\Bruguiera cylindrica\\Bruguiera_cylindrica40_vertical_90.jpg\n",
      "Processing C:\\Users\\USER\\Desktop\\Selected Perogram\\Preproses\\Tahap B\\Bruguiera cylindrica\\Bruguiera_cylindrica41_horizontal_0.jpg\n",
      "Processing C:\\Users\\USER\\Desktop\\Selected Perogram\\Preproses\\Tahap B\\Bruguiera cylindrica\\Bruguiera_cylindrica41_horizontal_270.jpg\n",
      "Processing C:\\Users\\USER\\Desktop\\Selected Perogram\\Preproses\\Tahap B\\Bruguiera cylindrica\\Bruguiera_cylindrica41_horizontal_90.jpg\n",
      "Processing C:\\Users\\USER\\Desktop\\Selected Perogram\\Preproses\\Tahap B\\Bruguiera cylindrica\\Bruguiera_cylindrica41_original_0.jpg\n",
      "Processing C:\\Users\\USER\\Desktop\\Selected Perogram\\Preproses\\Tahap B\\Bruguiera cylindrica\\Bruguiera_cylindrica41_original_270.jpg\n",
      "Processing C:\\Users\\USER\\Desktop\\Selected Perogram\\Preproses\\Tahap B\\Bruguiera cylindrica\\Bruguiera_cylindrica41_original_90.jpg\n"
     ]
    },
    {
     "name": "stderr",
     "output_type": "stream",
     "text": [
      "Processing images:  41%|████      | 968/2360 [00:23<00:31, 44.66it/s]"
     ]
    },
    {
     "name": "stdout",
     "output_type": "stream",
     "text": [
      "Processing C:\\Users\\USER\\Desktop\\Selected Perogram\\Preproses\\Tahap B\\Bruguiera cylindrica\\Bruguiera_cylindrica41_vertical_0.jpg\n",
      "Processing C:\\Users\\USER\\Desktop\\Selected Perogram\\Preproses\\Tahap B\\Bruguiera cylindrica\\Bruguiera_cylindrica41_vertical_270.jpg\n",
      "Processing C:\\Users\\USER\\Desktop\\Selected Perogram\\Preproses\\Tahap B\\Bruguiera cylindrica\\Bruguiera_cylindrica41_vertical_90.jpg\n",
      "Processing C:\\Users\\USER\\Desktop\\Selected Perogram\\Preproses\\Tahap B\\Bruguiera cylindrica\\Bruguiera_cylindrica42_horizontal_0.jpg\n",
      "Processing C:\\Users\\USER\\Desktop\\Selected Perogram\\Preproses\\Tahap B\\Bruguiera cylindrica\\Bruguiera_cylindrica42_horizontal_270.jpg\n",
      "Processing C:\\Users\\USER\\Desktop\\Selected Perogram\\Preproses\\Tahap B\\Bruguiera cylindrica\\Bruguiera_cylindrica42_horizontal_90.jpg\n",
      "Processing C:\\Users\\USER\\Desktop\\Selected Perogram\\Preproses\\Tahap B\\Bruguiera cylindrica\\Bruguiera_cylindrica42_original_0.jpg\n",
      "Processing C:\\Users\\USER\\Desktop\\Selected Perogram\\Preproses\\Tahap B\\Bruguiera cylindrica\\Bruguiera_cylindrica42_original_270.jpg\n",
      "Processing C:\\Users\\USER\\Desktop\\Selected Perogram\\Preproses\\Tahap B\\Bruguiera cylindrica\\Bruguiera_cylindrica42_original_90.jpg\n"
     ]
    },
    {
     "name": "stderr",
     "output_type": "stream",
     "text": [
      "Processing images:  41%|████▏     | 978/2360 [00:23<00:30, 44.94it/s]"
     ]
    },
    {
     "name": "stdout",
     "output_type": "stream",
     "text": [
      "Processing C:\\Users\\USER\\Desktop\\Selected Perogram\\Preproses\\Tahap B\\Bruguiera cylindrica\\Bruguiera_cylindrica42_vertical_0.jpg\n",
      "Processing C:\\Users\\USER\\Desktop\\Selected Perogram\\Preproses\\Tahap B\\Bruguiera cylindrica\\Bruguiera_cylindrica42_vertical_270.jpg\n",
      "Processing C:\\Users\\USER\\Desktop\\Selected Perogram\\Preproses\\Tahap B\\Bruguiera cylindrica\\Bruguiera_cylindrica42_vertical_90.jpg\n",
      "Processing C:\\Users\\USER\\Desktop\\Selected Perogram\\Preproses\\Tahap B\\Bruguiera cylindrica\\Bruguiera_cylindrica43_horizontal_0.jpg\n",
      "Processing C:\\Users\\USER\\Desktop\\Selected Perogram\\Preproses\\Tahap B\\Bruguiera cylindrica\\Bruguiera_cylindrica43_horizontal_270.jpg\n",
      "Processing C:\\Users\\USER\\Desktop\\Selected Perogram\\Preproses\\Tahap B\\Bruguiera cylindrica\\Bruguiera_cylindrica43_horizontal_90.jpg\n",
      "Processing C:\\Users\\USER\\Desktop\\Selected Perogram\\Preproses\\Tahap B\\Bruguiera cylindrica\\Bruguiera_cylindrica43_original_0.jpg\n",
      "Processing C:\\Users\\USER\\Desktop\\Selected Perogram\\Preproses\\Tahap B\\Bruguiera cylindrica\\Bruguiera_cylindrica43_original_270.jpg\n"
     ]
    },
    {
     "name": "stderr",
     "output_type": "stream",
     "text": [
      "Processing images:  42%|████▏     | 983/2360 [00:23<00:32, 42.67it/s]"
     ]
    },
    {
     "name": "stdout",
     "output_type": "stream",
     "text": [
      "Processing C:\\Users\\USER\\Desktop\\Selected Perogram\\Preproses\\Tahap B\\Bruguiera cylindrica\\Bruguiera_cylindrica43_original_90.jpg\n",
      "Processing C:\\Users\\USER\\Desktop\\Selected Perogram\\Preproses\\Tahap B\\Bruguiera cylindrica\\Bruguiera_cylindrica43_vertical_0.jpg\n",
      "Processing C:\\Users\\USER\\Desktop\\Selected Perogram\\Preproses\\Tahap B\\Bruguiera cylindrica\\Bruguiera_cylindrica43_vertical_270.jpg\n",
      "Processing C:\\Users\\USER\\Desktop\\Selected Perogram\\Preproses\\Tahap B\\Bruguiera cylindrica\\Bruguiera_cylindrica43_vertical_90.jpg\n",
      "Processing C:\\Users\\USER\\Desktop\\Selected Perogram\\Preproses\\Tahap B\\Bruguiera cylindrica\\Bruguiera_cylindrica44_horizontal_0.jpg\n",
      "Processing C:\\Users\\USER\\Desktop\\Selected Perogram\\Preproses\\Tahap B\\Bruguiera cylindrica\\Bruguiera_cylindrica44_horizontal_270.jpg\n",
      "Processing C:\\Users\\USER\\Desktop\\Selected Perogram\\Preproses\\Tahap B\\Bruguiera cylindrica\\Bruguiera_cylindrica44_horizontal_90.jpg\n",
      "Processing C:\\Users\\USER\\Desktop\\Selected Perogram\\Preproses\\Tahap B\\Bruguiera cylindrica\\Bruguiera_cylindrica44_original_0.jpg\n",
      "Processing C:\\Users\\USER\\Desktop\\Selected Perogram\\Preproses\\Tahap B\\Bruguiera cylindrica\\Bruguiera_cylindrica44_original_270.jpg\n"
     ]
    },
    {
     "name": "stderr",
     "output_type": "stream",
     "text": [
      "Processing images:  42%|████▏     | 993/2360 [00:23<00:31, 43.20it/s]"
     ]
    },
    {
     "name": "stdout",
     "output_type": "stream",
     "text": [
      "Processing C:\\Users\\USER\\Desktop\\Selected Perogram\\Preproses\\Tahap B\\Bruguiera cylindrica\\Bruguiera_cylindrica44_original_90.jpg\n",
      "Processing C:\\Users\\USER\\Desktop\\Selected Perogram\\Preproses\\Tahap B\\Bruguiera cylindrica\\Bruguiera_cylindrica44_vertical_0.jpg\n",
      "Processing C:\\Users\\USER\\Desktop\\Selected Perogram\\Preproses\\Tahap B\\Bruguiera cylindrica\\Bruguiera_cylindrica44_vertical_270.jpg\n",
      "Processing C:\\Users\\USER\\Desktop\\Selected Perogram\\Preproses\\Tahap B\\Bruguiera cylindrica\\Bruguiera_cylindrica44_vertical_90.jpg\n",
      "Processing C:\\Users\\USER\\Desktop\\Selected Perogram\\Preproses\\Tahap B\\Bruguiera cylindrica\\Bruguiera_cylindrica45_horizontal_0.jpg\n",
      "Processing C:\\Users\\USER\\Desktop\\Selected Perogram\\Preproses\\Tahap B\\Bruguiera cylindrica\\Bruguiera_cylindrica45_horizontal_270.jpg\n",
      "Processing C:\\Users\\USER\\Desktop\\Selected Perogram\\Preproses\\Tahap B\\Bruguiera cylindrica\\Bruguiera_cylindrica45_horizontal_90.jpg\n",
      "Processing C:\\Users\\USER\\Desktop\\Selected Perogram\\Preproses\\Tahap B\\Bruguiera cylindrica\\Bruguiera_cylindrica45_original_0.jpg\n",
      "Processing C:\\Users\\USER\\Desktop\\Selected Perogram\\Preproses\\Tahap B\\Bruguiera cylindrica\\Bruguiera_cylindrica45_original_270.jpg\n"
     ]
    },
    {
     "name": "stderr",
     "output_type": "stream",
     "text": [
      "Processing images:  42%|████▎     | 1003/2360 [00:24<00:30, 43.79it/s]"
     ]
    },
    {
     "name": "stdout",
     "output_type": "stream",
     "text": [
      "Processing C:\\Users\\USER\\Desktop\\Selected Perogram\\Preproses\\Tahap B\\Bruguiera cylindrica\\Bruguiera_cylindrica45_original_90.jpg\n",
      "Processing C:\\Users\\USER\\Desktop\\Selected Perogram\\Preproses\\Tahap B\\Bruguiera cylindrica\\Bruguiera_cylindrica45_vertical_0.jpg\n",
      "Processing C:\\Users\\USER\\Desktop\\Selected Perogram\\Preproses\\Tahap B\\Bruguiera cylindrica\\Bruguiera_cylindrica45_vertical_270.jpg\n",
      "Processing C:\\Users\\USER\\Desktop\\Selected Perogram\\Preproses\\Tahap B\\Bruguiera cylindrica\\Bruguiera_cylindrica45_vertical_90.jpg\n",
      "Processing C:\\Users\\USER\\Desktop\\Selected Perogram\\Preproses\\Tahap B\\Bruguiera cylindrica\\Bruguiera_cylindrica46_horizontal_0.jpg\n",
      "Processing C:\\Users\\USER\\Desktop\\Selected Perogram\\Preproses\\Tahap B\\Bruguiera cylindrica\\Bruguiera_cylindrica46_horizontal_270.jpg\n",
      "Processing C:\\Users\\USER\\Desktop\\Selected Perogram\\Preproses\\Tahap B\\Bruguiera cylindrica\\Bruguiera_cylindrica46_horizontal_90.jpg\n",
      "Processing C:\\Users\\USER\\Desktop\\Selected Perogram\\Preproses\\Tahap B\\Bruguiera cylindrica\\Bruguiera_cylindrica46_original_0.jpg\n",
      "Processing C:\\Users\\USER\\Desktop\\Selected Perogram\\Preproses\\Tahap B\\Bruguiera cylindrica\\Bruguiera_cylindrica46_original_270.jpg\n",
      "Processing C:\\Users\\USER\\Desktop\\Selected Perogram\\Preproses\\Tahap B\\Bruguiera cylindrica\\Bruguiera_cylindrica46_original_90.jpg\n"
     ]
    },
    {
     "name": "stderr",
     "output_type": "stream",
     "text": [
      "Processing images:  43%|████▎     | 1013/2360 [00:24<00:30, 43.53it/s]"
     ]
    },
    {
     "name": "stdout",
     "output_type": "stream",
     "text": [
      "Processing C:\\Users\\USER\\Desktop\\Selected Perogram\\Preproses\\Tahap B\\Bruguiera cylindrica\\Bruguiera_cylindrica46_vertical_0.jpg\n",
      "Processing C:\\Users\\USER\\Desktop\\Selected Perogram\\Preproses\\Tahap B\\Bruguiera cylindrica\\Bruguiera_cylindrica46_vertical_270.jpg\n",
      "Processing C:\\Users\\USER\\Desktop\\Selected Perogram\\Preproses\\Tahap B\\Bruguiera cylindrica\\Bruguiera_cylindrica46_vertical_90.jpg\n",
      "Processing C:\\Users\\USER\\Desktop\\Selected Perogram\\Preproses\\Tahap B\\Bruguiera cylindrica\\Bruguiera_cylindrica47_horizontal_0.jpg\n",
      "Processing C:\\Users\\USER\\Desktop\\Selected Perogram\\Preproses\\Tahap B\\Bruguiera cylindrica\\Bruguiera_cylindrica47_horizontal_270.jpg\n",
      "Processing C:\\Users\\USER\\Desktop\\Selected Perogram\\Preproses\\Tahap B\\Bruguiera cylindrica\\Bruguiera_cylindrica47_horizontal_90.jpg\n",
      "Processing C:\\Users\\USER\\Desktop\\Selected Perogram\\Preproses\\Tahap B\\Bruguiera cylindrica\\Bruguiera_cylindrica47_original_0.jpg\n",
      "Processing C:\\Users\\USER\\Desktop\\Selected Perogram\\Preproses\\Tahap B\\Bruguiera cylindrica\\Bruguiera_cylindrica47_original_270.jpg\n",
      "Processing C:\\Users\\USER\\Desktop\\Selected Perogram\\Preproses\\Tahap B\\Bruguiera cylindrica\\Bruguiera_cylindrica47_original_90.jpg\n"
     ]
    },
    {
     "name": "stderr",
     "output_type": "stream",
     "text": [
      "Processing images:  43%|████▎     | 1023/2360 [00:24<00:30, 43.26it/s]"
     ]
    },
    {
     "name": "stdout",
     "output_type": "stream",
     "text": [
      "Processing C:\\Users\\USER\\Desktop\\Selected Perogram\\Preproses\\Tahap B\\Bruguiera cylindrica\\Bruguiera_cylindrica47_vertical_0.jpg\n",
      "Processing C:\\Users\\USER\\Desktop\\Selected Perogram\\Preproses\\Tahap B\\Bruguiera cylindrica\\Bruguiera_cylindrica47_vertical_270.jpg\n",
      "Processing C:\\Users\\USER\\Desktop\\Selected Perogram\\Preproses\\Tahap B\\Bruguiera cylindrica\\Bruguiera_cylindrica47_vertical_90.jpg\n",
      "Processing C:\\Users\\USER\\Desktop\\Selected Perogram\\Preproses\\Tahap B\\Bruguiera cylindrica\\Bruguiera_cylindrica48_horizontal_0.jpg\n",
      "Processing C:\\Users\\USER\\Desktop\\Selected Perogram\\Preproses\\Tahap B\\Bruguiera cylindrica\\Bruguiera_cylindrica48_horizontal_270.jpg\n",
      "Processing C:\\Users\\USER\\Desktop\\Selected Perogram\\Preproses\\Tahap B\\Bruguiera cylindrica\\Bruguiera_cylindrica48_horizontal_90.jpg\n",
      "Processing C:\\Users\\USER\\Desktop\\Selected Perogram\\Preproses\\Tahap B\\Bruguiera cylindrica\\Bruguiera_cylindrica48_original_0.jpg\n",
      "Processing C:\\Users\\USER\\Desktop\\Selected Perogram\\Preproses\\Tahap B\\Bruguiera cylindrica\\Bruguiera_cylindrica48_original_270.jpg\n"
     ]
    },
    {
     "name": "stderr",
     "output_type": "stream",
     "text": [
      "Processing images:  44%|████▎     | 1028/2360 [00:24<00:30, 43.45it/s]"
     ]
    },
    {
     "name": "stdout",
     "output_type": "stream",
     "text": [
      "Processing C:\\Users\\USER\\Desktop\\Selected Perogram\\Preproses\\Tahap B\\Bruguiera cylindrica\\Bruguiera_cylindrica48_original_90.jpg\n",
      "Processing C:\\Users\\USER\\Desktop\\Selected Perogram\\Preproses\\Tahap B\\Bruguiera cylindrica\\Bruguiera_cylindrica48_vertical_0.jpg\n",
      "Processing C:\\Users\\USER\\Desktop\\Selected Perogram\\Preproses\\Tahap B\\Bruguiera cylindrica\\Bruguiera_cylindrica48_vertical_270.jpg\n",
      "Processing C:\\Users\\USER\\Desktop\\Selected Perogram\\Preproses\\Tahap B\\Bruguiera cylindrica\\Bruguiera_cylindrica48_vertical_90.jpg\n",
      "Processing C:\\Users\\USER\\Desktop\\Selected Perogram\\Preproses\\Tahap B\\Bruguiera cylindrica\\Bruguiera_cylindrica49_horizontal_0.jpg\n",
      "Processing C:\\Users\\USER\\Desktop\\Selected Perogram\\Preproses\\Tahap B\\Bruguiera cylindrica\\Bruguiera_cylindrica49_horizontal_270.jpg\n",
      "Processing C:\\Users\\USER\\Desktop\\Selected Perogram\\Preproses\\Tahap B\\Bruguiera cylindrica\\Bruguiera_cylindrica49_horizontal_90.jpg\n",
      "Processing C:\\Users\\USER\\Desktop\\Selected Perogram\\Preproses\\Tahap B\\Bruguiera cylindrica\\Bruguiera_cylindrica49_original_0.jpg\n",
      "Processing C:\\Users\\USER\\Desktop\\Selected Perogram\\Preproses\\Tahap B\\Bruguiera cylindrica\\Bruguiera_cylindrica49_original_270.jpg\n",
      "Processing C:\\Users\\USER\\Desktop\\Selected Perogram\\Preproses\\Tahap B\\Bruguiera cylindrica\\Bruguiera_cylindrica49_original_90.jpg\n"
     ]
    },
    {
     "name": "stderr",
     "output_type": "stream",
     "text": [
      "Processing images:  44%|████▍     | 1038/2360 [00:24<00:30, 43.99it/s]"
     ]
    },
    {
     "name": "stdout",
     "output_type": "stream",
     "text": [
      "Processing C:\\Users\\USER\\Desktop\\Selected Perogram\\Preproses\\Tahap B\\Bruguiera cylindrica\\Bruguiera_cylindrica49_vertical_0.jpg\n",
      "Processing C:\\Users\\USER\\Desktop\\Selected Perogram\\Preproses\\Tahap B\\Bruguiera cylindrica\\Bruguiera_cylindrica49_vertical_270.jpg\n",
      "Processing C:\\Users\\USER\\Desktop\\Selected Perogram\\Preproses\\Tahap B\\Bruguiera cylindrica\\Bruguiera_cylindrica49_vertical_90.jpg\n",
      "Processing C:\\Users\\USER\\Desktop\\Selected Perogram\\Preproses\\Tahap B\\Bruguiera cylindrica\\Bruguiera_cylindrica4_horizontal_0.jpg\n",
      "Processing C:\\Users\\USER\\Desktop\\Selected Perogram\\Preproses\\Tahap B\\Bruguiera cylindrica\\Bruguiera_cylindrica4_horizontal_270.jpg\n",
      "Processing C:\\Users\\USER\\Desktop\\Selected Perogram\\Preproses\\Tahap B\\Bruguiera cylindrica\\Bruguiera_cylindrica4_horizontal_90.jpg\n",
      "Processing C:\\Users\\USER\\Desktop\\Selected Perogram\\Preproses\\Tahap B\\Bruguiera cylindrica\\Bruguiera_cylindrica4_original_0.jpg\n",
      "Processing C:\\Users\\USER\\Desktop\\Selected Perogram\\Preproses\\Tahap B\\Bruguiera cylindrica\\Bruguiera_cylindrica4_original_270.jpg\n",
      "Processing C:\\Users\\USER\\Desktop\\Selected Perogram\\Preproses\\Tahap B\\Bruguiera cylindrica\\Bruguiera_cylindrica4_original_90.jpg\n"
     ]
    },
    {
     "name": "stderr",
     "output_type": "stream",
     "text": [
      "Processing images:  44%|████▍     | 1048/2360 [00:25<00:29, 44.01it/s]"
     ]
    },
    {
     "name": "stdout",
     "output_type": "stream",
     "text": [
      "Processing C:\\Users\\USER\\Desktop\\Selected Perogram\\Preproses\\Tahap B\\Bruguiera cylindrica\\Bruguiera_cylindrica4_vertical_0.jpg\n",
      "Processing C:\\Users\\USER\\Desktop\\Selected Perogram\\Preproses\\Tahap B\\Bruguiera cylindrica\\Bruguiera_cylindrica4_vertical_270.jpg\n",
      "Processing C:\\Users\\USER\\Desktop\\Selected Perogram\\Preproses\\Tahap B\\Bruguiera cylindrica\\Bruguiera_cylindrica4_vertical_90.jpg\n",
      "Processing C:\\Users\\USER\\Desktop\\Selected Perogram\\Preproses\\Tahap B\\Bruguiera cylindrica\\Bruguiera_cylindrica50_horizontal_0.jpg\n",
      "Processing C:\\Users\\USER\\Desktop\\Selected Perogram\\Preproses\\Tahap B\\Bruguiera cylindrica\\Bruguiera_cylindrica50_horizontal_270.jpg\n",
      "Processing C:\\Users\\USER\\Desktop\\Selected Perogram\\Preproses\\Tahap B\\Bruguiera cylindrica\\Bruguiera_cylindrica50_horizontal_90.jpg\n",
      "Processing C:\\Users\\USER\\Desktop\\Selected Perogram\\Preproses\\Tahap B\\Bruguiera cylindrica\\Bruguiera_cylindrica50_original_0.jpg\n",
      "Processing C:\\Users\\USER\\Desktop\\Selected Perogram\\Preproses\\Tahap B\\Bruguiera cylindrica\\Bruguiera_cylindrica50_original_270.jpg\n",
      "Processing C:\\Users\\USER\\Desktop\\Selected Perogram\\Preproses\\Tahap B\\Bruguiera cylindrica\\Bruguiera_cylindrica50_original_90.jpg\n",
      "Processing C:\\Users\\USER\\Desktop\\Selected Perogram\\Preproses\\Tahap B\\Bruguiera cylindrica\\Bruguiera_cylindrica50_vertical_0.jpg\n"
     ]
    },
    {
     "name": "stderr",
     "output_type": "stream",
     "text": [
      "Processing images:  45%|████▍     | 1058/2360 [00:25<00:29, 44.42it/s]"
     ]
    },
    {
     "name": "stdout",
     "output_type": "stream",
     "text": [
      "Processing C:\\Users\\USER\\Desktop\\Selected Perogram\\Preproses\\Tahap B\\Bruguiera cylindrica\\Bruguiera_cylindrica50_vertical_270.jpg\n",
      "Processing C:\\Users\\USER\\Desktop\\Selected Perogram\\Preproses\\Tahap B\\Bruguiera cylindrica\\Bruguiera_cylindrica50_vertical_90.jpg\n",
      "Processing C:\\Users\\USER\\Desktop\\Selected Perogram\\Preproses\\Tahap B\\Bruguiera cylindrica\\Bruguiera_cylindrica51_horizontal_0.jpg\n",
      "Processing C:\\Users\\USER\\Desktop\\Selected Perogram\\Preproses\\Tahap B\\Bruguiera cylindrica\\Bruguiera_cylindrica51_horizontal_270.jpg\n",
      "Processing C:\\Users\\USER\\Desktop\\Selected Perogram\\Preproses\\Tahap B\\Bruguiera cylindrica\\Bruguiera_cylindrica51_horizontal_90.jpg\n",
      "Processing C:\\Users\\USER\\Desktop\\Selected Perogram\\Preproses\\Tahap B\\Bruguiera cylindrica\\Bruguiera_cylindrica51_original_0.jpg\n",
      "Processing C:\\Users\\USER\\Desktop\\Selected Perogram\\Preproses\\Tahap B\\Bruguiera cylindrica\\Bruguiera_cylindrica51_original_270.jpg\n",
      "Processing C:\\Users\\USER\\Desktop\\Selected Perogram\\Preproses\\Tahap B\\Bruguiera cylindrica\\Bruguiera_cylindrica51_original_90.jpg\n",
      "Processing C:\\Users\\USER\\Desktop\\Selected Perogram\\Preproses\\Tahap B\\Bruguiera cylindrica\\Bruguiera_cylindrica51_vertical_0.jpg\n"
     ]
    },
    {
     "name": "stderr",
     "output_type": "stream",
     "text": [
      "Processing images:  45%|████▌     | 1068/2360 [00:25<00:30, 42.07it/s]"
     ]
    },
    {
     "name": "stdout",
     "output_type": "stream",
     "text": [
      "Processing C:\\Users\\USER\\Desktop\\Selected Perogram\\Preproses\\Tahap B\\Bruguiera cylindrica\\Bruguiera_cylindrica51_vertical_270.jpg\n",
      "Processing C:\\Users\\USER\\Desktop\\Selected Perogram\\Preproses\\Tahap B\\Bruguiera cylindrica\\Bruguiera_cylindrica51_vertical_90.jpg\n",
      "Processing C:\\Users\\USER\\Desktop\\Selected Perogram\\Preproses\\Tahap B\\Bruguiera cylindrica\\Bruguiera_cylindrica52_horizontal_0.jpg\n",
      "Processing C:\\Users\\USER\\Desktop\\Selected Perogram\\Preproses\\Tahap B\\Bruguiera cylindrica\\Bruguiera_cylindrica52_horizontal_270.jpg\n",
      "Processing C:\\Users\\USER\\Desktop\\Selected Perogram\\Preproses\\Tahap B\\Bruguiera cylindrica\\Bruguiera_cylindrica52_horizontal_90.jpg\n",
      "Processing C:\\Users\\USER\\Desktop\\Selected Perogram\\Preproses\\Tahap B\\Bruguiera cylindrica\\Bruguiera_cylindrica52_original_0.jpg\n",
      "Processing C:\\Users\\USER\\Desktop\\Selected Perogram\\Preproses\\Tahap B\\Bruguiera cylindrica\\Bruguiera_cylindrica52_original_270.jpg\n",
      "Processing C:\\Users\\USER\\Desktop\\Selected Perogram\\Preproses\\Tahap B\\Bruguiera cylindrica\\Bruguiera_cylindrica52_original_90.jpg\n",
      "Processing C:\\Users\\USER\\Desktop\\Selected Perogram\\Preproses\\Tahap B\\Bruguiera cylindrica\\Bruguiera_cylindrica52_vertical_0.jpg\n"
     ]
    },
    {
     "name": "stderr",
     "output_type": "stream",
     "text": [
      "Processing images:  46%|████▌     | 1078/2360 [00:25<00:29, 43.08it/s]"
     ]
    },
    {
     "name": "stdout",
     "output_type": "stream",
     "text": [
      "Processing C:\\Users\\USER\\Desktop\\Selected Perogram\\Preproses\\Tahap B\\Bruguiera cylindrica\\Bruguiera_cylindrica52_vertical_270.jpg\n",
      "Processing C:\\Users\\USER\\Desktop\\Selected Perogram\\Preproses\\Tahap B\\Bruguiera cylindrica\\Bruguiera_cylindrica52_vertical_90.jpg\n",
      "Processing C:\\Users\\USER\\Desktop\\Selected Perogram\\Preproses\\Tahap B\\Bruguiera cylindrica\\Bruguiera_cylindrica53_horizontal_0.jpg\n",
      "Processing C:\\Users\\USER\\Desktop\\Selected Perogram\\Preproses\\Tahap B\\Bruguiera cylindrica\\Bruguiera_cylindrica53_horizontal_270.jpg\n",
      "Processing C:\\Users\\USER\\Desktop\\Selected Perogram\\Preproses\\Tahap B\\Bruguiera cylindrica\\Bruguiera_cylindrica53_horizontal_90.jpg\n",
      "Processing C:\\Users\\USER\\Desktop\\Selected Perogram\\Preproses\\Tahap B\\Bruguiera cylindrica\\Bruguiera_cylindrica53_original_0.jpg\n",
      "Processing C:\\Users\\USER\\Desktop\\Selected Perogram\\Preproses\\Tahap B\\Bruguiera cylindrica\\Bruguiera_cylindrica53_original_270.jpg\n",
      "Processing C:\\Users\\USER\\Desktop\\Selected Perogram\\Preproses\\Tahap B\\Bruguiera cylindrica\\Bruguiera_cylindrica53_original_90.jpg\n"
     ]
    },
    {
     "name": "stderr",
     "output_type": "stream",
     "text": [
      "Processing images:  46%|████▌     | 1083/2360 [00:25<00:29, 42.94it/s]"
     ]
    },
    {
     "name": "stdout",
     "output_type": "stream",
     "text": [
      "Processing C:\\Users\\USER\\Desktop\\Selected Perogram\\Preproses\\Tahap B\\Bruguiera cylindrica\\Bruguiera_cylindrica53_vertical_0.jpg\n",
      "Processing C:\\Users\\USER\\Desktop\\Selected Perogram\\Preproses\\Tahap B\\Bruguiera cylindrica\\Bruguiera_cylindrica53_vertical_270.jpg\n",
      "Processing C:\\Users\\USER\\Desktop\\Selected Perogram\\Preproses\\Tahap B\\Bruguiera cylindrica\\Bruguiera_cylindrica53_vertical_90.jpg\n",
      "Processing C:\\Users\\USER\\Desktop\\Selected Perogram\\Preproses\\Tahap B\\Bruguiera cylindrica\\Bruguiera_cylindrica54_horizontal_0.jpg\n",
      "Processing C:\\Users\\USER\\Desktop\\Selected Perogram\\Preproses\\Tahap B\\Bruguiera cylindrica\\Bruguiera_cylindrica54_horizontal_270.jpg\n",
      "Processing C:\\Users\\USER\\Desktop\\Selected Perogram\\Preproses\\Tahap B\\Bruguiera cylindrica\\Bruguiera_cylindrica54_horizontal_90.jpg\n",
      "Processing C:\\Users\\USER\\Desktop\\Selected Perogram\\Preproses\\Tahap B\\Bruguiera cylindrica\\Bruguiera_cylindrica54_original_0.jpg\n",
      "Processing C:\\Users\\USER\\Desktop\\Selected Perogram\\Preproses\\Tahap B\\Bruguiera cylindrica\\Bruguiera_cylindrica54_original_270.jpg\n",
      "Processing C:\\Users\\USER\\Desktop\\Selected Perogram\\Preproses\\Tahap B\\Bruguiera cylindrica\\Bruguiera_cylindrica54_original_90.jpg\n",
      "Processing C:\\Users\\USER\\Desktop\\Selected Perogram\\Preproses\\Tahap B\\Bruguiera cylindrica\\Bruguiera_cylindrica54_vertical_0.jpg\n"
     ]
    },
    {
     "name": "stderr",
     "output_type": "stream",
     "text": [
      "Processing images:  46%|████▋     | 1093/2360 [00:26<00:29, 43.23it/s]"
     ]
    },
    {
     "name": "stdout",
     "output_type": "stream",
     "text": [
      "Processing C:\\Users\\USER\\Desktop\\Selected Perogram\\Preproses\\Tahap B\\Bruguiera cylindrica\\Bruguiera_cylindrica54_vertical_270.jpg\n",
      "Processing C:\\Users\\USER\\Desktop\\Selected Perogram\\Preproses\\Tahap B\\Bruguiera cylindrica\\Bruguiera_cylindrica54_vertical_90.jpg\n",
      "Processing C:\\Users\\USER\\Desktop\\Selected Perogram\\Preproses\\Tahap B\\Bruguiera cylindrica\\Bruguiera_cylindrica55_horizontal_0.jpg\n",
      "Processing C:\\Users\\USER\\Desktop\\Selected Perogram\\Preproses\\Tahap B\\Bruguiera cylindrica\\Bruguiera_cylindrica55_horizontal_270.jpg\n",
      "Processing C:\\Users\\USER\\Desktop\\Selected Perogram\\Preproses\\Tahap B\\Bruguiera cylindrica\\Bruguiera_cylindrica55_horizontal_90.jpg\n",
      "Processing C:\\Users\\USER\\Desktop\\Selected Perogram\\Preproses\\Tahap B\\Bruguiera cylindrica\\Bruguiera_cylindrica55_original_0.jpg\n",
      "Processing C:\\Users\\USER\\Desktop\\Selected Perogram\\Preproses\\Tahap B\\Bruguiera cylindrica\\Bruguiera_cylindrica55_original_270.jpg\n",
      "Processing C:\\Users\\USER\\Desktop\\Selected Perogram\\Preproses\\Tahap B\\Bruguiera cylindrica\\Bruguiera_cylindrica55_original_90.jpg\n",
      "Processing C:\\Users\\USER\\Desktop\\Selected Perogram\\Preproses\\Tahap B\\Bruguiera cylindrica\\Bruguiera_cylindrica55_vertical_0.jpg\n",
      "Processing C:\\Users\\USER\\Desktop\\Selected Perogram\\Preproses\\Tahap B\\Bruguiera cylindrica\\Bruguiera_cylindrica55_vertical_270.jpg\n"
     ]
    },
    {
     "name": "stderr",
     "output_type": "stream",
     "text": [
      "Processing images:  47%|████▋     | 1103/2360 [00:26<00:30, 41.90it/s]"
     ]
    },
    {
     "name": "stdout",
     "output_type": "stream",
     "text": [
      "Processing C:\\Users\\USER\\Desktop\\Selected Perogram\\Preproses\\Tahap B\\Bruguiera cylindrica\\Bruguiera_cylindrica55_vertical_90.jpg\n",
      "Processing C:\\Users\\USER\\Desktop\\Selected Perogram\\Preproses\\Tahap B\\Bruguiera cylindrica\\Bruguiera_cylindrica56_horizontal_0.jpg\n",
      "Processing C:\\Users\\USER\\Desktop\\Selected Perogram\\Preproses\\Tahap B\\Bruguiera cylindrica\\Bruguiera_cylindrica56_horizontal_270.jpg\n",
      "Processing C:\\Users\\USER\\Desktop\\Selected Perogram\\Preproses\\Tahap B\\Bruguiera cylindrica\\Bruguiera_cylindrica56_horizontal_90.jpg\n",
      "Processing C:\\Users\\USER\\Desktop\\Selected Perogram\\Preproses\\Tahap B\\Bruguiera cylindrica\\Bruguiera_cylindrica56_original_0.jpg\n",
      "Processing C:\\Users\\USER\\Desktop\\Selected Perogram\\Preproses\\Tahap B\\Bruguiera cylindrica\\Bruguiera_cylindrica56_original_270.jpg\n",
      "Processing C:\\Users\\USER\\Desktop\\Selected Perogram\\Preproses\\Tahap B\\Bruguiera cylindrica\\Bruguiera_cylindrica56_original_90.jpg\n",
      "Processing C:\\Users\\USER\\Desktop\\Selected Perogram\\Preproses\\Tahap B\\Bruguiera cylindrica\\Bruguiera_cylindrica56_vertical_0.jpg\n",
      "Processing C:\\Users\\USER\\Desktop\\Selected Perogram\\Preproses\\Tahap B\\Bruguiera cylindrica\\Bruguiera_cylindrica56_vertical_270.jpg\n",
      "Processing C:\\Users\\USER\\Desktop\\Selected Perogram\\Preproses\\Tahap B\\Bruguiera cylindrica\\Bruguiera_cylindrica56_vertical_90.jpg\n"
     ]
    },
    {
     "name": "stderr",
     "output_type": "stream",
     "text": [
      "Processing images:  47%|████▋     | 1113/2360 [00:26<00:28, 43.03it/s]"
     ]
    },
    {
     "name": "stdout",
     "output_type": "stream",
     "text": [
      "Processing C:\\Users\\USER\\Desktop\\Selected Perogram\\Preproses\\Tahap B\\Bruguiera cylindrica\\Bruguiera_cylindrica57_horizontal_0.jpg\n",
      "Processing C:\\Users\\USER\\Desktop\\Selected Perogram\\Preproses\\Tahap B\\Bruguiera cylindrica\\Bruguiera_cylindrica57_horizontal_270.jpg\n",
      "Processing C:\\Users\\USER\\Desktop\\Selected Perogram\\Preproses\\Tahap B\\Bruguiera cylindrica\\Bruguiera_cylindrica57_horizontal_90.jpg\n",
      "Processing C:\\Users\\USER\\Desktop\\Selected Perogram\\Preproses\\Tahap B\\Bruguiera cylindrica\\Bruguiera_cylindrica57_original_0.jpg\n",
      "Processing C:\\Users\\USER\\Desktop\\Selected Perogram\\Preproses\\Tahap B\\Bruguiera cylindrica\\Bruguiera_cylindrica57_original_270.jpg\n",
      "Processing C:\\Users\\USER\\Desktop\\Selected Perogram\\Preproses\\Tahap B\\Bruguiera cylindrica\\Bruguiera_cylindrica57_original_90.jpg\n",
      "Processing C:\\Users\\USER\\Desktop\\Selected Perogram\\Preproses\\Tahap B\\Bruguiera cylindrica\\Bruguiera_cylindrica57_vertical_0.jpg\n",
      "Processing C:\\Users\\USER\\Desktop\\Selected Perogram\\Preproses\\Tahap B\\Bruguiera cylindrica\\Bruguiera_cylindrica57_vertical_270.jpg\n",
      "Processing C:\\Users\\USER\\Desktop\\Selected Perogram\\Preproses\\Tahap B\\Bruguiera cylindrica\\Bruguiera_cylindrica57_vertical_90.jpg\n",
      "Processing C:\\Users\\USER\\Desktop\\Selected Perogram\\Preproses\\Tahap B\\Bruguiera cylindrica\\Bruguiera_cylindrica58_horizontal_0.jpg\n"
     ]
    },
    {
     "name": "stderr",
     "output_type": "stream",
     "text": [
      "Processing images:  48%|████▊     | 1123/2360 [00:26<00:28, 43.73it/s]"
     ]
    },
    {
     "name": "stdout",
     "output_type": "stream",
     "text": [
      "Processing C:\\Users\\USER\\Desktop\\Selected Perogram\\Preproses\\Tahap B\\Bruguiera cylindrica\\Bruguiera_cylindrica58_horizontal_270.jpg\n",
      "Processing C:\\Users\\USER\\Desktop\\Selected Perogram\\Preproses\\Tahap B\\Bruguiera cylindrica\\Bruguiera_cylindrica58_horizontal_90.jpg\n",
      "Processing C:\\Users\\USER\\Desktop\\Selected Perogram\\Preproses\\Tahap B\\Bruguiera cylindrica\\Bruguiera_cylindrica58_original_0.jpg\n",
      "Processing C:\\Users\\USER\\Desktop\\Selected Perogram\\Preproses\\Tahap B\\Bruguiera cylindrica\\Bruguiera_cylindrica58_original_270.jpg\n",
      "Processing C:\\Users\\USER\\Desktop\\Selected Perogram\\Preproses\\Tahap B\\Bruguiera cylindrica\\Bruguiera_cylindrica58_original_90.jpg\n",
      "Processing C:\\Users\\USER\\Desktop\\Selected Perogram\\Preproses\\Tahap B\\Bruguiera cylindrica\\Bruguiera_cylindrica58_vertical_0.jpg\n",
      "Processing C:\\Users\\USER\\Desktop\\Selected Perogram\\Preproses\\Tahap B\\Bruguiera cylindrica\\Bruguiera_cylindrica58_vertical_270.jpg\n",
      "Processing C:\\Users\\USER\\Desktop\\Selected Perogram\\Preproses\\Tahap B\\Bruguiera cylindrica\\Bruguiera_cylindrica58_vertical_90.jpg\n",
      "Processing C:\\Users\\USER\\Desktop\\Selected Perogram\\Preproses\\Tahap B\\Bruguiera cylindrica\\Bruguiera_cylindrica59_horizontal_0.jpg\n",
      "Processing C:\\Users\\USER\\Desktop\\Selected Perogram\\Preproses\\Tahap B\\Bruguiera cylindrica\\Bruguiera_cylindrica59_horizontal_270.jpg\n"
     ]
    },
    {
     "name": "stderr",
     "output_type": "stream",
     "text": [
      "Processing images:  48%|████▊     | 1133/2360 [00:27<00:27, 43.98it/s]"
     ]
    },
    {
     "name": "stdout",
     "output_type": "stream",
     "text": [
      "Processing C:\\Users\\USER\\Desktop\\Selected Perogram\\Preproses\\Tahap B\\Bruguiera cylindrica\\Bruguiera_cylindrica59_horizontal_90.jpg\n",
      "Processing C:\\Users\\USER\\Desktop\\Selected Perogram\\Preproses\\Tahap B\\Bruguiera cylindrica\\Bruguiera_cylindrica59_original_0.jpg\n",
      "Processing C:\\Users\\USER\\Desktop\\Selected Perogram\\Preproses\\Tahap B\\Bruguiera cylindrica\\Bruguiera_cylindrica59_original_270.jpg\n",
      "Processing C:\\Users\\USER\\Desktop\\Selected Perogram\\Preproses\\Tahap B\\Bruguiera cylindrica\\Bruguiera_cylindrica59_original_90.jpg\n",
      "Processing C:\\Users\\USER\\Desktop\\Selected Perogram\\Preproses\\Tahap B\\Bruguiera cylindrica\\Bruguiera_cylindrica59_vertical_0.jpg\n",
      "Processing C:\\Users\\USER\\Desktop\\Selected Perogram\\Preproses\\Tahap B\\Bruguiera cylindrica\\Bruguiera_cylindrica59_vertical_270.jpg\n",
      "Processing C:\\Users\\USER\\Desktop\\Selected Perogram\\Preproses\\Tahap B\\Bruguiera cylindrica\\Bruguiera_cylindrica59_vertical_90.jpg\n",
      "Processing C:\\Users\\USER\\Desktop\\Selected Perogram\\Preproses\\Tahap B\\Bruguiera cylindrica\\Bruguiera_cylindrica5_horizontal_0.jpg\n",
      "Processing C:\\Users\\USER\\Desktop\\Selected Perogram\\Preproses\\Tahap B\\Bruguiera cylindrica\\Bruguiera_cylindrica5_horizontal_270.jpg\n",
      "Processing C:\\Users\\USER\\Desktop\\Selected Perogram\\Preproses\\Tahap B\\Bruguiera cylindrica\\Bruguiera_cylindrica5_horizontal_90.jpg\n"
     ]
    },
    {
     "name": "stderr",
     "output_type": "stream",
     "text": [
      "Processing images:  48%|████▊     | 1143/2360 [00:27<00:27, 44.18it/s]"
     ]
    },
    {
     "name": "stdout",
     "output_type": "stream",
     "text": [
      "Processing C:\\Users\\USER\\Desktop\\Selected Perogram\\Preproses\\Tahap B\\Bruguiera cylindrica\\Bruguiera_cylindrica5_original_0.jpg\n",
      "Processing C:\\Users\\USER\\Desktop\\Selected Perogram\\Preproses\\Tahap B\\Bruguiera cylindrica\\Bruguiera_cylindrica5_original_270.jpg\n",
      "Processing C:\\Users\\USER\\Desktop\\Selected Perogram\\Preproses\\Tahap B\\Bruguiera cylindrica\\Bruguiera_cylindrica5_original_90.jpg\n",
      "Processing C:\\Users\\USER\\Desktop\\Selected Perogram\\Preproses\\Tahap B\\Bruguiera cylindrica\\Bruguiera_cylindrica5_vertical_0.jpg\n",
      "Processing C:\\Users\\USER\\Desktop\\Selected Perogram\\Preproses\\Tahap B\\Bruguiera cylindrica\\Bruguiera_cylindrica5_vertical_270.jpg\n",
      "Processing C:\\Users\\USER\\Desktop\\Selected Perogram\\Preproses\\Tahap B\\Bruguiera cylindrica\\Bruguiera_cylindrica5_vertical_90.jpg\n",
      "Processing C:\\Users\\USER\\Desktop\\Selected Perogram\\Preproses\\Tahap B\\Bruguiera cylindrica\\Bruguiera_cylindrica6_horizontal_0.jpg\n",
      "Processing C:\\Users\\USER\\Desktop\\Selected Perogram\\Preproses\\Tahap B\\Bruguiera cylindrica\\Bruguiera_cylindrica6_horizontal_270.jpg\n",
      "Processing C:\\Users\\USER\\Desktop\\Selected Perogram\\Preproses\\Tahap B\\Bruguiera cylindrica\\Bruguiera_cylindrica6_horizontal_90.jpg\n",
      "Processing C:\\Users\\USER\\Desktop\\Selected Perogram\\Preproses\\Tahap B\\Bruguiera cylindrica\\Bruguiera_cylindrica6_original_0.jpg\n"
     ]
    },
    {
     "name": "stderr",
     "output_type": "stream",
     "text": [
      "Processing images:  49%|████▉     | 1153/2360 [00:27<00:27, 44.47it/s]"
     ]
    },
    {
     "name": "stdout",
     "output_type": "stream",
     "text": [
      "Processing C:\\Users\\USER\\Desktop\\Selected Perogram\\Preproses\\Tahap B\\Bruguiera cylindrica\\Bruguiera_cylindrica6_original_270.jpg\n",
      "Processing C:\\Users\\USER\\Desktop\\Selected Perogram\\Preproses\\Tahap B\\Bruguiera cylindrica\\Bruguiera_cylindrica6_original_90.jpg\n",
      "Processing C:\\Users\\USER\\Desktop\\Selected Perogram\\Preproses\\Tahap B\\Bruguiera cylindrica\\Bruguiera_cylindrica6_vertical_0.jpg\n",
      "Processing C:\\Users\\USER\\Desktop\\Selected Perogram\\Preproses\\Tahap B\\Bruguiera cylindrica\\Bruguiera_cylindrica6_vertical_270.jpg\n",
      "Processing C:\\Users\\USER\\Desktop\\Selected Perogram\\Preproses\\Tahap B\\Bruguiera cylindrica\\Bruguiera_cylindrica6_vertical_90.jpg\n",
      "Processing C:\\Users\\USER\\Desktop\\Selected Perogram\\Preproses\\Tahap B\\Bruguiera cylindrica\\Bruguiera_cylindrica7_horizontal_0.jpg\n",
      "Processing C:\\Users\\USER\\Desktop\\Selected Perogram\\Preproses\\Tahap B\\Bruguiera cylindrica\\Bruguiera_cylindrica7_horizontal_270.jpg\n",
      "Processing C:\\Users\\USER\\Desktop\\Selected Perogram\\Preproses\\Tahap B\\Bruguiera cylindrica\\Bruguiera_cylindrica7_horizontal_90.jpg\n",
      "Processing C:\\Users\\USER\\Desktop\\Selected Perogram\\Preproses\\Tahap B\\Bruguiera cylindrica\\Bruguiera_cylindrica7_original_0.jpg\n",
      "Processing C:\\Users\\USER\\Desktop\\Selected Perogram\\Preproses\\Tahap B\\Bruguiera cylindrica\\Bruguiera_cylindrica7_original_270.jpg\n"
     ]
    },
    {
     "name": "stderr",
     "output_type": "stream",
     "text": [
      "Processing images:  49%|████▉     | 1163/2360 [00:27<00:28, 42.11it/s]"
     ]
    },
    {
     "name": "stdout",
     "output_type": "stream",
     "text": [
      "Processing C:\\Users\\USER\\Desktop\\Selected Perogram\\Preproses\\Tahap B\\Bruguiera cylindrica\\Bruguiera_cylindrica7_original_90.jpg\n",
      "Processing C:\\Users\\USER\\Desktop\\Selected Perogram\\Preproses\\Tahap B\\Bruguiera cylindrica\\Bruguiera_cylindrica7_vertical_0.jpg\n",
      "Processing C:\\Users\\USER\\Desktop\\Selected Perogram\\Preproses\\Tahap B\\Bruguiera cylindrica\\Bruguiera_cylindrica7_vertical_270.jpg\n",
      "Processing C:\\Users\\USER\\Desktop\\Selected Perogram\\Preproses\\Tahap B\\Bruguiera cylindrica\\Bruguiera_cylindrica7_vertical_90.jpg\n",
      "Processing C:\\Users\\USER\\Desktop\\Selected Perogram\\Preproses\\Tahap B\\Bruguiera cylindrica\\Bruguiera_cylindrica8_horizontal_0.jpg\n",
      "Processing C:\\Users\\USER\\Desktop\\Selected Perogram\\Preproses\\Tahap B\\Bruguiera cylindrica\\Bruguiera_cylindrica8_horizontal_270.jpg\n",
      "Processing C:\\Users\\USER\\Desktop\\Selected Perogram\\Preproses\\Tahap B\\Bruguiera cylindrica\\Bruguiera_cylindrica8_horizontal_90.jpg\n",
      "Processing C:\\Users\\USER\\Desktop\\Selected Perogram\\Preproses\\Tahap B\\Bruguiera cylindrica\\Bruguiera_cylindrica8_original_0.jpg\n",
      "Processing C:\\Users\\USER\\Desktop\\Selected Perogram\\Preproses\\Tahap B\\Bruguiera cylindrica\\Bruguiera_cylindrica8_original_270.jpg\n"
     ]
    },
    {
     "name": "stderr",
     "output_type": "stream",
     "text": [
      "Processing images:  50%|████▉     | 1173/2360 [00:27<00:27, 42.55it/s]"
     ]
    },
    {
     "name": "stdout",
     "output_type": "stream",
     "text": [
      "Processing C:\\Users\\USER\\Desktop\\Selected Perogram\\Preproses\\Tahap B\\Bruguiera cylindrica\\Bruguiera_cylindrica8_original_90.jpg\n",
      "Processing C:\\Users\\USER\\Desktop\\Selected Perogram\\Preproses\\Tahap B\\Bruguiera cylindrica\\Bruguiera_cylindrica8_vertical_0.jpg\n",
      "Processing C:\\Users\\USER\\Desktop\\Selected Perogram\\Preproses\\Tahap B\\Bruguiera cylindrica\\Bruguiera_cylindrica8_vertical_270.jpg\n",
      "Processing C:\\Users\\USER\\Desktop\\Selected Perogram\\Preproses\\Tahap B\\Bruguiera cylindrica\\Bruguiera_cylindrica8_vertical_90.jpg\n",
      "Processing C:\\Users\\USER\\Desktop\\Selected Perogram\\Preproses\\Tahap B\\Bruguiera cylindrica\\Bruguiera_cylindrica9_horizontal_0.jpg\n",
      "Processing C:\\Users\\USER\\Desktop\\Selected Perogram\\Preproses\\Tahap B\\Bruguiera cylindrica\\Bruguiera_cylindrica9_horizontal_270.jpg\n",
      "Processing C:\\Users\\USER\\Desktop\\Selected Perogram\\Preproses\\Tahap B\\Bruguiera cylindrica\\Bruguiera_cylindrica9_horizontal_90.jpg\n",
      "Processing C:\\Users\\USER\\Desktop\\Selected Perogram\\Preproses\\Tahap B\\Bruguiera cylindrica\\Bruguiera_cylindrica9_original_0.jpg\n",
      "Processing C:\\Users\\USER\\Desktop\\Selected Perogram\\Preproses\\Tahap B\\Bruguiera cylindrica\\Bruguiera_cylindrica9_original_270.jpg\n",
      "Processing C:\\Users\\USER\\Desktop\\Selected Perogram\\Preproses\\Tahap B\\Bruguiera cylindrica\\Bruguiera_cylindrica9_original_90.jpg\n"
     ]
    },
    {
     "name": "stderr",
     "output_type": "stream",
     "text": [
      "Processing images:  50%|█████     | 1183/2360 [00:28<00:26, 43.74it/s]"
     ]
    },
    {
     "name": "stdout",
     "output_type": "stream",
     "text": [
      "Processing C:\\Users\\USER\\Desktop\\Selected Perogram\\Preproses\\Tahap B\\Bruguiera cylindrica\\Bruguiera_cylindrica9_vertical_0.jpg\n",
      "Processing C:\\Users\\USER\\Desktop\\Selected Perogram\\Preproses\\Tahap B\\Bruguiera cylindrica\\Bruguiera_cylindrica9_vertical_270.jpg\n",
      "Processing C:\\Users\\USER\\Desktop\\Selected Perogram\\Preproses\\Tahap B\\Bruguiera cylindrica\\Bruguiera_cylindrica9_vertical_90.jpg\n",
      "Processing C:\\Users\\USER\\Desktop\\Selected Perogram\\Preproses\\Tahap B\\Scaevola taccada\\Scaevola.taccada_1.jpg\n",
      "Processing C:\\Users\\USER\\Desktop\\Selected Perogram\\Preproses\\Tahap B\\Scaevola taccada\\Scaevola.taccada_10.jpg\n",
      "Processing C:\\Users\\USER\\Desktop\\Selected Perogram\\Preproses\\Tahap B\\Scaevola taccada\\Scaevola.taccada_11.jpg\n",
      "Processing C:\\Users\\USER\\Desktop\\Selected Perogram\\Preproses\\Tahap B\\Scaevola taccada\\Scaevola.taccada_12.jpg\n",
      "Processing C:\\Users\\USER\\Desktop\\Selected Perogram\\Preproses\\Tahap B\\Scaevola taccada\\Scaevola.taccada_13.jpg\n",
      "Processing C:\\Users\\USER\\Desktop\\Selected Perogram\\Preproses\\Tahap B\\Scaevola taccada\\Scaevola.taccada_14.jpg\n"
     ]
    },
    {
     "name": "stderr",
     "output_type": "stream",
     "text": [
      "Processing images:  51%|█████     | 1193/2360 [00:28<00:26, 43.90it/s]"
     ]
    },
    {
     "name": "stdout",
     "output_type": "stream",
     "text": [
      "Processing C:\\Users\\USER\\Desktop\\Selected Perogram\\Preproses\\Tahap B\\Scaevola taccada\\Scaevola.taccada_15.jpg\n",
      "Processing C:\\Users\\USER\\Desktop\\Selected Perogram\\Preproses\\Tahap B\\Scaevola taccada\\Scaevola.taccada_16.jpg\n",
      "Processing C:\\Users\\USER\\Desktop\\Selected Perogram\\Preproses\\Tahap B\\Scaevola taccada\\Scaevola.taccada_17.jpg\n",
      "Processing C:\\Users\\USER\\Desktop\\Selected Perogram\\Preproses\\Tahap B\\Scaevola taccada\\Scaevola.taccada_18.jpg\n",
      "Processing C:\\Users\\USER\\Desktop\\Selected Perogram\\Preproses\\Tahap B\\Scaevola taccada\\Scaevola.taccada_19.jpg\n",
      "Processing C:\\Users\\USER\\Desktop\\Selected Perogram\\Preproses\\Tahap B\\Scaevola taccada\\Scaevola.taccada_2.jpg\n",
      "Processing C:\\Users\\USER\\Desktop\\Selected Perogram\\Preproses\\Tahap B\\Scaevola taccada\\Scaevola.taccada_20.jpg\n",
      "Processing C:\\Users\\USER\\Desktop\\Selected Perogram\\Preproses\\Tahap B\\Scaevola taccada\\Scaevola.taccada_21.jpg\n",
      "Processing C:\\Users\\USER\\Desktop\\Selected Perogram\\Preproses\\Tahap B\\Scaevola taccada\\Scaevola.taccada_22.jpg\n"
     ]
    },
    {
     "name": "stderr",
     "output_type": "stream",
     "text": [
      "Processing images:  51%|█████     | 1203/2360 [00:28<00:26, 43.95it/s]"
     ]
    },
    {
     "name": "stdout",
     "output_type": "stream",
     "text": [
      "Processing C:\\Users\\USER\\Desktop\\Selected Perogram\\Preproses\\Tahap B\\Scaevola taccada\\Scaevola.taccada_23.jpg\n",
      "Processing C:\\Users\\USER\\Desktop\\Selected Perogram\\Preproses\\Tahap B\\Scaevola taccada\\Scaevola.taccada_24.jpg\n",
      "Processing C:\\Users\\USER\\Desktop\\Selected Perogram\\Preproses\\Tahap B\\Scaevola taccada\\Scaevola.taccada_25.jpg\n",
      "Processing C:\\Users\\USER\\Desktop\\Selected Perogram\\Preproses\\Tahap B\\Scaevola taccada\\Scaevola.taccada_26.jpg\n",
      "Processing C:\\Users\\USER\\Desktop\\Selected Perogram\\Preproses\\Tahap B\\Scaevola taccada\\Scaevola.taccada_27.jpg\n",
      "Processing C:\\Users\\USER\\Desktop\\Selected Perogram\\Preproses\\Tahap B\\Scaevola taccada\\Scaevola.taccada_28.jpg\n",
      "Processing C:\\Users\\USER\\Desktop\\Selected Perogram\\Preproses\\Tahap B\\Scaevola taccada\\Scaevola.taccada_29.jpg\n",
      "Processing C:\\Users\\USER\\Desktop\\Selected Perogram\\Preproses\\Tahap B\\Scaevola taccada\\Scaevola.taccada_3.jpg\n",
      "Processing C:\\Users\\USER\\Desktop\\Selected Perogram\\Preproses\\Tahap B\\Scaevola taccada\\Scaevola.taccada_30.jpg\n",
      "Processing C:\\Users\\USER\\Desktop\\Selected Perogram\\Preproses\\Tahap B\\Scaevola taccada\\Scaevola.taccada_31.jpg\n"
     ]
    },
    {
     "name": "stderr",
     "output_type": "stream",
     "text": [
      "Processing images:  51%|█████▏    | 1213/2360 [00:28<00:25, 44.37it/s]"
     ]
    },
    {
     "name": "stdout",
     "output_type": "stream",
     "text": [
      "Processing C:\\Users\\USER\\Desktop\\Selected Perogram\\Preproses\\Tahap B\\Scaevola taccada\\Scaevola.taccada_32.jpg\n",
      "Processing C:\\Users\\USER\\Desktop\\Selected Perogram\\Preproses\\Tahap B\\Scaevola taccada\\Scaevola.taccada_33.jpg\n",
      "Processing C:\\Users\\USER\\Desktop\\Selected Perogram\\Preproses\\Tahap B\\Scaevola taccada\\Scaevola.taccada_34.jpg\n",
      "Processing C:\\Users\\USER\\Desktop\\Selected Perogram\\Preproses\\Tahap B\\Scaevola taccada\\Scaevola.taccada_35.jpg\n",
      "Processing C:\\Users\\USER\\Desktop\\Selected Perogram\\Preproses\\Tahap B\\Scaevola taccada\\Scaevola.taccada_36.jpg\n",
      "Processing C:\\Users\\USER\\Desktop\\Selected Perogram\\Preproses\\Tahap B\\Scaevola taccada\\Scaevola.taccada_37.jpg\n",
      "Processing C:\\Users\\USER\\Desktop\\Selected Perogram\\Preproses\\Tahap B\\Scaevola taccada\\Scaevola.taccada_38.jpg\n",
      "Processing C:\\Users\\USER\\Desktop\\Selected Perogram\\Preproses\\Tahap B\\Scaevola taccada\\Scaevola.taccada_39.jpg\n"
     ]
    },
    {
     "name": "stderr",
     "output_type": "stream",
     "text": [
      "Processing images:  52%|█████▏    | 1218/2360 [00:29<00:25, 44.03it/s]"
     ]
    },
    {
     "name": "stdout",
     "output_type": "stream",
     "text": [
      "Processing C:\\Users\\USER\\Desktop\\Selected Perogram\\Preproses\\Tahap B\\Scaevola taccada\\Scaevola.taccada_4.jpg\n",
      "Processing C:\\Users\\USER\\Desktop\\Selected Perogram\\Preproses\\Tahap B\\Scaevola taccada\\Scaevola.taccada_40.jpg\n",
      "Processing C:\\Users\\USER\\Desktop\\Selected Perogram\\Preproses\\Tahap B\\Scaevola taccada\\Scaevola.taccada_41.jpg\n",
      "Processing C:\\Users\\USER\\Desktop\\Selected Perogram\\Preproses\\Tahap B\\Scaevola taccada\\Scaevola.taccada_42.jpg\n",
      "Processing C:\\Users\\USER\\Desktop\\Selected Perogram\\Preproses\\Tahap B\\Scaevola taccada\\Scaevola.taccada_43.jpg\n",
      "Processing C:\\Users\\USER\\Desktop\\Selected Perogram\\Preproses\\Tahap B\\Scaevola taccada\\Scaevola.taccada_44.jpg\n",
      "Processing C:\\Users\\USER\\Desktop\\Selected Perogram\\Preproses\\Tahap B\\Scaevola taccada\\Scaevola.taccada_45.jpg\n",
      "Processing C:\\Users\\USER\\Desktop\\Selected Perogram\\Preproses\\Tahap B\\Scaevola taccada\\Scaevola.taccada_46.jpg\n",
      "Processing C:\\Users\\USER\\Desktop\\Selected Perogram\\Preproses\\Tahap B\\Scaevola taccada\\Scaevola.taccada_47.jpg\n",
      "Processing C:\\Users\\USER\\Desktop\\Selected Perogram\\Preproses\\Tahap B\\Scaevola taccada\\Scaevola.taccada_48.jpg\n"
     ]
    },
    {
     "name": "stderr",
     "output_type": "stream",
     "text": [
      "Processing images:  52%|█████▏    | 1228/2360 [00:29<00:25, 43.94it/s]"
     ]
    },
    {
     "name": "stdout",
     "output_type": "stream",
     "text": [
      "Processing C:\\Users\\USER\\Desktop\\Selected Perogram\\Preproses\\Tahap B\\Scaevola taccada\\Scaevola.taccada_49.jpg\n",
      "Processing C:\\Users\\USER\\Desktop\\Selected Perogram\\Preproses\\Tahap B\\Scaevola taccada\\Scaevola.taccada_5.jpg\n",
      "Processing C:\\Users\\USER\\Desktop\\Selected Perogram\\Preproses\\Tahap B\\Scaevola taccada\\Scaevola.taccada_50.jpg\n",
      "Processing C:\\Users\\USER\\Desktop\\Selected Perogram\\Preproses\\Tahap B\\Scaevola taccada\\Scaevola.taccada_51.jpg\n",
      "Processing C:\\Users\\USER\\Desktop\\Selected Perogram\\Preproses\\Tahap B\\Scaevola taccada\\Scaevola.taccada_52.jpg\n",
      "Processing C:\\Users\\USER\\Desktop\\Selected Perogram\\Preproses\\Tahap B\\Scaevola taccada\\Scaevola.taccada_53.jpg\n",
      "Processing C:\\Users\\USER\\Desktop\\Selected Perogram\\Preproses\\Tahap B\\Scaevola taccada\\Scaevola.taccada_54.jpg\n",
      "Processing C:\\Users\\USER\\Desktop\\Selected Perogram\\Preproses\\Tahap B\\Scaevola taccada\\Scaevola.taccada_55.jpg\n",
      "Processing C:\\Users\\USER\\Desktop\\Selected Perogram\\Preproses\\Tahap B\\Scaevola taccada\\Scaevola.taccada_56.jpg\n"
     ]
    },
    {
     "name": "stderr",
     "output_type": "stream",
     "text": [
      "Processing images:  52%|█████▏    | 1238/2360 [00:29<00:25, 44.22it/s]"
     ]
    },
    {
     "name": "stdout",
     "output_type": "stream",
     "text": [
      "Processing C:\\Users\\USER\\Desktop\\Selected Perogram\\Preproses\\Tahap B\\Scaevola taccada\\Scaevola.taccada_57.jpg\n",
      "Processing C:\\Users\\USER\\Desktop\\Selected Perogram\\Preproses\\Tahap B\\Scaevola taccada\\Scaevola.taccada_58.jpg\n",
      "Processing C:\\Users\\USER\\Desktop\\Selected Perogram\\Preproses\\Tahap B\\Scaevola taccada\\Scaevola.taccada_59.jpg\n",
      "Processing C:\\Users\\USER\\Desktop\\Selected Perogram\\Preproses\\Tahap B\\Scaevola taccada\\Scaevola.taccada_6.jpg\n",
      "Processing C:\\Users\\USER\\Desktop\\Selected Perogram\\Preproses\\Tahap B\\Scaevola taccada\\Scaevola.taccada_7.jpg\n",
      "Processing C:\\Users\\USER\\Desktop\\Selected Perogram\\Preproses\\Tahap B\\Scaevola taccada\\Scaevola.taccada_8.jpg\n",
      "Processing C:\\Users\\USER\\Desktop\\Selected Perogram\\Preproses\\Tahap B\\Scaevola taccada\\Scaevola.taccada_9.jpg\n",
      "Processing C:\\Users\\USER\\Desktop\\Selected Perogram\\Preproses\\Tahap B\\Scaevola taccada\\Scaevola_taccada10_horizontal_0.jpg\n",
      "Processing C:\\Users\\USER\\Desktop\\Selected Perogram\\Preproses\\Tahap B\\Scaevola taccada\\Scaevola_taccada10_horizontal_270.jpg\n"
     ]
    },
    {
     "name": "stderr",
     "output_type": "stream",
     "text": [
      "Processing images:  53%|█████▎    | 1248/2360 [00:29<00:25, 42.79it/s]"
     ]
    },
    {
     "name": "stdout",
     "output_type": "stream",
     "text": [
      "Processing C:\\Users\\USER\\Desktop\\Selected Perogram\\Preproses\\Tahap B\\Scaevola taccada\\Scaevola_taccada10_horizontal_90.jpg\n",
      "Processing C:\\Users\\USER\\Desktop\\Selected Perogram\\Preproses\\Tahap B\\Scaevola taccada\\Scaevola_taccada10_original_0.jpg\n",
      "Processing C:\\Users\\USER\\Desktop\\Selected Perogram\\Preproses\\Tahap B\\Scaevola taccada\\Scaevola_taccada10_original_270.jpg\n",
      "Processing C:\\Users\\USER\\Desktop\\Selected Perogram\\Preproses\\Tahap B\\Scaevola taccada\\Scaevola_taccada10_original_90.jpg\n",
      "Processing C:\\Users\\USER\\Desktop\\Selected Perogram\\Preproses\\Tahap B\\Scaevola taccada\\Scaevola_taccada10_vertical_0.jpg\n",
      "Processing C:\\Users\\USER\\Desktop\\Selected Perogram\\Preproses\\Tahap B\\Scaevola taccada\\Scaevola_taccada10_vertical_270.jpg\n",
      "Processing C:\\Users\\USER\\Desktop\\Selected Perogram\\Preproses\\Tahap B\\Scaevola taccada\\Scaevola_taccada10_vertical_90.jpg\n"
     ]
    },
    {
     "name": "stderr",
     "output_type": "stream",
     "text": [
      "Processing images:  53%|█████▎    | 1253/2360 [00:29<00:25, 43.13it/s]"
     ]
    },
    {
     "name": "stdout",
     "output_type": "stream",
     "text": [
      "Processing C:\\Users\\USER\\Desktop\\Selected Perogram\\Preproses\\Tahap B\\Scaevola taccada\\Scaevola_taccada11_horizontal_0.jpg\n",
      "Processing C:\\Users\\USER\\Desktop\\Selected Perogram\\Preproses\\Tahap B\\Scaevola taccada\\Scaevola_taccada11_horizontal_270.jpg\n",
      "Processing C:\\Users\\USER\\Desktop\\Selected Perogram\\Preproses\\Tahap B\\Scaevola taccada\\Scaevola_taccada11_horizontal_90.jpg\n",
      "Processing C:\\Users\\USER\\Desktop\\Selected Perogram\\Preproses\\Tahap B\\Scaevola taccada\\Scaevola_taccada11_original_0.jpg\n",
      "Processing C:\\Users\\USER\\Desktop\\Selected Perogram\\Preproses\\Tahap B\\Scaevola taccada\\Scaevola_taccada11_original_270.jpg\n",
      "Processing C:\\Users\\USER\\Desktop\\Selected Perogram\\Preproses\\Tahap B\\Scaevola taccada\\Scaevola_taccada11_original_90.jpg\n",
      "Processing C:\\Users\\USER\\Desktop\\Selected Perogram\\Preproses\\Tahap B\\Scaevola taccada\\Scaevola_taccada11_vertical_0.jpg\n",
      "Processing C:\\Users\\USER\\Desktop\\Selected Perogram\\Preproses\\Tahap B\\Scaevola taccada\\Scaevola_taccada11_vertical_270.jpg\n",
      "Processing C:\\Users\\USER\\Desktop\\Selected Perogram\\Preproses\\Tahap B\\Scaevola taccada\\Scaevola_taccada11_vertical_90.jpg\n",
      "Processing C:\\Users\\USER\\Desktop\\Selected Perogram\\Preproses\\Tahap B\\Scaevola taccada\\Scaevola_taccada12_horizontal_0.jpg\n"
     ]
    },
    {
     "name": "stderr",
     "output_type": "stream",
     "text": [
      "Processing images:  54%|█████▎    | 1263/2360 [00:30<00:25, 43.33it/s]"
     ]
    },
    {
     "name": "stdout",
     "output_type": "stream",
     "text": [
      "Processing C:\\Users\\USER\\Desktop\\Selected Perogram\\Preproses\\Tahap B\\Scaevola taccada\\Scaevola_taccada12_horizontal_270.jpg\n",
      "Processing C:\\Users\\USER\\Desktop\\Selected Perogram\\Preproses\\Tahap B\\Scaevola taccada\\Scaevola_taccada12_horizontal_90.jpg\n",
      "Processing C:\\Users\\USER\\Desktop\\Selected Perogram\\Preproses\\Tahap B\\Scaevola taccada\\Scaevola_taccada12_original_0.jpg\n",
      "Processing C:\\Users\\USER\\Desktop\\Selected Perogram\\Preproses\\Tahap B\\Scaevola taccada\\Scaevola_taccada12_original_270.jpg\n",
      "Processing C:\\Users\\USER\\Desktop\\Selected Perogram\\Preproses\\Tahap B\\Scaevola taccada\\Scaevola_taccada12_original_90.jpg\n",
      "Processing C:\\Users\\USER\\Desktop\\Selected Perogram\\Preproses\\Tahap B\\Scaevola taccada\\Scaevola_taccada12_vertical_0.jpg\n",
      "Processing C:\\Users\\USER\\Desktop\\Selected Perogram\\Preproses\\Tahap B\\Scaevola taccada\\Scaevola_taccada12_vertical_270.jpg\n",
      "Processing C:\\Users\\USER\\Desktop\\Selected Perogram\\Preproses\\Tahap B\\Scaevola taccada\\Scaevola_taccada12_vertical_90.jpg\n",
      "Processing C:\\Users\\USER\\Desktop\\Selected Perogram\\Preproses\\Tahap B\\Scaevola taccada\\Scaevola_taccada13_horizontal_0.jpg\n"
     ]
    },
    {
     "name": "stderr",
     "output_type": "stream",
     "text": [
      "Processing images:  54%|█████▍    | 1273/2360 [00:30<00:24, 43.70it/s]"
     ]
    },
    {
     "name": "stdout",
     "output_type": "stream",
     "text": [
      "Processing C:\\Users\\USER\\Desktop\\Selected Perogram\\Preproses\\Tahap B\\Scaevola taccada\\Scaevola_taccada13_horizontal_270.jpg\n",
      "Processing C:\\Users\\USER\\Desktop\\Selected Perogram\\Preproses\\Tahap B\\Scaevola taccada\\Scaevola_taccada13_horizontal_90.jpg\n",
      "Processing C:\\Users\\USER\\Desktop\\Selected Perogram\\Preproses\\Tahap B\\Scaevola taccada\\Scaevola_taccada13_original_0.jpg\n",
      "Processing C:\\Users\\USER\\Desktop\\Selected Perogram\\Preproses\\Tahap B\\Scaevola taccada\\Scaevola_taccada13_original_270.jpg\n",
      "Processing C:\\Users\\USER\\Desktop\\Selected Perogram\\Preproses\\Tahap B\\Scaevola taccada\\Scaevola_taccada13_original_90.jpg\n",
      "Processing C:\\Users\\USER\\Desktop\\Selected Perogram\\Preproses\\Tahap B\\Scaevola taccada\\Scaevola_taccada13_vertical_0.jpg\n",
      "Processing C:\\Users\\USER\\Desktop\\Selected Perogram\\Preproses\\Tahap B\\Scaevola taccada\\Scaevola_taccada13_vertical_270.jpg\n",
      "Processing C:\\Users\\USER\\Desktop\\Selected Perogram\\Preproses\\Tahap B\\Scaevola taccada\\Scaevola_taccada13_vertical_90.jpg\n",
      "Processing C:\\Users\\USER\\Desktop\\Selected Perogram\\Preproses\\Tahap B\\Scaevola taccada\\Scaevola_taccada14_horizontal_0.jpg\n",
      "Processing C:\\Users\\USER\\Desktop\\Selected Perogram\\Preproses\\Tahap B\\Scaevola taccada\\Scaevola_taccada14_horizontal_270.jpg\n"
     ]
    },
    {
     "name": "stderr",
     "output_type": "stream",
     "text": [
      "Processing images:  54%|█████▍    | 1283/2360 [00:30<00:24, 44.13it/s]"
     ]
    },
    {
     "name": "stdout",
     "output_type": "stream",
     "text": [
      "Processing C:\\Users\\USER\\Desktop\\Selected Perogram\\Preproses\\Tahap B\\Scaevola taccada\\Scaevola_taccada14_horizontal_90.jpg\n",
      "Processing C:\\Users\\USER\\Desktop\\Selected Perogram\\Preproses\\Tahap B\\Scaevola taccada\\Scaevola_taccada14_original_0.jpg\n",
      "Processing C:\\Users\\USER\\Desktop\\Selected Perogram\\Preproses\\Tahap B\\Scaevola taccada\\Scaevola_taccada14_original_270.jpg\n",
      "Processing C:\\Users\\USER\\Desktop\\Selected Perogram\\Preproses\\Tahap B\\Scaevola taccada\\Scaevola_taccada14_original_90.jpg\n",
      "Processing C:\\Users\\USER\\Desktop\\Selected Perogram\\Preproses\\Tahap B\\Scaevola taccada\\Scaevola_taccada14_vertical_0.jpg\n",
      "Processing C:\\Users\\USER\\Desktop\\Selected Perogram\\Preproses\\Tahap B\\Scaevola taccada\\Scaevola_taccada14_vertical_270.jpg\n",
      "Processing C:\\Users\\USER\\Desktop\\Selected Perogram\\Preproses\\Tahap B\\Scaevola taccada\\Scaevola_taccada14_vertical_90.jpg\n",
      "Processing C:\\Users\\USER\\Desktop\\Selected Perogram\\Preproses\\Tahap B\\Scaevola taccada\\Scaevola_taccada15_horizontal_0.jpg\n",
      "Processing C:\\Users\\USER\\Desktop\\Selected Perogram\\Preproses\\Tahap B\\Scaevola taccada\\Scaevola_taccada15_horizontal_270.jpg\n",
      "Processing C:\\Users\\USER\\Desktop\\Selected Perogram\\Preproses\\Tahap B\\Scaevola taccada\\Scaevola_taccada15_horizontal_90.jpg\n"
     ]
    },
    {
     "name": "stderr",
     "output_type": "stream",
     "text": [
      "Processing images:  55%|█████▍    | 1293/2360 [00:30<00:24, 43.73it/s]"
     ]
    },
    {
     "name": "stdout",
     "output_type": "stream",
     "text": [
      "Processing C:\\Users\\USER\\Desktop\\Selected Perogram\\Preproses\\Tahap B\\Scaevola taccada\\Scaevola_taccada15_original_0.jpg\n",
      "Processing C:\\Users\\USER\\Desktop\\Selected Perogram\\Preproses\\Tahap B\\Scaevola taccada\\Scaevola_taccada15_original_270.jpg\n",
      "Processing C:\\Users\\USER\\Desktop\\Selected Perogram\\Preproses\\Tahap B\\Scaevola taccada\\Scaevola_taccada15_original_90.jpg\n",
      "Processing C:\\Users\\USER\\Desktop\\Selected Perogram\\Preproses\\Tahap B\\Scaevola taccada\\Scaevola_taccada15_vertical_0.jpg\n",
      "Processing C:\\Users\\USER\\Desktop\\Selected Perogram\\Preproses\\Tahap B\\Scaevola taccada\\Scaevola_taccada15_vertical_270.jpg\n",
      "Processing C:\\Users\\USER\\Desktop\\Selected Perogram\\Preproses\\Tahap B\\Scaevola taccada\\Scaevola_taccada15_vertical_90.jpg\n",
      "Processing C:\\Users\\USER\\Desktop\\Selected Perogram\\Preproses\\Tahap B\\Scaevola taccada\\Scaevola_taccada16_horizontal_0.jpg\n",
      "Processing C:\\Users\\USER\\Desktop\\Selected Perogram\\Preproses\\Tahap B\\Scaevola taccada\\Scaevola_taccada16_horizontal_270.jpg\n",
      "Processing C:\\Users\\USER\\Desktop\\Selected Perogram\\Preproses\\Tahap B\\Scaevola taccada\\Scaevola_taccada16_horizontal_90.jpg\n",
      "Processing C:\\Users\\USER\\Desktop\\Selected Perogram\\Preproses\\Tahap B\\Scaevola taccada\\Scaevola_taccada16_original_0.jpg\n"
     ]
    },
    {
     "name": "stderr",
     "output_type": "stream",
     "text": [
      "Processing images:  55%|█████▌    | 1303/2360 [00:30<00:23, 44.35it/s]"
     ]
    },
    {
     "name": "stdout",
     "output_type": "stream",
     "text": [
      "Processing C:\\Users\\USER\\Desktop\\Selected Perogram\\Preproses\\Tahap B\\Scaevola taccada\\Scaevola_taccada16_original_270.jpg\n",
      "Processing C:\\Users\\USER\\Desktop\\Selected Perogram\\Preproses\\Tahap B\\Scaevola taccada\\Scaevola_taccada16_original_90.jpg\n",
      "Processing C:\\Users\\USER\\Desktop\\Selected Perogram\\Preproses\\Tahap B\\Scaevola taccada\\Scaevola_taccada16_vertical_0.jpg\n",
      "Processing C:\\Users\\USER\\Desktop\\Selected Perogram\\Preproses\\Tahap B\\Scaevola taccada\\Scaevola_taccada16_vertical_270.jpg\n",
      "Processing C:\\Users\\USER\\Desktop\\Selected Perogram\\Preproses\\Tahap B\\Scaevola taccada\\Scaevola_taccada16_vertical_90.jpg\n",
      "Processing C:\\Users\\USER\\Desktop\\Selected Perogram\\Preproses\\Tahap B\\Scaevola taccada\\Scaevola_taccada17_horizontal_0.jpg\n",
      "Processing C:\\Users\\USER\\Desktop\\Selected Perogram\\Preproses\\Tahap B\\Scaevola taccada\\Scaevola_taccada17_horizontal_270.jpg\n",
      "Processing C:\\Users\\USER\\Desktop\\Selected Perogram\\Preproses\\Tahap B\\Scaevola taccada\\Scaevola_taccada17_horizontal_90.jpg\n",
      "Processing C:\\Users\\USER\\Desktop\\Selected Perogram\\Preproses\\Tahap B\\Scaevola taccada\\Scaevola_taccada17_original_0.jpg\n",
      "Processing C:\\Users\\USER\\Desktop\\Selected Perogram\\Preproses\\Tahap B\\Scaevola taccada\\Scaevola_taccada17_original_270.jpg\n"
     ]
    },
    {
     "name": "stderr",
     "output_type": "stream",
     "text": [
      "Processing images:  56%|█████▌    | 1313/2360 [00:31<00:24, 43.36it/s]"
     ]
    },
    {
     "name": "stdout",
     "output_type": "stream",
     "text": [
      "Processing C:\\Users\\USER\\Desktop\\Selected Perogram\\Preproses\\Tahap B\\Scaevola taccada\\Scaevola_taccada17_original_90.jpg\n",
      "Processing C:\\Users\\USER\\Desktop\\Selected Perogram\\Preproses\\Tahap B\\Scaevola taccada\\Scaevola_taccada17_vertical_0.jpg\n",
      "Processing C:\\Users\\USER\\Desktop\\Selected Perogram\\Preproses\\Tahap B\\Scaevola taccada\\Scaevola_taccada17_vertical_270.jpg\n",
      "Processing C:\\Users\\USER\\Desktop\\Selected Perogram\\Preproses\\Tahap B\\Scaevola taccada\\Scaevola_taccada17_vertical_90.jpg\n",
      "Processing C:\\Users\\USER\\Desktop\\Selected Perogram\\Preproses\\Tahap B\\Scaevola taccada\\Scaevola_taccada18_horizontal_0.jpg\n",
      "Processing C:\\Users\\USER\\Desktop\\Selected Perogram\\Preproses\\Tahap B\\Scaevola taccada\\Scaevola_taccada18_horizontal_270.jpg\n",
      "Processing C:\\Users\\USER\\Desktop\\Selected Perogram\\Preproses\\Tahap B\\Scaevola taccada\\Scaevola_taccada18_horizontal_90.jpg\n",
      "Processing C:\\Users\\USER\\Desktop\\Selected Perogram\\Preproses\\Tahap B\\Scaevola taccada\\Scaevola_taccada18_original_0.jpg\n",
      "Processing C:\\Users\\USER\\Desktop\\Selected Perogram\\Preproses\\Tahap B\\Scaevola taccada\\Scaevola_taccada18_original_270.jpg\n",
      "Processing C:\\Users\\USER\\Desktop\\Selected Perogram\\Preproses\\Tahap B\\Scaevola taccada\\Scaevola_taccada18_original_90.jpg\n"
     ]
    },
    {
     "name": "stderr",
     "output_type": "stream",
     "text": [
      "Processing images:  56%|█████▌    | 1323/2360 [00:31<00:23, 43.75it/s]"
     ]
    },
    {
     "name": "stdout",
     "output_type": "stream",
     "text": [
      "Processing C:\\Users\\USER\\Desktop\\Selected Perogram\\Preproses\\Tahap B\\Scaevola taccada\\Scaevola_taccada18_vertical_0.jpg\n",
      "Processing C:\\Users\\USER\\Desktop\\Selected Perogram\\Preproses\\Tahap B\\Scaevola taccada\\Scaevola_taccada18_vertical_270.jpg\n",
      "Processing C:\\Users\\USER\\Desktop\\Selected Perogram\\Preproses\\Tahap B\\Scaevola taccada\\Scaevola_taccada18_vertical_90.jpg\n",
      "Processing C:\\Users\\USER\\Desktop\\Selected Perogram\\Preproses\\Tahap B\\Scaevola taccada\\Scaevola_taccada19_horizontal_0.jpg\n",
      "Processing C:\\Users\\USER\\Desktop\\Selected Perogram\\Preproses\\Tahap B\\Scaevola taccada\\Scaevola_taccada19_horizontal_270.jpg\n",
      "Processing C:\\Users\\USER\\Desktop\\Selected Perogram\\Preproses\\Tahap B\\Scaevola taccada\\Scaevola_taccada19_horizontal_90.jpg\n",
      "Processing C:\\Users\\USER\\Desktop\\Selected Perogram\\Preproses\\Tahap B\\Scaevola taccada\\Scaevola_taccada19_original_0.jpg\n",
      "Processing C:\\Users\\USER\\Desktop\\Selected Perogram\\Preproses\\Tahap B\\Scaevola taccada\\Scaevola_taccada19_original_270.jpg\n",
      "Processing C:\\Users\\USER\\Desktop\\Selected Perogram\\Preproses\\Tahap B\\Scaevola taccada\\Scaevola_taccada19_original_90.jpg\n"
     ]
    },
    {
     "name": "stderr",
     "output_type": "stream",
     "text": [
      "Processing images:  56%|█████▋    | 1333/2360 [00:31<00:24, 42.48it/s]"
     ]
    },
    {
     "name": "stdout",
     "output_type": "stream",
     "text": [
      "Processing C:\\Users\\USER\\Desktop\\Selected Perogram\\Preproses\\Tahap B\\Scaevola taccada\\Scaevola_taccada19_vertical_0.jpg\n",
      "Processing C:\\Users\\USER\\Desktop\\Selected Perogram\\Preproses\\Tahap B\\Scaevola taccada\\Scaevola_taccada19_vertical_270.jpg\n",
      "Processing C:\\Users\\USER\\Desktop\\Selected Perogram\\Preproses\\Tahap B\\Scaevola taccada\\Scaevola_taccada19_vertical_90.jpg\n",
      "Processing C:\\Users\\USER\\Desktop\\Selected Perogram\\Preproses\\Tahap B\\Scaevola taccada\\Scaevola_taccada1_horizontal_0.jpg\n",
      "Processing C:\\Users\\USER\\Desktop\\Selected Perogram\\Preproses\\Tahap B\\Scaevola taccada\\Scaevola_taccada1_horizontal_270.jpg\n",
      "Processing C:\\Users\\USER\\Desktop\\Selected Perogram\\Preproses\\Tahap B\\Scaevola taccada\\Scaevola_taccada1_horizontal_90.jpg\n",
      "Processing C:\\Users\\USER\\Desktop\\Selected Perogram\\Preproses\\Tahap B\\Scaevola taccada\\Scaevola_taccada1_original_0.jpg\n"
     ]
    },
    {
     "name": "stderr",
     "output_type": "stream",
     "text": [
      "Processing images:  57%|█████▋    | 1338/2360 [00:31<00:23, 42.82it/s]"
     ]
    },
    {
     "name": "stdout",
     "output_type": "stream",
     "text": [
      "Processing C:\\Users\\USER\\Desktop\\Selected Perogram\\Preproses\\Tahap B\\Scaevola taccada\\Scaevola_taccada1_original_270.jpg\n",
      "Processing C:\\Users\\USER\\Desktop\\Selected Perogram\\Preproses\\Tahap B\\Scaevola taccada\\Scaevola_taccada1_original_90.jpg\n",
      "Processing C:\\Users\\USER\\Desktop\\Selected Perogram\\Preproses\\Tahap B\\Scaevola taccada\\Scaevola_taccada1_vertical_0.jpg\n",
      "Processing C:\\Users\\USER\\Desktop\\Selected Perogram\\Preproses\\Tahap B\\Scaevola taccada\\Scaevola_taccada1_vertical_270.jpg\n",
      "Processing C:\\Users\\USER\\Desktop\\Selected Perogram\\Preproses\\Tahap B\\Scaevola taccada\\Scaevola_taccada1_vertical_90.jpg\n",
      "Processing C:\\Users\\USER\\Desktop\\Selected Perogram\\Preproses\\Tahap B\\Scaevola taccada\\Scaevola_taccada20_horizontal_0.jpg\n",
      "Processing C:\\Users\\USER\\Desktop\\Selected Perogram\\Preproses\\Tahap B\\Scaevola taccada\\Scaevola_taccada20_horizontal_270.jpg\n",
      "Processing C:\\Users\\USER\\Desktop\\Selected Perogram\\Preproses\\Tahap B\\Scaevola taccada\\Scaevola_taccada20_horizontal_90.jpg\n",
      "Processing C:\\Users\\USER\\Desktop\\Selected Perogram\\Preproses\\Tahap B\\Scaevola taccada\\Scaevola_taccada20_original_0.jpg\n",
      "Processing C:\\Users\\USER\\Desktop\\Selected Perogram\\Preproses\\Tahap B\\Scaevola taccada\\Scaevola_taccada20_original_270.jpg\n"
     ]
    },
    {
     "name": "stderr",
     "output_type": "stream",
     "text": [
      "Processing images:  57%|█████▋    | 1348/2360 [00:32<00:23, 43.63it/s]"
     ]
    },
    {
     "name": "stdout",
     "output_type": "stream",
     "text": [
      "Processing C:\\Users\\USER\\Desktop\\Selected Perogram\\Preproses\\Tahap B\\Scaevola taccada\\Scaevola_taccada20_original_90.jpg\n",
      "Processing C:\\Users\\USER\\Desktop\\Selected Perogram\\Preproses\\Tahap B\\Scaevola taccada\\Scaevola_taccada20_vertical_0.jpg\n",
      "Processing C:\\Users\\USER\\Desktop\\Selected Perogram\\Preproses\\Tahap B\\Scaevola taccada\\Scaevola_taccada20_vertical_270.jpg\n",
      "Processing C:\\Users\\USER\\Desktop\\Selected Perogram\\Preproses\\Tahap B\\Scaevola taccada\\Scaevola_taccada20_vertical_90.jpg\n",
      "Processing C:\\Users\\USER\\Desktop\\Selected Perogram\\Preproses\\Tahap B\\Scaevola taccada\\Scaevola_taccada21_horizontal_0.jpg\n",
      "Processing C:\\Users\\USER\\Desktop\\Selected Perogram\\Preproses\\Tahap B\\Scaevola taccada\\Scaevola_taccada21_horizontal_270.jpg\n",
      "Processing C:\\Users\\USER\\Desktop\\Selected Perogram\\Preproses\\Tahap B\\Scaevola taccada\\Scaevola_taccada21_horizontal_90.jpg\n",
      "Processing C:\\Users\\USER\\Desktop\\Selected Perogram\\Preproses\\Tahap B\\Scaevola taccada\\Scaevola_taccada21_original_0.jpg\n",
      "Processing C:\\Users\\USER\\Desktop\\Selected Perogram\\Preproses\\Tahap B\\Scaevola taccada\\Scaevola_taccada21_original_270.jpg\n"
     ]
    },
    {
     "name": "stderr",
     "output_type": "stream",
     "text": [
      "Processing images:  58%|█████▊    | 1358/2360 [00:32<00:22, 44.10it/s]"
     ]
    },
    {
     "name": "stdout",
     "output_type": "stream",
     "text": [
      "Processing C:\\Users\\USER\\Desktop\\Selected Perogram\\Preproses\\Tahap B\\Scaevola taccada\\Scaevola_taccada21_original_90.jpg\n",
      "Processing C:\\Users\\USER\\Desktop\\Selected Perogram\\Preproses\\Tahap B\\Scaevola taccada\\Scaevola_taccada21_vertical_0.jpg\n",
      "Processing C:\\Users\\USER\\Desktop\\Selected Perogram\\Preproses\\Tahap B\\Scaevola taccada\\Scaevola_taccada21_vertical_270.jpg\n",
      "Processing C:\\Users\\USER\\Desktop\\Selected Perogram\\Preproses\\Tahap B\\Scaevola taccada\\Scaevola_taccada21_vertical_90.jpg\n",
      "Processing C:\\Users\\USER\\Desktop\\Selected Perogram\\Preproses\\Tahap B\\Scaevola taccada\\Scaevola_taccada22_horizontal_0.jpg\n",
      "Processing C:\\Users\\USER\\Desktop\\Selected Perogram\\Preproses\\Tahap B\\Scaevola taccada\\Scaevola_taccada22_horizontal_270.jpg\n",
      "Processing C:\\Users\\USER\\Desktop\\Selected Perogram\\Preproses\\Tahap B\\Scaevola taccada\\Scaevola_taccada22_horizontal_90.jpg\n",
      "Processing C:\\Users\\USER\\Desktop\\Selected Perogram\\Preproses\\Tahap B\\Scaevola taccada\\Scaevola_taccada22_original_0.jpg\n",
      "Processing C:\\Users\\USER\\Desktop\\Selected Perogram\\Preproses\\Tahap B\\Scaevola taccada\\Scaevola_taccada22_original_270.jpg\n",
      "Processing C:\\Users\\USER\\Desktop\\Selected Perogram\\Preproses\\Tahap B\\Scaevola taccada\\Scaevola_taccada22_original_90.jpg\n"
     ]
    },
    {
     "name": "stderr",
     "output_type": "stream",
     "text": [
      "Processing images:  58%|█████▊    | 1368/2360 [00:32<00:22, 43.62it/s]"
     ]
    },
    {
     "name": "stdout",
     "output_type": "stream",
     "text": [
      "Processing C:\\Users\\USER\\Desktop\\Selected Perogram\\Preproses\\Tahap B\\Scaevola taccada\\Scaevola_taccada22_vertical_0.jpg\n",
      "Processing C:\\Users\\USER\\Desktop\\Selected Perogram\\Preproses\\Tahap B\\Scaevola taccada\\Scaevola_taccada22_vertical_270.jpg\n",
      "Processing C:\\Users\\USER\\Desktop\\Selected Perogram\\Preproses\\Tahap B\\Scaevola taccada\\Scaevola_taccada22_vertical_90.jpg\n",
      "Processing C:\\Users\\USER\\Desktop\\Selected Perogram\\Preproses\\Tahap B\\Scaevola taccada\\Scaevola_taccada23_horizontal_0.jpg\n",
      "Processing C:\\Users\\USER\\Desktop\\Selected Perogram\\Preproses\\Tahap B\\Scaevola taccada\\Scaevola_taccada23_horizontal_270.jpg\n",
      "Processing C:\\Users\\USER\\Desktop\\Selected Perogram\\Preproses\\Tahap B\\Scaevola taccada\\Scaevola_taccada23_horizontal_90.jpg\n",
      "Processing C:\\Users\\USER\\Desktop\\Selected Perogram\\Preproses\\Tahap B\\Scaevola taccada\\Scaevola_taccada23_original_0.jpg\n",
      "Processing C:\\Users\\USER\\Desktop\\Selected Perogram\\Preproses\\Tahap B\\Scaevola taccada\\Scaevola_taccada23_original_270.jpg\n",
      "Processing C:\\Users\\USER\\Desktop\\Selected Perogram\\Preproses\\Tahap B\\Scaevola taccada\\Scaevola_taccada23_original_90.jpg\n"
     ]
    },
    {
     "name": "stderr",
     "output_type": "stream",
     "text": [
      "Processing images:  58%|█████▊    | 1378/2360 [00:32<00:22, 43.66it/s]"
     ]
    },
    {
     "name": "stdout",
     "output_type": "stream",
     "text": [
      "Processing C:\\Users\\USER\\Desktop\\Selected Perogram\\Preproses\\Tahap B\\Scaevola taccada\\Scaevola_taccada23_vertical_0.jpg\n",
      "Processing C:\\Users\\USER\\Desktop\\Selected Perogram\\Preproses\\Tahap B\\Scaevola taccada\\Scaevola_taccada23_vertical_270.jpg\n",
      "Processing C:\\Users\\USER\\Desktop\\Selected Perogram\\Preproses\\Tahap B\\Scaevola taccada\\Scaevola_taccada23_vertical_90.jpg\n",
      "Processing C:\\Users\\USER\\Desktop\\Selected Perogram\\Preproses\\Tahap B\\Scaevola taccada\\Scaevola_taccada24_horizontal_0.jpg\n",
      "Processing C:\\Users\\USER\\Desktop\\Selected Perogram\\Preproses\\Tahap B\\Scaevola taccada\\Scaevola_taccada24_horizontal_270.jpg\n",
      "Processing C:\\Users\\USER\\Desktop\\Selected Perogram\\Preproses\\Tahap B\\Scaevola taccada\\Scaevola_taccada24_horizontal_90.jpg\n",
      "Processing C:\\Users\\USER\\Desktop\\Selected Perogram\\Preproses\\Tahap B\\Scaevola taccada\\Scaevola_taccada24_original_0.jpg\n",
      "Processing C:\\Users\\USER\\Desktop\\Selected Perogram\\Preproses\\Tahap B\\Scaevola taccada\\Scaevola_taccada24_original_270.jpg\n",
      "Processing C:\\Users\\USER\\Desktop\\Selected Perogram\\Preproses\\Tahap B\\Scaevola taccada\\Scaevola_taccada24_original_90.jpg\n"
     ]
    },
    {
     "name": "stderr",
     "output_type": "stream",
     "text": [
      "Processing images:  59%|█████▊    | 1383/2360 [00:32<00:22, 43.64it/s]"
     ]
    },
    {
     "name": "stdout",
     "output_type": "stream",
     "text": [
      "Processing C:\\Users\\USER\\Desktop\\Selected Perogram\\Preproses\\Tahap B\\Scaevola taccada\\Scaevola_taccada24_vertical_0.jpg\n",
      "Processing C:\\Users\\USER\\Desktop\\Selected Perogram\\Preproses\\Tahap B\\Scaevola taccada\\Scaevola_taccada24_vertical_270.jpg\n",
      "Processing C:\\Users\\USER\\Desktop\\Selected Perogram\\Preproses\\Tahap B\\Scaevola taccada\\Scaevola_taccada24_vertical_90.jpg\n",
      "Processing C:\\Users\\USER\\Desktop\\Selected Perogram\\Preproses\\Tahap B\\Scaevola taccada\\Scaevola_taccada25_horizontal_0.jpg\n",
      "Processing C:\\Users\\USER\\Desktop\\Selected Perogram\\Preproses\\Tahap B\\Scaevola taccada\\Scaevola_taccada25_horizontal_270.jpg\n",
      "Processing C:\\Users\\USER\\Desktop\\Selected Perogram\\Preproses\\Tahap B\\Scaevola taccada\\Scaevola_taccada25_horizontal_90.jpg\n",
      "Processing C:\\Users\\USER\\Desktop\\Selected Perogram\\Preproses\\Tahap B\\Scaevola taccada\\Scaevola_taccada25_original_0.jpg\n",
      "Processing C:\\Users\\USER\\Desktop\\Selected Perogram\\Preproses\\Tahap B\\Scaevola taccada\\Scaevola_taccada25_original_270.jpg\n"
     ]
    },
    {
     "name": "stderr",
     "output_type": "stream",
     "text": [
      "Processing images:  59%|█████▉    | 1393/2360 [00:33<00:22, 43.89it/s]"
     ]
    },
    {
     "name": "stdout",
     "output_type": "stream",
     "text": [
      "Processing C:\\Users\\USER\\Desktop\\Selected Perogram\\Preproses\\Tahap B\\Scaevola taccada\\Scaevola_taccada25_original_90.jpg\n",
      "Processing C:\\Users\\USER\\Desktop\\Selected Perogram\\Preproses\\Tahap B\\Scaevola taccada\\Scaevola_taccada25_vertical_0.jpg\n",
      "Processing C:\\Users\\USER\\Desktop\\Selected Perogram\\Preproses\\Tahap B\\Scaevola taccada\\Scaevola_taccada25_vertical_270.jpg\n",
      "Processing C:\\Users\\USER\\Desktop\\Selected Perogram\\Preproses\\Tahap B\\Scaevola taccada\\Scaevola_taccada25_vertical_90.jpg\n",
      "Processing C:\\Users\\USER\\Desktop\\Selected Perogram\\Preproses\\Tahap B\\Scaevola taccada\\Scaevola_taccada26_horizontal_0.jpg\n",
      "Processing C:\\Users\\USER\\Desktop\\Selected Perogram\\Preproses\\Tahap B\\Scaevola taccada\\Scaevola_taccada26_horizontal_270.jpg\n",
      "Processing C:\\Users\\USER\\Desktop\\Selected Perogram\\Preproses\\Tahap B\\Scaevola taccada\\Scaevola_taccada26_horizontal_90.jpg\n",
      "Processing C:\\Users\\USER\\Desktop\\Selected Perogram\\Preproses\\Tahap B\\Scaevola taccada\\Scaevola_taccada26_original_0.jpg\n",
      "Processing C:\\Users\\USER\\Desktop\\Selected Perogram\\Preproses\\Tahap B\\Scaevola taccada\\Scaevola_taccada26_original_270.jpg\n",
      "Processing C:\\Users\\USER\\Desktop\\Selected Perogram\\Preproses\\Tahap B\\Scaevola taccada\\Scaevola_taccada26_original_90.jpg\n"
     ]
    },
    {
     "name": "stderr",
     "output_type": "stream",
     "text": [
      "Processing images:  59%|█████▉    | 1403/2360 [00:33<00:21, 43.54it/s]"
     ]
    },
    {
     "name": "stdout",
     "output_type": "stream",
     "text": [
      "Processing C:\\Users\\USER\\Desktop\\Selected Perogram\\Preproses\\Tahap B\\Scaevola taccada\\Scaevola_taccada26_vertical_0.jpg\n",
      "Processing C:\\Users\\USER\\Desktop\\Selected Perogram\\Preproses\\Tahap B\\Scaevola taccada\\Scaevola_taccada26_vertical_270.jpg\n",
      "Processing C:\\Users\\USER\\Desktop\\Selected Perogram\\Preproses\\Tahap B\\Scaevola taccada\\Scaevola_taccada26_vertical_90.jpg\n",
      "Processing C:\\Users\\USER\\Desktop\\Selected Perogram\\Preproses\\Tahap B\\Scaevola taccada\\Scaevola_taccada27_horizontal_0.jpg\n",
      "Processing C:\\Users\\USER\\Desktop\\Selected Perogram\\Preproses\\Tahap B\\Scaevola taccada\\Scaevola_taccada27_horizontal_270.jpg\n",
      "Processing C:\\Users\\USER\\Desktop\\Selected Perogram\\Preproses\\Tahap B\\Scaevola taccada\\Scaevola_taccada27_horizontal_90.jpg\n",
      "Processing C:\\Users\\USER\\Desktop\\Selected Perogram\\Preproses\\Tahap B\\Scaevola taccada\\Scaevola_taccada27_original_0.jpg\n",
      "Processing C:\\Users\\USER\\Desktop\\Selected Perogram\\Preproses\\Tahap B\\Scaevola taccada\\Scaevola_taccada27_original_270.jpg\n",
      "Processing C:\\Users\\USER\\Desktop\\Selected Perogram\\Preproses\\Tahap B\\Scaevola taccada\\Scaevola_taccada27_original_90.jpg\n"
     ]
    },
    {
     "name": "stderr",
     "output_type": "stream",
     "text": [
      "Processing images:  60%|█████▉    | 1413/2360 [00:33<00:22, 41.47it/s]"
     ]
    },
    {
     "name": "stdout",
     "output_type": "stream",
     "text": [
      "Processing C:\\Users\\USER\\Desktop\\Selected Perogram\\Preproses\\Tahap B\\Scaevola taccada\\Scaevola_taccada27_vertical_0.jpg\n",
      "Processing C:\\Users\\USER\\Desktop\\Selected Perogram\\Preproses\\Tahap B\\Scaevola taccada\\Scaevola_taccada27_vertical_270.jpg\n",
      "Processing C:\\Users\\USER\\Desktop\\Selected Perogram\\Preproses\\Tahap B\\Scaevola taccada\\Scaevola_taccada27_vertical_90.jpg\n",
      "Processing C:\\Users\\USER\\Desktop\\Selected Perogram\\Preproses\\Tahap B\\Scaevola taccada\\Scaevola_taccada28_horizontal_0.jpg\n",
      "Processing C:\\Users\\USER\\Desktop\\Selected Perogram\\Preproses\\Tahap B\\Scaevola taccada\\Scaevola_taccada28_horizontal_270.jpg\n",
      "Processing C:\\Users\\USER\\Desktop\\Selected Perogram\\Preproses\\Tahap B\\Scaevola taccada\\Scaevola_taccada28_horizontal_90.jpg\n",
      "Processing C:\\Users\\USER\\Desktop\\Selected Perogram\\Preproses\\Tahap B\\Scaevola taccada\\Scaevola_taccada28_original_0.jpg\n",
      "Processing C:\\Users\\USER\\Desktop\\Selected Perogram\\Preproses\\Tahap B\\Scaevola taccada\\Scaevola_taccada28_original_270.jpg\n"
     ]
    },
    {
     "name": "stderr",
     "output_type": "stream",
     "text": [
      "Processing images:  60%|██████    | 1423/2360 [00:33<00:21, 43.01it/s]"
     ]
    },
    {
     "name": "stdout",
     "output_type": "stream",
     "text": [
      "Processing C:\\Users\\USER\\Desktop\\Selected Perogram\\Preproses\\Tahap B\\Scaevola taccada\\Scaevola_taccada28_original_90.jpg\n",
      "Processing C:\\Users\\USER\\Desktop\\Selected Perogram\\Preproses\\Tahap B\\Scaevola taccada\\Scaevola_taccada28_vertical_0.jpg\n",
      "Processing C:\\Users\\USER\\Desktop\\Selected Perogram\\Preproses\\Tahap B\\Scaevola taccada\\Scaevola_taccada28_vertical_270.jpg\n",
      "Processing C:\\Users\\USER\\Desktop\\Selected Perogram\\Preproses\\Tahap B\\Scaevola taccada\\Scaevola_taccada28_vertical_90.jpg\n",
      "Processing C:\\Users\\USER\\Desktop\\Selected Perogram\\Preproses\\Tahap B\\Scaevola taccada\\Scaevola_taccada29_horizontal_0.jpg\n",
      "Processing C:\\Users\\USER\\Desktop\\Selected Perogram\\Preproses\\Tahap B\\Scaevola taccada\\Scaevola_taccada29_horizontal_270.jpg\n",
      "Processing C:\\Users\\USER\\Desktop\\Selected Perogram\\Preproses\\Tahap B\\Scaevola taccada\\Scaevola_taccada29_horizontal_90.jpg\n",
      "Processing C:\\Users\\USER\\Desktop\\Selected Perogram\\Preproses\\Tahap B\\Scaevola taccada\\Scaevola_taccada29_original_0.jpg\n",
      "Processing C:\\Users\\USER\\Desktop\\Selected Perogram\\Preproses\\Tahap B\\Scaevola taccada\\Scaevola_taccada29_original_270.jpg\n",
      "Processing C:\\Users\\USER\\Desktop\\Selected Perogram\\Preproses\\Tahap B\\Scaevola taccada\\Scaevola_taccada29_original_90.jpg\n"
     ]
    },
    {
     "name": "stderr",
     "output_type": "stream",
     "text": [
      "Processing images:  61%|██████    | 1433/2360 [00:33<00:21, 43.70it/s]"
     ]
    },
    {
     "name": "stdout",
     "output_type": "stream",
     "text": [
      "Processing C:\\Users\\USER\\Desktop\\Selected Perogram\\Preproses\\Tahap B\\Scaevola taccada\\Scaevola_taccada29_vertical_0.jpg\n",
      "Processing C:\\Users\\USER\\Desktop\\Selected Perogram\\Preproses\\Tahap B\\Scaevola taccada\\Scaevola_taccada29_vertical_270.jpg\n",
      "Processing C:\\Users\\USER\\Desktop\\Selected Perogram\\Preproses\\Tahap B\\Scaevola taccada\\Scaevola_taccada29_vertical_90.jpg\n",
      "Processing C:\\Users\\USER\\Desktop\\Selected Perogram\\Preproses\\Tahap B\\Scaevola taccada\\Scaevola_taccada2_horizontal_0.jpg\n",
      "Processing C:\\Users\\USER\\Desktop\\Selected Perogram\\Preproses\\Tahap B\\Scaevola taccada\\Scaevola_taccada2_horizontal_270.jpg\n",
      "Processing C:\\Users\\USER\\Desktop\\Selected Perogram\\Preproses\\Tahap B\\Scaevola taccada\\Scaevola_taccada2_horizontal_90.jpg\n",
      "Processing C:\\Users\\USER\\Desktop\\Selected Perogram\\Preproses\\Tahap B\\Scaevola taccada\\Scaevola_taccada2_original_0.jpg\n",
      "Processing C:\\Users\\USER\\Desktop\\Selected Perogram\\Preproses\\Tahap B\\Scaevola taccada\\Scaevola_taccada2_original_270.jpg\n"
     ]
    },
    {
     "name": "stderr",
     "output_type": "stream",
     "text": [
      "Processing images:  61%|██████    | 1438/2360 [00:34<00:21, 43.83it/s]"
     ]
    },
    {
     "name": "stdout",
     "output_type": "stream",
     "text": [
      "Processing C:\\Users\\USER\\Desktop\\Selected Perogram\\Preproses\\Tahap B\\Scaevola taccada\\Scaevola_taccada2_original_90.jpg\n",
      "Processing C:\\Users\\USER\\Desktop\\Selected Perogram\\Preproses\\Tahap B\\Scaevola taccada\\Scaevola_taccada2_vertical_0.jpg\n",
      "Processing C:\\Users\\USER\\Desktop\\Selected Perogram\\Preproses\\Tahap B\\Scaevola taccada\\Scaevola_taccada2_vertical_270.jpg\n",
      "Processing C:\\Users\\USER\\Desktop\\Selected Perogram\\Preproses\\Tahap B\\Scaevola taccada\\Scaevola_taccada2_vertical_90.jpg\n",
      "Processing C:\\Users\\USER\\Desktop\\Selected Perogram\\Preproses\\Tahap B\\Scaevola taccada\\Scaevola_taccada30_horizontal_0.jpg\n",
      "Processing C:\\Users\\USER\\Desktop\\Selected Perogram\\Preproses\\Tahap B\\Scaevola taccada\\Scaevola_taccada30_horizontal_270.jpg\n",
      "Processing C:\\Users\\USER\\Desktop\\Selected Perogram\\Preproses\\Tahap B\\Scaevola taccada\\Scaevola_taccada30_horizontal_90.jpg\n",
      "Processing C:\\Users\\USER\\Desktop\\Selected Perogram\\Preproses\\Tahap B\\Scaevola taccada\\Scaevola_taccada30_original_0.jpg\n",
      "Processing C:\\Users\\USER\\Desktop\\Selected Perogram\\Preproses\\Tahap B\\Scaevola taccada\\Scaevola_taccada30_original_270.jpg\n",
      "Processing C:\\Users\\USER\\Desktop\\Selected Perogram\\Preproses\\Tahap B\\Scaevola taccada\\Scaevola_taccada30_original_90.jpg\n"
     ]
    },
    {
     "name": "stderr",
     "output_type": "stream",
     "text": [
      "Processing images:  61%|██████▏   | 1448/2360 [00:34<00:20, 44.28it/s]"
     ]
    },
    {
     "name": "stdout",
     "output_type": "stream",
     "text": [
      "Processing C:\\Users\\USER\\Desktop\\Selected Perogram\\Preproses\\Tahap B\\Scaevola taccada\\Scaevola_taccada30_vertical_0.jpg\n",
      "Processing C:\\Users\\USER\\Desktop\\Selected Perogram\\Preproses\\Tahap B\\Scaevola taccada\\Scaevola_taccada30_vertical_270.jpg\n",
      "Processing C:\\Users\\USER\\Desktop\\Selected Perogram\\Preproses\\Tahap B\\Scaevola taccada\\Scaevola_taccada30_vertical_90.jpg\n",
      "Processing C:\\Users\\USER\\Desktop\\Selected Perogram\\Preproses\\Tahap B\\Scaevola taccada\\Scaevola_taccada31_horizontal_0.jpg\n",
      "Processing C:\\Users\\USER\\Desktop\\Selected Perogram\\Preproses\\Tahap B\\Scaevola taccada\\Scaevola_taccada31_horizontal_270.jpg\n",
      "Processing C:\\Users\\USER\\Desktop\\Selected Perogram\\Preproses\\Tahap B\\Scaevola taccada\\Scaevola_taccada31_horizontal_90.jpg\n",
      "Processing C:\\Users\\USER\\Desktop\\Selected Perogram\\Preproses\\Tahap B\\Scaevola taccada\\Scaevola_taccada31_original_0.jpg\n",
      "Processing C:\\Users\\USER\\Desktop\\Selected Perogram\\Preproses\\Tahap B\\Scaevola taccada\\Scaevola_taccada31_original_270.jpg\n",
      "Processing C:\\Users\\USER\\Desktop\\Selected Perogram\\Preproses\\Tahap B\\Scaevola taccada\\Scaevola_taccada31_original_90.jpg\n",
      "Processing C:\\Users\\USER\\Desktop\\Selected Perogram\\Preproses\\Tahap B\\Scaevola taccada\\Scaevola_taccada31_vertical_0.jpg\n"
     ]
    },
    {
     "name": "stderr",
     "output_type": "stream",
     "text": [
      "Processing images:  62%|██████▏   | 1458/2360 [00:34<00:20, 44.35it/s]"
     ]
    },
    {
     "name": "stdout",
     "output_type": "stream",
     "text": [
      "Processing C:\\Users\\USER\\Desktop\\Selected Perogram\\Preproses\\Tahap B\\Scaevola taccada\\Scaevola_taccada31_vertical_270.jpg\n",
      "Processing C:\\Users\\USER\\Desktop\\Selected Perogram\\Preproses\\Tahap B\\Scaevola taccada\\Scaevola_taccada31_vertical_90.jpg\n",
      "Processing C:\\Users\\USER\\Desktop\\Selected Perogram\\Preproses\\Tahap B\\Scaevola taccada\\Scaevola_taccada32_horizontal_0.jpg\n",
      "Processing C:\\Users\\USER\\Desktop\\Selected Perogram\\Preproses\\Tahap B\\Scaevola taccada\\Scaevola_taccada32_horizontal_270.jpg\n",
      "Processing C:\\Users\\USER\\Desktop\\Selected Perogram\\Preproses\\Tahap B\\Scaevola taccada\\Scaevola_taccada32_horizontal_90.jpg\n",
      "Processing C:\\Users\\USER\\Desktop\\Selected Perogram\\Preproses\\Tahap B\\Scaevola taccada\\Scaevola_taccada32_original_0.jpg\n",
      "Processing C:\\Users\\USER\\Desktop\\Selected Perogram\\Preproses\\Tahap B\\Scaevola taccada\\Scaevola_taccada32_original_270.jpg\n",
      "Processing C:\\Users\\USER\\Desktop\\Selected Perogram\\Preproses\\Tahap B\\Scaevola taccada\\Scaevola_taccada32_original_90.jpg\n",
      "Processing C:\\Users\\USER\\Desktop\\Selected Perogram\\Preproses\\Tahap B\\Scaevola taccada\\Scaevola_taccada32_vertical_0.jpg\n",
      "Processing C:\\Users\\USER\\Desktop\\Selected Perogram\\Preproses\\Tahap B\\Scaevola taccada\\Scaevola_taccada32_vertical_270.jpg\n"
     ]
    },
    {
     "name": "stderr",
     "output_type": "stream",
     "text": [
      "Processing images:  62%|██████▏   | 1468/2360 [00:34<00:20, 44.37it/s]"
     ]
    },
    {
     "name": "stdout",
     "output_type": "stream",
     "text": [
      "Processing C:\\Users\\USER\\Desktop\\Selected Perogram\\Preproses\\Tahap B\\Scaevola taccada\\Scaevola_taccada32_vertical_90.jpg\n",
      "Processing C:\\Users\\USER\\Desktop\\Selected Perogram\\Preproses\\Tahap B\\Scaevola taccada\\Scaevola_taccada33_horizontal_0.jpg\n",
      "Processing C:\\Users\\USER\\Desktop\\Selected Perogram\\Preproses\\Tahap B\\Scaevola taccada\\Scaevola_taccada33_horizontal_270.jpg\n",
      "Processing C:\\Users\\USER\\Desktop\\Selected Perogram\\Preproses\\Tahap B\\Scaevola taccada\\Scaevola_taccada33_horizontal_90.jpg\n",
      "Processing C:\\Users\\USER\\Desktop\\Selected Perogram\\Preproses\\Tahap B\\Scaevola taccada\\Scaevola_taccada33_original_0.jpg\n",
      "Processing C:\\Users\\USER\\Desktop\\Selected Perogram\\Preproses\\Tahap B\\Scaevola taccada\\Scaevola_taccada33_original_270.jpg\n",
      "Processing C:\\Users\\USER\\Desktop\\Selected Perogram\\Preproses\\Tahap B\\Scaevola taccada\\Scaevola_taccada33_original_90.jpg\n",
      "Processing C:\\Users\\USER\\Desktop\\Selected Perogram\\Preproses\\Tahap B\\Scaevola taccada\\Scaevola_taccada33_vertical_0.jpg\n",
      "Processing C:\\Users\\USER\\Desktop\\Selected Perogram\\Preproses\\Tahap B\\Scaevola taccada\\Scaevola_taccada33_vertical_270.jpg\n"
     ]
    },
    {
     "name": "stderr",
     "output_type": "stream",
     "text": [
      "Processing images:  63%|██████▎   | 1478/2360 [00:34<00:19, 44.54it/s]"
     ]
    },
    {
     "name": "stdout",
     "output_type": "stream",
     "text": [
      "Processing C:\\Users\\USER\\Desktop\\Selected Perogram\\Preproses\\Tahap B\\Scaevola taccada\\Scaevola_taccada33_vertical_90.jpg\n",
      "Processing C:\\Users\\USER\\Desktop\\Selected Perogram\\Preproses\\Tahap B\\Scaevola taccada\\Scaevola_taccada34_horizontal_0.jpg\n",
      "Processing C:\\Users\\USER\\Desktop\\Selected Perogram\\Preproses\\Tahap B\\Scaevola taccada\\Scaevola_taccada34_horizontal_270.jpg\n",
      "Processing C:\\Users\\USER\\Desktop\\Selected Perogram\\Preproses\\Tahap B\\Scaevola taccada\\Scaevola_taccada34_horizontal_90.jpg\n",
      "Processing C:\\Users\\USER\\Desktop\\Selected Perogram\\Preproses\\Tahap B\\Scaevola taccada\\Scaevola_taccada34_original_0.jpg\n",
      "Processing C:\\Users\\USER\\Desktop\\Selected Perogram\\Preproses\\Tahap B\\Scaevola taccada\\Scaevola_taccada34_original_270.jpg\n",
      "Processing C:\\Users\\USER\\Desktop\\Selected Perogram\\Preproses\\Tahap B\\Scaevola taccada\\Scaevola_taccada34_original_90.jpg\n",
      "Processing C:\\Users\\USER\\Desktop\\Selected Perogram\\Preproses\\Tahap B\\Scaevola taccada\\Scaevola_taccada34_vertical_0.jpg\n",
      "Processing C:\\Users\\USER\\Desktop\\Selected Perogram\\Preproses\\Tahap B\\Scaevola taccada\\Scaevola_taccada34_vertical_270.jpg\n",
      "Processing C:\\Users\\USER\\Desktop\\Selected Perogram\\Preproses\\Tahap B\\Scaevola taccada\\Scaevola_taccada34_vertical_90.jpg\n"
     ]
    },
    {
     "name": "stderr",
     "output_type": "stream",
     "text": [
      "Processing images:  63%|██████▎   | 1488/2360 [00:35<00:19, 44.03it/s]"
     ]
    },
    {
     "name": "stdout",
     "output_type": "stream",
     "text": [
      "Processing C:\\Users\\USER\\Desktop\\Selected Perogram\\Preproses\\Tahap B\\Scaevola taccada\\Scaevola_taccada35_horizontal_0.jpg\n",
      "Processing C:\\Users\\USER\\Desktop\\Selected Perogram\\Preproses\\Tahap B\\Scaevola taccada\\Scaevola_taccada35_horizontal_270.jpg\n",
      "Processing C:\\Users\\USER\\Desktop\\Selected Perogram\\Preproses\\Tahap B\\Scaevola taccada\\Scaevola_taccada35_horizontal_90.jpg\n",
      "Processing C:\\Users\\USER\\Desktop\\Selected Perogram\\Preproses\\Tahap B\\Scaevola taccada\\Scaevola_taccada35_original_0.jpg\n",
      "Processing C:\\Users\\USER\\Desktop\\Selected Perogram\\Preproses\\Tahap B\\Scaevola taccada\\Scaevola_taccada35_original_270.jpg\n",
      "Processing C:\\Users\\USER\\Desktop\\Selected Perogram\\Preproses\\Tahap B\\Scaevola taccada\\Scaevola_taccada35_original_90.jpg\n",
      "Processing C:\\Users\\USER\\Desktop\\Selected Perogram\\Preproses\\Tahap B\\Scaevola taccada\\Scaevola_taccada35_vertical_0.jpg\n",
      "Processing C:\\Users\\USER\\Desktop\\Selected Perogram\\Preproses\\Tahap B\\Scaevola taccada\\Scaevola_taccada35_vertical_270.jpg\n",
      "Processing C:\\Users\\USER\\Desktop\\Selected Perogram\\Preproses\\Tahap B\\Scaevola taccada\\Scaevola_taccada35_vertical_90.jpg\n"
     ]
    },
    {
     "name": "stderr",
     "output_type": "stream",
     "text": [
      "Processing images:  63%|██████▎   | 1498/2360 [00:35<00:20, 41.68it/s]"
     ]
    },
    {
     "name": "stdout",
     "output_type": "stream",
     "text": [
      "Processing C:\\Users\\USER\\Desktop\\Selected Perogram\\Preproses\\Tahap B\\Scaevola taccada\\Scaevola_taccada36_horizontal_0.jpg\n",
      "Processing C:\\Users\\USER\\Desktop\\Selected Perogram\\Preproses\\Tahap B\\Scaevola taccada\\Scaevola_taccada36_horizontal_270.jpg\n",
      "Processing C:\\Users\\USER\\Desktop\\Selected Perogram\\Preproses\\Tahap B\\Scaevola taccada\\Scaevola_taccada36_horizontal_90.jpg\n",
      "Processing C:\\Users\\USER\\Desktop\\Selected Perogram\\Preproses\\Tahap B\\Scaevola taccada\\Scaevola_taccada36_original_0.jpg\n",
      "Processing C:\\Users\\USER\\Desktop\\Selected Perogram\\Preproses\\Tahap B\\Scaevola taccada\\Scaevola_taccada36_original_270.jpg\n",
      "Processing C:\\Users\\USER\\Desktop\\Selected Perogram\\Preproses\\Tahap B\\Scaevola taccada\\Scaevola_taccada36_original_90.jpg\n",
      "Processing C:\\Users\\USER\\Desktop\\Selected Perogram\\Preproses\\Tahap B\\Scaevola taccada\\Scaevola_taccada36_vertical_0.jpg\n"
     ]
    },
    {
     "name": "stderr",
     "output_type": "stream",
     "text": [
      "Processing images:  64%|██████▎   | 1503/2360 [00:35<00:20, 42.64it/s]"
     ]
    },
    {
     "name": "stdout",
     "output_type": "stream",
     "text": [
      "Processing C:\\Users\\USER\\Desktop\\Selected Perogram\\Preproses\\Tahap B\\Scaevola taccada\\Scaevola_taccada36_vertical_270.jpg\n",
      "Processing C:\\Users\\USER\\Desktop\\Selected Perogram\\Preproses\\Tahap B\\Scaevola taccada\\Scaevola_taccada36_vertical_90.jpg\n",
      "Processing C:\\Users\\USER\\Desktop\\Selected Perogram\\Preproses\\Tahap B\\Scaevola taccada\\Scaevola_taccada37_horizontal_0.jpg\n",
      "Processing C:\\Users\\USER\\Desktop\\Selected Perogram\\Preproses\\Tahap B\\Scaevola taccada\\Scaevola_taccada37_horizontal_270.jpg\n",
      "Processing C:\\Users\\USER\\Desktop\\Selected Perogram\\Preproses\\Tahap B\\Scaevola taccada\\Scaevola_taccada37_horizontal_90.jpg\n",
      "Processing C:\\Users\\USER\\Desktop\\Selected Perogram\\Preproses\\Tahap B\\Scaevola taccada\\Scaevola_taccada37_original_0.jpg\n",
      "Processing C:\\Users\\USER\\Desktop\\Selected Perogram\\Preproses\\Tahap B\\Scaevola taccada\\Scaevola_taccada37_original_270.jpg\n",
      "Processing C:\\Users\\USER\\Desktop\\Selected Perogram\\Preproses\\Tahap B\\Scaevola taccada\\Scaevola_taccada37_original_90.jpg\n",
      "Processing C:\\Users\\USER\\Desktop\\Selected Perogram\\Preproses\\Tahap B\\Scaevola taccada\\Scaevola_taccada37_vertical_0.jpg\n",
      "Processing C:\\Users\\USER\\Desktop\\Selected Perogram\\Preproses\\Tahap B\\Scaevola taccada\\Scaevola_taccada37_vertical_270.jpg\n"
     ]
    },
    {
     "name": "stderr",
     "output_type": "stream",
     "text": [
      "Processing images:  64%|██████▍   | 1513/2360 [00:35<00:19, 43.32it/s]"
     ]
    },
    {
     "name": "stdout",
     "output_type": "stream",
     "text": [
      "Processing C:\\Users\\USER\\Desktop\\Selected Perogram\\Preproses\\Tahap B\\Scaevola taccada\\Scaevola_taccada37_vertical_90.jpg\n",
      "Processing C:\\Users\\USER\\Desktop\\Selected Perogram\\Preproses\\Tahap B\\Scaevola taccada\\Scaevola_taccada38_horizontal_0.jpg\n",
      "Processing C:\\Users\\USER\\Desktop\\Selected Perogram\\Preproses\\Tahap B\\Scaevola taccada\\Scaevola_taccada38_horizontal_270.jpg\n",
      "Processing C:\\Users\\USER\\Desktop\\Selected Perogram\\Preproses\\Tahap B\\Scaevola taccada\\Scaevola_taccada38_horizontal_90.jpg\n",
      "Processing C:\\Users\\USER\\Desktop\\Selected Perogram\\Preproses\\Tahap B\\Scaevola taccada\\Scaevola_taccada38_original_0.jpg\n",
      "Processing C:\\Users\\USER\\Desktop\\Selected Perogram\\Preproses\\Tahap B\\Scaevola taccada\\Scaevola_taccada38_original_270.jpg\n",
      "Processing C:\\Users\\USER\\Desktop\\Selected Perogram\\Preproses\\Tahap B\\Scaevola taccada\\Scaevola_taccada38_original_90.jpg\n",
      "Processing C:\\Users\\USER\\Desktop\\Selected Perogram\\Preproses\\Tahap B\\Scaevola taccada\\Scaevola_taccada38_vertical_0.jpg\n",
      "Processing C:\\Users\\USER\\Desktop\\Selected Perogram\\Preproses\\Tahap B\\Scaevola taccada\\Scaevola_taccada38_vertical_270.jpg\n",
      "Processing C:\\Users\\USER\\Desktop\\Selected Perogram\\Preproses\\Tahap B\\Scaevola taccada\\Scaevola_taccada38_vertical_90.jpg\n"
     ]
    },
    {
     "name": "stderr",
     "output_type": "stream",
     "text": [
      "Processing images:  65%|██████▍   | 1523/2360 [00:36<00:20, 40.64it/s]"
     ]
    },
    {
     "name": "stdout",
     "output_type": "stream",
     "text": [
      "Processing C:\\Users\\USER\\Desktop\\Selected Perogram\\Preproses\\Tahap B\\Scaevola taccada\\Scaevola_taccada39_horizontal_0.jpg\n",
      "Processing C:\\Users\\USER\\Desktop\\Selected Perogram\\Preproses\\Tahap B\\Scaevola taccada\\Scaevola_taccada39_horizontal_270.jpg\n",
      "Processing C:\\Users\\USER\\Desktop\\Selected Perogram\\Preproses\\Tahap B\\Scaevola taccada\\Scaevola_taccada39_horizontal_90.jpg\n",
      "Processing C:\\Users\\USER\\Desktop\\Selected Perogram\\Preproses\\Tahap B\\Scaevola taccada\\Scaevola_taccada39_original_0.jpg\n",
      "Processing C:\\Users\\USER\\Desktop\\Selected Perogram\\Preproses\\Tahap B\\Scaevola taccada\\Scaevola_taccada39_original_270.jpg\n",
      "Processing C:\\Users\\USER\\Desktop\\Selected Perogram\\Preproses\\Tahap B\\Scaevola taccada\\Scaevola_taccada39_original_90.jpg\n",
      "Processing C:\\Users\\USER\\Desktop\\Selected Perogram\\Preproses\\Tahap B\\Scaevola taccada\\Scaevola_taccada39_vertical_0.jpg\n",
      "Processing C:\\Users\\USER\\Desktop\\Selected Perogram\\Preproses\\Tahap B\\Scaevola taccada\\Scaevola_taccada39_vertical_270.jpg\n"
     ]
    },
    {
     "name": "stderr",
     "output_type": "stream",
     "text": [
      "Processing images:  65%|██████▍   | 1533/2360 [00:36<00:19, 42.37it/s]"
     ]
    },
    {
     "name": "stdout",
     "output_type": "stream",
     "text": [
      "Processing C:\\Users\\USER\\Desktop\\Selected Perogram\\Preproses\\Tahap B\\Scaevola taccada\\Scaevola_taccada39_vertical_90.jpg\n",
      "Processing C:\\Users\\USER\\Desktop\\Selected Perogram\\Preproses\\Tahap B\\Scaevola taccada\\Scaevola_taccada3_horizontal_0.jpg\n",
      "Processing C:\\Users\\USER\\Desktop\\Selected Perogram\\Preproses\\Tahap B\\Scaevola taccada\\Scaevola_taccada3_horizontal_270.jpg\n",
      "Processing C:\\Users\\USER\\Desktop\\Selected Perogram\\Preproses\\Tahap B\\Scaevola taccada\\Scaevola_taccada3_horizontal_90.jpg\n",
      "Processing C:\\Users\\USER\\Desktop\\Selected Perogram\\Preproses\\Tahap B\\Scaevola taccada\\Scaevola_taccada3_original_0.jpg\n",
      "Processing C:\\Users\\USER\\Desktop\\Selected Perogram\\Preproses\\Tahap B\\Scaevola taccada\\Scaevola_taccada3_original_270.jpg\n",
      "Processing C:\\Users\\USER\\Desktop\\Selected Perogram\\Preproses\\Tahap B\\Scaevola taccada\\Scaevola_taccada3_original_90.jpg\n",
      "Processing C:\\Users\\USER\\Desktop\\Selected Perogram\\Preproses\\Tahap B\\Scaevola taccada\\Scaevola_taccada3_vertical_0.jpg\n",
      "Processing C:\\Users\\USER\\Desktop\\Selected Perogram\\Preproses\\Tahap B\\Scaevola taccada\\Scaevola_taccada3_vertical_270.jpg\n"
     ]
    },
    {
     "name": "stderr",
     "output_type": "stream",
     "text": [
      "Processing images:  65%|██████▌   | 1543/2360 [00:36<00:19, 42.30it/s]"
     ]
    },
    {
     "name": "stdout",
     "output_type": "stream",
     "text": [
      "Processing C:\\Users\\USER\\Desktop\\Selected Perogram\\Preproses\\Tahap B\\Scaevola taccada\\Scaevola_taccada3_vertical_90.jpg\n",
      "Processing C:\\Users\\USER\\Desktop\\Selected Perogram\\Preproses\\Tahap B\\Scaevola taccada\\Scaevola_taccada40_horizontal_0.jpg\n",
      "Processing C:\\Users\\USER\\Desktop\\Selected Perogram\\Preproses\\Tahap B\\Scaevola taccada\\Scaevola_taccada40_horizontal_270.jpg\n",
      "Processing C:\\Users\\USER\\Desktop\\Selected Perogram\\Preproses\\Tahap B\\Scaevola taccada\\Scaevola_taccada40_horizontal_90.jpg\n",
      "Processing C:\\Users\\USER\\Desktop\\Selected Perogram\\Preproses\\Tahap B\\Scaevola taccada\\Scaevola_taccada40_original_0.jpg\n",
      "Processing C:\\Users\\USER\\Desktop\\Selected Perogram\\Preproses\\Tahap B\\Scaevola taccada\\Scaevola_taccada40_original_270.jpg\n",
      "Processing C:\\Users\\USER\\Desktop\\Selected Perogram\\Preproses\\Tahap B\\Scaevola taccada\\Scaevola_taccada40_original_90.jpg\n",
      "Processing C:\\Users\\USER\\Desktop\\Selected Perogram\\Preproses\\Tahap B\\Scaevola taccada\\Scaevola_taccada40_vertical_0.jpg\n"
     ]
    },
    {
     "name": "stderr",
     "output_type": "stream",
     "text": [
      "Processing images:  66%|██████▌   | 1548/2360 [00:36<00:18, 42.84it/s]"
     ]
    },
    {
     "name": "stdout",
     "output_type": "stream",
     "text": [
      "Processing C:\\Users\\USER\\Desktop\\Selected Perogram\\Preproses\\Tahap B\\Scaevola taccada\\Scaevola_taccada40_vertical_270.jpg\n",
      "Processing C:\\Users\\USER\\Desktop\\Selected Perogram\\Preproses\\Tahap B\\Scaevola taccada\\Scaevola_taccada40_vertical_90.jpg\n",
      "Processing C:\\Users\\USER\\Desktop\\Selected Perogram\\Preproses\\Tahap B\\Scaevola taccada\\Scaevola_taccada41_horizontal_0.jpg\n",
      "Processing C:\\Users\\USER\\Desktop\\Selected Perogram\\Preproses\\Tahap B\\Scaevola taccada\\Scaevola_taccada41_horizontal_270.jpg\n",
      "Processing C:\\Users\\USER\\Desktop\\Selected Perogram\\Preproses\\Tahap B\\Scaevola taccada\\Scaevola_taccada41_horizontal_90.jpg\n",
      "Processing C:\\Users\\USER\\Desktop\\Selected Perogram\\Preproses\\Tahap B\\Scaevola taccada\\Scaevola_taccada41_original_0.jpg\n",
      "Processing C:\\Users\\USER\\Desktop\\Selected Perogram\\Preproses\\Tahap B\\Scaevola taccada\\Scaevola_taccada41_original_270.jpg\n",
      "Processing C:\\Users\\USER\\Desktop\\Selected Perogram\\Preproses\\Tahap B\\Scaevola taccada\\Scaevola_taccada41_original_90.jpg\n",
      "Processing C:\\Users\\USER\\Desktop\\Selected Perogram\\Preproses\\Tahap B\\Scaevola taccada\\Scaevola_taccada41_vertical_0.jpg\n"
     ]
    },
    {
     "name": "stderr",
     "output_type": "stream",
     "text": [
      "Processing images:  66%|██████▌   | 1558/2360 [00:36<00:18, 43.10it/s]"
     ]
    },
    {
     "name": "stdout",
     "output_type": "stream",
     "text": [
      "Processing C:\\Users\\USER\\Desktop\\Selected Perogram\\Preproses\\Tahap B\\Scaevola taccada\\Scaevola_taccada41_vertical_270.jpg\n",
      "Processing C:\\Users\\USER\\Desktop\\Selected Perogram\\Preproses\\Tahap B\\Scaevola taccada\\Scaevola_taccada41_vertical_90.jpg\n",
      "Processing C:\\Users\\USER\\Desktop\\Selected Perogram\\Preproses\\Tahap B\\Scaevola taccada\\Scaevola_taccada42_horizontal_0.jpg\n",
      "Processing C:\\Users\\USER\\Desktop\\Selected Perogram\\Preproses\\Tahap B\\Scaevola taccada\\Scaevola_taccada42_horizontal_270.jpg\n",
      "Processing C:\\Users\\USER\\Desktop\\Selected Perogram\\Preproses\\Tahap B\\Scaevola taccada\\Scaevola_taccada42_horizontal_90.jpg\n",
      "Processing C:\\Users\\USER\\Desktop\\Selected Perogram\\Preproses\\Tahap B\\Scaevola taccada\\Scaevola_taccada42_original_0.jpg\n",
      "Processing C:\\Users\\USER\\Desktop\\Selected Perogram\\Preproses\\Tahap B\\Scaevola taccada\\Scaevola_taccada42_original_270.jpg\n",
      "Processing C:\\Users\\USER\\Desktop\\Selected Perogram\\Preproses\\Tahap B\\Scaevola taccada\\Scaevola_taccada42_original_90.jpg\n",
      "Processing C:\\Users\\USER\\Desktop\\Selected Perogram\\Preproses\\Tahap B\\Scaevola taccada\\Scaevola_taccada42_vertical_0.jpg\n",
      "Processing C:\\Users\\USER\\Desktop\\Selected Perogram\\Preproses\\Tahap B\\Scaevola taccada\\Scaevola_taccada42_vertical_270.jpg\n"
     ]
    },
    {
     "name": "stderr",
     "output_type": "stream",
     "text": [
      "Processing images:  66%|██████▋   | 1568/2360 [00:37<00:18, 43.84it/s]"
     ]
    },
    {
     "name": "stdout",
     "output_type": "stream",
     "text": [
      "Processing C:\\Users\\USER\\Desktop\\Selected Perogram\\Preproses\\Tahap B\\Scaevola taccada\\Scaevola_taccada42_vertical_90.jpg\n",
      "Processing C:\\Users\\USER\\Desktop\\Selected Perogram\\Preproses\\Tahap B\\Scaevola taccada\\Scaevola_taccada43_horizontal_0.jpg\n",
      "Processing C:\\Users\\USER\\Desktop\\Selected Perogram\\Preproses\\Tahap B\\Scaevola taccada\\Scaevola_taccada43_horizontal_270.jpg\n",
      "Processing C:\\Users\\USER\\Desktop\\Selected Perogram\\Preproses\\Tahap B\\Scaevola taccada\\Scaevola_taccada43_horizontal_90.jpg\n",
      "Processing C:\\Users\\USER\\Desktop\\Selected Perogram\\Preproses\\Tahap B\\Scaevola taccada\\Scaevola_taccada43_original_0.jpg\n",
      "Processing C:\\Users\\USER\\Desktop\\Selected Perogram\\Preproses\\Tahap B\\Scaevola taccada\\Scaevola_taccada43_original_270.jpg\n",
      "Processing C:\\Users\\USER\\Desktop\\Selected Perogram\\Preproses\\Tahap B\\Scaevola taccada\\Scaevola_taccada43_original_90.jpg\n",
      "Processing C:\\Users\\USER\\Desktop\\Selected Perogram\\Preproses\\Tahap B\\Scaevola taccada\\Scaevola_taccada43_vertical_0.jpg\n",
      "Processing C:\\Users\\USER\\Desktop\\Selected Perogram\\Preproses\\Tahap B\\Scaevola taccada\\Scaevola_taccada43_vertical_270.jpg\n",
      "Processing C:\\Users\\USER\\Desktop\\Selected Perogram\\Preproses\\Tahap B\\Scaevola taccada\\Scaevola_taccada43_vertical_90.jpg\n"
     ]
    },
    {
     "name": "stderr",
     "output_type": "stream",
     "text": [
      "Processing images:  67%|██████▋   | 1578/2360 [00:37<00:18, 42.18it/s]"
     ]
    },
    {
     "name": "stdout",
     "output_type": "stream",
     "text": [
      "Processing C:\\Users\\USER\\Desktop\\Selected Perogram\\Preproses\\Tahap B\\Scaevola taccada\\Scaevola_taccada44_horizontal_0.jpg\n",
      "Processing C:\\Users\\USER\\Desktop\\Selected Perogram\\Preproses\\Tahap B\\Scaevola taccada\\Scaevola_taccada44_horizontal_270.jpg\n",
      "Processing C:\\Users\\USER\\Desktop\\Selected Perogram\\Preproses\\Tahap B\\Scaevola taccada\\Scaevola_taccada44_horizontal_90.jpg\n",
      "Processing C:\\Users\\USER\\Desktop\\Selected Perogram\\Preproses\\Tahap B\\Scaevola taccada\\Scaevola_taccada44_original_0.jpg\n",
      "Processing C:\\Users\\USER\\Desktop\\Selected Perogram\\Preproses\\Tahap B\\Scaevola taccada\\Scaevola_taccada44_original_270.jpg\n",
      "Processing C:\\Users\\USER\\Desktop\\Selected Perogram\\Preproses\\Tahap B\\Scaevola taccada\\Scaevola_taccada44_original_90.jpg\n",
      "Processing C:\\Users\\USER\\Desktop\\Selected Perogram\\Preproses\\Tahap B\\Scaevola taccada\\Scaevola_taccada44_vertical_0.jpg\n",
      "Processing C:\\Users\\USER\\Desktop\\Selected Perogram\\Preproses\\Tahap B\\Scaevola taccada\\Scaevola_taccada44_vertical_270.jpg\n",
      "Processing C:\\Users\\USER\\Desktop\\Selected Perogram\\Preproses\\Tahap B\\Scaevola taccada\\Scaevola_taccada44_vertical_90.jpg\n"
     ]
    },
    {
     "name": "stderr",
     "output_type": "stream",
     "text": [
      "Processing images:  67%|██████▋   | 1588/2360 [00:37<00:18, 40.96it/s]"
     ]
    },
    {
     "name": "stdout",
     "output_type": "stream",
     "text": [
      "Processing C:\\Users\\USER\\Desktop\\Selected Perogram\\Preproses\\Tahap B\\Scaevola taccada\\Scaevola_taccada45_horizontal_0.jpg\n",
      "Processing C:\\Users\\USER\\Desktop\\Selected Perogram\\Preproses\\Tahap B\\Scaevola taccada\\Scaevola_taccada45_horizontal_270.jpg\n",
      "Processing C:\\Users\\USER\\Desktop\\Selected Perogram\\Preproses\\Tahap B\\Scaevola taccada\\Scaevola_taccada45_horizontal_90.jpg\n",
      "Processing C:\\Users\\USER\\Desktop\\Selected Perogram\\Preproses\\Tahap B\\Scaevola taccada\\Scaevola_taccada45_original_0.jpg\n",
      "Processing C:\\Users\\USER\\Desktop\\Selected Perogram\\Preproses\\Tahap B\\Scaevola taccada\\Scaevola_taccada45_original_270.jpg\n",
      "Processing C:\\Users\\USER\\Desktop\\Selected Perogram\\Preproses\\Tahap B\\Scaevola taccada\\Scaevola_taccada45_original_90.jpg\n",
      "Processing C:\\Users\\USER\\Desktop\\Selected Perogram\\Preproses\\Tahap B\\Scaevola taccada\\Scaevola_taccada45_vertical_0.jpg\n"
     ]
    },
    {
     "name": "stderr",
     "output_type": "stream",
     "text": [
      "Processing images:  68%|██████▊   | 1593/2360 [00:37<00:18, 41.78it/s]"
     ]
    },
    {
     "name": "stdout",
     "output_type": "stream",
     "text": [
      "Processing C:\\Users\\USER\\Desktop\\Selected Perogram\\Preproses\\Tahap B\\Scaevola taccada\\Scaevola_taccada45_vertical_270.jpg\n",
      "Processing C:\\Users\\USER\\Desktop\\Selected Perogram\\Preproses\\Tahap B\\Scaevola taccada\\Scaevola_taccada45_vertical_90.jpg\n",
      "Processing C:\\Users\\USER\\Desktop\\Selected Perogram\\Preproses\\Tahap B\\Scaevola taccada\\Scaevola_taccada46_horizontal_0.jpg\n",
      "Processing C:\\Users\\USER\\Desktop\\Selected Perogram\\Preproses\\Tahap B\\Scaevola taccada\\Scaevola_taccada46_horizontal_270.jpg\n",
      "Processing C:\\Users\\USER\\Desktop\\Selected Perogram\\Preproses\\Tahap B\\Scaevola taccada\\Scaevola_taccada46_horizontal_90.jpg\n",
      "Processing C:\\Users\\USER\\Desktop\\Selected Perogram\\Preproses\\Tahap B\\Scaevola taccada\\Scaevola_taccada46_original_0.jpg\n",
      "Processing C:\\Users\\USER\\Desktop\\Selected Perogram\\Preproses\\Tahap B\\Scaevola taccada\\Scaevola_taccada46_original_270.jpg\n",
      "Processing C:\\Users\\USER\\Desktop\\Selected Perogram\\Preproses\\Tahap B\\Scaevola taccada\\Scaevola_taccada46_original_90.jpg\n",
      "Processing C:\\Users\\USER\\Desktop\\Selected Perogram\\Preproses\\Tahap B\\Scaevola taccada\\Scaevola_taccada46_vertical_0.jpg\n",
      "Processing C:\\Users\\USER\\Desktop\\Selected Perogram\\Preproses\\Tahap B\\Scaevola taccada\\Scaevola_taccada46_vertical_270.jpg\n"
     ]
    },
    {
     "name": "stderr",
     "output_type": "stream",
     "text": [
      "Processing images:  68%|██████▊   | 1603/2360 [00:37<00:17, 42.90it/s]"
     ]
    },
    {
     "name": "stdout",
     "output_type": "stream",
     "text": [
      "Processing C:\\Users\\USER\\Desktop\\Selected Perogram\\Preproses\\Tahap B\\Scaevola taccada\\Scaevola_taccada46_vertical_90.jpg\n",
      "Processing C:\\Users\\USER\\Desktop\\Selected Perogram\\Preproses\\Tahap B\\Scaevola taccada\\Scaevola_taccada47_horizontal_0.jpg\n",
      "Processing C:\\Users\\USER\\Desktop\\Selected Perogram\\Preproses\\Tahap B\\Scaevola taccada\\Scaevola_taccada47_horizontal_270.jpg\n",
      "Processing C:\\Users\\USER\\Desktop\\Selected Perogram\\Preproses\\Tahap B\\Scaevola taccada\\Scaevola_taccada47_horizontal_90.jpg\n",
      "Processing C:\\Users\\USER\\Desktop\\Selected Perogram\\Preproses\\Tahap B\\Scaevola taccada\\Scaevola_taccada47_original_0.jpg\n",
      "Processing C:\\Users\\USER\\Desktop\\Selected Perogram\\Preproses\\Tahap B\\Scaevola taccada\\Scaevola_taccada47_original_270.jpg\n",
      "Processing C:\\Users\\USER\\Desktop\\Selected Perogram\\Preproses\\Tahap B\\Scaevola taccada\\Scaevola_taccada47_original_90.jpg\n",
      "Processing C:\\Users\\USER\\Desktop\\Selected Perogram\\Preproses\\Tahap B\\Scaevola taccada\\Scaevola_taccada47_vertical_0.jpg\n",
      "Processing C:\\Users\\USER\\Desktop\\Selected Perogram\\Preproses\\Tahap B\\Scaevola taccada\\Scaevola_taccada47_vertical_270.jpg\n",
      "Processing C:\\Users\\USER\\Desktop\\Selected Perogram\\Preproses\\Tahap B\\Scaevola taccada\\Scaevola_taccada47_vertical_90.jpg\n"
     ]
    },
    {
     "name": "stderr",
     "output_type": "stream",
     "text": [
      "Processing images:  68%|██████▊   | 1613/2360 [00:38<00:17, 43.85it/s]"
     ]
    },
    {
     "name": "stdout",
     "output_type": "stream",
     "text": [
      "Processing C:\\Users\\USER\\Desktop\\Selected Perogram\\Preproses\\Tahap B\\Scaevola taccada\\Scaevola_taccada48_horizontal_0.jpg\n",
      "Processing C:\\Users\\USER\\Desktop\\Selected Perogram\\Preproses\\Tahap B\\Scaevola taccada\\Scaevola_taccada48_horizontal_270.jpg\n",
      "Processing C:\\Users\\USER\\Desktop\\Selected Perogram\\Preproses\\Tahap B\\Scaevola taccada\\Scaevola_taccada48_horizontal_90.jpg\n",
      "Processing C:\\Users\\USER\\Desktop\\Selected Perogram\\Preproses\\Tahap B\\Scaevola taccada\\Scaevola_taccada48_original_0.jpg\n",
      "Processing C:\\Users\\USER\\Desktop\\Selected Perogram\\Preproses\\Tahap B\\Scaevola taccada\\Scaevola_taccada48_original_270.jpg\n",
      "Processing C:\\Users\\USER\\Desktop\\Selected Perogram\\Preproses\\Tahap B\\Scaevola taccada\\Scaevola_taccada48_original_90.jpg\n",
      "Processing C:\\Users\\USER\\Desktop\\Selected Perogram\\Preproses\\Tahap B\\Scaevola taccada\\Scaevola_taccada48_vertical_0.jpg\n",
      "Processing C:\\Users\\USER\\Desktop\\Selected Perogram\\Preproses\\Tahap B\\Scaevola taccada\\Scaevola_taccada48_vertical_270.jpg\n",
      "Processing C:\\Users\\USER\\Desktop\\Selected Perogram\\Preproses\\Tahap B\\Scaevola taccada\\Scaevola_taccada48_vertical_90.jpg\n"
     ]
    },
    {
     "name": "stderr",
     "output_type": "stream",
     "text": [
      "Processing images:  69%|██████▉   | 1623/2360 [00:38<00:16, 43.91it/s]"
     ]
    },
    {
     "name": "stdout",
     "output_type": "stream",
     "text": [
      "Processing C:\\Users\\USER\\Desktop\\Selected Perogram\\Preproses\\Tahap B\\Scaevola taccada\\Scaevola_taccada49_horizontal_0.jpg\n",
      "Processing C:\\Users\\USER\\Desktop\\Selected Perogram\\Preproses\\Tahap B\\Scaevola taccada\\Scaevola_taccada49_horizontal_270.jpg\n",
      "Processing C:\\Users\\USER\\Desktop\\Selected Perogram\\Preproses\\Tahap B\\Scaevola taccada\\Scaevola_taccada49_horizontal_90.jpg\n",
      "Processing C:\\Users\\USER\\Desktop\\Selected Perogram\\Preproses\\Tahap B\\Scaevola taccada\\Scaevola_taccada49_original_0.jpg\n",
      "Processing C:\\Users\\USER\\Desktop\\Selected Perogram\\Preproses\\Tahap B\\Scaevola taccada\\Scaevola_taccada49_original_270.jpg\n",
      "Processing C:\\Users\\USER\\Desktop\\Selected Perogram\\Preproses\\Tahap B\\Scaevola taccada\\Scaevola_taccada49_original_90.jpg\n",
      "Processing C:\\Users\\USER\\Desktop\\Selected Perogram\\Preproses\\Tahap B\\Scaevola taccada\\Scaevola_taccada49_vertical_0.jpg\n",
      "Processing C:\\Users\\USER\\Desktop\\Selected Perogram\\Preproses\\Tahap B\\Scaevola taccada\\Scaevola_taccada49_vertical_270.jpg\n",
      "Processing C:\\Users\\USER\\Desktop\\Selected Perogram\\Preproses\\Tahap B\\Scaevola taccada\\Scaevola_taccada49_vertical_90.jpg\n",
      "Processing C:\\Users\\USER\\Desktop\\Selected Perogram\\Preproses\\Tahap B\\Scaevola taccada\\Scaevola_taccada4_horizontal_0.jpg\n"
     ]
    },
    {
     "name": "stderr",
     "output_type": "stream",
     "text": [
      "Processing images:  69%|██████▉   | 1633/2360 [00:38<00:16, 44.56it/s]"
     ]
    },
    {
     "name": "stdout",
     "output_type": "stream",
     "text": [
      "Processing C:\\Users\\USER\\Desktop\\Selected Perogram\\Preproses\\Tahap B\\Scaevola taccada\\Scaevola_taccada4_horizontal_270.jpg\n",
      "Processing C:\\Users\\USER\\Desktop\\Selected Perogram\\Preproses\\Tahap B\\Scaevola taccada\\Scaevola_taccada4_horizontal_90.jpg\n",
      "Processing C:\\Users\\USER\\Desktop\\Selected Perogram\\Preproses\\Tahap B\\Scaevola taccada\\Scaevola_taccada4_original_0.jpg\n",
      "Processing C:\\Users\\USER\\Desktop\\Selected Perogram\\Preproses\\Tahap B\\Scaevola taccada\\Scaevola_taccada4_original_270.jpg\n",
      "Processing C:\\Users\\USER\\Desktop\\Selected Perogram\\Preproses\\Tahap B\\Scaevola taccada\\Scaevola_taccada4_original_90.jpg\n",
      "Processing C:\\Users\\USER\\Desktop\\Selected Perogram\\Preproses\\Tahap B\\Scaevola taccada\\Scaevola_taccada4_vertical_0.jpg\n",
      "Processing C:\\Users\\USER\\Desktop\\Selected Perogram\\Preproses\\Tahap B\\Scaevola taccada\\Scaevola_taccada4_vertical_270.jpg\n",
      "Processing C:\\Users\\USER\\Desktop\\Selected Perogram\\Preproses\\Tahap B\\Scaevola taccada\\Scaevola_taccada4_vertical_90.jpg\n",
      "Processing C:\\Users\\USER\\Desktop\\Selected Perogram\\Preproses\\Tahap B\\Scaevola taccada\\Scaevola_taccada50_horizontal_0.jpg\n",
      "Processing C:\\Users\\USER\\Desktop\\Selected Perogram\\Preproses\\Tahap B\\Scaevola taccada\\Scaevola_taccada50_horizontal_270.jpg\n"
     ]
    },
    {
     "name": "stderr",
     "output_type": "stream",
     "text": [
      "Processing images:  70%|██████▉   | 1643/2360 [00:38<00:16, 44.38it/s]"
     ]
    },
    {
     "name": "stdout",
     "output_type": "stream",
     "text": [
      "Processing C:\\Users\\USER\\Desktop\\Selected Perogram\\Preproses\\Tahap B\\Scaevola taccada\\Scaevola_taccada50_horizontal_90.jpg\n",
      "Processing C:\\Users\\USER\\Desktop\\Selected Perogram\\Preproses\\Tahap B\\Scaevola taccada\\Scaevola_taccada50_original_0.jpg\n",
      "Processing C:\\Users\\USER\\Desktop\\Selected Perogram\\Preproses\\Tahap B\\Scaevola taccada\\Scaevola_taccada50_original_270.jpg\n",
      "Processing C:\\Users\\USER\\Desktop\\Selected Perogram\\Preproses\\Tahap B\\Scaevola taccada\\Scaevola_taccada50_original_90.jpg\n",
      "Processing C:\\Users\\USER\\Desktop\\Selected Perogram\\Preproses\\Tahap B\\Scaevola taccada\\Scaevola_taccada50_vertical_0.jpg\n",
      "Processing C:\\Users\\USER\\Desktop\\Selected Perogram\\Preproses\\Tahap B\\Scaevola taccada\\Scaevola_taccada50_vertical_270.jpg\n",
      "Processing C:\\Users\\USER\\Desktop\\Selected Perogram\\Preproses\\Tahap B\\Scaevola taccada\\Scaevola_taccada50_vertical_90.jpg\n",
      "Processing C:\\Users\\USER\\Desktop\\Selected Perogram\\Preproses\\Tahap B\\Scaevola taccada\\Scaevola_taccada51_horizontal_0.jpg\n",
      "Processing C:\\Users\\USER\\Desktop\\Selected Perogram\\Preproses\\Tahap B\\Scaevola taccada\\Scaevola_taccada51_horizontal_270.jpg\n",
      "Processing C:\\Users\\USER\\Desktop\\Selected Perogram\\Preproses\\Tahap B\\Scaevola taccada\\Scaevola_taccada51_horizontal_90.jpg\n"
     ]
    },
    {
     "name": "stderr",
     "output_type": "stream",
     "text": [
      "Processing images:  70%|███████   | 1653/2360 [00:39<00:17, 41.54it/s]"
     ]
    },
    {
     "name": "stdout",
     "output_type": "stream",
     "text": [
      "Processing C:\\Users\\USER\\Desktop\\Selected Perogram\\Preproses\\Tahap B\\Scaevola taccada\\Scaevola_taccada51_original_0.jpg\n",
      "Processing C:\\Users\\USER\\Desktop\\Selected Perogram\\Preproses\\Tahap B\\Scaevola taccada\\Scaevola_taccada51_original_270.jpg\n",
      "Processing C:\\Users\\USER\\Desktop\\Selected Perogram\\Preproses\\Tahap B\\Scaevola taccada\\Scaevola_taccada51_original_90.jpg\n",
      "Processing C:\\Users\\USER\\Desktop\\Selected Perogram\\Preproses\\Tahap B\\Scaevola taccada\\Scaevola_taccada51_vertical_0.jpg\n",
      "Processing C:\\Users\\USER\\Desktop\\Selected Perogram\\Preproses\\Tahap B\\Scaevola taccada\\Scaevola_taccada51_vertical_270.jpg\n",
      "Processing C:\\Users\\USER\\Desktop\\Selected Perogram\\Preproses\\Tahap B\\Scaevola taccada\\Scaevola_taccada51_vertical_90.jpg\n",
      "Processing C:\\Users\\USER\\Desktop\\Selected Perogram\\Preproses\\Tahap B\\Scaevola taccada\\Scaevola_taccada52_horizontal_0.jpg\n",
      "Processing C:\\Users\\USER\\Desktop\\Selected Perogram\\Preproses\\Tahap B\\Scaevola taccada\\Scaevola_taccada52_horizontal_270.jpg\n",
      "Processing C:\\Users\\USER\\Desktop\\Selected Perogram\\Preproses\\Tahap B\\Scaevola taccada\\Scaevola_taccada52_horizontal_90.jpg\n"
     ]
    },
    {
     "name": "stderr",
     "output_type": "stream",
     "text": [
      "Processing images:  70%|███████   | 1663/2360 [00:39<00:16, 42.89it/s]"
     ]
    },
    {
     "name": "stdout",
     "output_type": "stream",
     "text": [
      "Processing C:\\Users\\USER\\Desktop\\Selected Perogram\\Preproses\\Tahap B\\Scaevola taccada\\Scaevola_taccada52_original_0.jpg\n",
      "Processing C:\\Users\\USER\\Desktop\\Selected Perogram\\Preproses\\Tahap B\\Scaevola taccada\\Scaevola_taccada52_original_270.jpg\n",
      "Processing C:\\Users\\USER\\Desktop\\Selected Perogram\\Preproses\\Tahap B\\Scaevola taccada\\Scaevola_taccada52_original_90.jpg\n",
      "Processing C:\\Users\\USER\\Desktop\\Selected Perogram\\Preproses\\Tahap B\\Scaevola taccada\\Scaevola_taccada52_vertical_0.jpg\n",
      "Processing C:\\Users\\USER\\Desktop\\Selected Perogram\\Preproses\\Tahap B\\Scaevola taccada\\Scaevola_taccada52_vertical_270.jpg\n",
      "Processing C:\\Users\\USER\\Desktop\\Selected Perogram\\Preproses\\Tahap B\\Scaevola taccada\\Scaevola_taccada52_vertical_90.jpg\n",
      "Processing C:\\Users\\USER\\Desktop\\Selected Perogram\\Preproses\\Tahap B\\Scaevola taccada\\Scaevola_taccada53_horizontal_0.jpg\n",
      "Processing C:\\Users\\USER\\Desktop\\Selected Perogram\\Preproses\\Tahap B\\Scaevola taccada\\Scaevola_taccada53_horizontal_270.jpg\n",
      "Processing C:\\Users\\USER\\Desktop\\Selected Perogram\\Preproses\\Tahap B\\Scaevola taccada\\Scaevola_taccada53_horizontal_90.jpg\n",
      "Processing C:\\Users\\USER\\Desktop\\Selected Perogram\\Preproses\\Tahap B\\Scaevola taccada\\Scaevola_taccada53_original_0.jpg\n"
     ]
    },
    {
     "name": "stderr",
     "output_type": "stream",
     "text": [
      "Processing images:  71%|███████   | 1673/2360 [00:39<00:15, 43.41it/s]"
     ]
    },
    {
     "name": "stdout",
     "output_type": "stream",
     "text": [
      "Processing C:\\Users\\USER\\Desktop\\Selected Perogram\\Preproses\\Tahap B\\Scaevola taccada\\Scaevola_taccada53_original_270.jpg\n",
      "Processing C:\\Users\\USER\\Desktop\\Selected Perogram\\Preproses\\Tahap B\\Scaevola taccada\\Scaevola_taccada53_original_90.jpg\n",
      "Processing C:\\Users\\USER\\Desktop\\Selected Perogram\\Preproses\\Tahap B\\Scaevola taccada\\Scaevola_taccada53_vertical_0.jpg\n",
      "Processing C:\\Users\\USER\\Desktop\\Selected Perogram\\Preproses\\Tahap B\\Scaevola taccada\\Scaevola_taccada53_vertical_270.jpg\n",
      "Processing C:\\Users\\USER\\Desktop\\Selected Perogram\\Preproses\\Tahap B\\Scaevola taccada\\Scaevola_taccada53_vertical_90.jpg\n",
      "Processing C:\\Users\\USER\\Desktop\\Selected Perogram\\Preproses\\Tahap B\\Scaevola taccada\\Scaevola_taccada54_horizontal_0.jpg\n",
      "Processing C:\\Users\\USER\\Desktop\\Selected Perogram\\Preproses\\Tahap B\\Scaevola taccada\\Scaevola_taccada54_horizontal_270.jpg\n",
      "Processing C:\\Users\\USER\\Desktop\\Selected Perogram\\Preproses\\Tahap B\\Scaevola taccada\\Scaevola_taccada54_horizontal_90.jpg\n",
      "Processing C:\\Users\\USER\\Desktop\\Selected Perogram\\Preproses\\Tahap B\\Scaevola taccada\\Scaevola_taccada54_original_0.jpg\n",
      "Processing C:\\Users\\USER\\Desktop\\Selected Perogram\\Preproses\\Tahap B\\Scaevola taccada\\Scaevola_taccada54_original_270.jpg\n"
     ]
    },
    {
     "name": "stderr",
     "output_type": "stream",
     "text": [
      "Processing images:  71%|███████▏  | 1683/2360 [00:39<00:15, 43.74it/s]"
     ]
    },
    {
     "name": "stdout",
     "output_type": "stream",
     "text": [
      "Processing C:\\Users\\USER\\Desktop\\Selected Perogram\\Preproses\\Tahap B\\Scaevola taccada\\Scaevola_taccada54_original_90.jpg\n",
      "Processing C:\\Users\\USER\\Desktop\\Selected Perogram\\Preproses\\Tahap B\\Scaevola taccada\\Scaevola_taccada54_vertical_0.jpg\n",
      "Processing C:\\Users\\USER\\Desktop\\Selected Perogram\\Preproses\\Tahap B\\Scaevola taccada\\Scaevola_taccada54_vertical_270.jpg\n",
      "Processing C:\\Users\\USER\\Desktop\\Selected Perogram\\Preproses\\Tahap B\\Scaevola taccada\\Scaevola_taccada54_vertical_90.jpg\n",
      "Processing C:\\Users\\USER\\Desktop\\Selected Perogram\\Preproses\\Tahap B\\Scaevola taccada\\Scaevola_taccada55_horizontal_0.jpg\n",
      "Processing C:\\Users\\USER\\Desktop\\Selected Perogram\\Preproses\\Tahap B\\Scaevola taccada\\Scaevola_taccada55_horizontal_270.jpg\n",
      "Processing C:\\Users\\USER\\Desktop\\Selected Perogram\\Preproses\\Tahap B\\Scaevola taccada\\Scaevola_taccada55_horizontal_90.jpg\n",
      "Processing C:\\Users\\USER\\Desktop\\Selected Perogram\\Preproses\\Tahap B\\Scaevola taccada\\Scaevola_taccada55_original_0.jpg\n",
      "Processing C:\\Users\\USER\\Desktop\\Selected Perogram\\Preproses\\Tahap B\\Scaevola taccada\\Scaevola_taccada55_original_270.jpg\n"
     ]
    },
    {
     "name": "stderr",
     "output_type": "stream",
     "text": [
      "Processing images:  72%|███████▏  | 1693/2360 [00:39<00:15, 43.84it/s]"
     ]
    },
    {
     "name": "stdout",
     "output_type": "stream",
     "text": [
      "Processing C:\\Users\\USER\\Desktop\\Selected Perogram\\Preproses\\Tahap B\\Scaevola taccada\\Scaevola_taccada55_original_90.jpg\n",
      "Processing C:\\Users\\USER\\Desktop\\Selected Perogram\\Preproses\\Tahap B\\Scaevola taccada\\Scaevola_taccada55_vertical_0.jpg\n",
      "Processing C:\\Users\\USER\\Desktop\\Selected Perogram\\Preproses\\Tahap B\\Scaevola taccada\\Scaevola_taccada55_vertical_270.jpg\n",
      "Processing C:\\Users\\USER\\Desktop\\Selected Perogram\\Preproses\\Tahap B\\Scaevola taccada\\Scaevola_taccada55_vertical_90.jpg\n",
      "Processing C:\\Users\\USER\\Desktop\\Selected Perogram\\Preproses\\Tahap B\\Scaevola taccada\\Scaevola_taccada56_horizontal_0.jpg\n",
      "Processing C:\\Users\\USER\\Desktop\\Selected Perogram\\Preproses\\Tahap B\\Scaevola taccada\\Scaevola_taccada56_horizontal_270.jpg\n",
      "Processing C:\\Users\\USER\\Desktop\\Selected Perogram\\Preproses\\Tahap B\\Scaevola taccada\\Scaevola_taccada56_horizontal_90.jpg\n",
      "Processing C:\\Users\\USER\\Desktop\\Selected Perogram\\Preproses\\Tahap B\\Scaevola taccada\\Scaevola_taccada56_original_0.jpg\n",
      "Processing C:\\Users\\USER\\Desktop\\Selected Perogram\\Preproses\\Tahap B\\Scaevola taccada\\Scaevola_taccada56_original_270.jpg\n",
      "Processing C:\\Users\\USER\\Desktop\\Selected Perogram\\Preproses\\Tahap B\\Scaevola taccada\\Scaevola_taccada56_original_90.jpg\n"
     ]
    },
    {
     "name": "stderr",
     "output_type": "stream",
     "text": [
      "Processing images:  72%|███████▏  | 1703/2360 [00:40<00:15, 43.41it/s]"
     ]
    },
    {
     "name": "stdout",
     "output_type": "stream",
     "text": [
      "Processing C:\\Users\\USER\\Desktop\\Selected Perogram\\Preproses\\Tahap B\\Scaevola taccada\\Scaevola_taccada56_vertical_0.jpg\n",
      "Processing C:\\Users\\USER\\Desktop\\Selected Perogram\\Preproses\\Tahap B\\Scaevola taccada\\Scaevola_taccada56_vertical_270.jpg\n",
      "Processing C:\\Users\\USER\\Desktop\\Selected Perogram\\Preproses\\Tahap B\\Scaevola taccada\\Scaevola_taccada56_vertical_90.jpg\n",
      "Processing C:\\Users\\USER\\Desktop\\Selected Perogram\\Preproses\\Tahap B\\Scaevola taccada\\Scaevola_taccada57_horizontal_0.jpg\n",
      "Processing C:\\Users\\USER\\Desktop\\Selected Perogram\\Preproses\\Tahap B\\Scaevola taccada\\Scaevola_taccada57_horizontal_270.jpg\n",
      "Processing C:\\Users\\USER\\Desktop\\Selected Perogram\\Preproses\\Tahap B\\Scaevola taccada\\Scaevola_taccada57_horizontal_90.jpg\n",
      "Processing C:\\Users\\USER\\Desktop\\Selected Perogram\\Preproses\\Tahap B\\Scaevola taccada\\Scaevola_taccada57_original_0.jpg\n",
      "Processing C:\\Users\\USER\\Desktop\\Selected Perogram\\Preproses\\Tahap B\\Scaevola taccada\\Scaevola_taccada57_original_270.jpg\n"
     ]
    },
    {
     "name": "stderr",
     "output_type": "stream",
     "text": [
      "Processing images:  72%|███████▏  | 1708/2360 [00:40<00:14, 43.48it/s]"
     ]
    },
    {
     "name": "stdout",
     "output_type": "stream",
     "text": [
      "Processing C:\\Users\\USER\\Desktop\\Selected Perogram\\Preproses\\Tahap B\\Scaevola taccada\\Scaevola_taccada57_original_90.jpg\n",
      "Processing C:\\Users\\USER\\Desktop\\Selected Perogram\\Preproses\\Tahap B\\Scaevola taccada\\Scaevola_taccada57_vertical_0.jpg\n",
      "Processing C:\\Users\\USER\\Desktop\\Selected Perogram\\Preproses\\Tahap B\\Scaevola taccada\\Scaevola_taccada57_vertical_270.jpg\n",
      "Processing C:\\Users\\USER\\Desktop\\Selected Perogram\\Preproses\\Tahap B\\Scaevola taccada\\Scaevola_taccada57_vertical_90.jpg\n",
      "Processing C:\\Users\\USER\\Desktop\\Selected Perogram\\Preproses\\Tahap B\\Scaevola taccada\\Scaevola_taccada58_horizontal_0.jpg\n",
      "Processing C:\\Users\\USER\\Desktop\\Selected Perogram\\Preproses\\Tahap B\\Scaevola taccada\\Scaevola_taccada58_horizontal_270.jpg\n",
      "Processing C:\\Users\\USER\\Desktop\\Selected Perogram\\Preproses\\Tahap B\\Scaevola taccada\\Scaevola_taccada58_horizontal_90.jpg\n",
      "Processing C:\\Users\\USER\\Desktop\\Selected Perogram\\Preproses\\Tahap B\\Scaevola taccada\\Scaevola_taccada58_original_0.jpg\n",
      "Processing C:\\Users\\USER\\Desktop\\Selected Perogram\\Preproses\\Tahap B\\Scaevola taccada\\Scaevola_taccada58_original_270.jpg\n"
     ]
    },
    {
     "name": "stderr",
     "output_type": "stream",
     "text": [
      "Processing images:  73%|███████▎  | 1718/2360 [00:40<00:14, 43.24it/s]"
     ]
    },
    {
     "name": "stdout",
     "output_type": "stream",
     "text": [
      "Processing C:\\Users\\USER\\Desktop\\Selected Perogram\\Preproses\\Tahap B\\Scaevola taccada\\Scaevola_taccada58_original_90.jpg\n",
      "Processing C:\\Users\\USER\\Desktop\\Selected Perogram\\Preproses\\Tahap B\\Scaevola taccada\\Scaevola_taccada58_vertical_0.jpg\n",
      "Processing C:\\Users\\USER\\Desktop\\Selected Perogram\\Preproses\\Tahap B\\Scaevola taccada\\Scaevola_taccada58_vertical_270.jpg\n",
      "Processing C:\\Users\\USER\\Desktop\\Selected Perogram\\Preproses\\Tahap B\\Scaevola taccada\\Scaevola_taccada58_vertical_90.jpg\n",
      "Processing C:\\Users\\USER\\Desktop\\Selected Perogram\\Preproses\\Tahap B\\Scaevola taccada\\Scaevola_taccada59_horizontal_0.jpg\n",
      "Processing C:\\Users\\USER\\Desktop\\Selected Perogram\\Preproses\\Tahap B\\Scaevola taccada\\Scaevola_taccada59_horizontal_270.jpg\n",
      "Processing C:\\Users\\USER\\Desktop\\Selected Perogram\\Preproses\\Tahap B\\Scaevola taccada\\Scaevola_taccada59_horizontal_90.jpg\n",
      "Processing C:\\Users\\USER\\Desktop\\Selected Perogram\\Preproses\\Tahap B\\Scaevola taccada\\Scaevola_taccada59_original_0.jpg\n",
      "Processing C:\\Users\\USER\\Desktop\\Selected Perogram\\Preproses\\Tahap B\\Scaevola taccada\\Scaevola_taccada59_original_270.jpg\n",
      "Processing C:\\Users\\USER\\Desktop\\Selected Perogram\\Preproses\\Tahap B\\Scaevola taccada\\Scaevola_taccada59_original_90.jpg\n"
     ]
    },
    {
     "name": "stderr",
     "output_type": "stream",
     "text": [
      "Processing images:  73%|███████▎  | 1728/2360 [00:40<00:15, 41.62it/s]"
     ]
    },
    {
     "name": "stdout",
     "output_type": "stream",
     "text": [
      "Processing C:\\Users\\USER\\Desktop\\Selected Perogram\\Preproses\\Tahap B\\Scaevola taccada\\Scaevola_taccada59_vertical_0.jpg\n",
      "Processing C:\\Users\\USER\\Desktop\\Selected Perogram\\Preproses\\Tahap B\\Scaevola taccada\\Scaevola_taccada59_vertical_270.jpg\n",
      "Processing C:\\Users\\USER\\Desktop\\Selected Perogram\\Preproses\\Tahap B\\Scaevola taccada\\Scaevola_taccada59_vertical_90.jpg\n",
      "Processing C:\\Users\\USER\\Desktop\\Selected Perogram\\Preproses\\Tahap B\\Scaevola taccada\\Scaevola_taccada5_horizontal_0.jpg\n",
      "Processing C:\\Users\\USER\\Desktop\\Selected Perogram\\Preproses\\Tahap B\\Scaevola taccada\\Scaevola_taccada5_horizontal_270.jpg\n",
      "Processing C:\\Users\\USER\\Desktop\\Selected Perogram\\Preproses\\Tahap B\\Scaevola taccada\\Scaevola_taccada5_horizontal_90.jpg\n",
      "Processing C:\\Users\\USER\\Desktop\\Selected Perogram\\Preproses\\Tahap B\\Scaevola taccada\\Scaevola_taccada5_original_0.jpg\n",
      "Processing C:\\Users\\USER\\Desktop\\Selected Perogram\\Preproses\\Tahap B\\Scaevola taccada\\Scaevola_taccada5_original_270.jpg\n",
      "Processing C:\\Users\\USER\\Desktop\\Selected Perogram\\Preproses\\Tahap B\\Scaevola taccada\\Scaevola_taccada5_original_90.jpg\n"
     ]
    },
    {
     "name": "stderr",
     "output_type": "stream",
     "text": [
      "Processing images:  74%|███████▎  | 1738/2360 [00:41<00:14, 43.11it/s]"
     ]
    },
    {
     "name": "stdout",
     "output_type": "stream",
     "text": [
      "Processing C:\\Users\\USER\\Desktop\\Selected Perogram\\Preproses\\Tahap B\\Scaevola taccada\\Scaevola_taccada5_vertical_0.jpg\n",
      "Processing C:\\Users\\USER\\Desktop\\Selected Perogram\\Preproses\\Tahap B\\Scaevola taccada\\Scaevola_taccada5_vertical_270.jpg\n",
      "Processing C:\\Users\\USER\\Desktop\\Selected Perogram\\Preproses\\Tahap B\\Scaevola taccada\\Scaevola_taccada5_vertical_90.jpg\n",
      "Processing C:\\Users\\USER\\Desktop\\Selected Perogram\\Preproses\\Tahap B\\Scaevola taccada\\Scaevola_taccada6_horizontal_0.jpg\n",
      "Processing C:\\Users\\USER\\Desktop\\Selected Perogram\\Preproses\\Tahap B\\Scaevola taccada\\Scaevola_taccada6_horizontal_270.jpg\n",
      "Processing C:\\Users\\USER\\Desktop\\Selected Perogram\\Preproses\\Tahap B\\Scaevola taccada\\Scaevola_taccada6_horizontal_90.jpg\n",
      "Processing C:\\Users\\USER\\Desktop\\Selected Perogram\\Preproses\\Tahap B\\Scaevola taccada\\Scaevola_taccada6_original_0.jpg\n",
      "Processing C:\\Users\\USER\\Desktop\\Selected Perogram\\Preproses\\Tahap B\\Scaevola taccada\\Scaevola_taccada6_original_270.jpg\n",
      "Processing C:\\Users\\USER\\Desktop\\Selected Perogram\\Preproses\\Tahap B\\Scaevola taccada\\Scaevola_taccada6_original_90.jpg\n"
     ]
    },
    {
     "name": "stderr",
     "output_type": "stream",
     "text": [
      "Processing images:  74%|███████▍  | 1748/2360 [00:41<00:14, 43.14it/s]"
     ]
    },
    {
     "name": "stdout",
     "output_type": "stream",
     "text": [
      "Processing C:\\Users\\USER\\Desktop\\Selected Perogram\\Preproses\\Tahap B\\Scaevola taccada\\Scaevola_taccada6_vertical_0.jpg\n",
      "Processing C:\\Users\\USER\\Desktop\\Selected Perogram\\Preproses\\Tahap B\\Scaevola taccada\\Scaevola_taccada6_vertical_270.jpg\n",
      "Processing C:\\Users\\USER\\Desktop\\Selected Perogram\\Preproses\\Tahap B\\Scaevola taccada\\Scaevola_taccada6_vertical_90.jpg\n",
      "Processing C:\\Users\\USER\\Desktop\\Selected Perogram\\Preproses\\Tahap B\\Scaevola taccada\\Scaevola_taccada7_horizontal_0.jpg\n",
      "Processing C:\\Users\\USER\\Desktop\\Selected Perogram\\Preproses\\Tahap B\\Scaevola taccada\\Scaevola_taccada7_horizontal_270.jpg\n",
      "Processing C:\\Users\\USER\\Desktop\\Selected Perogram\\Preproses\\Tahap B\\Scaevola taccada\\Scaevola_taccada7_horizontal_90.jpg\n",
      "Processing C:\\Users\\USER\\Desktop\\Selected Perogram\\Preproses\\Tahap B\\Scaevola taccada\\Scaevola_taccada7_original_0.jpg\n",
      "Processing C:\\Users\\USER\\Desktop\\Selected Perogram\\Preproses\\Tahap B\\Scaevola taccada\\Scaevola_taccada7_original_270.jpg\n"
     ]
    },
    {
     "name": "stderr",
     "output_type": "stream",
     "text": [
      "Processing images:  74%|███████▍  | 1753/2360 [00:41<00:13, 43.42it/s]"
     ]
    },
    {
     "name": "stdout",
     "output_type": "stream",
     "text": [
      "Processing C:\\Users\\USER\\Desktop\\Selected Perogram\\Preproses\\Tahap B\\Scaevola taccada\\Scaevola_taccada7_original_90.jpg\n",
      "Processing C:\\Users\\USER\\Desktop\\Selected Perogram\\Preproses\\Tahap B\\Scaevola taccada\\Scaevola_taccada7_vertical_0.jpg\n",
      "Processing C:\\Users\\USER\\Desktop\\Selected Perogram\\Preproses\\Tahap B\\Scaevola taccada\\Scaevola_taccada7_vertical_270.jpg\n",
      "Processing C:\\Users\\USER\\Desktop\\Selected Perogram\\Preproses\\Tahap B\\Scaevola taccada\\Scaevola_taccada7_vertical_90.jpg\n",
      "Processing C:\\Users\\USER\\Desktop\\Selected Perogram\\Preproses\\Tahap B\\Scaevola taccada\\Scaevola_taccada8_horizontal_0.jpg\n",
      "Processing C:\\Users\\USER\\Desktop\\Selected Perogram\\Preproses\\Tahap B\\Scaevola taccada\\Scaevola_taccada8_horizontal_270.jpg\n",
      "Processing C:\\Users\\USER\\Desktop\\Selected Perogram\\Preproses\\Tahap B\\Scaevola taccada\\Scaevola_taccada8_horizontal_90.jpg\n",
      "Processing C:\\Users\\USER\\Desktop\\Selected Perogram\\Preproses\\Tahap B\\Scaevola taccada\\Scaevola_taccada8_original_0.jpg\n",
      "Processing C:\\Users\\USER\\Desktop\\Selected Perogram\\Preproses\\Tahap B\\Scaevola taccada\\Scaevola_taccada8_original_270.jpg\n",
      "Processing C:\\Users\\USER\\Desktop\\Selected Perogram\\Preproses\\Tahap B\\Scaevola taccada\\Scaevola_taccada8_original_90.jpg\n"
     ]
    },
    {
     "name": "stderr",
     "output_type": "stream",
     "text": [
      "Processing images:  75%|███████▍  | 1763/2360 [00:41<00:13, 43.14it/s]"
     ]
    },
    {
     "name": "stdout",
     "output_type": "stream",
     "text": [
      "Processing C:\\Users\\USER\\Desktop\\Selected Perogram\\Preproses\\Tahap B\\Scaevola taccada\\Scaevola_taccada8_vertical_0.jpg\n",
      "Processing C:\\Users\\USER\\Desktop\\Selected Perogram\\Preproses\\Tahap B\\Scaevola taccada\\Scaevola_taccada8_vertical_270.jpg\n",
      "Processing C:\\Users\\USER\\Desktop\\Selected Perogram\\Preproses\\Tahap B\\Scaevola taccada\\Scaevola_taccada8_vertical_90.jpg\n",
      "Processing C:\\Users\\USER\\Desktop\\Selected Perogram\\Preproses\\Tahap B\\Scaevola taccada\\Scaevola_taccada9_horizontal_0.jpg\n",
      "Processing C:\\Users\\USER\\Desktop\\Selected Perogram\\Preproses\\Tahap B\\Scaevola taccada\\Scaevola_taccada9_horizontal_270.jpg\n",
      "Processing C:\\Users\\USER\\Desktop\\Selected Perogram\\Preproses\\Tahap B\\Scaevola taccada\\Scaevola_taccada9_horizontal_90.jpg\n",
      "Processing C:\\Users\\USER\\Desktop\\Selected Perogram\\Preproses\\Tahap B\\Scaevola taccada\\Scaevola_taccada9_original_0.jpg\n",
      "Processing C:\\Users\\USER\\Desktop\\Selected Perogram\\Preproses\\Tahap B\\Scaevola taccada\\Scaevola_taccada9_original_270.jpg\n",
      "Processing C:\\Users\\USER\\Desktop\\Selected Perogram\\Preproses\\Tahap B\\Scaevola taccada\\Scaevola_taccada9_original_90.jpg\n"
     ]
    },
    {
     "name": "stderr",
     "output_type": "stream",
     "text": [
      "Processing images:  75%|███████▌  | 1773/2360 [00:41<00:13, 43.43it/s]"
     ]
    },
    {
     "name": "stdout",
     "output_type": "stream",
     "text": [
      "Processing C:\\Users\\USER\\Desktop\\Selected Perogram\\Preproses\\Tahap B\\Scaevola taccada\\Scaevola_taccada9_vertical_0.jpg\n",
      "Processing C:\\Users\\USER\\Desktop\\Selected Perogram\\Preproses\\Tahap B\\Scaevola taccada\\Scaevola_taccada9_vertical_270.jpg\n",
      "Processing C:\\Users\\USER\\Desktop\\Selected Perogram\\Preproses\\Tahap B\\Scaevola taccada\\Scaevola_taccada9_vertical_90.jpg\n",
      "Processing C:\\Users\\USER\\Desktop\\Selected Perogram\\Preproses\\Tahap B\\Scyphiphora hydrophyllacea\\Scyphiphora.hydrophyllacea_1.jpg\n",
      "Processing C:\\Users\\USER\\Desktop\\Selected Perogram\\Preproses\\Tahap B\\Scyphiphora hydrophyllacea\\Scyphiphora.hydrophyllacea_10.jpg\n",
      "Processing C:\\Users\\USER\\Desktop\\Selected Perogram\\Preproses\\Tahap B\\Scyphiphora hydrophyllacea\\Scyphiphora.hydrophyllacea_11.jpg\n",
      "Processing C:\\Users\\USER\\Desktop\\Selected Perogram\\Preproses\\Tahap B\\Scyphiphora hydrophyllacea\\Scyphiphora.hydrophyllacea_12.jpg\n",
      "Processing C:\\Users\\USER\\Desktop\\Selected Perogram\\Preproses\\Tahap B\\Scyphiphora hydrophyllacea\\Scyphiphora.hydrophyllacea_13.jpg\n",
      "Processing C:\\Users\\USER\\Desktop\\Selected Perogram\\Preproses\\Tahap B\\Scyphiphora hydrophyllacea\\Scyphiphora.hydrophyllacea_14.jpg\n",
      "Processing C:\\Users\\USER\\Desktop\\Selected Perogram\\Preproses\\Tahap B\\Scyphiphora hydrophyllacea\\Scyphiphora.hydrophyllacea_15.jpg\n"
     ]
    },
    {
     "name": "stderr",
     "output_type": "stream",
     "text": [
      "Processing images:  76%|███████▌  | 1783/2360 [00:42<00:13, 43.64it/s]"
     ]
    },
    {
     "name": "stdout",
     "output_type": "stream",
     "text": [
      "Processing C:\\Users\\USER\\Desktop\\Selected Perogram\\Preproses\\Tahap B\\Scyphiphora hydrophyllacea\\Scyphiphora.hydrophyllacea_16.jpg\n",
      "Processing C:\\Users\\USER\\Desktop\\Selected Perogram\\Preproses\\Tahap B\\Scyphiphora hydrophyllacea\\Scyphiphora.hydrophyllacea_17.jpg\n",
      "Processing C:\\Users\\USER\\Desktop\\Selected Perogram\\Preproses\\Tahap B\\Scyphiphora hydrophyllacea\\Scyphiphora.hydrophyllacea_18.jpg\n",
      "Processing C:\\Users\\USER\\Desktop\\Selected Perogram\\Preproses\\Tahap B\\Scyphiphora hydrophyllacea\\Scyphiphora.hydrophyllacea_19.jpg\n",
      "Processing C:\\Users\\USER\\Desktop\\Selected Perogram\\Preproses\\Tahap B\\Scyphiphora hydrophyllacea\\Scyphiphora.hydrophyllacea_2.jpg\n",
      "Processing C:\\Users\\USER\\Desktop\\Selected Perogram\\Preproses\\Tahap B\\Scyphiphora hydrophyllacea\\Scyphiphora.hydrophyllacea_20.jpg\n",
      "Processing C:\\Users\\USER\\Desktop\\Selected Perogram\\Preproses\\Tahap B\\Scyphiphora hydrophyllacea\\Scyphiphora.hydrophyllacea_21.jpg\n",
      "Processing C:\\Users\\USER\\Desktop\\Selected Perogram\\Preproses\\Tahap B\\Scyphiphora hydrophyllacea\\Scyphiphora.hydrophyllacea_22.jpg\n",
      "Processing C:\\Users\\USER\\Desktop\\Selected Perogram\\Preproses\\Tahap B\\Scyphiphora hydrophyllacea\\Scyphiphora.hydrophyllacea_23.jpg\n"
     ]
    },
    {
     "name": "stderr",
     "output_type": "stream",
     "text": [
      "Processing images:  76%|███████▌  | 1793/2360 [00:42<00:12, 43.95it/s]"
     ]
    },
    {
     "name": "stdout",
     "output_type": "stream",
     "text": [
      "Processing C:\\Users\\USER\\Desktop\\Selected Perogram\\Preproses\\Tahap B\\Scyphiphora hydrophyllacea\\Scyphiphora.hydrophyllacea_24.jpg\n",
      "Processing C:\\Users\\USER\\Desktop\\Selected Perogram\\Preproses\\Tahap B\\Scyphiphora hydrophyllacea\\Scyphiphora.hydrophyllacea_25.jpg\n",
      "Processing C:\\Users\\USER\\Desktop\\Selected Perogram\\Preproses\\Tahap B\\Scyphiphora hydrophyllacea\\Scyphiphora.hydrophyllacea_26.jpg\n",
      "Processing C:\\Users\\USER\\Desktop\\Selected Perogram\\Preproses\\Tahap B\\Scyphiphora hydrophyllacea\\Scyphiphora.hydrophyllacea_27.jpg\n",
      "Processing C:\\Users\\USER\\Desktop\\Selected Perogram\\Preproses\\Tahap B\\Scyphiphora hydrophyllacea\\Scyphiphora.hydrophyllacea_28.jpg\n",
      "Processing C:\\Users\\USER\\Desktop\\Selected Perogram\\Preproses\\Tahap B\\Scyphiphora hydrophyllacea\\Scyphiphora.hydrophyllacea_29.jpg\n",
      "Processing C:\\Users\\USER\\Desktop\\Selected Perogram\\Preproses\\Tahap B\\Scyphiphora hydrophyllacea\\Scyphiphora.hydrophyllacea_3.jpg\n",
      "Processing C:\\Users\\USER\\Desktop\\Selected Perogram\\Preproses\\Tahap B\\Scyphiphora hydrophyllacea\\Scyphiphora.hydrophyllacea_30.jpg\n",
      "Processing C:\\Users\\USER\\Desktop\\Selected Perogram\\Preproses\\Tahap B\\Scyphiphora hydrophyllacea\\Scyphiphora.hydrophyllacea_31.jpg\n"
     ]
    },
    {
     "name": "stderr",
     "output_type": "stream",
     "text": [
      "Processing images:  76%|███████▌  | 1798/2360 [00:42<00:12, 43.51it/s]"
     ]
    },
    {
     "name": "stdout",
     "output_type": "stream",
     "text": [
      "Processing C:\\Users\\USER\\Desktop\\Selected Perogram\\Preproses\\Tahap B\\Scyphiphora hydrophyllacea\\Scyphiphora.hydrophyllacea_32.jpg\n",
      "Processing C:\\Users\\USER\\Desktop\\Selected Perogram\\Preproses\\Tahap B\\Scyphiphora hydrophyllacea\\Scyphiphora.hydrophyllacea_33.jpg\n",
      "Processing C:\\Users\\USER\\Desktop\\Selected Perogram\\Preproses\\Tahap B\\Scyphiphora hydrophyllacea\\Scyphiphora.hydrophyllacea_34.jpg\n",
      "Processing C:\\Users\\USER\\Desktop\\Selected Perogram\\Preproses\\Tahap B\\Scyphiphora hydrophyllacea\\Scyphiphora.hydrophyllacea_35.jpg\n",
      "Processing C:\\Users\\USER\\Desktop\\Selected Perogram\\Preproses\\Tahap B\\Scyphiphora hydrophyllacea\\Scyphiphora.hydrophyllacea_36.jpg\n",
      "Processing C:\\Users\\USER\\Desktop\\Selected Perogram\\Preproses\\Tahap B\\Scyphiphora hydrophyllacea\\Scyphiphora.hydrophyllacea_37.jpg\n",
      "Processing C:\\Users\\USER\\Desktop\\Selected Perogram\\Preproses\\Tahap B\\Scyphiphora hydrophyllacea\\Scyphiphora.hydrophyllacea_38.jpg\n",
      "Processing C:\\Users\\USER\\Desktop\\Selected Perogram\\Preproses\\Tahap B\\Scyphiphora hydrophyllacea\\Scyphiphora.hydrophyllacea_39.jpg\n"
     ]
    },
    {
     "name": "stderr",
     "output_type": "stream",
     "text": [
      "Processing images:  77%|███████▋  | 1808/2360 [00:42<00:13, 41.10it/s]"
     ]
    },
    {
     "name": "stdout",
     "output_type": "stream",
     "text": [
      "Processing C:\\Users\\USER\\Desktop\\Selected Perogram\\Preproses\\Tahap B\\Scyphiphora hydrophyllacea\\Scyphiphora.hydrophyllacea_4.jpg\n",
      "Processing C:\\Users\\USER\\Desktop\\Selected Perogram\\Preproses\\Tahap B\\Scyphiphora hydrophyllacea\\Scyphiphora.hydrophyllacea_40.jpg\n",
      "Processing C:\\Users\\USER\\Desktop\\Selected Perogram\\Preproses\\Tahap B\\Scyphiphora hydrophyllacea\\Scyphiphora.hydrophyllacea_41.jpg\n",
      "Processing C:\\Users\\USER\\Desktop\\Selected Perogram\\Preproses\\Tahap B\\Scyphiphora hydrophyllacea\\Scyphiphora.hydrophyllacea_42.jpg\n",
      "Processing C:\\Users\\USER\\Desktop\\Selected Perogram\\Preproses\\Tahap B\\Scyphiphora hydrophyllacea\\Scyphiphora.hydrophyllacea_43.jpg\n",
      "Processing C:\\Users\\USER\\Desktop\\Selected Perogram\\Preproses\\Tahap B\\Scyphiphora hydrophyllacea\\Scyphiphora.hydrophyllacea_44.jpg\n",
      "Processing C:\\Users\\USER\\Desktop\\Selected Perogram\\Preproses\\Tahap B\\Scyphiphora hydrophyllacea\\Scyphiphora.hydrophyllacea_45.jpg\n",
      "Processing C:\\Users\\USER\\Desktop\\Selected Perogram\\Preproses\\Tahap B\\Scyphiphora hydrophyllacea\\Scyphiphora.hydrophyllacea_46.jpg\n",
      "Processing C:\\Users\\USER\\Desktop\\Selected Perogram\\Preproses\\Tahap B\\Scyphiphora hydrophyllacea\\Scyphiphora.hydrophyllacea_47.jpg\n"
     ]
    },
    {
     "name": "stderr",
     "output_type": "stream",
     "text": [
      "Processing images:  77%|███████▋  | 1818/2360 [00:42<00:12, 42.65it/s]"
     ]
    },
    {
     "name": "stdout",
     "output_type": "stream",
     "text": [
      "Processing C:\\Users\\USER\\Desktop\\Selected Perogram\\Preproses\\Tahap B\\Scyphiphora hydrophyllacea\\Scyphiphora.hydrophyllacea_48.jpg\n",
      "Processing C:\\Users\\USER\\Desktop\\Selected Perogram\\Preproses\\Tahap B\\Scyphiphora hydrophyllacea\\Scyphiphora.hydrophyllacea_49.jpg\n",
      "Processing C:\\Users\\USER\\Desktop\\Selected Perogram\\Preproses\\Tahap B\\Scyphiphora hydrophyllacea\\Scyphiphora.hydrophyllacea_5.jpg\n",
      "Processing C:\\Users\\USER\\Desktop\\Selected Perogram\\Preproses\\Tahap B\\Scyphiphora hydrophyllacea\\Scyphiphora.hydrophyllacea_50.jpg\n",
      "Processing C:\\Users\\USER\\Desktop\\Selected Perogram\\Preproses\\Tahap B\\Scyphiphora hydrophyllacea\\Scyphiphora.hydrophyllacea_51.jpg\n",
      "Processing C:\\Users\\USER\\Desktop\\Selected Perogram\\Preproses\\Tahap B\\Scyphiphora hydrophyllacea\\Scyphiphora.hydrophyllacea_52.jpg\n",
      "Processing C:\\Users\\USER\\Desktop\\Selected Perogram\\Preproses\\Tahap B\\Scyphiphora hydrophyllacea\\Scyphiphora.hydrophyllacea_53.jpg\n",
      "Processing C:\\Users\\USER\\Desktop\\Selected Perogram\\Preproses\\Tahap B\\Scyphiphora hydrophyllacea\\Scyphiphora.hydrophyllacea_54.jpg\n",
      "Processing C:\\Users\\USER\\Desktop\\Selected Perogram\\Preproses\\Tahap B\\Scyphiphora hydrophyllacea\\Scyphiphora.hydrophyllacea_55.jpg\n",
      "Processing C:\\Users\\USER\\Desktop\\Selected Perogram\\Preproses\\Tahap B\\Scyphiphora hydrophyllacea\\Scyphiphora.hydrophyllacea_56.jpg\n"
     ]
    },
    {
     "name": "stderr",
     "output_type": "stream",
     "text": [
      "Processing images:  77%|███████▋  | 1828/2360 [00:43<00:12, 43.81it/s]"
     ]
    },
    {
     "name": "stdout",
     "output_type": "stream",
     "text": [
      "Processing C:\\Users\\USER\\Desktop\\Selected Perogram\\Preproses\\Tahap B\\Scyphiphora hydrophyllacea\\Scyphiphora.hydrophyllacea_57.jpg\n",
      "Processing C:\\Users\\USER\\Desktop\\Selected Perogram\\Preproses\\Tahap B\\Scyphiphora hydrophyllacea\\Scyphiphora.hydrophyllacea_58.jpg\n",
      "Processing C:\\Users\\USER\\Desktop\\Selected Perogram\\Preproses\\Tahap B\\Scyphiphora hydrophyllacea\\Scyphiphora.hydrophyllacea_59.jpg\n",
      "Processing C:\\Users\\USER\\Desktop\\Selected Perogram\\Preproses\\Tahap B\\Scyphiphora hydrophyllacea\\Scyphiphora.hydrophyllacea_6.jpg\n",
      "Processing C:\\Users\\USER\\Desktop\\Selected Perogram\\Preproses\\Tahap B\\Scyphiphora hydrophyllacea\\Scyphiphora.hydrophyllacea_7.jpg\n",
      "Processing C:\\Users\\USER\\Desktop\\Selected Perogram\\Preproses\\Tahap B\\Scyphiphora hydrophyllacea\\Scyphiphora.hydrophyllacea_8.jpg\n",
      "Processing C:\\Users\\USER\\Desktop\\Selected Perogram\\Preproses\\Tahap B\\Scyphiphora hydrophyllacea\\Scyphiphora.hydrophyllacea_9.jpg\n",
      "Processing C:\\Users\\USER\\Desktop\\Selected Perogram\\Preproses\\Tahap B\\Scyphiphora hydrophyllacea\\Scyphiphora_hydrophyllacea10_horizontal_0.jpg\n",
      "Processing C:\\Users\\USER\\Desktop\\Selected Perogram\\Preproses\\Tahap B\\Scyphiphora hydrophyllacea\\Scyphiphora_hydrophyllacea10_horizontal_270.jpg\n",
      "Processing C:\\Users\\USER\\Desktop\\Selected Perogram\\Preproses\\Tahap B\\Scyphiphora hydrophyllacea\\Scyphiphora_hydrophyllacea10_horizontal_90.jpg\n"
     ]
    },
    {
     "name": "stderr",
     "output_type": "stream",
     "text": [
      "Processing images:  78%|███████▊  | 1838/2360 [00:43<00:11, 43.77it/s]"
     ]
    },
    {
     "name": "stdout",
     "output_type": "stream",
     "text": [
      "Processing C:\\Users\\USER\\Desktop\\Selected Perogram\\Preproses\\Tahap B\\Scyphiphora hydrophyllacea\\Scyphiphora_hydrophyllacea10_original_0.jpg\n",
      "Processing C:\\Users\\USER\\Desktop\\Selected Perogram\\Preproses\\Tahap B\\Scyphiphora hydrophyllacea\\Scyphiphora_hydrophyllacea10_original_270.jpg\n",
      "Processing C:\\Users\\USER\\Desktop\\Selected Perogram\\Preproses\\Tahap B\\Scyphiphora hydrophyllacea\\Scyphiphora_hydrophyllacea10_original_90.jpg\n",
      "Processing C:\\Users\\USER\\Desktop\\Selected Perogram\\Preproses\\Tahap B\\Scyphiphora hydrophyllacea\\Scyphiphora_hydrophyllacea10_vertical_0.jpg\n",
      "Processing C:\\Users\\USER\\Desktop\\Selected Perogram\\Preproses\\Tahap B\\Scyphiphora hydrophyllacea\\Scyphiphora_hydrophyllacea10_vertical_270.jpg\n",
      "Processing C:\\Users\\USER\\Desktop\\Selected Perogram\\Preproses\\Tahap B\\Scyphiphora hydrophyllacea\\Scyphiphora_hydrophyllacea10_vertical_90.jpg\n",
      "Processing C:\\Users\\USER\\Desktop\\Selected Perogram\\Preproses\\Tahap B\\Scyphiphora hydrophyllacea\\Scyphiphora_hydrophyllacea11_horizontal_0.jpg\n",
      "Processing C:\\Users\\USER\\Desktop\\Selected Perogram\\Preproses\\Tahap B\\Scyphiphora hydrophyllacea\\Scyphiphora_hydrophyllacea11_horizontal_270.jpg\n",
      "Processing C:\\Users\\USER\\Desktop\\Selected Perogram\\Preproses\\Tahap B\\Scyphiphora hydrophyllacea\\Scyphiphora_hydrophyllacea11_horizontal_90.jpg\n",
      "Processing C:\\Users\\USER\\Desktop\\Selected Perogram\\Preproses\\Tahap B\\Scyphiphora hydrophyllacea\\Scyphiphora_hydrophyllacea11_original_0.jpg\n"
     ]
    },
    {
     "name": "stderr",
     "output_type": "stream",
     "text": [
      "Processing images:  78%|███████▊  | 1848/2360 [00:43<00:11, 43.56it/s]"
     ]
    },
    {
     "name": "stdout",
     "output_type": "stream",
     "text": [
      "Processing C:\\Users\\USER\\Desktop\\Selected Perogram\\Preproses\\Tahap B\\Scyphiphora hydrophyllacea\\Scyphiphora_hydrophyllacea11_original_270.jpg\n",
      "Processing C:\\Users\\USER\\Desktop\\Selected Perogram\\Preproses\\Tahap B\\Scyphiphora hydrophyllacea\\Scyphiphora_hydrophyllacea11_original_90.jpg\n",
      "Processing C:\\Users\\USER\\Desktop\\Selected Perogram\\Preproses\\Tahap B\\Scyphiphora hydrophyllacea\\Scyphiphora_hydrophyllacea11_vertical_0.jpg\n",
      "Processing C:\\Users\\USER\\Desktop\\Selected Perogram\\Preproses\\Tahap B\\Scyphiphora hydrophyllacea\\Scyphiphora_hydrophyllacea11_vertical_270.jpg\n",
      "Processing C:\\Users\\USER\\Desktop\\Selected Perogram\\Preproses\\Tahap B\\Scyphiphora hydrophyllacea\\Scyphiphora_hydrophyllacea11_vertical_90.jpg\n",
      "Processing C:\\Users\\USER\\Desktop\\Selected Perogram\\Preproses\\Tahap B\\Scyphiphora hydrophyllacea\\Scyphiphora_hydrophyllacea12_horizontal_0.jpg\n",
      "Processing C:\\Users\\USER\\Desktop\\Selected Perogram\\Preproses\\Tahap B\\Scyphiphora hydrophyllacea\\Scyphiphora_hydrophyllacea12_horizontal_270.jpg\n",
      "Processing C:\\Users\\USER\\Desktop\\Selected Perogram\\Preproses\\Tahap B\\Scyphiphora hydrophyllacea\\Scyphiphora_hydrophyllacea12_horizontal_90.jpg\n",
      "Processing C:\\Users\\USER\\Desktop\\Selected Perogram\\Preproses\\Tahap B\\Scyphiphora hydrophyllacea\\Scyphiphora_hydrophyllacea12_original_0.jpg\n",
      "Processing C:\\Users\\USER\\Desktop\\Selected Perogram\\Preproses\\Tahap B\\Scyphiphora hydrophyllacea\\Scyphiphora_hydrophyllacea12_original_270.jpg\n"
     ]
    },
    {
     "name": "stderr",
     "output_type": "stream",
     "text": [
      "Processing images:  79%|███████▊  | 1858/2360 [00:43<00:11, 43.45it/s]"
     ]
    },
    {
     "name": "stdout",
     "output_type": "stream",
     "text": [
      "Processing C:\\Users\\USER\\Desktop\\Selected Perogram\\Preproses\\Tahap B\\Scyphiphora hydrophyllacea\\Scyphiphora_hydrophyllacea12_original_90.jpg\n",
      "Processing C:\\Users\\USER\\Desktop\\Selected Perogram\\Preproses\\Tahap B\\Scyphiphora hydrophyllacea\\Scyphiphora_hydrophyllacea12_vertical_0.jpg\n",
      "Processing C:\\Users\\USER\\Desktop\\Selected Perogram\\Preproses\\Tahap B\\Scyphiphora hydrophyllacea\\Scyphiphora_hydrophyllacea12_vertical_270.jpg\n",
      "Processing C:\\Users\\USER\\Desktop\\Selected Perogram\\Preproses\\Tahap B\\Scyphiphora hydrophyllacea\\Scyphiphora_hydrophyllacea12_vertical_90.jpg\n",
      "Processing C:\\Users\\USER\\Desktop\\Selected Perogram\\Preproses\\Tahap B\\Scyphiphora hydrophyllacea\\Scyphiphora_hydrophyllacea13_horizontal_0.jpg\n",
      "Processing C:\\Users\\USER\\Desktop\\Selected Perogram\\Preproses\\Tahap B\\Scyphiphora hydrophyllacea\\Scyphiphora_hydrophyllacea13_horizontal_270.jpg\n",
      "Processing C:\\Users\\USER\\Desktop\\Selected Perogram\\Preproses\\Tahap B\\Scyphiphora hydrophyllacea\\Scyphiphora_hydrophyllacea13_horizontal_90.jpg\n",
      "Processing C:\\Users\\USER\\Desktop\\Selected Perogram\\Preproses\\Tahap B\\Scyphiphora hydrophyllacea\\Scyphiphora_hydrophyllacea13_original_0.jpg\n",
      "Processing C:\\Users\\USER\\Desktop\\Selected Perogram\\Preproses\\Tahap B\\Scyphiphora hydrophyllacea\\Scyphiphora_hydrophyllacea13_original_270.jpg\n",
      "Processing C:\\Users\\USER\\Desktop\\Selected Perogram\\Preproses\\Tahap B\\Scyphiphora hydrophyllacea\\Scyphiphora_hydrophyllacea13_original_90.jpg\n"
     ]
    },
    {
     "name": "stderr",
     "output_type": "stream",
     "text": [
      "Processing images:  79%|███████▉  | 1868/2360 [00:44<00:11, 43.75it/s]"
     ]
    },
    {
     "name": "stdout",
     "output_type": "stream",
     "text": [
      "Processing C:\\Users\\USER\\Desktop\\Selected Perogram\\Preproses\\Tahap B\\Scyphiphora hydrophyllacea\\Scyphiphora_hydrophyllacea13_vertical_0.jpg\n",
      "Processing C:\\Users\\USER\\Desktop\\Selected Perogram\\Preproses\\Tahap B\\Scyphiphora hydrophyllacea\\Scyphiphora_hydrophyllacea13_vertical_270.jpg\n",
      "Processing C:\\Users\\USER\\Desktop\\Selected Perogram\\Preproses\\Tahap B\\Scyphiphora hydrophyllacea\\Scyphiphora_hydrophyllacea13_vertical_90.jpg\n",
      "Processing C:\\Users\\USER\\Desktop\\Selected Perogram\\Preproses\\Tahap B\\Scyphiphora hydrophyllacea\\Scyphiphora_hydrophyllacea14_horizontal_0.jpg\n",
      "Processing C:\\Users\\USER\\Desktop\\Selected Perogram\\Preproses\\Tahap B\\Scyphiphora hydrophyllacea\\Scyphiphora_hydrophyllacea14_horizontal_270.jpg\n",
      "Processing C:\\Users\\USER\\Desktop\\Selected Perogram\\Preproses\\Tahap B\\Scyphiphora hydrophyllacea\\Scyphiphora_hydrophyllacea14_horizontal_90.jpg\n",
      "Processing C:\\Users\\USER\\Desktop\\Selected Perogram\\Preproses\\Tahap B\\Scyphiphora hydrophyllacea\\Scyphiphora_hydrophyllacea14_original_0.jpg\n",
      "Processing C:\\Users\\USER\\Desktop\\Selected Perogram\\Preproses\\Tahap B\\Scyphiphora hydrophyllacea\\Scyphiphora_hydrophyllacea14_original_270.jpg\n",
      "Processing C:\\Users\\USER\\Desktop\\Selected Perogram\\Preproses\\Tahap B\\Scyphiphora hydrophyllacea\\Scyphiphora_hydrophyllacea14_original_90.jpg\n"
     ]
    },
    {
     "name": "stderr",
     "output_type": "stream",
     "text": [
      "Processing images:  80%|███████▉  | 1878/2360 [00:44<00:11, 42.27it/s]"
     ]
    },
    {
     "name": "stdout",
     "output_type": "stream",
     "text": [
      "Processing C:\\Users\\USER\\Desktop\\Selected Perogram\\Preproses\\Tahap B\\Scyphiphora hydrophyllacea\\Scyphiphora_hydrophyllacea14_vertical_0.jpg\n",
      "Processing C:\\Users\\USER\\Desktop\\Selected Perogram\\Preproses\\Tahap B\\Scyphiphora hydrophyllacea\\Scyphiphora_hydrophyllacea14_vertical_270.jpg\n",
      "Processing C:\\Users\\USER\\Desktop\\Selected Perogram\\Preproses\\Tahap B\\Scyphiphora hydrophyllacea\\Scyphiphora_hydrophyllacea14_vertical_90.jpg\n",
      "Processing C:\\Users\\USER\\Desktop\\Selected Perogram\\Preproses\\Tahap B\\Scyphiphora hydrophyllacea\\Scyphiphora_hydrophyllacea15_horizontal_0.jpg\n",
      "Processing C:\\Users\\USER\\Desktop\\Selected Perogram\\Preproses\\Tahap B\\Scyphiphora hydrophyllacea\\Scyphiphora_hydrophyllacea15_horizontal_270.jpg\n",
      "Processing C:\\Users\\USER\\Desktop\\Selected Perogram\\Preproses\\Tahap B\\Scyphiphora hydrophyllacea\\Scyphiphora_hydrophyllacea15_horizontal_90.jpg\n",
      "Processing C:\\Users\\USER\\Desktop\\Selected Perogram\\Preproses\\Tahap B\\Scyphiphora hydrophyllacea\\Scyphiphora_hydrophyllacea15_original_0.jpg\n",
      "Processing C:\\Users\\USER\\Desktop\\Selected Perogram\\Preproses\\Tahap B\\Scyphiphora hydrophyllacea\\Scyphiphora_hydrophyllacea15_original_270.jpg\n",
      "Processing C:\\Users\\USER\\Desktop\\Selected Perogram\\Preproses\\Tahap B\\Scyphiphora hydrophyllacea\\Scyphiphora_hydrophyllacea15_original_90.jpg\n"
     ]
    },
    {
     "name": "stderr",
     "output_type": "stream",
     "text": [
      "Processing images:  80%|████████  | 1888/2360 [00:44<00:11, 42.79it/s]"
     ]
    },
    {
     "name": "stdout",
     "output_type": "stream",
     "text": [
      "Processing C:\\Users\\USER\\Desktop\\Selected Perogram\\Preproses\\Tahap B\\Scyphiphora hydrophyllacea\\Scyphiphora_hydrophyllacea15_vertical_0.jpg\n",
      "Processing C:\\Users\\USER\\Desktop\\Selected Perogram\\Preproses\\Tahap B\\Scyphiphora hydrophyllacea\\Scyphiphora_hydrophyllacea15_vertical_270.jpg\n",
      "Processing C:\\Users\\USER\\Desktop\\Selected Perogram\\Preproses\\Tahap B\\Scyphiphora hydrophyllacea\\Scyphiphora_hydrophyllacea15_vertical_90.jpg\n",
      "Processing C:\\Users\\USER\\Desktop\\Selected Perogram\\Preproses\\Tahap B\\Scyphiphora hydrophyllacea\\Scyphiphora_hydrophyllacea16_horizontal_0.jpg\n",
      "Processing C:\\Users\\USER\\Desktop\\Selected Perogram\\Preproses\\Tahap B\\Scyphiphora hydrophyllacea\\Scyphiphora_hydrophyllacea16_horizontal_270.jpg\n",
      "Processing C:\\Users\\USER\\Desktop\\Selected Perogram\\Preproses\\Tahap B\\Scyphiphora hydrophyllacea\\Scyphiphora_hydrophyllacea16_horizontal_90.jpg\n",
      "Processing C:\\Users\\USER\\Desktop\\Selected Perogram\\Preproses\\Tahap B\\Scyphiphora hydrophyllacea\\Scyphiphora_hydrophyllacea16_original_0.jpg\n",
      "Processing C:\\Users\\USER\\Desktop\\Selected Perogram\\Preproses\\Tahap B\\Scyphiphora hydrophyllacea\\Scyphiphora_hydrophyllacea16_original_270.jpg\n"
     ]
    },
    {
     "name": "stderr",
     "output_type": "stream",
     "text": [
      "Processing images:  80%|████████  | 1893/2360 [00:44<00:10, 43.29it/s]"
     ]
    },
    {
     "name": "stdout",
     "output_type": "stream",
     "text": [
      "Processing C:\\Users\\USER\\Desktop\\Selected Perogram\\Preproses\\Tahap B\\Scyphiphora hydrophyllacea\\Scyphiphora_hydrophyllacea16_original_90.jpg\n",
      "Processing C:\\Users\\USER\\Desktop\\Selected Perogram\\Preproses\\Tahap B\\Scyphiphora hydrophyllacea\\Scyphiphora_hydrophyllacea16_vertical_0.jpg\n",
      "Processing C:\\Users\\USER\\Desktop\\Selected Perogram\\Preproses\\Tahap B\\Scyphiphora hydrophyllacea\\Scyphiphora_hydrophyllacea16_vertical_270.jpg\n",
      "Processing C:\\Users\\USER\\Desktop\\Selected Perogram\\Preproses\\Tahap B\\Scyphiphora hydrophyllacea\\Scyphiphora_hydrophyllacea16_vertical_90.jpg\n",
      "Processing C:\\Users\\USER\\Desktop\\Selected Perogram\\Preproses\\Tahap B\\Scyphiphora hydrophyllacea\\Scyphiphora_hydrophyllacea17_horizontal_0.jpg\n",
      "Processing C:\\Users\\USER\\Desktop\\Selected Perogram\\Preproses\\Tahap B\\Scyphiphora hydrophyllacea\\Scyphiphora_hydrophyllacea17_horizontal_270.jpg\n",
      "Processing C:\\Users\\USER\\Desktop\\Selected Perogram\\Preproses\\Tahap B\\Scyphiphora hydrophyllacea\\Scyphiphora_hydrophyllacea17_horizontal_90.jpg\n",
      "Processing C:\\Users\\USER\\Desktop\\Selected Perogram\\Preproses\\Tahap B\\Scyphiphora hydrophyllacea\\Scyphiphora_hydrophyllacea17_original_0.jpg\n",
      "Processing C:\\Users\\USER\\Desktop\\Selected Perogram\\Preproses\\Tahap B\\Scyphiphora hydrophyllacea\\Scyphiphora_hydrophyllacea17_original_270.jpg\n",
      "Processing C:\\Users\\USER\\Desktop\\Selected Perogram\\Preproses\\Tahap B\\Scyphiphora hydrophyllacea\\Scyphiphora_hydrophyllacea17_original_90.jpg\n"
     ]
    },
    {
     "name": "stderr",
     "output_type": "stream",
     "text": [
      "Processing images:  81%|████████  | 1903/2360 [00:44<00:10, 42.86it/s]"
     ]
    },
    {
     "name": "stdout",
     "output_type": "stream",
     "text": [
      "Processing C:\\Users\\USER\\Desktop\\Selected Perogram\\Preproses\\Tahap B\\Scyphiphora hydrophyllacea\\Scyphiphora_hydrophyllacea17_vertical_0.jpg\n",
      "Processing C:\\Users\\USER\\Desktop\\Selected Perogram\\Preproses\\Tahap B\\Scyphiphora hydrophyllacea\\Scyphiphora_hydrophyllacea17_vertical_270.jpg\n",
      "Processing C:\\Users\\USER\\Desktop\\Selected Perogram\\Preproses\\Tahap B\\Scyphiphora hydrophyllacea\\Scyphiphora_hydrophyllacea17_vertical_90.jpg\n",
      "Processing C:\\Users\\USER\\Desktop\\Selected Perogram\\Preproses\\Tahap B\\Scyphiphora hydrophyllacea\\Scyphiphora_hydrophyllacea18_horizontal_0.jpg\n",
      "Processing C:\\Users\\USER\\Desktop\\Selected Perogram\\Preproses\\Tahap B\\Scyphiphora hydrophyllacea\\Scyphiphora_hydrophyllacea18_horizontal_270.jpg\n",
      "Processing C:\\Users\\USER\\Desktop\\Selected Perogram\\Preproses\\Tahap B\\Scyphiphora hydrophyllacea\\Scyphiphora_hydrophyllacea18_horizontal_90.jpg\n",
      "Processing C:\\Users\\USER\\Desktop\\Selected Perogram\\Preproses\\Tahap B\\Scyphiphora hydrophyllacea\\Scyphiphora_hydrophyllacea18_original_0.jpg\n",
      "Processing C:\\Users\\USER\\Desktop\\Selected Perogram\\Preproses\\Tahap B\\Scyphiphora hydrophyllacea\\Scyphiphora_hydrophyllacea18_original_270.jpg\n",
      "Processing C:\\Users\\USER\\Desktop\\Selected Perogram\\Preproses\\Tahap B\\Scyphiphora hydrophyllacea\\Scyphiphora_hydrophyllacea18_original_90.jpg\n",
      "Processing C:\\Users\\USER\\Desktop\\Selected Perogram\\Preproses\\Tahap B\\Scyphiphora hydrophyllacea\\Scyphiphora_hydrophyllacea18_vertical_0.jpg\n"
     ]
    },
    {
     "name": "stderr",
     "output_type": "stream",
     "text": [
      "Processing images:  81%|████████  | 1913/2360 [00:45<00:10, 43.39it/s]"
     ]
    },
    {
     "name": "stdout",
     "output_type": "stream",
     "text": [
      "Processing C:\\Users\\USER\\Desktop\\Selected Perogram\\Preproses\\Tahap B\\Scyphiphora hydrophyllacea\\Scyphiphora_hydrophyllacea18_vertical_270.jpg\n",
      "Processing C:\\Users\\USER\\Desktop\\Selected Perogram\\Preproses\\Tahap B\\Scyphiphora hydrophyllacea\\Scyphiphora_hydrophyllacea18_vertical_90.jpg\n",
      "Processing C:\\Users\\USER\\Desktop\\Selected Perogram\\Preproses\\Tahap B\\Scyphiphora hydrophyllacea\\Scyphiphora_hydrophyllacea19_horizontal_0.jpg\n",
      "Processing C:\\Users\\USER\\Desktop\\Selected Perogram\\Preproses\\Tahap B\\Scyphiphora hydrophyllacea\\Scyphiphora_hydrophyllacea19_horizontal_270.jpg\n",
      "Processing C:\\Users\\USER\\Desktop\\Selected Perogram\\Preproses\\Tahap B\\Scyphiphora hydrophyllacea\\Scyphiphora_hydrophyllacea19_horizontal_90.jpg\n",
      "Processing C:\\Users\\USER\\Desktop\\Selected Perogram\\Preproses\\Tahap B\\Scyphiphora hydrophyllacea\\Scyphiphora_hydrophyllacea19_original_0.jpg\n",
      "Processing C:\\Users\\USER\\Desktop\\Selected Perogram\\Preproses\\Tahap B\\Scyphiphora hydrophyllacea\\Scyphiphora_hydrophyllacea19_original_270.jpg\n",
      "Processing C:\\Users\\USER\\Desktop\\Selected Perogram\\Preproses\\Tahap B\\Scyphiphora hydrophyllacea\\Scyphiphora_hydrophyllacea19_original_90.jpg\n",
      "Processing C:\\Users\\USER\\Desktop\\Selected Perogram\\Preproses\\Tahap B\\Scyphiphora hydrophyllacea\\Scyphiphora_hydrophyllacea19_vertical_0.jpg\n"
     ]
    },
    {
     "name": "stderr",
     "output_type": "stream",
     "text": [
      "Processing images:  81%|████████▏ | 1923/2360 [00:45<00:10, 43.51it/s]"
     ]
    },
    {
     "name": "stdout",
     "output_type": "stream",
     "text": [
      "Processing C:\\Users\\USER\\Desktop\\Selected Perogram\\Preproses\\Tahap B\\Scyphiphora hydrophyllacea\\Scyphiphora_hydrophyllacea19_vertical_270.jpg\n",
      "Processing C:\\Users\\USER\\Desktop\\Selected Perogram\\Preproses\\Tahap B\\Scyphiphora hydrophyllacea\\Scyphiphora_hydrophyllacea19_vertical_90.jpg\n",
      "Processing C:\\Users\\USER\\Desktop\\Selected Perogram\\Preproses\\Tahap B\\Scyphiphora hydrophyllacea\\Scyphiphora_hydrophyllacea1_horizontal_0.jpg\n",
      "Processing C:\\Users\\USER\\Desktop\\Selected Perogram\\Preproses\\Tahap B\\Scyphiphora hydrophyllacea\\Scyphiphora_hydrophyllacea1_horizontal_270.jpg\n",
      "Processing C:\\Users\\USER\\Desktop\\Selected Perogram\\Preproses\\Tahap B\\Scyphiphora hydrophyllacea\\Scyphiphora_hydrophyllacea1_horizontal_90.jpg\n",
      "Processing C:\\Users\\USER\\Desktop\\Selected Perogram\\Preproses\\Tahap B\\Scyphiphora hydrophyllacea\\Scyphiphora_hydrophyllacea1_original_0.jpg\n",
      "Processing C:\\Users\\USER\\Desktop\\Selected Perogram\\Preproses\\Tahap B\\Scyphiphora hydrophyllacea\\Scyphiphora_hydrophyllacea1_original_270.jpg\n",
      "Processing C:\\Users\\USER\\Desktop\\Selected Perogram\\Preproses\\Tahap B\\Scyphiphora hydrophyllacea\\Scyphiphora_hydrophyllacea1_original_90.jpg\n",
      "Processing C:\\Users\\USER\\Desktop\\Selected Perogram\\Preproses\\Tahap B\\Scyphiphora hydrophyllacea\\Scyphiphora_hydrophyllacea1_vertical_0.jpg\n",
      "Processing C:\\Users\\USER\\Desktop\\Selected Perogram\\Preproses\\Tahap B\\Scyphiphora hydrophyllacea\\Scyphiphora_hydrophyllacea1_vertical_270.jpg\n"
     ]
    },
    {
     "name": "stderr",
     "output_type": "stream",
     "text": [
      "Processing images:  82%|████████▏ | 1933/2360 [00:45<00:09, 43.63it/s]"
     ]
    },
    {
     "name": "stdout",
     "output_type": "stream",
     "text": [
      "Processing C:\\Users\\USER\\Desktop\\Selected Perogram\\Preproses\\Tahap B\\Scyphiphora hydrophyllacea\\Scyphiphora_hydrophyllacea1_vertical_90.jpg\n",
      "Processing C:\\Users\\USER\\Desktop\\Selected Perogram\\Preproses\\Tahap B\\Scyphiphora hydrophyllacea\\Scyphiphora_hydrophyllacea20_horizontal_0.jpg\n",
      "Processing C:\\Users\\USER\\Desktop\\Selected Perogram\\Preproses\\Tahap B\\Scyphiphora hydrophyllacea\\Scyphiphora_hydrophyllacea20_horizontal_270.jpg\n",
      "Processing C:\\Users\\USER\\Desktop\\Selected Perogram\\Preproses\\Tahap B\\Scyphiphora hydrophyllacea\\Scyphiphora_hydrophyllacea20_horizontal_90.jpg\n",
      "Processing C:\\Users\\USER\\Desktop\\Selected Perogram\\Preproses\\Tahap B\\Scyphiphora hydrophyllacea\\Scyphiphora_hydrophyllacea20_original_0.jpg\n",
      "Processing C:\\Users\\USER\\Desktop\\Selected Perogram\\Preproses\\Tahap B\\Scyphiphora hydrophyllacea\\Scyphiphora_hydrophyllacea20_original_270.jpg\n",
      "Processing C:\\Users\\USER\\Desktop\\Selected Perogram\\Preproses\\Tahap B\\Scyphiphora hydrophyllacea\\Scyphiphora_hydrophyllacea20_original_90.jpg\n",
      "Processing C:\\Users\\USER\\Desktop\\Selected Perogram\\Preproses\\Tahap B\\Scyphiphora hydrophyllacea\\Scyphiphora_hydrophyllacea20_vertical_0.jpg\n",
      "Processing C:\\Users\\USER\\Desktop\\Selected Perogram\\Preproses\\Tahap B\\Scyphiphora hydrophyllacea\\Scyphiphora_hydrophyllacea20_vertical_270.jpg\n"
     ]
    },
    {
     "name": "stderr",
     "output_type": "stream",
     "text": [
      "Processing images:  82%|████████▏ | 1943/2360 [00:45<00:09, 44.16it/s]"
     ]
    },
    {
     "name": "stdout",
     "output_type": "stream",
     "text": [
      "Processing C:\\Users\\USER\\Desktop\\Selected Perogram\\Preproses\\Tahap B\\Scyphiphora hydrophyllacea\\Scyphiphora_hydrophyllacea20_vertical_90.jpg\n",
      "Processing C:\\Users\\USER\\Desktop\\Selected Perogram\\Preproses\\Tahap B\\Scyphiphora hydrophyllacea\\Scyphiphora_hydrophyllacea21_horizontal_0.jpg\n",
      "Processing C:\\Users\\USER\\Desktop\\Selected Perogram\\Preproses\\Tahap B\\Scyphiphora hydrophyllacea\\Scyphiphora_hydrophyllacea21_horizontal_270.jpg\n",
      "Processing C:\\Users\\USER\\Desktop\\Selected Perogram\\Preproses\\Tahap B\\Scyphiphora hydrophyllacea\\Scyphiphora_hydrophyllacea21_horizontal_90.jpg\n",
      "Processing C:\\Users\\USER\\Desktop\\Selected Perogram\\Preproses\\Tahap B\\Scyphiphora hydrophyllacea\\Scyphiphora_hydrophyllacea21_original_0.jpg\n",
      "Processing C:\\Users\\USER\\Desktop\\Selected Perogram\\Preproses\\Tahap B\\Scyphiphora hydrophyllacea\\Scyphiphora_hydrophyllacea21_original_270.jpg\n",
      "Processing C:\\Users\\USER\\Desktop\\Selected Perogram\\Preproses\\Tahap B\\Scyphiphora hydrophyllacea\\Scyphiphora_hydrophyllacea21_original_90.jpg\n",
      "Processing C:\\Users\\USER\\Desktop\\Selected Perogram\\Preproses\\Tahap B\\Scyphiphora hydrophyllacea\\Scyphiphora_hydrophyllacea21_vertical_0.jpg\n",
      "Processing C:\\Users\\USER\\Desktop\\Selected Perogram\\Preproses\\Tahap B\\Scyphiphora hydrophyllacea\\Scyphiphora_hydrophyllacea21_vertical_270.jpg\n"
     ]
    },
    {
     "name": "stderr",
     "output_type": "stream",
     "text": [
      "Processing images:  83%|████████▎ | 1948/2360 [00:45<00:09, 41.90it/s]"
     ]
    },
    {
     "name": "stdout",
     "output_type": "stream",
     "text": [
      "Processing C:\\Users\\USER\\Desktop\\Selected Perogram\\Preproses\\Tahap B\\Scyphiphora hydrophyllacea\\Scyphiphora_hydrophyllacea21_vertical_90.jpg\n",
      "Processing C:\\Users\\USER\\Desktop\\Selected Perogram\\Preproses\\Tahap B\\Scyphiphora hydrophyllacea\\Scyphiphora_hydrophyllacea22_horizontal_0.jpg\n",
      "Processing C:\\Users\\USER\\Desktop\\Selected Perogram\\Preproses\\Tahap B\\Scyphiphora hydrophyllacea\\Scyphiphora_hydrophyllacea22_horizontal_270.jpg\n",
      "Processing C:\\Users\\USER\\Desktop\\Selected Perogram\\Preproses\\Tahap B\\Scyphiphora hydrophyllacea\\Scyphiphora_hydrophyllacea22_horizontal_90.jpg\n",
      "Processing C:\\Users\\USER\\Desktop\\Selected Perogram\\Preproses\\Tahap B\\Scyphiphora hydrophyllacea\\Scyphiphora_hydrophyllacea22_original_0.jpg\n",
      "Processing C:\\Users\\USER\\Desktop\\Selected Perogram\\Preproses\\Tahap B\\Scyphiphora hydrophyllacea\\Scyphiphora_hydrophyllacea22_original_270.jpg\n",
      "Processing C:\\Users\\USER\\Desktop\\Selected Perogram\\Preproses\\Tahap B\\Scyphiphora hydrophyllacea\\Scyphiphora_hydrophyllacea22_original_90.jpg\n",
      "Processing C:\\Users\\USER\\Desktop\\Selected Perogram\\Preproses\\Tahap B\\Scyphiphora hydrophyllacea\\Scyphiphora_hydrophyllacea22_vertical_0.jpg\n"
     ]
    },
    {
     "name": "stderr",
     "output_type": "stream",
     "text": [
      "Processing images:  83%|████████▎ | 1958/2360 [00:46<00:09, 42.69it/s]"
     ]
    },
    {
     "name": "stdout",
     "output_type": "stream",
     "text": [
      "Processing C:\\Users\\USER\\Desktop\\Selected Perogram\\Preproses\\Tahap B\\Scyphiphora hydrophyllacea\\Scyphiphora_hydrophyllacea22_vertical_270.jpg\n",
      "Processing C:\\Users\\USER\\Desktop\\Selected Perogram\\Preproses\\Tahap B\\Scyphiphora hydrophyllacea\\Scyphiphora_hydrophyllacea22_vertical_90.jpg\n",
      "Processing C:\\Users\\USER\\Desktop\\Selected Perogram\\Preproses\\Tahap B\\Scyphiphora hydrophyllacea\\Scyphiphora_hydrophyllacea23_horizontal_0.jpg\n",
      "Processing C:\\Users\\USER\\Desktop\\Selected Perogram\\Preproses\\Tahap B\\Scyphiphora hydrophyllacea\\Scyphiphora_hydrophyllacea23_horizontal_270.jpg\n",
      "Processing C:\\Users\\USER\\Desktop\\Selected Perogram\\Preproses\\Tahap B\\Scyphiphora hydrophyllacea\\Scyphiphora_hydrophyllacea23_horizontal_90.jpg\n",
      "Processing C:\\Users\\USER\\Desktop\\Selected Perogram\\Preproses\\Tahap B\\Scyphiphora hydrophyllacea\\Scyphiphora_hydrophyllacea23_original_0.jpg\n",
      "Processing C:\\Users\\USER\\Desktop\\Selected Perogram\\Preproses\\Tahap B\\Scyphiphora hydrophyllacea\\Scyphiphora_hydrophyllacea23_original_270.jpg\n",
      "Processing C:\\Users\\USER\\Desktop\\Selected Perogram\\Preproses\\Tahap B\\Scyphiphora hydrophyllacea\\Scyphiphora_hydrophyllacea23_original_90.jpg\n",
      "Processing C:\\Users\\USER\\Desktop\\Selected Perogram\\Preproses\\Tahap B\\Scyphiphora hydrophyllacea\\Scyphiphora_hydrophyllacea23_vertical_0.jpg\n"
     ]
    },
    {
     "name": "stderr",
     "output_type": "stream",
     "text": [
      "Processing images:  83%|████████▎ | 1968/2360 [00:46<00:09, 40.03it/s]"
     ]
    },
    {
     "name": "stdout",
     "output_type": "stream",
     "text": [
      "Processing C:\\Users\\USER\\Desktop\\Selected Perogram\\Preproses\\Tahap B\\Scyphiphora hydrophyllacea\\Scyphiphora_hydrophyllacea23_vertical_270.jpg\n",
      "Processing C:\\Users\\USER\\Desktop\\Selected Perogram\\Preproses\\Tahap B\\Scyphiphora hydrophyllacea\\Scyphiphora_hydrophyllacea23_vertical_90.jpg\n",
      "Processing C:\\Users\\USER\\Desktop\\Selected Perogram\\Preproses\\Tahap B\\Scyphiphora hydrophyllacea\\Scyphiphora_hydrophyllacea24_horizontal_0.jpg\n",
      "Processing C:\\Users\\USER\\Desktop\\Selected Perogram\\Preproses\\Tahap B\\Scyphiphora hydrophyllacea\\Scyphiphora_hydrophyllacea24_horizontal_270.jpg\n",
      "Processing C:\\Users\\USER\\Desktop\\Selected Perogram\\Preproses\\Tahap B\\Scyphiphora hydrophyllacea\\Scyphiphora_hydrophyllacea24_horizontal_90.jpg\n",
      "Processing C:\\Users\\USER\\Desktop\\Selected Perogram\\Preproses\\Tahap B\\Scyphiphora hydrophyllacea\\Scyphiphora_hydrophyllacea24_original_0.jpg\n",
      "Processing C:\\Users\\USER\\Desktop\\Selected Perogram\\Preproses\\Tahap B\\Scyphiphora hydrophyllacea\\Scyphiphora_hydrophyllacea24_original_270.jpg\n",
      "Processing C:\\Users\\USER\\Desktop\\Selected Perogram\\Preproses\\Tahap B\\Scyphiphora hydrophyllacea\\Scyphiphora_hydrophyllacea24_original_90.jpg\n"
     ]
    },
    {
     "name": "stderr",
     "output_type": "stream",
     "text": [
      "Processing images:  84%|████████▍ | 1978/2360 [00:46<00:09, 41.72it/s]"
     ]
    },
    {
     "name": "stdout",
     "output_type": "stream",
     "text": [
      "Processing C:\\Users\\USER\\Desktop\\Selected Perogram\\Preproses\\Tahap B\\Scyphiphora hydrophyllacea\\Scyphiphora_hydrophyllacea24_vertical_0.jpg\n",
      "Processing C:\\Users\\USER\\Desktop\\Selected Perogram\\Preproses\\Tahap B\\Scyphiphora hydrophyllacea\\Scyphiphora_hydrophyllacea24_vertical_270.jpg\n",
      "Processing C:\\Users\\USER\\Desktop\\Selected Perogram\\Preproses\\Tahap B\\Scyphiphora hydrophyllacea\\Scyphiphora_hydrophyllacea24_vertical_90.jpg\n",
      "Processing C:\\Users\\USER\\Desktop\\Selected Perogram\\Preproses\\Tahap B\\Scyphiphora hydrophyllacea\\Scyphiphora_hydrophyllacea25_horizontal_0.jpg\n",
      "Processing C:\\Users\\USER\\Desktop\\Selected Perogram\\Preproses\\Tahap B\\Scyphiphora hydrophyllacea\\Scyphiphora_hydrophyllacea25_horizontal_270.jpg\n",
      "Processing C:\\Users\\USER\\Desktop\\Selected Perogram\\Preproses\\Tahap B\\Scyphiphora hydrophyllacea\\Scyphiphora_hydrophyllacea25_horizontal_90.jpg\n",
      "Processing C:\\Users\\USER\\Desktop\\Selected Perogram\\Preproses\\Tahap B\\Scyphiphora hydrophyllacea\\Scyphiphora_hydrophyllacea25_original_0.jpg\n",
      "Processing C:\\Users\\USER\\Desktop\\Selected Perogram\\Preproses\\Tahap B\\Scyphiphora hydrophyllacea\\Scyphiphora_hydrophyllacea25_original_270.jpg\n"
     ]
    },
    {
     "name": "stderr",
     "output_type": "stream",
     "text": [
      "Processing images:  84%|████████▍ | 1983/2360 [00:46<00:08, 42.11it/s]"
     ]
    },
    {
     "name": "stdout",
     "output_type": "stream",
     "text": [
      "Processing C:\\Users\\USER\\Desktop\\Selected Perogram\\Preproses\\Tahap B\\Scyphiphora hydrophyllacea\\Scyphiphora_hydrophyllacea25_original_90.jpg\n",
      "Processing C:\\Users\\USER\\Desktop\\Selected Perogram\\Preproses\\Tahap B\\Scyphiphora hydrophyllacea\\Scyphiphora_hydrophyllacea25_vertical_0.jpg\n",
      "Processing C:\\Users\\USER\\Desktop\\Selected Perogram\\Preproses\\Tahap B\\Scyphiphora hydrophyllacea\\Scyphiphora_hydrophyllacea25_vertical_270.jpg\n",
      "Processing C:\\Users\\USER\\Desktop\\Selected Perogram\\Preproses\\Tahap B\\Scyphiphora hydrophyllacea\\Scyphiphora_hydrophyllacea25_vertical_90.jpg\n",
      "Processing C:\\Users\\USER\\Desktop\\Selected Perogram\\Preproses\\Tahap B\\Scyphiphora hydrophyllacea\\Scyphiphora_hydrophyllacea26_horizontal_0.jpg\n",
      "Processing C:\\Users\\USER\\Desktop\\Selected Perogram\\Preproses\\Tahap B\\Scyphiphora hydrophyllacea\\Scyphiphora_hydrophyllacea26_horizontal_270.jpg\n",
      "Processing C:\\Users\\USER\\Desktop\\Selected Perogram\\Preproses\\Tahap B\\Scyphiphora hydrophyllacea\\Scyphiphora_hydrophyllacea26_horizontal_90.jpg\n",
      "Processing C:\\Users\\USER\\Desktop\\Selected Perogram\\Preproses\\Tahap B\\Scyphiphora hydrophyllacea\\Scyphiphora_hydrophyllacea26_original_0.jpg\n",
      "Processing C:\\Users\\USER\\Desktop\\Selected Perogram\\Preproses\\Tahap B\\Scyphiphora hydrophyllacea\\Scyphiphora_hydrophyllacea26_original_270.jpg\n",
      "Processing C:\\Users\\USER\\Desktop\\Selected Perogram\\Preproses\\Tahap B\\Scyphiphora hydrophyllacea\\Scyphiphora_hydrophyllacea26_original_90.jpg\n"
     ]
    },
    {
     "name": "stderr",
     "output_type": "stream",
     "text": [
      "Processing images:  84%|████████▍ | 1993/2360 [00:46<00:08, 42.08it/s]"
     ]
    },
    {
     "name": "stdout",
     "output_type": "stream",
     "text": [
      "Processing C:\\Users\\USER\\Desktop\\Selected Perogram\\Preproses\\Tahap B\\Scyphiphora hydrophyllacea\\Scyphiphora_hydrophyllacea26_vertical_0.jpg\n",
      "Processing C:\\Users\\USER\\Desktop\\Selected Perogram\\Preproses\\Tahap B\\Scyphiphora hydrophyllacea\\Scyphiphora_hydrophyllacea26_vertical_270.jpg\n",
      "Processing C:\\Users\\USER\\Desktop\\Selected Perogram\\Preproses\\Tahap B\\Scyphiphora hydrophyllacea\\Scyphiphora_hydrophyllacea26_vertical_90.jpg\n",
      "Processing C:\\Users\\USER\\Desktop\\Selected Perogram\\Preproses\\Tahap B\\Scyphiphora hydrophyllacea\\Scyphiphora_hydrophyllacea27_horizontal_0.jpg\n",
      "Processing C:\\Users\\USER\\Desktop\\Selected Perogram\\Preproses\\Tahap B\\Scyphiphora hydrophyllacea\\Scyphiphora_hydrophyllacea27_horizontal_270.jpg\n",
      "Processing C:\\Users\\USER\\Desktop\\Selected Perogram\\Preproses\\Tahap B\\Scyphiphora hydrophyllacea\\Scyphiphora_hydrophyllacea27_horizontal_90.jpg\n",
      "Processing C:\\Users\\USER\\Desktop\\Selected Perogram\\Preproses\\Tahap B\\Scyphiphora hydrophyllacea\\Scyphiphora_hydrophyllacea27_original_0.jpg\n",
      "Processing C:\\Users\\USER\\Desktop\\Selected Perogram\\Preproses\\Tahap B\\Scyphiphora hydrophyllacea\\Scyphiphora_hydrophyllacea27_original_270.jpg\n",
      "Processing C:\\Users\\USER\\Desktop\\Selected Perogram\\Preproses\\Tahap B\\Scyphiphora hydrophyllacea\\Scyphiphora_hydrophyllacea27_original_90.jpg\n"
     ]
    },
    {
     "name": "stderr",
     "output_type": "stream",
     "text": [
      "Processing images:  85%|████████▍ | 2003/2360 [00:47<00:08, 42.89it/s]"
     ]
    },
    {
     "name": "stdout",
     "output_type": "stream",
     "text": [
      "Processing C:\\Users\\USER\\Desktop\\Selected Perogram\\Preproses\\Tahap B\\Scyphiphora hydrophyllacea\\Scyphiphora_hydrophyllacea27_vertical_0.jpg\n",
      "Processing C:\\Users\\USER\\Desktop\\Selected Perogram\\Preproses\\Tahap B\\Scyphiphora hydrophyllacea\\Scyphiphora_hydrophyllacea27_vertical_270.jpg\n",
      "Processing C:\\Users\\USER\\Desktop\\Selected Perogram\\Preproses\\Tahap B\\Scyphiphora hydrophyllacea\\Scyphiphora_hydrophyllacea27_vertical_90.jpg\n",
      "Processing C:\\Users\\USER\\Desktop\\Selected Perogram\\Preproses\\Tahap B\\Scyphiphora hydrophyllacea\\Scyphiphora_hydrophyllacea28_horizontal_0.jpg\n",
      "Processing C:\\Users\\USER\\Desktop\\Selected Perogram\\Preproses\\Tahap B\\Scyphiphora hydrophyllacea\\Scyphiphora_hydrophyllacea28_horizontal_270.jpg\n",
      "Processing C:\\Users\\USER\\Desktop\\Selected Perogram\\Preproses\\Tahap B\\Scyphiphora hydrophyllacea\\Scyphiphora_hydrophyllacea28_horizontal_90.jpg\n",
      "Processing C:\\Users\\USER\\Desktop\\Selected Perogram\\Preproses\\Tahap B\\Scyphiphora hydrophyllacea\\Scyphiphora_hydrophyllacea28_original_0.jpg\n",
      "Processing C:\\Users\\USER\\Desktop\\Selected Perogram\\Preproses\\Tahap B\\Scyphiphora hydrophyllacea\\Scyphiphora_hydrophyllacea28_original_270.jpg\n",
      "Processing C:\\Users\\USER\\Desktop\\Selected Perogram\\Preproses\\Tahap B\\Scyphiphora hydrophyllacea\\Scyphiphora_hydrophyllacea28_original_90.jpg\n",
      "Processing C:\\Users\\USER\\Desktop\\Selected Perogram\\Preproses\\Tahap B\\Scyphiphora hydrophyllacea\\Scyphiphora_hydrophyllacea28_vertical_0.jpg\n"
     ]
    },
    {
     "name": "stderr",
     "output_type": "stream",
     "text": [
      "Processing images:  85%|████████▌ | 2013/2360 [00:47<00:07, 43.45it/s]"
     ]
    },
    {
     "name": "stdout",
     "output_type": "stream",
     "text": [
      "Processing C:\\Users\\USER\\Desktop\\Selected Perogram\\Preproses\\Tahap B\\Scyphiphora hydrophyllacea\\Scyphiphora_hydrophyllacea28_vertical_270.jpg\n",
      "Processing C:\\Users\\USER\\Desktop\\Selected Perogram\\Preproses\\Tahap B\\Scyphiphora hydrophyllacea\\Scyphiphora_hydrophyllacea28_vertical_90.jpg\n",
      "Processing C:\\Users\\USER\\Desktop\\Selected Perogram\\Preproses\\Tahap B\\Scyphiphora hydrophyllacea\\Scyphiphora_hydrophyllacea29_horizontal_0.jpg\n",
      "Processing C:\\Users\\USER\\Desktop\\Selected Perogram\\Preproses\\Tahap B\\Scyphiphora hydrophyllacea\\Scyphiphora_hydrophyllacea29_horizontal_270.jpg\n",
      "Processing C:\\Users\\USER\\Desktop\\Selected Perogram\\Preproses\\Tahap B\\Scyphiphora hydrophyllacea\\Scyphiphora_hydrophyllacea29_horizontal_90.jpg\n",
      "Processing C:\\Users\\USER\\Desktop\\Selected Perogram\\Preproses\\Tahap B\\Scyphiphora hydrophyllacea\\Scyphiphora_hydrophyllacea29_original_0.jpg\n",
      "Processing C:\\Users\\USER\\Desktop\\Selected Perogram\\Preproses\\Tahap B\\Scyphiphora hydrophyllacea\\Scyphiphora_hydrophyllacea29_original_270.jpg\n",
      "Processing C:\\Users\\USER\\Desktop\\Selected Perogram\\Preproses\\Tahap B\\Scyphiphora hydrophyllacea\\Scyphiphora_hydrophyllacea29_original_90.jpg\n",
      "Processing C:\\Users\\USER\\Desktop\\Selected Perogram\\Preproses\\Tahap B\\Scyphiphora hydrophyllacea\\Scyphiphora_hydrophyllacea29_vertical_0.jpg\n"
     ]
    },
    {
     "name": "stderr",
     "output_type": "stream",
     "text": [
      "Processing images:  86%|████████▌ | 2023/2360 [00:47<00:07, 42.25it/s]"
     ]
    },
    {
     "name": "stdout",
     "output_type": "stream",
     "text": [
      "Processing C:\\Users\\USER\\Desktop\\Selected Perogram\\Preproses\\Tahap B\\Scyphiphora hydrophyllacea\\Scyphiphora_hydrophyllacea29_vertical_270.jpg\n",
      "Processing C:\\Users\\USER\\Desktop\\Selected Perogram\\Preproses\\Tahap B\\Scyphiphora hydrophyllacea\\Scyphiphora_hydrophyllacea29_vertical_90.jpg\n",
      "Processing C:\\Users\\USER\\Desktop\\Selected Perogram\\Preproses\\Tahap B\\Scyphiphora hydrophyllacea\\Scyphiphora_hydrophyllacea2_horizontal_0.jpg\n",
      "Processing C:\\Users\\USER\\Desktop\\Selected Perogram\\Preproses\\Tahap B\\Scyphiphora hydrophyllacea\\Scyphiphora_hydrophyllacea2_horizontal_270.jpg\n",
      "Processing C:\\Users\\USER\\Desktop\\Selected Perogram\\Preproses\\Tahap B\\Scyphiphora hydrophyllacea\\Scyphiphora_hydrophyllacea2_horizontal_90.jpg\n",
      "Processing C:\\Users\\USER\\Desktop\\Selected Perogram\\Preproses\\Tahap B\\Scyphiphora hydrophyllacea\\Scyphiphora_hydrophyllacea2_original_0.jpg\n",
      "Processing C:\\Users\\USER\\Desktop\\Selected Perogram\\Preproses\\Tahap B\\Scyphiphora hydrophyllacea\\Scyphiphora_hydrophyllacea2_original_270.jpg\n",
      "Processing C:\\Users\\USER\\Desktop\\Selected Perogram\\Preproses\\Tahap B\\Scyphiphora hydrophyllacea\\Scyphiphora_hydrophyllacea2_original_90.jpg\n",
      "Processing C:\\Users\\USER\\Desktop\\Selected Perogram\\Preproses\\Tahap B\\Scyphiphora hydrophyllacea\\Scyphiphora_hydrophyllacea2_vertical_0.jpg\n"
     ]
    },
    {
     "name": "stderr",
     "output_type": "stream",
     "text": [
      "Processing images:  86%|████████▌ | 2033/2360 [00:47<00:07, 42.94it/s]"
     ]
    },
    {
     "name": "stdout",
     "output_type": "stream",
     "text": [
      "Processing C:\\Users\\USER\\Desktop\\Selected Perogram\\Preproses\\Tahap B\\Scyphiphora hydrophyllacea\\Scyphiphora_hydrophyllacea2_vertical_270.jpg\n",
      "Processing C:\\Users\\USER\\Desktop\\Selected Perogram\\Preproses\\Tahap B\\Scyphiphora hydrophyllacea\\Scyphiphora_hydrophyllacea2_vertical_90.jpg\n",
      "Processing C:\\Users\\USER\\Desktop\\Selected Perogram\\Preproses\\Tahap B\\Scyphiphora hydrophyllacea\\Scyphiphora_hydrophyllacea30_horizontal_0.jpg\n",
      "Processing C:\\Users\\USER\\Desktop\\Selected Perogram\\Preproses\\Tahap B\\Scyphiphora hydrophyllacea\\Scyphiphora_hydrophyllacea30_horizontal_270.jpg\n",
      "Processing C:\\Users\\USER\\Desktop\\Selected Perogram\\Preproses\\Tahap B\\Scyphiphora hydrophyllacea\\Scyphiphora_hydrophyllacea30_horizontal_90.jpg\n",
      "Processing C:\\Users\\USER\\Desktop\\Selected Perogram\\Preproses\\Tahap B\\Scyphiphora hydrophyllacea\\Scyphiphora_hydrophyllacea30_original_0.jpg\n",
      "Processing C:\\Users\\USER\\Desktop\\Selected Perogram\\Preproses\\Tahap B\\Scyphiphora hydrophyllacea\\Scyphiphora_hydrophyllacea30_original_270.jpg\n",
      "Processing C:\\Users\\USER\\Desktop\\Selected Perogram\\Preproses\\Tahap B\\Scyphiphora hydrophyllacea\\Scyphiphora_hydrophyllacea30_original_90.jpg\n",
      "Processing C:\\Users\\USER\\Desktop\\Selected Perogram\\Preproses\\Tahap B\\Scyphiphora hydrophyllacea\\Scyphiphora_hydrophyllacea30_vertical_0.jpg\n",
      "Processing C:\\Users\\USER\\Desktop\\Selected Perogram\\Preproses\\Tahap B\\Scyphiphora hydrophyllacea\\Scyphiphora_hydrophyllacea30_vertical_270.jpg\n"
     ]
    },
    {
     "name": "stderr",
     "output_type": "stream",
     "text": [
      "Processing images:  87%|████████▋ | 2043/2360 [00:48<00:07, 42.92it/s]"
     ]
    },
    {
     "name": "stdout",
     "output_type": "stream",
     "text": [
      "Processing C:\\Users\\USER\\Desktop\\Selected Perogram\\Preproses\\Tahap B\\Scyphiphora hydrophyllacea\\Scyphiphora_hydrophyllacea30_vertical_90.jpg\n",
      "Processing C:\\Users\\USER\\Desktop\\Selected Perogram\\Preproses\\Tahap B\\Scyphiphora hydrophyllacea\\Scyphiphora_hydrophyllacea31_horizontal_0.jpg\n",
      "Processing C:\\Users\\USER\\Desktop\\Selected Perogram\\Preproses\\Tahap B\\Scyphiphora hydrophyllacea\\Scyphiphora_hydrophyllacea31_horizontal_270.jpg\n",
      "Processing C:\\Users\\USER\\Desktop\\Selected Perogram\\Preproses\\Tahap B\\Scyphiphora hydrophyllacea\\Scyphiphora_hydrophyllacea31_horizontal_90.jpg\n",
      "Processing C:\\Users\\USER\\Desktop\\Selected Perogram\\Preproses\\Tahap B\\Scyphiphora hydrophyllacea\\Scyphiphora_hydrophyllacea31_original_0.jpg\n",
      "Processing C:\\Users\\USER\\Desktop\\Selected Perogram\\Preproses\\Tahap B\\Scyphiphora hydrophyllacea\\Scyphiphora_hydrophyllacea31_original_270.jpg\n",
      "Processing C:\\Users\\USER\\Desktop\\Selected Perogram\\Preproses\\Tahap B\\Scyphiphora hydrophyllacea\\Scyphiphora_hydrophyllacea31_original_90.jpg\n",
      "Processing C:\\Users\\USER\\Desktop\\Selected Perogram\\Preproses\\Tahap B\\Scyphiphora hydrophyllacea\\Scyphiphora_hydrophyllacea31_vertical_0.jpg\n"
     ]
    },
    {
     "name": "stderr",
     "output_type": "stream",
     "text": [
      "Processing images:  87%|████████▋ | 2048/2360 [00:48<00:07, 43.14it/s]"
     ]
    },
    {
     "name": "stdout",
     "output_type": "stream",
     "text": [
      "Processing C:\\Users\\USER\\Desktop\\Selected Perogram\\Preproses\\Tahap B\\Scyphiphora hydrophyllacea\\Scyphiphora_hydrophyllacea31_vertical_270.jpg\n",
      "Processing C:\\Users\\USER\\Desktop\\Selected Perogram\\Preproses\\Tahap B\\Scyphiphora hydrophyllacea\\Scyphiphora_hydrophyllacea31_vertical_90.jpg\n",
      "Processing C:\\Users\\USER\\Desktop\\Selected Perogram\\Preproses\\Tahap B\\Scyphiphora hydrophyllacea\\Scyphiphora_hydrophyllacea32_horizontal_0.jpg\n",
      "Processing C:\\Users\\USER\\Desktop\\Selected Perogram\\Preproses\\Tahap B\\Scyphiphora hydrophyllacea\\Scyphiphora_hydrophyllacea32_horizontal_270.jpg\n",
      "Processing C:\\Users\\USER\\Desktop\\Selected Perogram\\Preproses\\Tahap B\\Scyphiphora hydrophyllacea\\Scyphiphora_hydrophyllacea32_horizontal_90.jpg\n",
      "Processing C:\\Users\\USER\\Desktop\\Selected Perogram\\Preproses\\Tahap B\\Scyphiphora hydrophyllacea\\Scyphiphora_hydrophyllacea32_original_0.jpg\n",
      "Processing C:\\Users\\USER\\Desktop\\Selected Perogram\\Preproses\\Tahap B\\Scyphiphora hydrophyllacea\\Scyphiphora_hydrophyllacea32_original_270.jpg\n",
      "Processing C:\\Users\\USER\\Desktop\\Selected Perogram\\Preproses\\Tahap B\\Scyphiphora hydrophyllacea\\Scyphiphora_hydrophyllacea32_original_90.jpg\n",
      "Processing C:\\Users\\USER\\Desktop\\Selected Perogram\\Preproses\\Tahap B\\Scyphiphora hydrophyllacea\\Scyphiphora_hydrophyllacea32_vertical_0.jpg\n"
     ]
    },
    {
     "name": "stderr",
     "output_type": "stream",
     "text": [
      "Processing images:  87%|████████▋ | 2058/2360 [00:48<00:07, 43.12it/s]"
     ]
    },
    {
     "name": "stdout",
     "output_type": "stream",
     "text": [
      "Processing C:\\Users\\USER\\Desktop\\Selected Perogram\\Preproses\\Tahap B\\Scyphiphora hydrophyllacea\\Scyphiphora_hydrophyllacea32_vertical_270.jpg\n",
      "Processing C:\\Users\\USER\\Desktop\\Selected Perogram\\Preproses\\Tahap B\\Scyphiphora hydrophyllacea\\Scyphiphora_hydrophyllacea32_vertical_90.jpg\n",
      "Processing C:\\Users\\USER\\Desktop\\Selected Perogram\\Preproses\\Tahap B\\Scyphiphora hydrophyllacea\\Scyphiphora_hydrophyllacea33_horizontal_0.jpg\n",
      "Processing C:\\Users\\USER\\Desktop\\Selected Perogram\\Preproses\\Tahap B\\Scyphiphora hydrophyllacea\\Scyphiphora_hydrophyllacea33_horizontal_270.jpg\n",
      "Processing C:\\Users\\USER\\Desktop\\Selected Perogram\\Preproses\\Tahap B\\Scyphiphora hydrophyllacea\\Scyphiphora_hydrophyllacea33_horizontal_90.jpg\n",
      "Processing C:\\Users\\USER\\Desktop\\Selected Perogram\\Preproses\\Tahap B\\Scyphiphora hydrophyllacea\\Scyphiphora_hydrophyllacea33_original_0.jpg\n",
      "Processing C:\\Users\\USER\\Desktop\\Selected Perogram\\Preproses\\Tahap B\\Scyphiphora hydrophyllacea\\Scyphiphora_hydrophyllacea33_original_270.jpg\n",
      "Processing C:\\Users\\USER\\Desktop\\Selected Perogram\\Preproses\\Tahap B\\Scyphiphora hydrophyllacea\\Scyphiphora_hydrophyllacea33_original_90.jpg\n",
      "Processing C:\\Users\\USER\\Desktop\\Selected Perogram\\Preproses\\Tahap B\\Scyphiphora hydrophyllacea\\Scyphiphora_hydrophyllacea33_vertical_0.jpg\n"
     ]
    },
    {
     "name": "stderr",
     "output_type": "stream",
     "text": [
      "Processing images:  88%|████████▊ | 2068/2360 [00:48<00:06, 43.48it/s]"
     ]
    },
    {
     "name": "stdout",
     "output_type": "stream",
     "text": [
      "Processing C:\\Users\\USER\\Desktop\\Selected Perogram\\Preproses\\Tahap B\\Scyphiphora hydrophyllacea\\Scyphiphora_hydrophyllacea33_vertical_270.jpg\n",
      "Processing C:\\Users\\USER\\Desktop\\Selected Perogram\\Preproses\\Tahap B\\Scyphiphora hydrophyllacea\\Scyphiphora_hydrophyllacea33_vertical_90.jpg\n",
      "Processing C:\\Users\\USER\\Desktop\\Selected Perogram\\Preproses\\Tahap B\\Scyphiphora hydrophyllacea\\Scyphiphora_hydrophyllacea34_horizontal_0.jpg\n",
      "Processing C:\\Users\\USER\\Desktop\\Selected Perogram\\Preproses\\Tahap B\\Scyphiphora hydrophyllacea\\Scyphiphora_hydrophyllacea34_horizontal_270.jpg\n",
      "Processing C:\\Users\\USER\\Desktop\\Selected Perogram\\Preproses\\Tahap B\\Scyphiphora hydrophyllacea\\Scyphiphora_hydrophyllacea34_horizontal_90.jpg\n",
      "Processing C:\\Users\\USER\\Desktop\\Selected Perogram\\Preproses\\Tahap B\\Scyphiphora hydrophyllacea\\Scyphiphora_hydrophyllacea34_original_0.jpg\n",
      "Processing C:\\Users\\USER\\Desktop\\Selected Perogram\\Preproses\\Tahap B\\Scyphiphora hydrophyllacea\\Scyphiphora_hydrophyllacea34_original_270.jpg\n",
      "Processing C:\\Users\\USER\\Desktop\\Selected Perogram\\Preproses\\Tahap B\\Scyphiphora hydrophyllacea\\Scyphiphora_hydrophyllacea34_original_90.jpg\n",
      "Processing C:\\Users\\USER\\Desktop\\Selected Perogram\\Preproses\\Tahap B\\Scyphiphora hydrophyllacea\\Scyphiphora_hydrophyllacea34_vertical_0.jpg\n",
      "Processing C:\\Users\\USER\\Desktop\\Selected Perogram\\Preproses\\Tahap B\\Scyphiphora hydrophyllacea\\Scyphiphora_hydrophyllacea34_vertical_270.jpg\n"
     ]
    },
    {
     "name": "stderr",
     "output_type": "stream",
     "text": [
      "Processing images:  88%|████████▊ | 2078/2360 [00:48<00:06, 43.85it/s]"
     ]
    },
    {
     "name": "stdout",
     "output_type": "stream",
     "text": [
      "Processing C:\\Users\\USER\\Desktop\\Selected Perogram\\Preproses\\Tahap B\\Scyphiphora hydrophyllacea\\Scyphiphora_hydrophyllacea34_vertical_90.jpg\n",
      "Processing C:\\Users\\USER\\Desktop\\Selected Perogram\\Preproses\\Tahap B\\Scyphiphora hydrophyllacea\\Scyphiphora_hydrophyllacea35_horizontal_0.jpg\n",
      "Processing C:\\Users\\USER\\Desktop\\Selected Perogram\\Preproses\\Tahap B\\Scyphiphora hydrophyllacea\\Scyphiphora_hydrophyllacea35_horizontal_270.jpg\n",
      "Processing C:\\Users\\USER\\Desktop\\Selected Perogram\\Preproses\\Tahap B\\Scyphiphora hydrophyllacea\\Scyphiphora_hydrophyllacea35_horizontal_90.jpg\n",
      "Processing C:\\Users\\USER\\Desktop\\Selected Perogram\\Preproses\\Tahap B\\Scyphiphora hydrophyllacea\\Scyphiphora_hydrophyllacea35_original_0.jpg\n",
      "Processing C:\\Users\\USER\\Desktop\\Selected Perogram\\Preproses\\Tahap B\\Scyphiphora hydrophyllacea\\Scyphiphora_hydrophyllacea35_original_270.jpg\n",
      "Processing C:\\Users\\USER\\Desktop\\Selected Perogram\\Preproses\\Tahap B\\Scyphiphora hydrophyllacea\\Scyphiphora_hydrophyllacea35_original_90.jpg\n",
      "Processing C:\\Users\\USER\\Desktop\\Selected Perogram\\Preproses\\Tahap B\\Scyphiphora hydrophyllacea\\Scyphiphora_hydrophyllacea35_vertical_0.jpg\n",
      "Processing C:\\Users\\USER\\Desktop\\Selected Perogram\\Preproses\\Tahap B\\Scyphiphora hydrophyllacea\\Scyphiphora_hydrophyllacea35_vertical_270.jpg\n"
     ]
    },
    {
     "name": "stderr",
     "output_type": "stream",
     "text": [
      "Processing images:  88%|████████▊ | 2088/2360 [00:49<00:06, 42.26it/s]"
     ]
    },
    {
     "name": "stdout",
     "output_type": "stream",
     "text": [
      "Processing C:\\Users\\USER\\Desktop\\Selected Perogram\\Preproses\\Tahap B\\Scyphiphora hydrophyllacea\\Scyphiphora_hydrophyllacea35_vertical_90.jpg\n",
      "Processing C:\\Users\\USER\\Desktop\\Selected Perogram\\Preproses\\Tahap B\\Scyphiphora hydrophyllacea\\Scyphiphora_hydrophyllacea36_horizontal_0.jpg\n",
      "Processing C:\\Users\\USER\\Desktop\\Selected Perogram\\Preproses\\Tahap B\\Scyphiphora hydrophyllacea\\Scyphiphora_hydrophyllacea36_horizontal_270.jpg\n",
      "Processing C:\\Users\\USER\\Desktop\\Selected Perogram\\Preproses\\Tahap B\\Scyphiphora hydrophyllacea\\Scyphiphora_hydrophyllacea36_horizontal_90.jpg\n",
      "Processing C:\\Users\\USER\\Desktop\\Selected Perogram\\Preproses\\Tahap B\\Scyphiphora hydrophyllacea\\Scyphiphora_hydrophyllacea36_original_0.jpg\n",
      "Processing C:\\Users\\USER\\Desktop\\Selected Perogram\\Preproses\\Tahap B\\Scyphiphora hydrophyllacea\\Scyphiphora_hydrophyllacea36_original_270.jpg\n",
      "Processing C:\\Users\\USER\\Desktop\\Selected Perogram\\Preproses\\Tahap B\\Scyphiphora hydrophyllacea\\Scyphiphora_hydrophyllacea36_original_90.jpg\n",
      "Processing C:\\Users\\USER\\Desktop\\Selected Perogram\\Preproses\\Tahap B\\Scyphiphora hydrophyllacea\\Scyphiphora_hydrophyllacea36_vertical_0.jpg\n"
     ]
    },
    {
     "name": "stderr",
     "output_type": "stream",
     "text": [
      "Processing images:  89%|████████▊ | 2093/2360 [00:49<00:06, 42.48it/s]"
     ]
    },
    {
     "name": "stdout",
     "output_type": "stream",
     "text": [
      "Processing C:\\Users\\USER\\Desktop\\Selected Perogram\\Preproses\\Tahap B\\Scyphiphora hydrophyllacea\\Scyphiphora_hydrophyllacea36_vertical_270.jpg\n",
      "Processing C:\\Users\\USER\\Desktop\\Selected Perogram\\Preproses\\Tahap B\\Scyphiphora hydrophyllacea\\Scyphiphora_hydrophyllacea36_vertical_90.jpg\n",
      "Processing C:\\Users\\USER\\Desktop\\Selected Perogram\\Preproses\\Tahap B\\Scyphiphora hydrophyllacea\\Scyphiphora_hydrophyllacea37_horizontal_0.jpg\n",
      "Processing C:\\Users\\USER\\Desktop\\Selected Perogram\\Preproses\\Tahap B\\Scyphiphora hydrophyllacea\\Scyphiphora_hydrophyllacea37_horizontal_270.jpg\n",
      "Processing C:\\Users\\USER\\Desktop\\Selected Perogram\\Preproses\\Tahap B\\Scyphiphora hydrophyllacea\\Scyphiphora_hydrophyllacea37_horizontal_90.jpg\n",
      "Processing C:\\Users\\USER\\Desktop\\Selected Perogram\\Preproses\\Tahap B\\Scyphiphora hydrophyllacea\\Scyphiphora_hydrophyllacea37_original_0.jpg\n",
      "Processing C:\\Users\\USER\\Desktop\\Selected Perogram\\Preproses\\Tahap B\\Scyphiphora hydrophyllacea\\Scyphiphora_hydrophyllacea37_original_270.jpg\n",
      "Processing C:\\Users\\USER\\Desktop\\Selected Perogram\\Preproses\\Tahap B\\Scyphiphora hydrophyllacea\\Scyphiphora_hydrophyllacea37_original_90.jpg\n",
      "Processing C:\\Users\\USER\\Desktop\\Selected Perogram\\Preproses\\Tahap B\\Scyphiphora hydrophyllacea\\Scyphiphora_hydrophyllacea37_vertical_0.jpg\n",
      "Processing C:\\Users\\USER\\Desktop\\Selected Perogram\\Preproses\\Tahap B\\Scyphiphora hydrophyllacea\\Scyphiphora_hydrophyllacea37_vertical_270.jpg\n"
     ]
    },
    {
     "name": "stderr",
     "output_type": "stream",
     "text": [
      "Processing images:  89%|████████▉ | 2103/2360 [00:49<00:05, 42.97it/s]"
     ]
    },
    {
     "name": "stdout",
     "output_type": "stream",
     "text": [
      "Processing C:\\Users\\USER\\Desktop\\Selected Perogram\\Preproses\\Tahap B\\Scyphiphora hydrophyllacea\\Scyphiphora_hydrophyllacea37_vertical_90.jpg\n",
      "Processing C:\\Users\\USER\\Desktop\\Selected Perogram\\Preproses\\Tahap B\\Scyphiphora hydrophyllacea\\Scyphiphora_hydrophyllacea38_horizontal_0.jpg\n",
      "Processing C:\\Users\\USER\\Desktop\\Selected Perogram\\Preproses\\Tahap B\\Scyphiphora hydrophyllacea\\Scyphiphora_hydrophyllacea38_horizontal_270.jpg\n",
      "Processing C:\\Users\\USER\\Desktop\\Selected Perogram\\Preproses\\Tahap B\\Scyphiphora hydrophyllacea\\Scyphiphora_hydrophyllacea38_horizontal_90.jpg\n",
      "Processing C:\\Users\\USER\\Desktop\\Selected Perogram\\Preproses\\Tahap B\\Scyphiphora hydrophyllacea\\Scyphiphora_hydrophyllacea38_original_0.jpg\n",
      "Processing C:\\Users\\USER\\Desktop\\Selected Perogram\\Preproses\\Tahap B\\Scyphiphora hydrophyllacea\\Scyphiphora_hydrophyllacea38_original_270.jpg\n",
      "Processing C:\\Users\\USER\\Desktop\\Selected Perogram\\Preproses\\Tahap B\\Scyphiphora hydrophyllacea\\Scyphiphora_hydrophyllacea38_original_90.jpg\n",
      "Processing C:\\Users\\USER\\Desktop\\Selected Perogram\\Preproses\\Tahap B\\Scyphiphora hydrophyllacea\\Scyphiphora_hydrophyllacea38_vertical_0.jpg\n",
      "Processing C:\\Users\\USER\\Desktop\\Selected Perogram\\Preproses\\Tahap B\\Scyphiphora hydrophyllacea\\Scyphiphora_hydrophyllacea38_vertical_270.jpg\n"
     ]
    },
    {
     "name": "stderr",
     "output_type": "stream",
     "text": [
      "Processing images:  90%|████████▉ | 2113/2360 [00:49<00:05, 42.91it/s]"
     ]
    },
    {
     "name": "stdout",
     "output_type": "stream",
     "text": [
      "Processing C:\\Users\\USER\\Desktop\\Selected Perogram\\Preproses\\Tahap B\\Scyphiphora hydrophyllacea\\Scyphiphora_hydrophyllacea38_vertical_90.jpg\n",
      "Processing C:\\Users\\USER\\Desktop\\Selected Perogram\\Preproses\\Tahap B\\Scyphiphora hydrophyllacea\\Scyphiphora_hydrophyllacea39_horizontal_0.jpg\n",
      "Processing C:\\Users\\USER\\Desktop\\Selected Perogram\\Preproses\\Tahap B\\Scyphiphora hydrophyllacea\\Scyphiphora_hydrophyllacea39_horizontal_270.jpg\n",
      "Processing C:\\Users\\USER\\Desktop\\Selected Perogram\\Preproses\\Tahap B\\Scyphiphora hydrophyllacea\\Scyphiphora_hydrophyllacea39_horizontal_90.jpg\n",
      "Processing C:\\Users\\USER\\Desktop\\Selected Perogram\\Preproses\\Tahap B\\Scyphiphora hydrophyllacea\\Scyphiphora_hydrophyllacea39_original_0.jpg\n",
      "Processing C:\\Users\\USER\\Desktop\\Selected Perogram\\Preproses\\Tahap B\\Scyphiphora hydrophyllacea\\Scyphiphora_hydrophyllacea39_original_270.jpg\n",
      "Processing C:\\Users\\USER\\Desktop\\Selected Perogram\\Preproses\\Tahap B\\Scyphiphora hydrophyllacea\\Scyphiphora_hydrophyllacea39_original_90.jpg\n",
      "Processing C:\\Users\\USER\\Desktop\\Selected Perogram\\Preproses\\Tahap B\\Scyphiphora hydrophyllacea\\Scyphiphora_hydrophyllacea39_vertical_0.jpg\n",
      "Processing C:\\Users\\USER\\Desktop\\Selected Perogram\\Preproses\\Tahap B\\Scyphiphora hydrophyllacea\\Scyphiphora_hydrophyllacea39_vertical_270.jpg\n"
     ]
    },
    {
     "name": "stderr",
     "output_type": "stream",
     "text": [
      "Processing images:  90%|████████▉ | 2123/2360 [00:50<00:05, 43.14it/s]"
     ]
    },
    {
     "name": "stdout",
     "output_type": "stream",
     "text": [
      "Processing C:\\Users\\USER\\Desktop\\Selected Perogram\\Preproses\\Tahap B\\Scyphiphora hydrophyllacea\\Scyphiphora_hydrophyllacea39_vertical_90.jpg\n",
      "Processing C:\\Users\\USER\\Desktop\\Selected Perogram\\Preproses\\Tahap B\\Scyphiphora hydrophyllacea\\Scyphiphora_hydrophyllacea3_horizontal_0.jpg\n",
      "Processing C:\\Users\\USER\\Desktop\\Selected Perogram\\Preproses\\Tahap B\\Scyphiphora hydrophyllacea\\Scyphiphora_hydrophyllacea3_horizontal_270.jpg\n",
      "Processing C:\\Users\\USER\\Desktop\\Selected Perogram\\Preproses\\Tahap B\\Scyphiphora hydrophyllacea\\Scyphiphora_hydrophyllacea3_horizontal_90.jpg\n",
      "Processing C:\\Users\\USER\\Desktop\\Selected Perogram\\Preproses\\Tahap B\\Scyphiphora hydrophyllacea\\Scyphiphora_hydrophyllacea3_original_0.jpg\n",
      "Processing C:\\Users\\USER\\Desktop\\Selected Perogram\\Preproses\\Tahap B\\Scyphiphora hydrophyllacea\\Scyphiphora_hydrophyllacea3_original_270.jpg\n",
      "Processing C:\\Users\\USER\\Desktop\\Selected Perogram\\Preproses\\Tahap B\\Scyphiphora hydrophyllacea\\Scyphiphora_hydrophyllacea3_original_90.jpg\n",
      "Processing C:\\Users\\USER\\Desktop\\Selected Perogram\\Preproses\\Tahap B\\Scyphiphora hydrophyllacea\\Scyphiphora_hydrophyllacea3_vertical_0.jpg\n",
      "Processing C:\\Users\\USER\\Desktop\\Selected Perogram\\Preproses\\Tahap B\\Scyphiphora hydrophyllacea\\Scyphiphora_hydrophyllacea3_vertical_270.jpg\n",
      "Processing C:\\Users\\USER\\Desktop\\Selected Perogram\\Preproses\\Tahap B\\Scyphiphora hydrophyllacea\\Scyphiphora_hydrophyllacea3_vertical_90.jpg\n"
     ]
    },
    {
     "name": "stderr",
     "output_type": "stream",
     "text": [
      "Processing images:  90%|█████████ | 2133/2360 [00:50<00:05, 43.85it/s]"
     ]
    },
    {
     "name": "stdout",
     "output_type": "stream",
     "text": [
      "Processing C:\\Users\\USER\\Desktop\\Selected Perogram\\Preproses\\Tahap B\\Scyphiphora hydrophyllacea\\Scyphiphora_hydrophyllacea40_horizontal_0.jpg\n",
      "Processing C:\\Users\\USER\\Desktop\\Selected Perogram\\Preproses\\Tahap B\\Scyphiphora hydrophyllacea\\Scyphiphora_hydrophyllacea40_horizontal_270.jpg\n",
      "Processing C:\\Users\\USER\\Desktop\\Selected Perogram\\Preproses\\Tahap B\\Scyphiphora hydrophyllacea\\Scyphiphora_hydrophyllacea40_horizontal_90.jpg\n",
      "Processing C:\\Users\\USER\\Desktop\\Selected Perogram\\Preproses\\Tahap B\\Scyphiphora hydrophyllacea\\Scyphiphora_hydrophyllacea40_original_0.jpg\n",
      "Processing C:\\Users\\USER\\Desktop\\Selected Perogram\\Preproses\\Tahap B\\Scyphiphora hydrophyllacea\\Scyphiphora_hydrophyllacea40_original_270.jpg\n",
      "Processing C:\\Users\\USER\\Desktop\\Selected Perogram\\Preproses\\Tahap B\\Scyphiphora hydrophyllacea\\Scyphiphora_hydrophyllacea40_original_90.jpg\n",
      "Processing C:\\Users\\USER\\Desktop\\Selected Perogram\\Preproses\\Tahap B\\Scyphiphora hydrophyllacea\\Scyphiphora_hydrophyllacea40_vertical_0.jpg\n",
      "Processing C:\\Users\\USER\\Desktop\\Selected Perogram\\Preproses\\Tahap B\\Scyphiphora hydrophyllacea\\Scyphiphora_hydrophyllacea40_vertical_270.jpg\n",
      "Processing C:\\Users\\USER\\Desktop\\Selected Perogram\\Preproses\\Tahap B\\Scyphiphora hydrophyllacea\\Scyphiphora_hydrophyllacea40_vertical_90.jpg\n",
      "Processing C:\\Users\\USER\\Desktop\\Selected Perogram\\Preproses\\Tahap B\\Scyphiphora hydrophyllacea\\Scyphiphora_hydrophyllacea41_horizontal_0.jpg\n"
     ]
    },
    {
     "name": "stderr",
     "output_type": "stream",
     "text": [
      "Processing images:  91%|█████████ | 2143/2360 [00:50<00:04, 43.68it/s]"
     ]
    },
    {
     "name": "stdout",
     "output_type": "stream",
     "text": [
      "Processing C:\\Users\\USER\\Desktop\\Selected Perogram\\Preproses\\Tahap B\\Scyphiphora hydrophyllacea\\Scyphiphora_hydrophyllacea41_horizontal_270.jpg\n",
      "Processing C:\\Users\\USER\\Desktop\\Selected Perogram\\Preproses\\Tahap B\\Scyphiphora hydrophyllacea\\Scyphiphora_hydrophyllacea41_horizontal_90.jpg\n",
      "Processing C:\\Users\\USER\\Desktop\\Selected Perogram\\Preproses\\Tahap B\\Scyphiphora hydrophyllacea\\Scyphiphora_hydrophyllacea41_original_0.jpg\n",
      "Processing C:\\Users\\USER\\Desktop\\Selected Perogram\\Preproses\\Tahap B\\Scyphiphora hydrophyllacea\\Scyphiphora_hydrophyllacea41_original_270.jpg\n",
      "Processing C:\\Users\\USER\\Desktop\\Selected Perogram\\Preproses\\Tahap B\\Scyphiphora hydrophyllacea\\Scyphiphora_hydrophyllacea41_original_90.jpg\n",
      "Processing C:\\Users\\USER\\Desktop\\Selected Perogram\\Preproses\\Tahap B\\Scyphiphora hydrophyllacea\\Scyphiphora_hydrophyllacea41_vertical_0.jpg\n",
      "Processing C:\\Users\\USER\\Desktop\\Selected Perogram\\Preproses\\Tahap B\\Scyphiphora hydrophyllacea\\Scyphiphora_hydrophyllacea41_vertical_270.jpg\n",
      "Processing C:\\Users\\USER\\Desktop\\Selected Perogram\\Preproses\\Tahap B\\Scyphiphora hydrophyllacea\\Scyphiphora_hydrophyllacea41_vertical_90.jpg\n",
      "Processing C:\\Users\\USER\\Desktop\\Selected Perogram\\Preproses\\Tahap B\\Scyphiphora hydrophyllacea\\Scyphiphora_hydrophyllacea42_horizontal_0.jpg\n"
     ]
    },
    {
     "name": "stderr",
     "output_type": "stream",
     "text": [
      "Processing images:  91%|█████████ | 2153/2360 [00:50<00:04, 43.76it/s]"
     ]
    },
    {
     "name": "stdout",
     "output_type": "stream",
     "text": [
      "Processing C:\\Users\\USER\\Desktop\\Selected Perogram\\Preproses\\Tahap B\\Scyphiphora hydrophyllacea\\Scyphiphora_hydrophyllacea42_horizontal_270.jpg\n",
      "Processing C:\\Users\\USER\\Desktop\\Selected Perogram\\Preproses\\Tahap B\\Scyphiphora hydrophyllacea\\Scyphiphora_hydrophyllacea42_horizontal_90.jpg\n",
      "Processing C:\\Users\\USER\\Desktop\\Selected Perogram\\Preproses\\Tahap B\\Scyphiphora hydrophyllacea\\Scyphiphora_hydrophyllacea42_original_0.jpg\n",
      "Processing C:\\Users\\USER\\Desktop\\Selected Perogram\\Preproses\\Tahap B\\Scyphiphora hydrophyllacea\\Scyphiphora_hydrophyllacea42_original_270.jpg\n",
      "Processing C:\\Users\\USER\\Desktop\\Selected Perogram\\Preproses\\Tahap B\\Scyphiphora hydrophyllacea\\Scyphiphora_hydrophyllacea42_original_90.jpg\n",
      "Processing C:\\Users\\USER\\Desktop\\Selected Perogram\\Preproses\\Tahap B\\Scyphiphora hydrophyllacea\\Scyphiphora_hydrophyllacea42_vertical_0.jpg\n",
      "Processing C:\\Users\\USER\\Desktop\\Selected Perogram\\Preproses\\Tahap B\\Scyphiphora hydrophyllacea\\Scyphiphora_hydrophyllacea42_vertical_270.jpg\n",
      "Processing C:\\Users\\USER\\Desktop\\Selected Perogram\\Preproses\\Tahap B\\Scyphiphora hydrophyllacea\\Scyphiphora_hydrophyllacea42_vertical_90.jpg\n",
      "Processing C:\\Users\\USER\\Desktop\\Selected Perogram\\Preproses\\Tahap B\\Scyphiphora hydrophyllacea\\Scyphiphora_hydrophyllacea43_horizontal_0.jpg\n",
      "Processing C:\\Users\\USER\\Desktop\\Selected Perogram\\Preproses\\Tahap B\\Scyphiphora hydrophyllacea\\Scyphiphora_hydrophyllacea43_horizontal_270.jpg\n"
     ]
    },
    {
     "name": "stderr",
     "output_type": "stream",
     "text": [
      "Processing images:  91%|█████████▏| 2158/2360 [00:50<00:04, 41.53it/s]"
     ]
    },
    {
     "name": "stdout",
     "output_type": "stream",
     "text": [
      "Processing C:\\Users\\USER\\Desktop\\Selected Perogram\\Preproses\\Tahap B\\Scyphiphora hydrophyllacea\\Scyphiphora_hydrophyllacea43_horizontal_90.jpg\n",
      "Processing C:\\Users\\USER\\Desktop\\Selected Perogram\\Preproses\\Tahap B\\Scyphiphora hydrophyllacea\\Scyphiphora_hydrophyllacea43_original_0.jpg\n",
      "Processing C:\\Users\\USER\\Desktop\\Selected Perogram\\Preproses\\Tahap B\\Scyphiphora hydrophyllacea\\Scyphiphora_hydrophyllacea43_original_270.jpg\n",
      "Processing C:\\Users\\USER\\Desktop\\Selected Perogram\\Preproses\\Tahap B\\Scyphiphora hydrophyllacea\\Scyphiphora_hydrophyllacea43_original_90.jpg\n",
      "Processing C:\\Users\\USER\\Desktop\\Selected Perogram\\Preproses\\Tahap B\\Scyphiphora hydrophyllacea\\Scyphiphora_hydrophyllacea43_vertical_0.jpg\n",
      "Processing C:\\Users\\USER\\Desktop\\Selected Perogram\\Preproses\\Tahap B\\Scyphiphora hydrophyllacea\\Scyphiphora_hydrophyllacea43_vertical_270.jpg\n",
      "Processing C:\\Users\\USER\\Desktop\\Selected Perogram\\Preproses\\Tahap B\\Scyphiphora hydrophyllacea\\Scyphiphora_hydrophyllacea43_vertical_90.jpg\n",
      "Processing C:\\Users\\USER\\Desktop\\Selected Perogram\\Preproses\\Tahap B\\Scyphiphora hydrophyllacea\\Scyphiphora_hydrophyllacea44_horizontal_0.jpg\n"
     ]
    },
    {
     "name": "stderr",
     "output_type": "stream",
     "text": [
      "Processing images:  92%|█████████▏| 2168/2360 [00:51<00:04, 42.80it/s]"
     ]
    },
    {
     "name": "stdout",
     "output_type": "stream",
     "text": [
      "Processing C:\\Users\\USER\\Desktop\\Selected Perogram\\Preproses\\Tahap B\\Scyphiphora hydrophyllacea\\Scyphiphora_hydrophyllacea44_horizontal_270.jpg\n",
      "Processing C:\\Users\\USER\\Desktop\\Selected Perogram\\Preproses\\Tahap B\\Scyphiphora hydrophyllacea\\Scyphiphora_hydrophyllacea44_horizontal_90.jpg\n",
      "Processing C:\\Users\\USER\\Desktop\\Selected Perogram\\Preproses\\Tahap B\\Scyphiphora hydrophyllacea\\Scyphiphora_hydrophyllacea44_original_0.jpg\n",
      "Processing C:\\Users\\USER\\Desktop\\Selected Perogram\\Preproses\\Tahap B\\Scyphiphora hydrophyllacea\\Scyphiphora_hydrophyllacea44_original_270.jpg\n",
      "Processing C:\\Users\\USER\\Desktop\\Selected Perogram\\Preproses\\Tahap B\\Scyphiphora hydrophyllacea\\Scyphiphora_hydrophyllacea44_original_90.jpg\n",
      "Processing C:\\Users\\USER\\Desktop\\Selected Perogram\\Preproses\\Tahap B\\Scyphiphora hydrophyllacea\\Scyphiphora_hydrophyllacea44_vertical_0.jpg\n",
      "Processing C:\\Users\\USER\\Desktop\\Selected Perogram\\Preproses\\Tahap B\\Scyphiphora hydrophyllacea\\Scyphiphora_hydrophyllacea44_vertical_270.jpg\n",
      "Processing C:\\Users\\USER\\Desktop\\Selected Perogram\\Preproses\\Tahap B\\Scyphiphora hydrophyllacea\\Scyphiphora_hydrophyllacea44_vertical_90.jpg\n",
      "Processing C:\\Users\\USER\\Desktop\\Selected Perogram\\Preproses\\Tahap B\\Scyphiphora hydrophyllacea\\Scyphiphora_hydrophyllacea45_horizontal_0.jpg\n",
      "Processing C:\\Users\\USER\\Desktop\\Selected Perogram\\Preproses\\Tahap B\\Scyphiphora hydrophyllacea\\Scyphiphora_hydrophyllacea45_horizontal_270.jpg\n"
     ]
    },
    {
     "name": "stderr",
     "output_type": "stream",
     "text": [
      "Processing images:  92%|█████████▏| 2178/2360 [00:51<00:04, 43.13it/s]"
     ]
    },
    {
     "name": "stdout",
     "output_type": "stream",
     "text": [
      "Processing C:\\Users\\USER\\Desktop\\Selected Perogram\\Preproses\\Tahap B\\Scyphiphora hydrophyllacea\\Scyphiphora_hydrophyllacea45_horizontal_90.jpg\n",
      "Processing C:\\Users\\USER\\Desktop\\Selected Perogram\\Preproses\\Tahap B\\Scyphiphora hydrophyllacea\\Scyphiphora_hydrophyllacea45_original_0.jpg\n",
      "Processing C:\\Users\\USER\\Desktop\\Selected Perogram\\Preproses\\Tahap B\\Scyphiphora hydrophyllacea\\Scyphiphora_hydrophyllacea45_original_270.jpg\n",
      "Processing C:\\Users\\USER\\Desktop\\Selected Perogram\\Preproses\\Tahap B\\Scyphiphora hydrophyllacea\\Scyphiphora_hydrophyllacea45_original_90.jpg\n",
      "Processing C:\\Users\\USER\\Desktop\\Selected Perogram\\Preproses\\Tahap B\\Scyphiphora hydrophyllacea\\Scyphiphora_hydrophyllacea45_vertical_0.jpg\n",
      "Processing C:\\Users\\USER\\Desktop\\Selected Perogram\\Preproses\\Tahap B\\Scyphiphora hydrophyllacea\\Scyphiphora_hydrophyllacea45_vertical_270.jpg\n",
      "Processing C:\\Users\\USER\\Desktop\\Selected Perogram\\Preproses\\Tahap B\\Scyphiphora hydrophyllacea\\Scyphiphora_hydrophyllacea45_vertical_90.jpg\n",
      "Processing C:\\Users\\USER\\Desktop\\Selected Perogram\\Preproses\\Tahap B\\Scyphiphora hydrophyllacea\\Scyphiphora_hydrophyllacea46_horizontal_0.jpg\n",
      "Processing C:\\Users\\USER\\Desktop\\Selected Perogram\\Preproses\\Tahap B\\Scyphiphora hydrophyllacea\\Scyphiphora_hydrophyllacea46_horizontal_270.jpg\n"
     ]
    },
    {
     "name": "stderr",
     "output_type": "stream",
     "text": [
      "Processing images:  93%|█████████▎| 2188/2360 [00:51<00:03, 43.02it/s]"
     ]
    },
    {
     "name": "stdout",
     "output_type": "stream",
     "text": [
      "Processing C:\\Users\\USER\\Desktop\\Selected Perogram\\Preproses\\Tahap B\\Scyphiphora hydrophyllacea\\Scyphiphora_hydrophyllacea46_horizontal_90.jpg\n",
      "Processing C:\\Users\\USER\\Desktop\\Selected Perogram\\Preproses\\Tahap B\\Scyphiphora hydrophyllacea\\Scyphiphora_hydrophyllacea46_original_0.jpg\n",
      "Processing C:\\Users\\USER\\Desktop\\Selected Perogram\\Preproses\\Tahap B\\Scyphiphora hydrophyllacea\\Scyphiphora_hydrophyllacea46_original_270.jpg\n",
      "Processing C:\\Users\\USER\\Desktop\\Selected Perogram\\Preproses\\Tahap B\\Scyphiphora hydrophyllacea\\Scyphiphora_hydrophyllacea46_original_90.jpg\n",
      "Processing C:\\Users\\USER\\Desktop\\Selected Perogram\\Preproses\\Tahap B\\Scyphiphora hydrophyllacea\\Scyphiphora_hydrophyllacea46_vertical_0.jpg\n",
      "Processing C:\\Users\\USER\\Desktop\\Selected Perogram\\Preproses\\Tahap B\\Scyphiphora hydrophyllacea\\Scyphiphora_hydrophyllacea46_vertical_270.jpg\n",
      "Processing C:\\Users\\USER\\Desktop\\Selected Perogram\\Preproses\\Tahap B\\Scyphiphora hydrophyllacea\\Scyphiphora_hydrophyllacea46_vertical_90.jpg\n",
      "Processing C:\\Users\\USER\\Desktop\\Selected Perogram\\Preproses\\Tahap B\\Scyphiphora hydrophyllacea\\Scyphiphora_hydrophyllacea47_horizontal_0.jpg\n",
      "Processing C:\\Users\\USER\\Desktop\\Selected Perogram\\Preproses\\Tahap B\\Scyphiphora hydrophyllacea\\Scyphiphora_hydrophyllacea47_horizontal_270.jpg\n",
      "Processing C:\\Users\\USER\\Desktop\\Selected Perogram\\Preproses\\Tahap B\\Scyphiphora hydrophyllacea\\Scyphiphora_hydrophyllacea47_horizontal_90.jpg\n"
     ]
    },
    {
     "name": "stderr",
     "output_type": "stream",
     "text": [
      "Processing images:  93%|█████████▎| 2198/2360 [00:51<00:03, 43.34it/s]"
     ]
    },
    {
     "name": "stdout",
     "output_type": "stream",
     "text": [
      "Processing C:\\Users\\USER\\Desktop\\Selected Perogram\\Preproses\\Tahap B\\Scyphiphora hydrophyllacea\\Scyphiphora_hydrophyllacea47_original_0.jpg\n",
      "Processing C:\\Users\\USER\\Desktop\\Selected Perogram\\Preproses\\Tahap B\\Scyphiphora hydrophyllacea\\Scyphiphora_hydrophyllacea47_original_270.jpg\n",
      "Processing C:\\Users\\USER\\Desktop\\Selected Perogram\\Preproses\\Tahap B\\Scyphiphora hydrophyllacea\\Scyphiphora_hydrophyllacea47_original_90.jpg\n",
      "Processing C:\\Users\\USER\\Desktop\\Selected Perogram\\Preproses\\Tahap B\\Scyphiphora hydrophyllacea\\Scyphiphora_hydrophyllacea47_vertical_0.jpg\n",
      "Processing C:\\Users\\USER\\Desktop\\Selected Perogram\\Preproses\\Tahap B\\Scyphiphora hydrophyllacea\\Scyphiphora_hydrophyllacea47_vertical_270.jpg\n",
      "Processing C:\\Users\\USER\\Desktop\\Selected Perogram\\Preproses\\Tahap B\\Scyphiphora hydrophyllacea\\Scyphiphora_hydrophyllacea47_vertical_90.jpg\n",
      "Processing C:\\Users\\USER\\Desktop\\Selected Perogram\\Preproses\\Tahap B\\Scyphiphora hydrophyllacea\\Scyphiphora_hydrophyllacea48_horizontal_0.jpg\n",
      "Processing C:\\Users\\USER\\Desktop\\Selected Perogram\\Preproses\\Tahap B\\Scyphiphora hydrophyllacea\\Scyphiphora_hydrophyllacea48_horizontal_270.jpg\n",
      "Processing C:\\Users\\USER\\Desktop\\Selected Perogram\\Preproses\\Tahap B\\Scyphiphora hydrophyllacea\\Scyphiphora_hydrophyllacea48_horizontal_90.jpg\n",
      "Processing C:\\Users\\USER\\Desktop\\Selected Perogram\\Preproses\\Tahap B\\Scyphiphora hydrophyllacea\\Scyphiphora_hydrophyllacea48_original_0.jpg\n"
     ]
    },
    {
     "name": "stderr",
     "output_type": "stream",
     "text": [
      "Processing images:  94%|█████████▎| 2208/2360 [00:51<00:03, 43.91it/s]"
     ]
    },
    {
     "name": "stdout",
     "output_type": "stream",
     "text": [
      "Processing C:\\Users\\USER\\Desktop\\Selected Perogram\\Preproses\\Tahap B\\Scyphiphora hydrophyllacea\\Scyphiphora_hydrophyllacea48_original_270.jpg\n",
      "Processing C:\\Users\\USER\\Desktop\\Selected Perogram\\Preproses\\Tahap B\\Scyphiphora hydrophyllacea\\Scyphiphora_hydrophyllacea48_original_90.jpg\n",
      "Processing C:\\Users\\USER\\Desktop\\Selected Perogram\\Preproses\\Tahap B\\Scyphiphora hydrophyllacea\\Scyphiphora_hydrophyllacea48_vertical_0.jpg\n",
      "Processing C:\\Users\\USER\\Desktop\\Selected Perogram\\Preproses\\Tahap B\\Scyphiphora hydrophyllacea\\Scyphiphora_hydrophyllacea48_vertical_270.jpg\n",
      "Processing C:\\Users\\USER\\Desktop\\Selected Perogram\\Preproses\\Tahap B\\Scyphiphora hydrophyllacea\\Scyphiphora_hydrophyllacea48_vertical_90.jpg\n",
      "Processing C:\\Users\\USER\\Desktop\\Selected Perogram\\Preproses\\Tahap B\\Scyphiphora hydrophyllacea\\Scyphiphora_hydrophyllacea49_horizontal_0.jpg\n",
      "Processing C:\\Users\\USER\\Desktop\\Selected Perogram\\Preproses\\Tahap B\\Scyphiphora hydrophyllacea\\Scyphiphora_hydrophyllacea49_horizontal_270.jpg\n",
      "Processing C:\\Users\\USER\\Desktop\\Selected Perogram\\Preproses\\Tahap B\\Scyphiphora hydrophyllacea\\Scyphiphora_hydrophyllacea49_horizontal_90.jpg\n",
      "Processing C:\\Users\\USER\\Desktop\\Selected Perogram\\Preproses\\Tahap B\\Scyphiphora hydrophyllacea\\Scyphiphora_hydrophyllacea49_original_0.jpg\n"
     ]
    },
    {
     "name": "stderr",
     "output_type": "stream",
     "text": [
      "Processing images:  94%|█████████▍| 2218/2360 [00:52<00:03, 43.29it/s]"
     ]
    },
    {
     "name": "stdout",
     "output_type": "stream",
     "text": [
      "Processing C:\\Users\\USER\\Desktop\\Selected Perogram\\Preproses\\Tahap B\\Scyphiphora hydrophyllacea\\Scyphiphora_hydrophyllacea49_original_270.jpg\n",
      "Processing C:\\Users\\USER\\Desktop\\Selected Perogram\\Preproses\\Tahap B\\Scyphiphora hydrophyllacea\\Scyphiphora_hydrophyllacea49_original_90.jpg\n",
      "Processing C:\\Users\\USER\\Desktop\\Selected Perogram\\Preproses\\Tahap B\\Scyphiphora hydrophyllacea\\Scyphiphora_hydrophyllacea49_vertical_0.jpg\n",
      "Processing C:\\Users\\USER\\Desktop\\Selected Perogram\\Preproses\\Tahap B\\Scyphiphora hydrophyllacea\\Scyphiphora_hydrophyllacea49_vertical_270.jpg\n",
      "Processing C:\\Users\\USER\\Desktop\\Selected Perogram\\Preproses\\Tahap B\\Scyphiphora hydrophyllacea\\Scyphiphora_hydrophyllacea49_vertical_90.jpg\n",
      "Processing C:\\Users\\USER\\Desktop\\Selected Perogram\\Preproses\\Tahap B\\Scyphiphora hydrophyllacea\\Scyphiphora_hydrophyllacea4_horizontal_0.jpg\n",
      "Processing C:\\Users\\USER\\Desktop\\Selected Perogram\\Preproses\\Tahap B\\Scyphiphora hydrophyllacea\\Scyphiphora_hydrophyllacea4_horizontal_270.jpg\n",
      "Processing C:\\Users\\USER\\Desktop\\Selected Perogram\\Preproses\\Tahap B\\Scyphiphora hydrophyllacea\\Scyphiphora_hydrophyllacea4_horizontal_90.jpg\n",
      "Processing C:\\Users\\USER\\Desktop\\Selected Perogram\\Preproses\\Tahap B\\Scyphiphora hydrophyllacea\\Scyphiphora_hydrophyllacea4_original_0.jpg\n"
     ]
    },
    {
     "name": "stderr",
     "output_type": "stream",
     "text": [
      "Processing images:  94%|█████████▍| 2228/2360 [00:52<00:03, 43.67it/s]"
     ]
    },
    {
     "name": "stdout",
     "output_type": "stream",
     "text": [
      "Processing C:\\Users\\USER\\Desktop\\Selected Perogram\\Preproses\\Tahap B\\Scyphiphora hydrophyllacea\\Scyphiphora_hydrophyllacea4_original_270.jpg\n",
      "Processing C:\\Users\\USER\\Desktop\\Selected Perogram\\Preproses\\Tahap B\\Scyphiphora hydrophyllacea\\Scyphiphora_hydrophyllacea4_original_90.jpg\n",
      "Processing C:\\Users\\USER\\Desktop\\Selected Perogram\\Preproses\\Tahap B\\Scyphiphora hydrophyllacea\\Scyphiphora_hydrophyllacea4_vertical_0.jpg\n",
      "Processing C:\\Users\\USER\\Desktop\\Selected Perogram\\Preproses\\Tahap B\\Scyphiphora hydrophyllacea\\Scyphiphora_hydrophyllacea4_vertical_270.jpg\n",
      "Processing C:\\Users\\USER\\Desktop\\Selected Perogram\\Preproses\\Tahap B\\Scyphiphora hydrophyllacea\\Scyphiphora_hydrophyllacea4_vertical_90.jpg\n",
      "Processing C:\\Users\\USER\\Desktop\\Selected Perogram\\Preproses\\Tahap B\\Scyphiphora hydrophyllacea\\Scyphiphora_hydrophyllacea50_horizontal_0.jpg\n",
      "Processing C:\\Users\\USER\\Desktop\\Selected Perogram\\Preproses\\Tahap B\\Scyphiphora hydrophyllacea\\Scyphiphora_hydrophyllacea50_horizontal_270.jpg\n",
      "Processing C:\\Users\\USER\\Desktop\\Selected Perogram\\Preproses\\Tahap B\\Scyphiphora hydrophyllacea\\Scyphiphora_hydrophyllacea50_horizontal_90.jpg\n"
     ]
    },
    {
     "name": "stderr",
     "output_type": "stream",
     "text": [
      "Processing images:  95%|█████████▍| 2233/2360 [00:52<00:03, 41.37it/s]"
     ]
    },
    {
     "name": "stdout",
     "output_type": "stream",
     "text": [
      "Processing C:\\Users\\USER\\Desktop\\Selected Perogram\\Preproses\\Tahap B\\Scyphiphora hydrophyllacea\\Scyphiphora_hydrophyllacea50_original_0.jpg\n",
      "Processing C:\\Users\\USER\\Desktop\\Selected Perogram\\Preproses\\Tahap B\\Scyphiphora hydrophyllacea\\Scyphiphora_hydrophyllacea50_original_270.jpg\n",
      "Processing C:\\Users\\USER\\Desktop\\Selected Perogram\\Preproses\\Tahap B\\Scyphiphora hydrophyllacea\\Scyphiphora_hydrophyllacea50_original_90.jpg\n",
      "Processing C:\\Users\\USER\\Desktop\\Selected Perogram\\Preproses\\Tahap B\\Scyphiphora hydrophyllacea\\Scyphiphora_hydrophyllacea50_vertical_0.jpg\n",
      "Processing C:\\Users\\USER\\Desktop\\Selected Perogram\\Preproses\\Tahap B\\Scyphiphora hydrophyllacea\\Scyphiphora_hydrophyllacea50_vertical_270.jpg\n",
      "Processing C:\\Users\\USER\\Desktop\\Selected Perogram\\Preproses\\Tahap B\\Scyphiphora hydrophyllacea\\Scyphiphora_hydrophyllacea50_vertical_90.jpg\n",
      "Processing C:\\Users\\USER\\Desktop\\Selected Perogram\\Preproses\\Tahap B\\Scyphiphora hydrophyllacea\\Scyphiphora_hydrophyllacea51_horizontal_0.jpg\n",
      "Processing C:\\Users\\USER\\Desktop\\Selected Perogram\\Preproses\\Tahap B\\Scyphiphora hydrophyllacea\\Scyphiphora_hydrophyllacea51_horizontal_270.jpg\n",
      "Processing C:\\Users\\USER\\Desktop\\Selected Perogram\\Preproses\\Tahap B\\Scyphiphora hydrophyllacea\\Scyphiphora_hydrophyllacea51_horizontal_90.jpg\n"
     ]
    },
    {
     "name": "stderr",
     "output_type": "stream",
     "text": [
      "Processing images:  95%|█████████▌| 2243/2360 [00:52<00:02, 42.31it/s]"
     ]
    },
    {
     "name": "stdout",
     "output_type": "stream",
     "text": [
      "Processing C:\\Users\\USER\\Desktop\\Selected Perogram\\Preproses\\Tahap B\\Scyphiphora hydrophyllacea\\Scyphiphora_hydrophyllacea51_original_0.jpg\n",
      "Processing C:\\Users\\USER\\Desktop\\Selected Perogram\\Preproses\\Tahap B\\Scyphiphora hydrophyllacea\\Scyphiphora_hydrophyllacea51_original_270.jpg\n",
      "Processing C:\\Users\\USER\\Desktop\\Selected Perogram\\Preproses\\Tahap B\\Scyphiphora hydrophyllacea\\Scyphiphora_hydrophyllacea51_original_90.jpg\n",
      "Processing C:\\Users\\USER\\Desktop\\Selected Perogram\\Preproses\\Tahap B\\Scyphiphora hydrophyllacea\\Scyphiphora_hydrophyllacea51_vertical_0.jpg\n",
      "Processing C:\\Users\\USER\\Desktop\\Selected Perogram\\Preproses\\Tahap B\\Scyphiphora hydrophyllacea\\Scyphiphora_hydrophyllacea51_vertical_270.jpg\n",
      "Processing C:\\Users\\USER\\Desktop\\Selected Perogram\\Preproses\\Tahap B\\Scyphiphora hydrophyllacea\\Scyphiphora_hydrophyllacea51_vertical_90.jpg\n",
      "Processing C:\\Users\\USER\\Desktop\\Selected Perogram\\Preproses\\Tahap B\\Scyphiphora hydrophyllacea\\Scyphiphora_hydrophyllacea52_horizontal_0.jpg\n",
      "Processing C:\\Users\\USER\\Desktop\\Selected Perogram\\Preproses\\Tahap B\\Scyphiphora hydrophyllacea\\Scyphiphora_hydrophyllacea52_horizontal_270.jpg\n",
      "Processing C:\\Users\\USER\\Desktop\\Selected Perogram\\Preproses\\Tahap B\\Scyphiphora hydrophyllacea\\Scyphiphora_hydrophyllacea52_horizontal_90.jpg\n",
      "Processing C:\\Users\\USER\\Desktop\\Selected Perogram\\Preproses\\Tahap B\\Scyphiphora hydrophyllacea\\Scyphiphora_hydrophyllacea52_original_0.jpg\n"
     ]
    },
    {
     "name": "stderr",
     "output_type": "stream",
     "text": [
      "Processing images:  95%|█████████▌| 2253/2360 [00:53<00:02, 42.62it/s]"
     ]
    },
    {
     "name": "stdout",
     "output_type": "stream",
     "text": [
      "Processing C:\\Users\\USER\\Desktop\\Selected Perogram\\Preproses\\Tahap B\\Scyphiphora hydrophyllacea\\Scyphiphora_hydrophyllacea52_original_270.jpg\n",
      "Processing C:\\Users\\USER\\Desktop\\Selected Perogram\\Preproses\\Tahap B\\Scyphiphora hydrophyllacea\\Scyphiphora_hydrophyllacea52_original_90.jpg\n",
      "Processing C:\\Users\\USER\\Desktop\\Selected Perogram\\Preproses\\Tahap B\\Scyphiphora hydrophyllacea\\Scyphiphora_hydrophyllacea52_vertical_0.jpg\n",
      "Processing C:\\Users\\USER\\Desktop\\Selected Perogram\\Preproses\\Tahap B\\Scyphiphora hydrophyllacea\\Scyphiphora_hydrophyllacea52_vertical_270.jpg\n",
      "Processing C:\\Users\\USER\\Desktop\\Selected Perogram\\Preproses\\Tahap B\\Scyphiphora hydrophyllacea\\Scyphiphora_hydrophyllacea52_vertical_90.jpg\n",
      "Processing C:\\Users\\USER\\Desktop\\Selected Perogram\\Preproses\\Tahap B\\Scyphiphora hydrophyllacea\\Scyphiphora_hydrophyllacea53_horizontal_0.jpg\n",
      "Processing C:\\Users\\USER\\Desktop\\Selected Perogram\\Preproses\\Tahap B\\Scyphiphora hydrophyllacea\\Scyphiphora_hydrophyllacea53_horizontal_270.jpg\n",
      "Processing C:\\Users\\USER\\Desktop\\Selected Perogram\\Preproses\\Tahap B\\Scyphiphora hydrophyllacea\\Scyphiphora_hydrophyllacea53_horizontal_90.jpg\n",
      "Processing C:\\Users\\USER\\Desktop\\Selected Perogram\\Preproses\\Tahap B\\Scyphiphora hydrophyllacea\\Scyphiphora_hydrophyllacea53_original_0.jpg\n",
      "Processing C:\\Users\\USER\\Desktop\\Selected Perogram\\Preproses\\Tahap B\\Scyphiphora hydrophyllacea\\Scyphiphora_hydrophyllacea53_original_270.jpg\n"
     ]
    },
    {
     "name": "stderr",
     "output_type": "stream",
     "text": [
      "Processing images:  96%|█████████▌| 2263/2360 [00:53<00:02, 43.24it/s]"
     ]
    },
    {
     "name": "stdout",
     "output_type": "stream",
     "text": [
      "Processing C:\\Users\\USER\\Desktop\\Selected Perogram\\Preproses\\Tahap B\\Scyphiphora hydrophyllacea\\Scyphiphora_hydrophyllacea53_original_90.jpg\n",
      "Processing C:\\Users\\USER\\Desktop\\Selected Perogram\\Preproses\\Tahap B\\Scyphiphora hydrophyllacea\\Scyphiphora_hydrophyllacea53_vertical_0.jpg\n",
      "Processing C:\\Users\\USER\\Desktop\\Selected Perogram\\Preproses\\Tahap B\\Scyphiphora hydrophyllacea\\Scyphiphora_hydrophyllacea53_vertical_270.jpg\n",
      "Processing C:\\Users\\USER\\Desktop\\Selected Perogram\\Preproses\\Tahap B\\Scyphiphora hydrophyllacea\\Scyphiphora_hydrophyllacea53_vertical_90.jpg\n",
      "Processing C:\\Users\\USER\\Desktop\\Selected Perogram\\Preproses\\Tahap B\\Scyphiphora hydrophyllacea\\Scyphiphora_hydrophyllacea54_horizontal_0.jpg\n",
      "Processing C:\\Users\\USER\\Desktop\\Selected Perogram\\Preproses\\Tahap B\\Scyphiphora hydrophyllacea\\Scyphiphora_hydrophyllacea54_horizontal_270.jpg\n",
      "Processing C:\\Users\\USER\\Desktop\\Selected Perogram\\Preproses\\Tahap B\\Scyphiphora hydrophyllacea\\Scyphiphora_hydrophyllacea54_horizontal_90.jpg\n",
      "Processing C:\\Users\\USER\\Desktop\\Selected Perogram\\Preproses\\Tahap B\\Scyphiphora hydrophyllacea\\Scyphiphora_hydrophyllacea54_original_0.jpg\n",
      "Processing C:\\Users\\USER\\Desktop\\Selected Perogram\\Preproses\\Tahap B\\Scyphiphora hydrophyllacea\\Scyphiphora_hydrophyllacea54_original_270.jpg\n"
     ]
    },
    {
     "name": "stderr",
     "output_type": "stream",
     "text": [
      "Processing images:  96%|█████████▋| 2273/2360 [00:53<00:02, 43.26it/s]"
     ]
    },
    {
     "name": "stdout",
     "output_type": "stream",
     "text": [
      "Processing C:\\Users\\USER\\Desktop\\Selected Perogram\\Preproses\\Tahap B\\Scyphiphora hydrophyllacea\\Scyphiphora_hydrophyllacea54_original_90.jpg\n",
      "Processing C:\\Users\\USER\\Desktop\\Selected Perogram\\Preproses\\Tahap B\\Scyphiphora hydrophyllacea\\Scyphiphora_hydrophyllacea54_vertical_0.jpg\n",
      "Processing C:\\Users\\USER\\Desktop\\Selected Perogram\\Preproses\\Tahap B\\Scyphiphora hydrophyllacea\\Scyphiphora_hydrophyllacea54_vertical_270.jpg\n",
      "Processing C:\\Users\\USER\\Desktop\\Selected Perogram\\Preproses\\Tahap B\\Scyphiphora hydrophyllacea\\Scyphiphora_hydrophyllacea54_vertical_90.jpg\n",
      "Processing C:\\Users\\USER\\Desktop\\Selected Perogram\\Preproses\\Tahap B\\Scyphiphora hydrophyllacea\\Scyphiphora_hydrophyllacea55_horizontal_0.jpg\n",
      "Processing C:\\Users\\USER\\Desktop\\Selected Perogram\\Preproses\\Tahap B\\Scyphiphora hydrophyllacea\\Scyphiphora_hydrophyllacea55_horizontal_270.jpg\n",
      "Processing C:\\Users\\USER\\Desktop\\Selected Perogram\\Preproses\\Tahap B\\Scyphiphora hydrophyllacea\\Scyphiphora_hydrophyllacea55_horizontal_90.jpg\n",
      "Processing C:\\Users\\USER\\Desktop\\Selected Perogram\\Preproses\\Tahap B\\Scyphiphora hydrophyllacea\\Scyphiphora_hydrophyllacea55_original_0.jpg\n",
      "Processing C:\\Users\\USER\\Desktop\\Selected Perogram\\Preproses\\Tahap B\\Scyphiphora hydrophyllacea\\Scyphiphora_hydrophyllacea55_original_270.jpg\n",
      "Processing C:\\Users\\USER\\Desktop\\Selected Perogram\\Preproses\\Tahap B\\Scyphiphora hydrophyllacea\\Scyphiphora_hydrophyllacea55_original_90.jpg\n"
     ]
    },
    {
     "name": "stderr",
     "output_type": "stream",
     "text": [
      "Processing images:  97%|█████████▋| 2283/2360 [00:53<00:01, 44.66it/s]"
     ]
    },
    {
     "name": "stdout",
     "output_type": "stream",
     "text": [
      "Processing C:\\Users\\USER\\Desktop\\Selected Perogram\\Preproses\\Tahap B\\Scyphiphora hydrophyllacea\\Scyphiphora_hydrophyllacea55_vertical_0.jpg\n",
      "Processing C:\\Users\\USER\\Desktop\\Selected Perogram\\Preproses\\Tahap B\\Scyphiphora hydrophyllacea\\Scyphiphora_hydrophyllacea55_vertical_270.jpg\n",
      "Processing C:\\Users\\USER\\Desktop\\Selected Perogram\\Preproses\\Tahap B\\Scyphiphora hydrophyllacea\\Scyphiphora_hydrophyllacea55_vertical_90.jpg\n",
      "Processing C:\\Users\\USER\\Desktop\\Selected Perogram\\Preproses\\Tahap B\\Scyphiphora hydrophyllacea\\Scyphiphora_hydrophyllacea56_horizontal_0.jpg\n",
      "Processing C:\\Users\\USER\\Desktop\\Selected Perogram\\Preproses\\Tahap B\\Scyphiphora hydrophyllacea\\Scyphiphora_hydrophyllacea56_horizontal_270.jpg\n",
      "Processing C:\\Users\\USER\\Desktop\\Selected Perogram\\Preproses\\Tahap B\\Scyphiphora hydrophyllacea\\Scyphiphora_hydrophyllacea56_horizontal_90.jpg\n",
      "Processing C:\\Users\\USER\\Desktop\\Selected Perogram\\Preproses\\Tahap B\\Scyphiphora hydrophyllacea\\Scyphiphora_hydrophyllacea56_original_0.jpg\n",
      "Processing C:\\Users\\USER\\Desktop\\Selected Perogram\\Preproses\\Tahap B\\Scyphiphora hydrophyllacea\\Scyphiphora_hydrophyllacea56_original_270.jpg\n",
      "Processing C:\\Users\\USER\\Desktop\\Selected Perogram\\Preproses\\Tahap B\\Scyphiphora hydrophyllacea\\Scyphiphora_hydrophyllacea56_original_90.jpg\n",
      "Processing C:\\Users\\USER\\Desktop\\Selected Perogram\\Preproses\\Tahap B\\Scyphiphora hydrophyllacea\\Scyphiphora_hydrophyllacea56_vertical_0.jpg\n"
     ]
    },
    {
     "name": "stderr",
     "output_type": "stream",
     "text": [
      "Processing images:  97%|█████████▋| 2293/2360 [00:53<00:01, 44.68it/s]"
     ]
    },
    {
     "name": "stdout",
     "output_type": "stream",
     "text": [
      "Processing C:\\Users\\USER\\Desktop\\Selected Perogram\\Preproses\\Tahap B\\Scyphiphora hydrophyllacea\\Scyphiphora_hydrophyllacea56_vertical_270.jpg\n",
      "Processing C:\\Users\\USER\\Desktop\\Selected Perogram\\Preproses\\Tahap B\\Scyphiphora hydrophyllacea\\Scyphiphora_hydrophyllacea56_vertical_90.jpg\n",
      "Processing C:\\Users\\USER\\Desktop\\Selected Perogram\\Preproses\\Tahap B\\Scyphiphora hydrophyllacea\\Scyphiphora_hydrophyllacea57_horizontal_0.jpg\n",
      "Processing C:\\Users\\USER\\Desktop\\Selected Perogram\\Preproses\\Tahap B\\Scyphiphora hydrophyllacea\\Scyphiphora_hydrophyllacea57_horizontal_270.jpg\n",
      "Processing C:\\Users\\USER\\Desktop\\Selected Perogram\\Preproses\\Tahap B\\Scyphiphora hydrophyllacea\\Scyphiphora_hydrophyllacea57_horizontal_90.jpg\n",
      "Processing C:\\Users\\USER\\Desktop\\Selected Perogram\\Preproses\\Tahap B\\Scyphiphora hydrophyllacea\\Scyphiphora_hydrophyllacea57_original_0.jpg\n",
      "Processing C:\\Users\\USER\\Desktop\\Selected Perogram\\Preproses\\Tahap B\\Scyphiphora hydrophyllacea\\Scyphiphora_hydrophyllacea57_original_270.jpg\n",
      "Processing C:\\Users\\USER\\Desktop\\Selected Perogram\\Preproses\\Tahap B\\Scyphiphora hydrophyllacea\\Scyphiphora_hydrophyllacea57_original_90.jpg\n",
      "Processing C:\\Users\\USER\\Desktop\\Selected Perogram\\Preproses\\Tahap B\\Scyphiphora hydrophyllacea\\Scyphiphora_hydrophyllacea57_vertical_0.jpg\n",
      "Processing C:\\Users\\USER\\Desktop\\Selected Perogram\\Preproses\\Tahap B\\Scyphiphora hydrophyllacea\\Scyphiphora_hydrophyllacea57_vertical_270.jpg\n"
     ]
    },
    {
     "name": "stderr",
     "output_type": "stream",
     "text": [
      "Processing images:  98%|█████████▊| 2303/2360 [00:54<00:01, 45.03it/s]"
     ]
    },
    {
     "name": "stdout",
     "output_type": "stream",
     "text": [
      "Processing C:\\Users\\USER\\Desktop\\Selected Perogram\\Preproses\\Tahap B\\Scyphiphora hydrophyllacea\\Scyphiphora_hydrophyllacea57_vertical_90.jpg\n",
      "Processing C:\\Users\\USER\\Desktop\\Selected Perogram\\Preproses\\Tahap B\\Scyphiphora hydrophyllacea\\Scyphiphora_hydrophyllacea58_horizontal_0.jpg\n",
      "Processing C:\\Users\\USER\\Desktop\\Selected Perogram\\Preproses\\Tahap B\\Scyphiphora hydrophyllacea\\Scyphiphora_hydrophyllacea58_horizontal_270.jpg\n",
      "Processing C:\\Users\\USER\\Desktop\\Selected Perogram\\Preproses\\Tahap B\\Scyphiphora hydrophyllacea\\Scyphiphora_hydrophyllacea58_horizontal_90.jpg\n",
      "Processing C:\\Users\\USER\\Desktop\\Selected Perogram\\Preproses\\Tahap B\\Scyphiphora hydrophyllacea\\Scyphiphora_hydrophyllacea58_original_0.jpg\n",
      "Processing C:\\Users\\USER\\Desktop\\Selected Perogram\\Preproses\\Tahap B\\Scyphiphora hydrophyllacea\\Scyphiphora_hydrophyllacea58_original_270.jpg\n",
      "Processing C:\\Users\\USER\\Desktop\\Selected Perogram\\Preproses\\Tahap B\\Scyphiphora hydrophyllacea\\Scyphiphora_hydrophyllacea58_original_90.jpg\n",
      "Processing C:\\Users\\USER\\Desktop\\Selected Perogram\\Preproses\\Tahap B\\Scyphiphora hydrophyllacea\\Scyphiphora_hydrophyllacea58_vertical_0.jpg\n",
      "Processing C:\\Users\\USER\\Desktop\\Selected Perogram\\Preproses\\Tahap B\\Scyphiphora hydrophyllacea\\Scyphiphora_hydrophyllacea58_vertical_270.jpg\n",
      "Processing C:\\Users\\USER\\Desktop\\Selected Perogram\\Preproses\\Tahap B\\Scyphiphora hydrophyllacea\\Scyphiphora_hydrophyllacea58_vertical_90.jpg\n"
     ]
    },
    {
     "name": "stderr",
     "output_type": "stream",
     "text": [
      "Processing images:  98%|█████████▊| 2313/2360 [00:54<00:01, 44.46it/s]"
     ]
    },
    {
     "name": "stdout",
     "output_type": "stream",
     "text": [
      "Processing C:\\Users\\USER\\Desktop\\Selected Perogram\\Preproses\\Tahap B\\Scyphiphora hydrophyllacea\\Scyphiphora_hydrophyllacea59_horizontal_0.jpg\n",
      "Processing C:\\Users\\USER\\Desktop\\Selected Perogram\\Preproses\\Tahap B\\Scyphiphora hydrophyllacea\\Scyphiphora_hydrophyllacea59_horizontal_270.jpg\n",
      "Processing C:\\Users\\USER\\Desktop\\Selected Perogram\\Preproses\\Tahap B\\Scyphiphora hydrophyllacea\\Scyphiphora_hydrophyllacea59_horizontal_90.jpg\n",
      "Processing C:\\Users\\USER\\Desktop\\Selected Perogram\\Preproses\\Tahap B\\Scyphiphora hydrophyllacea\\Scyphiphora_hydrophyllacea59_original_0.jpg\n",
      "Processing C:\\Users\\USER\\Desktop\\Selected Perogram\\Preproses\\Tahap B\\Scyphiphora hydrophyllacea\\Scyphiphora_hydrophyllacea59_original_270.jpg\n",
      "Processing C:\\Users\\USER\\Desktop\\Selected Perogram\\Preproses\\Tahap B\\Scyphiphora hydrophyllacea\\Scyphiphora_hydrophyllacea59_original_90.jpg\n",
      "Processing C:\\Users\\USER\\Desktop\\Selected Perogram\\Preproses\\Tahap B\\Scyphiphora hydrophyllacea\\Scyphiphora_hydrophyllacea59_vertical_0.jpg\n",
      "Processing C:\\Users\\USER\\Desktop\\Selected Perogram\\Preproses\\Tahap B\\Scyphiphora hydrophyllacea\\Scyphiphora_hydrophyllacea59_vertical_270.jpg\n",
      "Processing C:\\Users\\USER\\Desktop\\Selected Perogram\\Preproses\\Tahap B\\Scyphiphora hydrophyllacea\\Scyphiphora_hydrophyllacea59_vertical_90.jpg\n"
     ]
    },
    {
     "name": "stderr",
     "output_type": "stream",
     "text": [
      "Processing images:  98%|█████████▊| 2323/2360 [00:54<00:00, 45.09it/s]"
     ]
    },
    {
     "name": "stdout",
     "output_type": "stream",
     "text": [
      "Processing C:\\Users\\USER\\Desktop\\Selected Perogram\\Preproses\\Tahap B\\Scyphiphora hydrophyllacea\\Scyphiphora_hydrophyllacea5_horizontal_0.jpg\n",
      "Processing C:\\Users\\USER\\Desktop\\Selected Perogram\\Preproses\\Tahap B\\Scyphiphora hydrophyllacea\\Scyphiphora_hydrophyllacea5_horizontal_270.jpg\n",
      "Processing C:\\Users\\USER\\Desktop\\Selected Perogram\\Preproses\\Tahap B\\Scyphiphora hydrophyllacea\\Scyphiphora_hydrophyllacea5_horizontal_90.jpg\n",
      "Processing C:\\Users\\USER\\Desktop\\Selected Perogram\\Preproses\\Tahap B\\Scyphiphora hydrophyllacea\\Scyphiphora_hydrophyllacea5_original_0.jpg\n",
      "Processing C:\\Users\\USER\\Desktop\\Selected Perogram\\Preproses\\Tahap B\\Scyphiphora hydrophyllacea\\Scyphiphora_hydrophyllacea5_original_270.jpg\n",
      "Processing C:\\Users\\USER\\Desktop\\Selected Perogram\\Preproses\\Tahap B\\Scyphiphora hydrophyllacea\\Scyphiphora_hydrophyllacea5_original_90.jpg\n",
      "Processing C:\\Users\\USER\\Desktop\\Selected Perogram\\Preproses\\Tahap B\\Scyphiphora hydrophyllacea\\Scyphiphora_hydrophyllacea5_vertical_0.jpg\n",
      "Processing C:\\Users\\USER\\Desktop\\Selected Perogram\\Preproses\\Tahap B\\Scyphiphora hydrophyllacea\\Scyphiphora_hydrophyllacea5_vertical_270.jpg\n"
     ]
    },
    {
     "name": "stderr",
     "output_type": "stream",
     "text": [
      "Processing images:  99%|█████████▊| 2328/2360 [00:54<00:00, 45.30it/s]"
     ]
    },
    {
     "name": "stdout",
     "output_type": "stream",
     "text": [
      "Processing C:\\Users\\USER\\Desktop\\Selected Perogram\\Preproses\\Tahap B\\Scyphiphora hydrophyllacea\\Scyphiphora_hydrophyllacea5_vertical_90.jpg\n",
      "Processing C:\\Users\\USER\\Desktop\\Selected Perogram\\Preproses\\Tahap B\\Scyphiphora hydrophyllacea\\Scyphiphora_hydrophyllacea6_horizontal_0.jpg\n",
      "Processing C:\\Users\\USER\\Desktop\\Selected Perogram\\Preproses\\Tahap B\\Scyphiphora hydrophyllacea\\Scyphiphora_hydrophyllacea6_horizontal_270.jpg\n",
      "Processing C:\\Users\\USER\\Desktop\\Selected Perogram\\Preproses\\Tahap B\\Scyphiphora hydrophyllacea\\Scyphiphora_hydrophyllacea6_horizontal_90.jpg\n",
      "Processing C:\\Users\\USER\\Desktop\\Selected Perogram\\Preproses\\Tahap B\\Scyphiphora hydrophyllacea\\Scyphiphora_hydrophyllacea6_original_0.jpg\n",
      "Processing C:\\Users\\USER\\Desktop\\Selected Perogram\\Preproses\\Tahap B\\Scyphiphora hydrophyllacea\\Scyphiphora_hydrophyllacea6_original_270.jpg\n",
      "Processing C:\\Users\\USER\\Desktop\\Selected Perogram\\Preproses\\Tahap B\\Scyphiphora hydrophyllacea\\Scyphiphora_hydrophyllacea6_original_90.jpg\n",
      "Processing C:\\Users\\USER\\Desktop\\Selected Perogram\\Preproses\\Tahap B\\Scyphiphora hydrophyllacea\\Scyphiphora_hydrophyllacea6_vertical_0.jpg\n",
      "Processing C:\\Users\\USER\\Desktop\\Selected Perogram\\Preproses\\Tahap B\\Scyphiphora hydrophyllacea\\Scyphiphora_hydrophyllacea6_vertical_270.jpg\n",
      "Processing C:\\Users\\USER\\Desktop\\Selected Perogram\\Preproses\\Tahap B\\Scyphiphora hydrophyllacea\\Scyphiphora_hydrophyllacea6_vertical_90.jpg\n"
     ]
    },
    {
     "name": "stderr",
     "output_type": "stream",
     "text": [
      "Processing images:  99%|█████████▉| 2338/2360 [00:54<00:00, 45.79it/s]"
     ]
    },
    {
     "name": "stdout",
     "output_type": "stream",
     "text": [
      "Processing C:\\Users\\USER\\Desktop\\Selected Perogram\\Preproses\\Tahap B\\Scyphiphora hydrophyllacea\\Scyphiphora_hydrophyllacea7_horizontal_0.jpg\n",
      "Processing C:\\Users\\USER\\Desktop\\Selected Perogram\\Preproses\\Tahap B\\Scyphiphora hydrophyllacea\\Scyphiphora_hydrophyllacea7_horizontal_270.jpg\n",
      "Processing C:\\Users\\USER\\Desktop\\Selected Perogram\\Preproses\\Tahap B\\Scyphiphora hydrophyllacea\\Scyphiphora_hydrophyllacea7_horizontal_90.jpg\n",
      "Processing C:\\Users\\USER\\Desktop\\Selected Perogram\\Preproses\\Tahap B\\Scyphiphora hydrophyllacea\\Scyphiphora_hydrophyllacea7_original_0.jpg\n",
      "Processing C:\\Users\\USER\\Desktop\\Selected Perogram\\Preproses\\Tahap B\\Scyphiphora hydrophyllacea\\Scyphiphora_hydrophyllacea7_original_270.jpg\n",
      "Processing C:\\Users\\USER\\Desktop\\Selected Perogram\\Preproses\\Tahap B\\Scyphiphora hydrophyllacea\\Scyphiphora_hydrophyllacea7_original_90.jpg\n",
      "Processing C:\\Users\\USER\\Desktop\\Selected Perogram\\Preproses\\Tahap B\\Scyphiphora hydrophyllacea\\Scyphiphora_hydrophyllacea7_vertical_0.jpg\n",
      "Processing C:\\Users\\USER\\Desktop\\Selected Perogram\\Preproses\\Tahap B\\Scyphiphora hydrophyllacea\\Scyphiphora_hydrophyllacea7_vertical_270.jpg\n",
      "Processing C:\\Users\\USER\\Desktop\\Selected Perogram\\Preproses\\Tahap B\\Scyphiphora hydrophyllacea\\Scyphiphora_hydrophyllacea7_vertical_90.jpg\n",
      "Processing C:\\Users\\USER\\Desktop\\Selected Perogram\\Preproses\\Tahap B\\Scyphiphora hydrophyllacea\\Scyphiphora_hydrophyllacea8_horizontal_0.jpg\n"
     ]
    },
    {
     "name": "stderr",
     "output_type": "stream",
     "text": [
      "Processing images:  99%|█████████▉| 2348/2360 [00:55<00:00, 45.96it/s]"
     ]
    },
    {
     "name": "stdout",
     "output_type": "stream",
     "text": [
      "Processing C:\\Users\\USER\\Desktop\\Selected Perogram\\Preproses\\Tahap B\\Scyphiphora hydrophyllacea\\Scyphiphora_hydrophyllacea8_horizontal_270.jpg\n",
      "Processing C:\\Users\\USER\\Desktop\\Selected Perogram\\Preproses\\Tahap B\\Scyphiphora hydrophyllacea\\Scyphiphora_hydrophyllacea8_horizontal_90.jpg\n",
      "Processing C:\\Users\\USER\\Desktop\\Selected Perogram\\Preproses\\Tahap B\\Scyphiphora hydrophyllacea\\Scyphiphora_hydrophyllacea8_original_0.jpg\n",
      "Processing C:\\Users\\USER\\Desktop\\Selected Perogram\\Preproses\\Tahap B\\Scyphiphora hydrophyllacea\\Scyphiphora_hydrophyllacea8_original_270.jpg\n",
      "Processing C:\\Users\\USER\\Desktop\\Selected Perogram\\Preproses\\Tahap B\\Scyphiphora hydrophyllacea\\Scyphiphora_hydrophyllacea8_original_90.jpg\n",
      "Processing C:\\Users\\USER\\Desktop\\Selected Perogram\\Preproses\\Tahap B\\Scyphiphora hydrophyllacea\\Scyphiphora_hydrophyllacea8_vertical_0.jpg\n",
      "Processing C:\\Users\\USER\\Desktop\\Selected Perogram\\Preproses\\Tahap B\\Scyphiphora hydrophyllacea\\Scyphiphora_hydrophyllacea8_vertical_270.jpg\n",
      "Processing C:\\Users\\USER\\Desktop\\Selected Perogram\\Preproses\\Tahap B\\Scyphiphora hydrophyllacea\\Scyphiphora_hydrophyllacea8_vertical_90.jpg\n",
      "Processing C:\\Users\\USER\\Desktop\\Selected Perogram\\Preproses\\Tahap B\\Scyphiphora hydrophyllacea\\Scyphiphora_hydrophyllacea9_horizontal_0.jpg\n",
      "Processing C:\\Users\\USER\\Desktop\\Selected Perogram\\Preproses\\Tahap B\\Scyphiphora hydrophyllacea\\Scyphiphora_hydrophyllacea9_horizontal_270.jpg\n"
     ]
    },
    {
     "name": "stderr",
     "output_type": "stream",
     "text": [
      "Processing images: 100%|██████████| 2360/2360 [00:55<00:00, 42.61it/s]"
     ]
    },
    {
     "name": "stdout",
     "output_type": "stream",
     "text": [
      "Processing C:\\Users\\USER\\Desktop\\Selected Perogram\\Preproses\\Tahap B\\Scyphiphora hydrophyllacea\\Scyphiphora_hydrophyllacea9_horizontal_90.jpg\n",
      "Processing C:\\Users\\USER\\Desktop\\Selected Perogram\\Preproses\\Tahap B\\Scyphiphora hydrophyllacea\\Scyphiphora_hydrophyllacea9_original_0.jpg\n",
      "Processing C:\\Users\\USER\\Desktop\\Selected Perogram\\Preproses\\Tahap B\\Scyphiphora hydrophyllacea\\Scyphiphora_hydrophyllacea9_original_270.jpg\n",
      "Processing C:\\Users\\USER\\Desktop\\Selected Perogram\\Preproses\\Tahap B\\Scyphiphora hydrophyllacea\\Scyphiphora_hydrophyllacea9_original_90.jpg\n",
      "Processing C:\\Users\\USER\\Desktop\\Selected Perogram\\Preproses\\Tahap B\\Scyphiphora hydrophyllacea\\Scyphiphora_hydrophyllacea9_vertical_0.jpg\n",
      "Processing C:\\Users\\USER\\Desktop\\Selected Perogram\\Preproses\\Tahap B\\Scyphiphora hydrophyllacea\\Scyphiphora_hydrophyllacea9_vertical_270.jpg\n",
      "Processing C:\\Users\\USER\\Desktop\\Selected Perogram\\Preproses\\Tahap B\\Scyphiphora hydrophyllacea\\Scyphiphora_hydrophyllacea9_vertical_90.jpg\n",
      "Feature extraction completed. Results saved to C:\\Users\\USER\\Documents\\Skripsi Ghora\\Skripsi Juli\\Skripsi Desember Ghora\\Pemrograman\\Uji coba data baru\\OtsuLabeledData.csv\n"
     ]
    },
    {
     "name": "stderr",
     "output_type": "stream",
     "text": [
      "\n"
     ]
    }
   ],
   "source": [
    "import os\n",
    "import pandas as pd\n",
    "from tqdm import tqdm\n",
    "from EkstraksiFitur import EkstrakFitur  # Pastikan EkstrakFitur diimpor dengan benar\n",
    "import cv2\n",
    "\n",
    "labels = ['Avicennia alba', 'Bruguiera cylindrica', 'Scaevola taccada', 'Scyphiphora hydrophyllacea']\n",
    "\n",
    "def process_image(image_path):\n",
    "    \"\"\"Process each image and extract features using EkstrakFitur\"\"\"\n",
    "    # Ekstrak fitur dengan EkstrakFitur\n",
    "    features = EkstrakFitur(image_path)\n",
    "    \n",
    "    # Periksa jika EkstrakFitur berhasil mengembalikan fitur\n",
    "    if features is None:\n",
    "        return None\n",
    "    \n",
    "    # Kembalikan data dalam format yang sesuai untuk ditambahkan ke DataFrame\n",
    "    return {\n",
    "        \"File\": image_path,\n",
    "        \"Hu_Moment_1\": features[\"Hu_Moment_1\"],\n",
    "        \"Hu_Moment_2\": features[\"Hu_Moment_2\"],\n",
    "        \"Hu_Moment_3\": features[\"Hu_Moment_3\"],\n",
    "        \"Hu_Moment_4\": features[\"Hu_Moment_4\"],\n",
    "        \"Hu_Moment_5\": features[\"Hu_Moment_5\"],\n",
    "        \"Hu_Moment_6\": features[\"Hu_Moment_6\"],\n",
    "        \"Hu_Moment_7\": features[\"Hu_Moment_7\"],\n",
    "        \"Perimeter\": features[\"Perimeter\"],\n",
    "        \"Diameter\": features[\"Diameter\"],\n",
    "        \"Area\": features[\"Area\"],\n",
    "        \"ASM_0\": features[\"ASM_0\"], \"ASM_45\": features[\"ASM_45\"], \"ASM_90\": features[\"ASM_90\"], \"ASM_135\": features[\"ASM_135\"],\n",
    "        \"Contrast_0\": features[\"Contrast_0\"], \"Contrast_45\": features[\"Contrast_45\"], \"Contrast_90\": features[\"Contrast_90\"], \"Contrast_135\": features[\"Contrast_135\"],\n",
    "        \"IDM_0\": features[\"IDM_0\"], \"IDM_45\": features[\"IDM_45\"], \"IDM_90\": features[\"IDM_90\"], \"IDM_135\": features[\"IDM_135\"],\n",
    "        \"Entropy_0\": features[\"Entropy_0\"], \"Entropy_45\": features[\"Entropy_45\"], \"Entropy_90\": features[\"Entropy_90\"], \"Entropy_135\": features[\"Entropy_135\"],\n",
    "        \"Correlation_0\": features[\"Correlation_0\"], \"Correlation_45\": features[\"Correlation_45\"], \"Correlation_90\": features[\"Correlation_90\"], \"Correlation_135\": features[\"Correlation_135\"]\n",
    "    }\n",
    "\n",
    "def process_directory(base_dir):\n",
    "    \"\"\"Process all images in the given directory and extract features.\"\"\"\n",
    "    data = []\n",
    "    file_paths = []\n",
    "    plant_types = []\n",
    "\n",
    "    # Menelusuri direktori untuk file gambar\n",
    "    for root, dirs, files in os.walk(base_dir):\n",
    "        for file in files:\n",
    "            if file.endswith((\".jpg\", \".jpeg\", \".png\", \".JPG\")):\n",
    "                file_path = os.path.join(root, file)\n",
    "                plant_type = os.path.basename(root)  # Mendapatkan nama jenis tanaman dari nama folder\n",
    "                file_paths.append(file_path)\n",
    "                plant_types.append(plant_type)\n",
    "\n",
    "    # Proses setiap file gambar\n",
    "    for file_path, plant_type in tqdm(zip(file_paths, plant_types), total=len(file_paths), desc=\"Processing images\"):\n",
    "        print(f\"Processing {file_path}\")\n",
    "        features = process_image(file_path)\n",
    "\n",
    "        if features is None:\n",
    "            continue  # Skip jika tidak ada fitur yang berhasil diambil\n",
    "        \n",
    "        # Set default value for 'Jenis' to -1 to identify missing labels\n",
    "        features[\"Jenis\"] = -1\n",
    "\n",
    "        # Menetapkan label berdasarkan folder\n",
    "        for i in range(len(labels)):\n",
    "            if labels[i] == plant_type:\n",
    "                features[\"Jenis\"] = i + 1\n",
    "                break\n",
    "\n",
    "        data.append(features)\n",
    "    \n",
    "    return data\n",
    "\n",
    "def main():\n",
    "    base_dir = r\"C:\\Users\\USER\\Desktop\\Selected Perogram\\Preproses\\Tahap B\"  # Ganti dengan path yang sesuai\n",
    "    output_csv = r\"C:\\Users\\USER\\Documents\\Skripsi Ghora\\Skripsi Juli\\Skripsi Desember Ghora\\Pemrograman\\Uji coba data baru\\OtsuLabeledData.csv\"  # Ganti dengan path yang sesuai\n",
    "    \n",
    "    # Proses gambar di dalam direktori\n",
    "    data = process_directory(base_dir)\n",
    "    \n",
    "    # Mengonversi data menjadi DataFrame\n",
    "    df = pd.DataFrame(data)\n",
    "\n",
    "    # Hapus baris yang 'Jenis' nya masih -1 (label hilang)\n",
    "    df = df[df[\"Jenis\"] != -1]\n",
    "\n",
    "    # Pastikan kolom 'Jenis' adalah integer\n",
    "    df[\"Jenis\"] = df[\"Jenis\"].astype(int)\n",
    "    \n",
    "    # Menyimpan DataFrame ke file CSV\n",
    "    df.to_csv(output_csv, index=False)\n",
    "    print(f\"Feature extraction completed. Results saved to {output_csv}\")\n",
    "\n",
    "if __name__ == \"__main__\":\n",
    "    main()\n"
   ]
  },
  {
   "cell_type": "markdown",
   "metadata": {},
   "source": [
    "Melakukan Training pada data set Latih"
   ]
  },
  {
   "cell_type": "code",
   "execution_count": 57,
   "metadata": {},
   "outputs": [
    {
     "name": "stdout",
     "output_type": "stream",
     "text": [
      "Iteration: 0, Training Accuracy: 0.2956, Validation Accuracy: 0.3008\n",
      "Iteration: 10, Training Accuracy: 0.4428, Validation Accuracy: 0.4258\n",
      "Iteration: 20, Training Accuracy: 0.5498, Validation Accuracy: 0.5127\n",
      "Iteration: 30, Training Accuracy: 0.5604, Validation Accuracy: 0.5191\n",
      "Iteration: 40, Training Accuracy: 0.5551, Validation Accuracy: 0.5254\n",
      "Iteration: 50, Training Accuracy: 0.5344, Validation Accuracy: 0.5466\n",
      "Iteration: 60, Training Accuracy: 0.5805, Validation Accuracy: 0.5424\n",
      "Iteration: 70, Training Accuracy: 0.5938, Validation Accuracy: 0.5572\n",
      "Iteration: 80, Training Accuracy: 0.5810, Validation Accuracy: 0.5826\n",
      "Iteration: 90, Training Accuracy: 0.5959, Validation Accuracy: 0.5742\n",
      "Iteration: 100, Training Accuracy: 0.5964, Validation Accuracy: 0.5636\n",
      "Iteration: 110, Training Accuracy: 0.6224, Validation Accuracy: 0.5890\n",
      "Iteration: 120, Training Accuracy: 0.6155, Validation Accuracy: 0.6144\n",
      "Iteration: 130, Training Accuracy: 0.6245, Validation Accuracy: 0.6229\n",
      "Iteration: 140, Training Accuracy: 0.6695, Validation Accuracy: 0.6081\n",
      "Iteration: 150, Training Accuracy: 0.6700, Validation Accuracy: 0.6229\n",
      "Iteration: 160, Training Accuracy: 0.6414, Validation Accuracy: 0.6758\n",
      "Iteration: 170, Training Accuracy: 0.6430, Validation Accuracy: 0.6208\n",
      "Iteration: 180, Training Accuracy: 0.6271, Validation Accuracy: 0.6123\n",
      "Iteration: 190, Training Accuracy: 0.6626, Validation Accuracy: 0.6589\n",
      "Iteration: 200, Training Accuracy: 0.6939, Validation Accuracy: 0.6949\n",
      "Iteration: 210, Training Accuracy: 0.5768, Validation Accuracy: 0.5805\n",
      "Iteration: 220, Training Accuracy: 0.7092, Validation Accuracy: 0.6907\n",
      "Iteration: 230, Training Accuracy: 0.6912, Validation Accuracy: 0.6949\n",
      "Iteration: 240, Training Accuracy: 0.7156, Validation Accuracy: 0.7500\n",
      "Iteration: 250, Training Accuracy: 0.7240, Validation Accuracy: 0.7373\n",
      "Iteration: 260, Training Accuracy: 0.7548, Validation Accuracy: 0.7606\n",
      "Iteration: 270, Training Accuracy: 0.6298, Validation Accuracy: 0.6059\n",
      "Iteration: 280, Training Accuracy: 0.6276, Validation Accuracy: 0.6970\n",
      "Iteration: 290, Training Accuracy: 0.7177, Validation Accuracy: 0.6610\n",
      "Iteration: 300, Training Accuracy: 0.7023, Validation Accuracy: 0.7013\n",
      "Iteration: 310, Training Accuracy: 0.6022, Validation Accuracy: 0.7013\n",
      "Iteration: 320, Training Accuracy: 0.7463, Validation Accuracy: 0.7161\n",
      "Iteration: 330, Training Accuracy: 0.7039, Validation Accuracy: 0.7055\n",
      "Iteration: 340, Training Accuracy: 0.7299, Validation Accuracy: 0.7479\n",
      "Iteration: 350, Training Accuracy: 0.7728, Validation Accuracy: 0.8008\n",
      "Iteration: 360, Training Accuracy: 0.7733, Validation Accuracy: 0.7564\n",
      "Iteration: 370, Training Accuracy: 0.7230, Validation Accuracy: 0.7288\n",
      "Iteration: 380, Training Accuracy: 0.6504, Validation Accuracy: 0.7606\n",
      "Iteration: 390, Training Accuracy: 0.7087, Validation Accuracy: 0.7585\n",
      "Iteration: 400, Training Accuracy: 0.7558, Validation Accuracy: 0.8051\n",
      "Iteration: 410, Training Accuracy: 0.5662, Validation Accuracy: 0.5742\n",
      "Iteration: 420, Training Accuracy: 0.7034, Validation Accuracy: 0.7331\n",
      "Iteration: 430, Training Accuracy: 0.7368, Validation Accuracy: 0.6716\n",
      "Iteration: 440, Training Accuracy: 0.6446, Validation Accuracy: 0.7309\n",
      "Iteration: 450, Training Accuracy: 0.7452, Validation Accuracy: 0.7669\n",
      "Iteration: 460, Training Accuracy: 0.7574, Validation Accuracy: 0.7055\n",
      "Iteration: 470, Training Accuracy: 0.7378, Validation Accuracy: 0.6970\n",
      "Iteration: 480, Training Accuracy: 0.7505, Validation Accuracy: 0.7415\n",
      "Iteration: 490, Training Accuracy: 0.6557, Validation Accuracy: 0.6653\n",
      "Iteration: 500, Training Accuracy: 0.7023, Validation Accuracy: 0.7521\n",
      "Iteration: 510, Training Accuracy: 0.7754, Validation Accuracy: 0.7966\n",
      "Iteration: 520, Training Accuracy: 0.7966, Validation Accuracy: 0.7352\n",
      "Iteration: 530, Training Accuracy: 0.7140, Validation Accuracy: 0.6589\n",
      "Iteration: 540, Training Accuracy: 0.7341, Validation Accuracy: 0.7606\n",
      "Iteration: 550, Training Accuracy: 0.7971, Validation Accuracy: 0.7500\n",
      "Iteration: 560, Training Accuracy: 0.7484, Validation Accuracy: 0.6907\n",
      "Iteration: 570, Training Accuracy: 0.6764, Validation Accuracy: 0.7013\n",
      "Iteration: 580, Training Accuracy: 0.7579, Validation Accuracy: 0.7542\n",
      "Iteration: 590, Training Accuracy: 0.7791, Validation Accuracy: 0.7839\n",
      "Iteration: 600, Training Accuracy: 0.7304, Validation Accuracy: 0.7500\n",
      "Iteration: 610, Training Accuracy: 0.6059, Validation Accuracy: 0.6843\n",
      "Iteration: 620, Training Accuracy: 0.7590, Validation Accuracy: 0.7606\n",
      "Iteration: 630, Training Accuracy: 0.7892, Validation Accuracy: 0.7225\n",
      "Iteration: 640, Training Accuracy: 0.7082, Validation Accuracy: 0.7309\n",
      "Iteration: 650, Training Accuracy: 0.7373, Validation Accuracy: 0.7521\n",
      "Iteration: 660, Training Accuracy: 0.7876, Validation Accuracy: 0.7564\n",
      "Iteration: 670, Training Accuracy: 0.8104, Validation Accuracy: 0.7500\n",
      "Iteration: 680, Training Accuracy: 0.6732, Validation Accuracy: 0.7436\n",
      "Iteration: 690, Training Accuracy: 0.7267, Validation Accuracy: 0.7775\n",
      "Iteration: 700, Training Accuracy: 0.7738, Validation Accuracy: 0.8072\n",
      "Iteration: 710, Training Accuracy: 0.8024, Validation Accuracy: 0.7966\n",
      "Iteration: 720, Training Accuracy: 0.7611, Validation Accuracy: 0.7860\n",
      "Iteration: 730, Training Accuracy: 0.7325, Validation Accuracy: 0.7331\n",
      "Iteration: 740, Training Accuracy: 0.7304, Validation Accuracy: 0.7394\n",
      "Iteration: 750, Training Accuracy: 0.8136, Validation Accuracy: 0.8263\n",
      "Iteration: 760, Training Accuracy: 0.7802, Validation Accuracy: 0.7924\n",
      "Iteration: 770, Training Accuracy: 0.7982, Validation Accuracy: 0.7966\n",
      "Iteration: 780, Training Accuracy: 0.7733, Validation Accuracy: 0.6949\n",
      "Iteration: 790, Training Accuracy: 0.7865, Validation Accuracy: 0.7225\n",
      "Iteration: 800, Training Accuracy: 0.8056, Validation Accuracy: 0.7288\n",
      "Iteration: 810, Training Accuracy: 0.7850, Validation Accuracy: 0.8072\n",
      "Iteration: 820, Training Accuracy: 0.7579, Validation Accuracy: 0.6716\n",
      "Iteration: 830, Training Accuracy: 0.7516, Validation Accuracy: 0.7479\n",
      "Iteration: 840, Training Accuracy: 0.7320, Validation Accuracy: 0.7479\n",
      "Iteration: 850, Training Accuracy: 0.7299, Validation Accuracy: 0.7627\n",
      "Iteration: 860, Training Accuracy: 0.8003, Validation Accuracy: 0.8072\n",
      "Iteration: 870, Training Accuracy: 0.8242, Validation Accuracy: 0.8496\n",
      "Iteration: 880, Training Accuracy: 0.7352, Validation Accuracy: 0.7500\n",
      "Iteration: 890, Training Accuracy: 0.7251, Validation Accuracy: 0.7373\n",
      "Iteration: 900, Training Accuracy: 0.7881, Validation Accuracy: 0.8030\n",
      "Iteration: 910, Training Accuracy: 0.7447, Validation Accuracy: 0.8030\n",
      "Iteration: 920, Training Accuracy: 0.8088, Validation Accuracy: 0.8157\n",
      "Iteration: 930, Training Accuracy: 0.7256, Validation Accuracy: 0.6695\n",
      "Iteration: 940, Training Accuracy: 0.7738, Validation Accuracy: 0.7564\n",
      "Iteration: 950, Training Accuracy: 0.8379, Validation Accuracy: 0.8305\n",
      "Iteration: 960, Training Accuracy: 0.7834, Validation Accuracy: 0.7585\n",
      "Iteration: 970, Training Accuracy: 0.7977, Validation Accuracy: 0.8051\n",
      "Iteration: 980, Training Accuracy: 0.8056, Validation Accuracy: 0.8051\n",
      "Iteration: 990, Training Accuracy: 0.8385, Validation Accuracy: 0.8199\n",
      "Validation Accuracy (Backpropagation): 85.81%\n",
      "Train Accuracy (Backpropagation): 84.85%\n",
      "Model saved successfully at: C:\\Users\\USER\\Documents\\Skripsi Ghora\\Skripsi Juli\\Skripsi Desember Ghora\\Pemrograman\\Uji coba data baru\\BackProOtsu\\backpropagation_model.pkl\n",
      "Model loaded successfully.\n",
      "Scaler and Label Encoder saved successfully.\n"
     ]
    }
   ],
   "source": [
    "import numpy as np\n",
    "import pandas as pd\n",
    "from matplotlib import pyplot as plt\n",
    "from sklearn.model_selection import train_test_split\n",
    "from sklearn.preprocessing import MinMaxScaler, LabelEncoder\n",
    "from sklearn.metrics import accuracy_score\n",
    "import pickle\n",
    "from EkstraksiFitur import EkstrakFitur\n",
    "\n",
    "class Backpro:\n",
    "    def __init__(self, input_size, hidden_size1, hidden_size2, output_size):\n",
    "        self.W1 = np.random.randn(hidden_size1, input_size) * np.sqrt(2. / input_size)\n",
    "        self.b1 = np.zeros((hidden_size1, 1))\n",
    "        self.W2 = np.random.randn(hidden_size2, hidden_size1) * np.sqrt(2. / hidden_size1)\n",
    "        self.b2 = np.zeros((hidden_size2, 1))\n",
    "        self.W3 = np.random.randn(output_size, hidden_size2) * np.sqrt(2. / hidden_size2)\n",
    "        self.b3 = np.zeros((output_size, 1))\n",
    "\n",
    "    def ReLU(self, Z):\n",
    "        return np.maximum(Z, 0)\n",
    "\n",
    "    def softmax(self, Z):\n",
    "        A = np.exp(Z - np.max(Z)) / np.sum(np.exp(Z - np.max(Z)), axis=0, keepdims=True)\n",
    "        return A\n",
    "\n",
    "    def forward_prop(self, X):\n",
    "        self.Z1 = self.W1.dot(X) + self.b1\n",
    "        self.A1 = self.ReLU(self.Z1)\n",
    "        self.Z2 = self.W2.dot(self.A1) + self.b2\n",
    "        self.A2 = self.ReLU(self.Z2)\n",
    "        self.Z3 = self.W3.dot(self.A2) + self.b3\n",
    "        self.A3 = self.softmax(self.Z3)\n",
    "        return self.A3\n",
    "\n",
    "    def ReLU_deriv(self, Z):\n",
    "        return Z > 0\n",
    "\n",
    "    def one_hot(self, Y):\n",
    "        one_hot_Y = np.zeros((Y.size, Y.max() + 1))\n",
    "        one_hot_Y[np.arange(Y.size), Y] = 1\n",
    "        return one_hot_Y.T\n",
    "\n",
    "    def backward_prop(self, X, Y):\n",
    "        one_hot_Y = self.one_hot(Y)\n",
    "        dZ3 = self.A3 - one_hot_Y\n",
    "        dW3 = 1 / X.shape[1] * dZ3.dot(self.A2.T)\n",
    "        db3 = 1 / X.shape[1] * np.sum(dZ3, axis=1, keepdims=True)\n",
    "        dZ2 = self.W3.T.dot(dZ3) * self.ReLU_deriv(self.Z2)\n",
    "        dW2 = 1 / X.shape[1] * dZ2.dot(self.A1.T)\n",
    "        db2 = 1 / X.shape[1] * np.sum(dZ2, axis=1, keepdims=True)\n",
    "        dZ1 = self.W2.T.dot(dZ2) * self.ReLU_deriv(self.Z1)\n",
    "        dW1 = 1 / X.shape[1] * dZ1.dot(X.T)\n",
    "        db1 = 1 / X.shape[1] * np.sum(dZ1, axis=1, keepdims=True)\n",
    "        return dW1, db1, dW2, db2, dW3, db3\n",
    "\n",
    "    def update_params(self, dW1, db1, dW2, db2, dW3, db3, alpha):\n",
    "        self.W1 = self.W1 - alpha * dW1\n",
    "        self.b1 = self.b1 - alpha * db1\n",
    "        self.W2 = self.W2 - alpha * dW2\n",
    "        self.b2 = self.b2 - alpha * db2\n",
    "        self.W3 = self.W3 - alpha * dW3\n",
    "        self.b3 = self.b3 - alpha * db3\n",
    "\n",
    "    def get_predictions(self):\n",
    "        return np.argmax(self.A3, axis=0)\n",
    "\n",
    "    def get_accuracy(self, predictions, Y):\n",
    "        return np.sum(predictions == Y) / Y.size\n",
    "\n",
    "    def gradient_descent(self, X, Y, X_val, Y_val, alpha, iterations):\n",
    "        for i in range(iterations):\n",
    "            self.forward_prop(X)\n",
    "            dW1, db1, dW2, db2, dW3, db3 = self.backward_prop(X, Y)\n",
    "            self.update_params(dW1, db1, dW2, db2, dW3, db3, alpha)\n",
    "            if i % 10 == 0:\n",
    "                predictions_train = self.get_predictions()\n",
    "                accuracy_train = self.get_accuracy(predictions_train, Y)\n",
    "                predictions_val = self.make_predictions(X_val)\n",
    "                accuracy_val = self.get_accuracy(predictions_val, Y_val)\n",
    "                print(f\"Iteration: {i}, Training Accuracy: {accuracy_train:.4f}, Validation Accuracy: {accuracy_val:.4f}\")\n",
    "\n",
    "    def make_predictions(self, X):\n",
    "        self.forward_prop(X)\n",
    "        return self.get_predictions()\n",
    "\n",
    "    def test_prediction(self, index, X, Y):\n",
    "        current_data = X[:, index, None]\n",
    "        prediction = self.make_predictions(current_data)\n",
    "        label = Y[index]\n",
    "        print(f\"Prediction: {prediction[0]}\")\n",
    "        print(f\"Label: {label}\")\n",
    "\n",
    "    def save_model(self, file_path):\n",
    "        model_params = {\n",
    "            'W1': self.W1,\n",
    "            'b1': self.b1,\n",
    "            'W2': self.W2,\n",
    "            'b2': self.b2,\n",
    "            'W3': self.W3,\n",
    "            'b3': self.b3,\n",
    "        }\n",
    "        with open(file_path, 'wb') as f:\n",
    "            pickle.dump(model_params, f)\n",
    "\n",
    "    @staticmethod\n",
    "    def load_model(file_path):\n",
    "        with open(file_path, 'rb') as f:\n",
    "            model_params = pickle.load(f)\n",
    "        input_size = model_params['W1'].shape[1]\n",
    "        hidden_size1 = model_params['W1'].shape[0]\n",
    "        hidden_size2 = model_params['W2'].shape[0]\n",
    "        output_size = model_params['W3'].shape[0]\n",
    "        model = Backpro(input_size, hidden_size1, hidden_size2, output_size)\n",
    "        model.W1 = model_params['W1']\n",
    "        model.b1 = model_params['b1']\n",
    "        model.W2 = model_params['W2']\n",
    "        model.b2 = model_params['b2']\n",
    "        model.W3 = model_params['W3']\n",
    "        model.b3 = model_params['b3']\n",
    "        return model\n",
    "    \n",
    "# Load data from CSV file\n",
    "def load_data(file_path):\n",
    "    df = pd.read_csv(file_path)\n",
    "    return df\n",
    "\n",
    "def preprocess_data(df, save_paths=None):\n",
    "    X = df[[\n",
    "    'Hu_Moment_1','Hu_Moment_2','Hu_Moment_3','Hu_Moment_4','Hu_Moment_5','Hu_Moment_6',\n",
    "    'Hu_Moment_7','Perimeter','Diameter','Area','ASM_0','ASM_45','ASM_90','ASM_135',\n",
    "    'Contrast_0','Contrast_45','Contrast_90','Contrast_135','IDM_0','IDM_45','IDM_90',\n",
    "    'IDM_135','Entropy_0','Entropy_45','Entropy_90','Entropy_135','Correlation_0',\n",
    "    'Correlation_45','Correlation_90','Correlation_135',\n",
    "    ]].values\n",
    "    y = df['Jenis'].values\n",
    "\n",
    "    # Standardize features\n",
    "    scaler = MinMaxScaler()\n",
    "    X = scaler.fit_transform(X)\n",
    "\n",
    "    # Encode labels into integers\n",
    "    label_encoder = LabelEncoder()\n",
    "    y = label_encoder.fit_transform(y)\n",
    "\n",
    "    # Save scaler and label encoder if save_paths are provided\n",
    "    if save_paths:\n",
    "        scaler_save_path, label_encoder_save_path = save_paths\n",
    "        with open(scaler_save_path, 'wb') as f:\n",
    "            pickle.dump(scaler, f)\n",
    "        with open(label_encoder_save_path, 'wb') as f:\n",
    "            pickle.dump(label_encoder, f)\n",
    "        print(\"Scaler and Label Encoder saved.\")\n",
    "\n",
    "    return X.T, y, scaler, label_encoder\n",
    "\n",
    "# Load and preprocess training data\n",
    "train_file_path = r\"C:\\Users\\USER\\Documents\\Skripsi Ghora\\Skripsi Juli\\Skripsi Desember Ghora\\Pemrograman\\Uji coba data baru\\OtsuLabeledData.csv\"\n",
    "train_df = load_data(train_file_path)\n",
    "X_train, y_train, scaler, label_encoder = preprocess_data(train_df)\n",
    "\n",
    "# Split the data into training and validation sets\n",
    "X_train, X_val, y_train, y_val = train_test_split(X_train.T, y_train, test_size=0.2, random_state=42)\n",
    "X_train, X_val = X_train.T, X_val.T\n",
    "\n",
    "# Initialize and train neural network\n",
    "input_size = X_train.shape[0]\n",
    "hidden_size1 = 265\n",
    "hidden_size2 = 125\n",
    "output_size = len(np.unique(y_train))  # Unique classes in y_train\n",
    "\n",
    "nn = Backpro(input_size=input_size, hidden_size1=hidden_size1, hidden_size2=hidden_size2, output_size=output_size)\n",
    "nn.gradient_descent(X_train, y_train, X_val, y_val, alpha=0.2, iterations=1000)\n",
    "\n",
    "# Validate the model\n",
    "val_predictions = nn.make_predictions(X_val)\n",
    "val_accuracy = accuracy_score(y_val, val_predictions)\n",
    "print(f\"Validation Accuracy (Backpropagation): {val_accuracy * 100:.2f}%\")\n",
    "\n",
    "# Train accuracy\n",
    "train_predictions = nn.make_predictions(X_train)\n",
    "train_accuracy = accuracy_score(y_train, train_predictions)\n",
    "print(f\"Train Accuracy (Backpropagation): {train_accuracy * 100:.2f}%\")\n",
    "\n",
    "# Tentukan path untuk menyimpan model\n",
    "model_save_path = r'C:\\Users\\USER\\Documents\\Skripsi Ghora\\Skripsi Juli\\Skripsi Desember Ghora\\Pemrograman\\Uji coba data baru\\BackProOtsu\\backpropagation_model.pkl'\n",
    "\n",
    "# Save the model to the specified path\n",
    "nn.save_model(model_save_path)\n",
    "print(f\"Model saved successfully at: {model_save_path}\")\n",
    "\n",
    "# Load the model from the specified path\n",
    "loaded_nn = Backpro.load_model(model_save_path)\n",
    "print(\"Model loaded successfully.\")\n",
    "\n",
    "# Tentukan path penyimpanan\n",
    "scaler_save_path = r'C:\\Users\\USER\\Documents\\Skripsi Ghora\\Skripsi Juli\\Skripsi Desember Ghora\\Pemrograman\\Uji coba data baru\\BackProOtsu\\scaler.pkl'\n",
    "label_encoder_save_path = r'C:\\Users\\USER\\Documents\\Skripsi Ghora\\Skripsi Juli\\Skripsi Desember Ghora\\Pemrograman\\Uji coba data baru\\BackProOtsu\\label_encoder.pkl'\n",
    "\n",
    "# Save the scaler\n",
    "with open(scaler_save_path, 'wb') as f:\n",
    "    pickle.dump(scaler, f)\n",
    "\n",
    "# Save the label encoder\n",
    "with open(label_encoder_save_path, 'wb') as f:\n",
    "    pickle.dump(label_encoder, f)\n",
    "\n",
    "print(\"Scaler and Label Encoder saved successfully.\")\n",
    "\n",
    "\n",
    "\n"
   ]
  },
  {
   "cell_type": "markdown",
   "metadata": {},
   "source": [
    "Testing Data Uji\n",
    "Bismilah"
   ]
  },
  {
   "cell_type": "code",
   "execution_count": 59,
   "metadata": {},
   "outputs": [
    {
     "name": "stdout",
     "output_type": "stream",
     "text": [
      "Model loaded successfully.\n"
     ]
    },
    {
     "name": "stderr",
     "output_type": "stream",
     "text": [
      "Processing images:   0%|          | 1/243 [00:00<00:27,  8.83it/s]"
     ]
    },
    {
     "name": "stdout",
     "output_type": "stream",
     "text": [
      "Aktual :  Avicennia alba\n",
      "Prediksi :  Bruguiera cylindrica\n",
      "Aktual :  Avicennia alba\n",
      "Prediksi :  Avicennia alba\n"
     ]
    },
    {
     "name": "stderr",
     "output_type": "stream",
     "text": [
      "Processing images:   2%|▏         | 4/243 [00:00<00:11, 20.36it/s]"
     ]
    },
    {
     "name": "stdout",
     "output_type": "stream",
     "text": [
      "Aktual :  Avicennia alba\n",
      "Prediksi :  Avicennia alba\n",
      "Aktual :  Avicennia alba\n",
      "Prediksi :  Bruguiera cylindrica\n",
      "Aktual :  Avicennia alba\n",
      "Prediksi :  Avicennia alba\n",
      "Aktual :  Avicennia alba\n",
      "Prediksi :  Avicennia alba\n",
      "Aktual :  Avicennia alba\n",
      "Prediksi :  Avicennia alba\n"
     ]
    },
    {
     "name": "stderr",
     "output_type": "stream",
     "text": [
      "Processing images:   3%|▎         | 8/243 [00:00<00:08, 26.33it/s]"
     ]
    },
    {
     "name": "stdout",
     "output_type": "stream",
     "text": [
      "Aktual :  Avicennia alba\n",
      "Prediksi :  Avicennia alba\n",
      "Aktual :  Avicennia alba\n",
      "Prediksi :  Avicennia alba\n"
     ]
    },
    {
     "name": "stderr",
     "output_type": "stream",
     "text": [
      "Processing images:   5%|▍         | 11/243 [00:00<00:08, 25.88it/s]"
     ]
    },
    {
     "name": "stdout",
     "output_type": "stream",
     "text": [
      "Aktual :  Avicennia alba\n",
      "Prediksi :  Bruguiera cylindrica\n",
      "Aktual :  Avicennia alba\n",
      "Prediksi :  Avicennia alba\n",
      "Aktual :  Avicennia alba\n",
      "Prediksi :  Avicennia alba\n",
      "Aktual :  Avicennia alba\n",
      "Prediksi :  Bruguiera cylindrica\n"
     ]
    },
    {
     "name": "stderr",
     "output_type": "stream",
     "text": [
      "Processing images:   6%|▌         | 15/243 [00:00<00:08, 27.60it/s]"
     ]
    },
    {
     "name": "stdout",
     "output_type": "stream",
     "text": [
      "Aktual :  Avicennia alba\n",
      "Prediksi :  Avicennia alba\n",
      "Aktual :  Avicennia alba\n",
      "Prediksi :  Bruguiera cylindrica\n",
      "Aktual :  Avicennia alba\n",
      "Prediksi :  Bruguiera cylindrica\n"
     ]
    },
    {
     "name": "stderr",
     "output_type": "stream",
     "text": [
      "Processing images:   7%|▋         | 18/243 [00:00<00:08, 27.75it/s]"
     ]
    },
    {
     "name": "stdout",
     "output_type": "stream",
     "text": [
      "Aktual :  Avicennia alba\n",
      "Prediksi :  Avicennia alba\n",
      "Aktual :  Avicennia alba\n",
      "Prediksi :  Avicennia alba\n",
      "Aktual :  Avicennia alba\n",
      "Prediksi :  Bruguiera cylindrica\n"
     ]
    },
    {
     "name": "stderr",
     "output_type": "stream",
     "text": [
      "Processing images:   9%|▊         | 21/243 [00:00<00:08, 25.49it/s]"
     ]
    },
    {
     "name": "stdout",
     "output_type": "stream",
     "text": [
      "Aktual :  Avicennia alba\n",
      "Prediksi :  Bruguiera cylindrica\n",
      "Aktual :  Avicennia alba\n",
      "Prediksi :  Bruguiera cylindrica\n"
     ]
    },
    {
     "name": "stderr",
     "output_type": "stream",
     "text": [
      "Processing images:  10%|▉         | 24/243 [00:00<00:08, 25.96it/s]"
     ]
    },
    {
     "name": "stdout",
     "output_type": "stream",
     "text": [
      "Aktual :  Avicennia alba\n",
      "Prediksi :  Bruguiera cylindrica\n",
      "Aktual :  Avicennia alba\n",
      "Prediksi :  Bruguiera cylindrica\n",
      "Aktual :  Avicennia alba\n",
      "Prediksi :  Bruguiera cylindrica\n",
      "Aktual :  Avicennia alba\n",
      "Prediksi :  Bruguiera cylindrica\n"
     ]
    },
    {
     "name": "stderr",
     "output_type": "stream",
     "text": [
      "Processing images:  11%|█         | 27/243 [00:01<00:08, 25.06it/s]"
     ]
    },
    {
     "name": "stdout",
     "output_type": "stream",
     "text": [
      "Aktual :  Avicennia alba\n",
      "Prediksi :  Bruguiera cylindrica\n",
      "Aktual :  Avicennia alba\n",
      "Prediksi :  Bruguiera cylindrica\n"
     ]
    },
    {
     "name": "stderr",
     "output_type": "stream",
     "text": [
      "Processing images:  12%|█▏        | 30/243 [00:01<00:08, 25.61it/s]"
     ]
    },
    {
     "name": "stdout",
     "output_type": "stream",
     "text": [
      "Aktual :  Avicennia alba\n",
      "Prediksi :  Avicennia alba\n",
      "Aktual :  Avicennia alba\n",
      "Prediksi :  Avicennia alba\n",
      "Aktual :  Avicennia alba\n",
      "Prediksi :  Avicennia alba\n",
      "Aktual :  Avicennia alba\n",
      "Prediksi :  Avicennia alba\n",
      "Aktual :  Avicennia alba\n",
      "Prediksi :  Avicennia alba\n",
      "Aktual :  Avicennia alba\n",
      "Prediksi :  Avicennia alba\n"
     ]
    },
    {
     "name": "stderr",
     "output_type": "stream",
     "text": [
      "Processing images:  16%|█▌        | 38/243 [00:01<00:07, 28.78it/s]"
     ]
    },
    {
     "name": "stdout",
     "output_type": "stream",
     "text": [
      "Aktual :  Avicennia alba\n",
      "Prediksi :  Bruguiera cylindrica\n",
      "Aktual :  Avicennia alba\n",
      "Prediksi :  Avicennia alba\n",
      "Aktual :  Avicennia alba\n",
      "Prediksi :  Avicennia alba\n",
      "Aktual :  Avicennia alba\n",
      "Prediksi :  Bruguiera cylindrica\n",
      "Aktual :  Avicennia alba\n",
      "Prediksi :  Bruguiera cylindrica\n",
      "Aktual :  Avicennia alba\n",
      "Prediksi :  Bruguiera cylindrica\n",
      "Aktual :  Avicennia alba\n",
      "Prediksi :  Bruguiera cylindrica\n",
      "Aktual :  Avicennia alba\n",
      "Prediksi :  Avicennia alba\n"
     ]
    },
    {
     "name": "stderr",
     "output_type": "stream",
     "text": [
      "Processing images:  18%|█▊        | 44/243 [00:01<00:06, 28.53it/s]"
     ]
    },
    {
     "name": "stdout",
     "output_type": "stream",
     "text": [
      "Aktual :  Avicennia alba\n",
      "Prediksi :  Avicennia alba\n",
      "Aktual :  Avicennia alba\n",
      "Prediksi :  Bruguiera cylindrica\n",
      "Aktual :  Avicennia alba\n",
      "Prediksi :  Bruguiera cylindrica\n",
      "Aktual :  Avicennia alba\n",
      "Prediksi :  Bruguiera cylindrica\n"
     ]
    },
    {
     "name": "stderr",
     "output_type": "stream",
     "text": [
      "Processing images:  20%|█▉        | 48/243 [00:01<00:06, 29.96it/s]"
     ]
    },
    {
     "name": "stdout",
     "output_type": "stream",
     "text": [
      "Aktual :  Avicennia alba\n",
      "Prediksi :  Avicennia alba\n",
      "Aktual :  Avicennia alba\n",
      "Prediksi :  Avicennia alba\n",
      "Aktual :  Avicennia alba\n",
      "Prediksi :  Avicennia alba\n",
      "Aktual :  Avicennia alba\n",
      "Prediksi :  Avicennia alba\n",
      "Aktual :  Avicennia alba\n",
      "Prediksi :  Avicennia alba\n"
     ]
    },
    {
     "name": "stderr",
     "output_type": "stream",
     "text": [
      "Processing images:  21%|██        | 51/243 [00:01<00:07, 26.12it/s]"
     ]
    },
    {
     "name": "stdout",
     "output_type": "stream",
     "text": [
      "Aktual :  Avicennia alba\n",
      "Prediksi :  Avicennia alba\n",
      "Aktual :  Avicennia alba\n",
      "Prediksi :  Avicennia alba\n",
      "Aktual :  Avicennia alba\n",
      "Prediksi :  Avicennia alba\n"
     ]
    },
    {
     "name": "stderr",
     "output_type": "stream",
     "text": [
      "Processing images:  23%|██▎       | 55/243 [00:02<00:06, 27.40it/s]"
     ]
    },
    {
     "name": "stdout",
     "output_type": "stream",
     "text": [
      "Aktual :  Avicennia alba\n",
      "Prediksi :  Avicennia alba\n",
      "Aktual :  Bruguiera cylindrica\n",
      "Prediksi :  Bruguiera cylindrica\n",
      "Aktual :  Bruguiera cylindrica\n",
      "Prediksi :  Bruguiera cylindrica\n"
     ]
    },
    {
     "name": "stderr",
     "output_type": "stream",
     "text": [
      "Processing images:  24%|██▍       | 58/243 [00:02<00:06, 26.56it/s]"
     ]
    },
    {
     "name": "stdout",
     "output_type": "stream",
     "text": [
      "Aktual :  Bruguiera cylindrica\n",
      "Prediksi :  Bruguiera cylindrica\n",
      "Aktual :  Bruguiera cylindrica\n",
      "Prediksi :  Bruguiera cylindrica\n"
     ]
    },
    {
     "name": "stderr",
     "output_type": "stream",
     "text": [
      "Processing images:  25%|██▌       | 61/243 [00:02<00:06, 26.07it/s]"
     ]
    },
    {
     "name": "stdout",
     "output_type": "stream",
     "text": [
      "Aktual :  Bruguiera cylindrica\n",
      "Prediksi :  Bruguiera cylindrica\n",
      "Aktual :  Bruguiera cylindrica\n",
      "Prediksi :  Bruguiera cylindrica\n",
      "Aktual :  Bruguiera cylindrica\n",
      "Prediksi :  Bruguiera cylindrica\n",
      "Aktual :  Bruguiera cylindrica\n",
      "Prediksi :  Bruguiera cylindrica\n"
     ]
    },
    {
     "name": "stderr",
     "output_type": "stream",
     "text": [
      "Processing images:  27%|██▋       | 65/243 [00:02<00:06, 28.08it/s]"
     ]
    },
    {
     "name": "stdout",
     "output_type": "stream",
     "text": [
      "Aktual :  Bruguiera cylindrica\n",
      "Prediksi :  Bruguiera cylindrica\n",
      "Aktual :  Bruguiera cylindrica\n",
      "Prediksi :  Bruguiera cylindrica\n",
      "Aktual :  Bruguiera cylindrica\n",
      "Prediksi :  Bruguiera cylindrica\n"
     ]
    },
    {
     "name": "stderr",
     "output_type": "stream",
     "text": [
      "Processing images:  28%|██▊       | 68/243 [00:02<00:06, 28.50it/s]"
     ]
    },
    {
     "name": "stdout",
     "output_type": "stream",
     "text": [
      "Aktual :  Bruguiera cylindrica\n",
      "Prediksi :  Bruguiera cylindrica\n",
      "Aktual :  Bruguiera cylindrica\n",
      "Prediksi :  Bruguiera cylindrica\n",
      "Aktual :  Bruguiera cylindrica\n",
      "Prediksi :  Bruguiera cylindrica\n"
     ]
    },
    {
     "name": "stderr",
     "output_type": "stream",
     "text": [
      "Processing images:  29%|██▉       | 71/243 [00:02<00:06, 28.29it/s]"
     ]
    },
    {
     "name": "stdout",
     "output_type": "stream",
     "text": [
      "Aktual :  Bruguiera cylindrica\n",
      "Prediksi :  Bruguiera cylindrica\n",
      "Aktual :  Bruguiera cylindrica\n",
      "Prediksi :  Bruguiera cylindrica\n",
      "Aktual :  Bruguiera cylindrica\n",
      "Prediksi :  Bruguiera cylindrica\n",
      "Aktual :  Bruguiera cylindrica\n",
      "Prediksi :  Bruguiera cylindrica\n",
      "Aktual :  Bruguiera cylindrica\n",
      "Prediksi :  Bruguiera cylindrica\n",
      "Aktual :  Bruguiera cylindrica\n",
      "Prediksi :  Bruguiera cylindrica\n",
      "Aktual :  Bruguiera cylindrica\n",
      "Prediksi :  Bruguiera cylindrica\n"
     ]
    },
    {
     "name": "stderr",
     "output_type": "stream",
     "text": [
      "Processing images:  32%|███▏      | 78/243 [00:02<00:05, 28.45it/s]"
     ]
    },
    {
     "name": "stdout",
     "output_type": "stream",
     "text": [
      "Aktual :  Bruguiera cylindrica\n",
      "Prediksi :  Bruguiera cylindrica\n",
      "Aktual :  Bruguiera cylindrica\n",
      "Prediksi :  Bruguiera cylindrica\n",
      "Aktual :  Bruguiera cylindrica\n",
      "Prediksi :  Bruguiera cylindrica\n",
      "Aktual :  Bruguiera cylindrica\n",
      "Prediksi :  Bruguiera cylindrica\n",
      "Aktual :  Bruguiera cylindrica\n",
      "Prediksi :  Bruguiera cylindrica\n",
      "Aktual :  Bruguiera cylindrica\n",
      "Prediksi :  Bruguiera cylindrica\n"
     ]
    },
    {
     "name": "stderr",
     "output_type": "stream",
     "text": [
      "Processing images:  34%|███▎      | 82/243 [00:03<00:05, 29.87it/s]"
     ]
    },
    {
     "name": "stdout",
     "output_type": "stream",
     "text": [
      "Aktual :  Bruguiera cylindrica\n",
      "Prediksi :  Bruguiera cylindrica\n",
      "Aktual :  Bruguiera cylindrica\n",
      "Prediksi :  Bruguiera cylindrica\n",
      "Aktual :  Bruguiera cylindrica\n",
      "Prediksi :  Bruguiera cylindrica\n"
     ]
    },
    {
     "name": "stderr",
     "output_type": "stream",
     "text": [
      "Processing images:  35%|███▍      | 85/243 [00:03<00:05, 28.59it/s]"
     ]
    },
    {
     "name": "stdout",
     "output_type": "stream",
     "text": [
      "Aktual :  Bruguiera cylindrica\n",
      "Prediksi :  Bruguiera cylindrica\n",
      "Aktual :  Bruguiera cylindrica\n",
      "Prediksi :  Bruguiera cylindrica\n",
      "Aktual :  Bruguiera cylindrica\n",
      "Prediksi :  Bruguiera cylindrica\n"
     ]
    },
    {
     "name": "stderr",
     "output_type": "stream",
     "text": [
      "Processing images:  36%|███▌      | 88/243 [00:03<00:05, 27.01it/s]"
     ]
    },
    {
     "name": "stdout",
     "output_type": "stream",
     "text": [
      "Aktual :  Bruguiera cylindrica\n",
      "Prediksi :  Bruguiera cylindrica\n",
      "Aktual :  Bruguiera cylindrica\n",
      "Prediksi :  Bruguiera cylindrica\n",
      "Aktual :  Bruguiera cylindrica\n",
      "Prediksi :  Bruguiera cylindrica\n"
     ]
    },
    {
     "name": "stderr",
     "output_type": "stream",
     "text": [
      "Processing images:  38%|███▊      | 92/243 [00:03<00:05, 28.20it/s]"
     ]
    },
    {
     "name": "stdout",
     "output_type": "stream",
     "text": [
      "Aktual :  Bruguiera cylindrica\n",
      "Prediksi :  Bruguiera cylindrica\n",
      "Aktual :  Bruguiera cylindrica\n",
      "Prediksi :  Bruguiera cylindrica\n",
      "Aktual :  Bruguiera cylindrica\n",
      "Prediksi :  Bruguiera cylindrica\n"
     ]
    },
    {
     "name": "stderr",
     "output_type": "stream",
     "text": [
      "Processing images:  39%|███▉      | 95/243 [00:03<00:05, 27.11it/s]"
     ]
    },
    {
     "name": "stdout",
     "output_type": "stream",
     "text": [
      "Aktual :  Bruguiera cylindrica\n",
      "Prediksi :  Bruguiera cylindrica\n",
      "Aktual :  Bruguiera cylindrica\n",
      "Prediksi :  Bruguiera cylindrica\n",
      "Aktual :  Bruguiera cylindrica\n",
      "Prediksi :  Scyphiphora hydrophyllacea\n"
     ]
    },
    {
     "name": "stderr",
     "output_type": "stream",
     "text": [
      "Processing images:  40%|████      | 98/243 [00:03<00:05, 26.92it/s]"
     ]
    },
    {
     "name": "stdout",
     "output_type": "stream",
     "text": [
      "Aktual :  Bruguiera cylindrica\n",
      "Prediksi :  Bruguiera cylindrica\n",
      "Aktual :  Bruguiera cylindrica\n",
      "Prediksi :  Bruguiera cylindrica\n",
      "Aktual :  Bruguiera cylindrica\n",
      "Prediksi :  Bruguiera cylindrica\n"
     ]
    },
    {
     "name": "stderr",
     "output_type": "stream",
     "text": [
      "Processing images:  42%|████▏     | 102/243 [00:03<00:04, 28.85it/s]"
     ]
    },
    {
     "name": "stdout",
     "output_type": "stream",
     "text": [
      "Aktual :  Bruguiera cylindrica\n",
      "Prediksi :  Scyphiphora hydrophyllacea\n",
      "Aktual :  Bruguiera cylindrica\n",
      "Prediksi :  Bruguiera cylindrica\n",
      "Aktual :  Bruguiera cylindrica\n",
      "Prediksi :  Bruguiera cylindrica\n",
      "Aktual :  Bruguiera cylindrica\n",
      "Prediksi :  Scyphiphora hydrophyllacea\n"
     ]
    },
    {
     "name": "stderr",
     "output_type": "stream",
     "text": [
      "Processing images:  43%|████▎     | 105/243 [00:03<00:04, 28.10it/s]"
     ]
    },
    {
     "name": "stdout",
     "output_type": "stream",
     "text": [
      "Aktual :  Bruguiera cylindrica\n",
      "Prediksi :  Bruguiera cylindrica\n",
      "Aktual :  Bruguiera cylindrica\n",
      "Prediksi :  Bruguiera cylindrica\n"
     ]
    },
    {
     "name": "stderr",
     "output_type": "stream",
     "text": [
      "Processing images:  45%|████▍     | 109/243 [00:03<00:04, 29.69it/s]"
     ]
    },
    {
     "name": "stdout",
     "output_type": "stream",
     "text": [
      "Aktual :  Bruguiera cylindrica\n",
      "Prediksi :  Bruguiera cylindrica\n",
      "Aktual :  Bruguiera cylindrica\n",
      "Prediksi :  Bruguiera cylindrica\n",
      "Aktual :  Bruguiera cylindrica\n",
      "Prediksi :  Bruguiera cylindrica\n",
      "Aktual :  Scaevola taccada\n",
      "Prediksi :  Scaevola taccada\n",
      "Aktual :  Scaevola taccada\n",
      "Prediksi :  Scaevola taccada\n",
      "Aktual :  Scaevola taccada\n",
      "Prediksi :  Scaevola taccada\n"
     ]
    },
    {
     "name": "stderr",
     "output_type": "stream",
     "text": [
      "Processing images:  46%|████▌     | 112/243 [00:04<00:04, 27.64it/s]"
     ]
    },
    {
     "name": "stdout",
     "output_type": "stream",
     "text": [
      "Aktual :  Scaevola taccada\n",
      "Prediksi :  Scaevola taccada\n",
      "Aktual :  Scaevola taccada\n",
      "Prediksi :  Scaevola taccada\n",
      "Aktual :  Scaevola taccada\n",
      "Prediksi :  Scaevola taccada\n",
      "Aktual :  Scaevola taccada\n",
      "Prediksi :  Scaevola taccada\n"
     ]
    },
    {
     "name": "stderr",
     "output_type": "stream",
     "text": [
      "Processing images:  47%|████▋     | 115/243 [00:04<00:04, 26.02it/s]"
     ]
    },
    {
     "name": "stdout",
     "output_type": "stream",
     "text": [
      "Aktual :  Scaevola taccada\n",
      "Prediksi :  Scaevola taccada\n",
      "Aktual :  Scaevola taccada\n",
      "Prediksi :  Scaevola taccada\n"
     ]
    },
    {
     "name": "stderr",
     "output_type": "stream",
     "text": [
      "Processing images:  49%|████▉     | 119/243 [00:04<00:04, 27.86it/s]"
     ]
    },
    {
     "name": "stdout",
     "output_type": "stream",
     "text": [
      "Aktual :  Scaevola taccada\n",
      "Prediksi :  Scaevola taccada\n",
      "Aktual :  Scaevola taccada\n",
      "Prediksi :  Scaevola taccada\n",
      "Aktual :  Scaevola taccada\n",
      "Prediksi :  Scaevola taccada\n",
      "Aktual :  Scaevola taccada\n",
      "Prediksi :  Scaevola taccada\n",
      "Aktual :  Scaevola taccada\n",
      "Prediksi :  Scaevola taccada\n"
     ]
    },
    {
     "name": "stderr",
     "output_type": "stream",
     "text": [
      "Processing images:  51%|█████     | 123/243 [00:04<00:04, 28.86it/s]"
     ]
    },
    {
     "name": "stdout",
     "output_type": "stream",
     "text": [
      "Aktual :  Scaevola taccada\n",
      "Prediksi :  Scaevola taccada\n",
      "Aktual :  Scaevola taccada\n",
      "Prediksi :  Scaevola taccada\n"
     ]
    },
    {
     "name": "stderr",
     "output_type": "stream",
     "text": [
      "Processing images:  52%|█████▏    | 127/243 [00:04<00:03, 30.48it/s]"
     ]
    },
    {
     "name": "stdout",
     "output_type": "stream",
     "text": [
      "Aktual :  Scaevola taccada\n",
      "Prediksi :  Scaevola taccada\n",
      "Aktual :  Scaevola taccada\n",
      "Prediksi :  Scaevola taccada\n",
      "Aktual :  Scaevola taccada\n",
      "Prediksi :  Scaevola taccada\n",
      "Aktual :  Scaevola taccada\n",
      "Prediksi :  Scaevola taccada\n",
      "Aktual :  Scaevola taccada\n",
      "Prediksi :  Scaevola taccada\n"
     ]
    },
    {
     "name": "stderr",
     "output_type": "stream",
     "text": [
      "Processing images:  54%|█████▍    | 131/243 [00:04<00:03, 30.34it/s]"
     ]
    },
    {
     "name": "stdout",
     "output_type": "stream",
     "text": [
      "Aktual :  Scaevola taccada\n",
      "Prediksi :  Scaevola taccada\n",
      "Aktual :  Scaevola taccada\n",
      "Prediksi :  Scaevola taccada\n"
     ]
    },
    {
     "name": "stderr",
     "output_type": "stream",
     "text": [
      "Processing images:  56%|█████▌    | 135/243 [00:04<00:03, 31.39it/s]"
     ]
    },
    {
     "name": "stdout",
     "output_type": "stream",
     "text": [
      "Aktual :  Scaevola taccada\n",
      "Prediksi :  Scaevola taccada\n",
      "Aktual :  Scaevola taccada\n",
      "Prediksi :  Scaevola taccada\n",
      "Aktual :  Scaevola taccada\n",
      "Prediksi :  Scaevola taccada\n",
      "Aktual :  Scaevola taccada\n",
      "Prediksi :  Scaevola taccada\n",
      "Aktual :  Scaevola taccada\n",
      "Prediksi :  Scaevola taccada\n",
      "Aktual :  Scaevola taccada\n",
      "Prediksi :  Scaevola taccada\n"
     ]
    },
    {
     "name": "stderr",
     "output_type": "stream",
     "text": [
      "Processing images:  57%|█████▋    | 139/243 [00:05<00:03, 28.34it/s]"
     ]
    },
    {
     "name": "stdout",
     "output_type": "stream",
     "text": [
      "Aktual :  Scaevola taccada\n",
      "Prediksi :  Scaevola taccada\n",
      "Aktual :  Scaevola taccada\n",
      "Prediksi :  Scaevola taccada\n",
      "Aktual :  Scaevola taccada\n",
      "Prediksi :  Scaevola taccada\n"
     ]
    },
    {
     "name": "stderr",
     "output_type": "stream",
     "text": [
      "Processing images:  58%|█████▊    | 142/243 [00:05<00:03, 28.03it/s]"
     ]
    },
    {
     "name": "stdout",
     "output_type": "stream",
     "text": [
      "Aktual :  Scaevola taccada\n",
      "Prediksi :  Scaevola taccada\n",
      "Aktual :  Scaevola taccada\n",
      "Prediksi :  Scaevola taccada\n",
      "Aktual :  Scaevola taccada\n",
      "Prediksi :  Scaevola taccada\n"
     ]
    },
    {
     "name": "stderr",
     "output_type": "stream",
     "text": [
      "Processing images:  60%|█████▉    | 145/243 [00:05<00:03, 28.16it/s]"
     ]
    },
    {
     "name": "stdout",
     "output_type": "stream",
     "text": [
      "Aktual :  Scaevola taccada\n",
      "Prediksi :  Scaevola taccada\n",
      "Aktual :  Scaevola taccada\n",
      "Prediksi :  Scaevola taccada\n",
      "Aktual :  Scaevola taccada\n",
      "Prediksi :  Scaevola taccada\n",
      "Aktual :  Scaevola taccada\n",
      "Prediksi :  Scaevola taccada\n"
     ]
    },
    {
     "name": "stderr",
     "output_type": "stream",
     "text": [
      "Processing images:  61%|██████    | 148/243 [00:05<00:03, 28.38it/s]"
     ]
    },
    {
     "name": "stdout",
     "output_type": "stream",
     "text": [
      "Aktual :  Scaevola taccada\n",
      "Prediksi :  Scaevola taccada\n",
      "Aktual :  Scaevola taccada\n",
      "Prediksi :  Scaevola taccada\n"
     ]
    },
    {
     "name": "stderr",
     "output_type": "stream",
     "text": [
      "Processing images:  62%|██████▏   | 151/243 [00:05<00:03, 28.60it/s]"
     ]
    },
    {
     "name": "stdout",
     "output_type": "stream",
     "text": [
      "Aktual :  Scaevola taccada\n",
      "Prediksi :  Scaevola taccada\n",
      "Aktual :  Scaevola taccada\n",
      "Prediksi :  Scaevola taccada\n",
      "Aktual :  Scaevola taccada\n",
      "Prediksi :  Scaevola taccada\n",
      "Aktual :  Scaevola taccada\n",
      "Prediksi :  Scaevola taccada\n",
      "Aktual :  Scaevola taccada\n",
      "Prediksi :  Scaevola taccada\n"
     ]
    },
    {
     "name": "stderr",
     "output_type": "stream",
     "text": [
      "Processing images:  64%|██████▍   | 155/243 [00:05<00:02, 30.44it/s]"
     ]
    },
    {
     "name": "stdout",
     "output_type": "stream",
     "text": [
      "Aktual :  Scaevola taccada\n",
      "Prediksi :  Scaevola taccada\n",
      "Aktual :  Scaevola taccada\n",
      "Prediksi :  Scaevola taccada\n"
     ]
    },
    {
     "name": "stderr",
     "output_type": "stream",
     "text": [
      "Processing images:  65%|██████▌   | 159/243 [00:05<00:02, 30.01it/s]"
     ]
    },
    {
     "name": "stdout",
     "output_type": "stream",
     "text": [
      "Aktual :  Scaevola taccada\n",
      "Prediksi :  Scaevola taccada\n",
      "Aktual :  Scaevola taccada\n",
      "Prediksi :  Scaevola taccada\n",
      "Aktual :  Scaevola taccada\n",
      "Prediksi :  Scaevola taccada\n",
      "Aktual :  Scaevola taccada\n",
      "Prediksi :  Scaevola taccada\n",
      "Aktual :  Scaevola taccada\n",
      "Prediksi :  Scaevola taccada\n"
     ]
    },
    {
     "name": "stderr",
     "output_type": "stream",
     "text": [
      "Processing images:  67%|██████▋   | 163/243 [00:05<00:02, 30.64it/s]"
     ]
    },
    {
     "name": "stdout",
     "output_type": "stream",
     "text": [
      "Aktual :  Scaevola taccada\n",
      "Prediksi :  Scaevola taccada\n",
      "Aktual :  Scyphiphora hydrophyllacea\n",
      "Prediksi :  Scyphiphora hydrophyllacea\n"
     ]
    },
    {
     "name": "stderr",
     "output_type": "stream",
     "text": [
      "Processing images:  69%|██████▊   | 167/243 [00:05<00:02, 30.67it/s]"
     ]
    },
    {
     "name": "stdout",
     "output_type": "stream",
     "text": [
      "Aktual :  Scyphiphora hydrophyllacea\n",
      "Prediksi :  Scyphiphora hydrophyllacea\n",
      "Aktual :  Scyphiphora hydrophyllacea\n",
      "Prediksi :  Scyphiphora hydrophyllacea\n",
      "Aktual :  Scyphiphora hydrophyllacea\n",
      "Prediksi :  Scyphiphora hydrophyllacea\n",
      "Aktual :  Scyphiphora hydrophyllacea\n",
      "Prediksi :  Scyphiphora hydrophyllacea\n",
      "Aktual :  Scyphiphora hydrophyllacea\n",
      "Prediksi :  Scyphiphora hydrophyllacea\n",
      "Aktual :  Scyphiphora hydrophyllacea\n",
      "Prediksi :  Scyphiphora hydrophyllacea\n"
     ]
    },
    {
     "name": "stderr",
     "output_type": "stream",
     "text": [
      "Processing images:  70%|███████   | 171/243 [00:06<00:02, 31.13it/s]"
     ]
    },
    {
     "name": "stdout",
     "output_type": "stream",
     "text": [
      "Aktual :  Scyphiphora hydrophyllacea\n",
      "Prediksi :  Scyphiphora hydrophyllacea\n",
      "Aktual :  Scyphiphora hydrophyllacea\n",
      "Prediksi :  Scyphiphora hydrophyllacea\n",
      "Aktual :  Scyphiphora hydrophyllacea\n",
      "Prediksi :  Scyphiphora hydrophyllacea\n",
      "Aktual :  Scyphiphora hydrophyllacea\n",
      "Prediksi :  Scyphiphora hydrophyllacea\n"
     ]
    },
    {
     "name": "stderr",
     "output_type": "stream",
     "text": [
      "Processing images:  72%|███████▏  | 175/243 [00:06<00:02, 29.99it/s]"
     ]
    },
    {
     "name": "stdout",
     "output_type": "stream",
     "text": [
      "Aktual :  Scyphiphora hydrophyllacea\n",
      "Prediksi :  Scyphiphora hydrophyllacea\n",
      "Aktual :  Scyphiphora hydrophyllacea\n",
      "Prediksi :  Scyphiphora hydrophyllacea\n",
      "Aktual :  Scyphiphora hydrophyllacea\n",
      "Prediksi :  Scyphiphora hydrophyllacea\n",
      "Aktual :  Scyphiphora hydrophyllacea\n",
      "Prediksi :  Scyphiphora hydrophyllacea\n",
      "Aktual :  Scyphiphora hydrophyllacea\n",
      "Prediksi :  Scyphiphora hydrophyllacea\n",
      "Aktual :  Scyphiphora hydrophyllacea\n",
      "Prediksi :  Scyphiphora hydrophyllacea\n"
     ]
    },
    {
     "name": "stderr",
     "output_type": "stream",
     "text": [
      "Processing images:  75%|███████▌  | 183/243 [00:06<00:02, 29.86it/s]"
     ]
    },
    {
     "name": "stdout",
     "output_type": "stream",
     "text": [
      "Aktual :  Scyphiphora hydrophyllacea\n",
      "Prediksi :  Scyphiphora hydrophyllacea\n",
      "Aktual :  Scyphiphora hydrophyllacea\n",
      "Prediksi :  Scyphiphora hydrophyllacea\n",
      "Aktual :  Scyphiphora hydrophyllacea\n",
      "Prediksi :  Scyphiphora hydrophyllacea\n",
      "Aktual :  Scyphiphora hydrophyllacea\n",
      "Prediksi :  Scyphiphora hydrophyllacea\n",
      "Aktual :  Scyphiphora hydrophyllacea\n",
      "Prediksi :  Scyphiphora hydrophyllacea\n"
     ]
    },
    {
     "name": "stderr",
     "output_type": "stream",
     "text": [
      "Processing images:  78%|███████▊  | 190/243 [00:06<00:01, 29.33it/s]"
     ]
    },
    {
     "name": "stdout",
     "output_type": "stream",
     "text": [
      "Aktual :  Scyphiphora hydrophyllacea\n",
      "Prediksi :  Scyphiphora hydrophyllacea\n",
      "Aktual :  Scyphiphora hydrophyllacea\n",
      "Prediksi :  Scyphiphora hydrophyllacea\n",
      "Aktual :  Scyphiphora hydrophyllacea\n",
      "Prediksi :  Scyphiphora hydrophyllacea\n",
      "Aktual :  Scyphiphora hydrophyllacea\n",
      "Prediksi :  Scyphiphora hydrophyllacea\n",
      "Aktual :  Scyphiphora hydrophyllacea\n",
      "Prediksi :  Scyphiphora hydrophyllacea\n",
      "Aktual :  Scyphiphora hydrophyllacea\n",
      "Prediksi :  Scyphiphora hydrophyllacea\n",
      "Aktual : "
     ]
    },
    {
     "name": "stderr",
     "output_type": "stream",
     "text": [
      "Processing images:  80%|███████▉  | 194/243 [00:06<00:01, 29.95it/s]"
     ]
    },
    {
     "name": "stdout",
     "output_type": "stream",
     "text": [
      " Scyphiphora hydrophyllacea\n",
      "Prediksi :  Scyphiphora hydrophyllacea\n",
      "Aktual :  Scyphiphora hydrophyllacea\n",
      "Prediksi :  Scyphiphora hydrophyllacea\n",
      "Aktual :  Scyphiphora hydrophyllacea\n",
      "Prediksi :  Scyphiphora hydrophyllacea\n",
      "Aktual :  Scyphiphora hydrophyllacea\n",
      "Prediksi :  Scyphiphora hydrophyllacea\n",
      "Aktual :  Scyphiphora hydrophyllacea\n",
      "Prediksi :  Scyphiphora hydrophyllacea\n",
      "Aktual :  Scyphiphora hydrophyllacea\n",
      "Prediksi :  Scyphiphora hydrophyllacea\n"
     ]
    },
    {
     "name": "stderr",
     "output_type": "stream",
     "text": [
      "Processing images:  83%|████████▎ | 202/243 [00:07<00:01, 29.73it/s]"
     ]
    },
    {
     "name": "stdout",
     "output_type": "stream",
     "text": [
      "Aktual :  Scyphiphora hydrophyllacea\n",
      "Prediksi :  Scyphiphora hydrophyllacea\n",
      "Aktual :  Scyphiphora hydrophyllacea\n",
      "Prediksi :  Scyphiphora hydrophyllacea\n",
      "Aktual :  Scyphiphora hydrophyllacea\n",
      "Prediksi :  Bruguiera cylindrica\n",
      "Aktual :  Scyphiphora hydrophyllacea\n",
      "Prediksi :  Bruguiera cylindrica\n",
      "Aktual :  Scyphiphora hydrophyllacea\n",
      "Prediksi :  Bruguiera cylindrica\n",
      "Aktual :  Scyphiphora hydrophyllacea\n",
      "Prediksi :  Bruguiera cylindrica\n"
     ]
    },
    {
     "name": "stderr",
     "output_type": "stream",
     "text": [
      "Processing images:  86%|████████▌ | 208/243 [00:07<00:01, 28.18it/s]"
     ]
    },
    {
     "name": "stdout",
     "output_type": "stream",
     "text": [
      "Aktual :  Scyphiphora hydrophyllacea\n",
      "Prediksi :  Bruguiera cylindrica\n",
      "Aktual :  Scyphiphora hydrophyllacea\n",
      "Prediksi :  Bruguiera cylindrica\n",
      "Aktual :  Scyphiphora hydrophyllacea\n",
      "Prediksi :  Bruguiera cylindrica\n",
      "Aktual :  Scyphiphora hydrophyllacea\n",
      "Prediksi :  Bruguiera cylindrica\n",
      "Aktual :  Scyphiphora hydrophyllacea\n",
      "Prediksi :  Bruguiera cylindrica\n",
      "Aktual :  Scyphiphora hydrophyllacea\n",
      "Prediksi :  Scyphiphora hydrophyllacea\n",
      "Aktual :  Scyphiphora hydrophyllacea\n",
      "Prediksi :  Scyphiphora hydrophyllacea\n"
     ]
    },
    {
     "name": "stderr",
     "output_type": "stream",
     "text": [
      "Processing images:  88%|████████▊ | 214/243 [00:07<00:01, 25.23it/s]"
     ]
    },
    {
     "name": "stdout",
     "output_type": "stream",
     "text": [
      "Aktual :  Scyphiphora hydrophyllacea\n",
      "Prediksi :  Scyphiphora hydrophyllacea\n",
      "Aktual :  Scyphiphora hydrophyllacea\n",
      "Prediksi :  Scyphiphora hydrophyllacea\n",
      "Aktual :  Scyphiphora hydrophyllacea\n",
      "Prediksi :  Avicennia alba\n",
      "Aktual :  Scyphiphora hydrophyllacea\n",
      "Prediksi :  Avicennia alba\n",
      "Aktual :  Scyphiphora hydrophyllacea\n",
      "Prediksi :  Scyphiphora hydrophyllacea\n"
     ]
    },
    {
     "name": "stderr",
     "output_type": "stream",
     "text": [
      "Processing images:  90%|████████▉ | 218/243 [00:07<00:00, 27.92it/s]"
     ]
    },
    {
     "name": "stdout",
     "output_type": "stream",
     "text": [
      "Aktual :  Scyphiphora hydrophyllacea\n",
      "Prediksi :  Scyphiphora hydrophyllacea\n",
      "Aktual :  Scyphiphora hydrophyllacea\n",
      "Prediksi :  Scyphiphora hydrophyllacea\n",
      "Aktual :  Scyphiphora hydrophyllacea\n",
      "Prediksi :  Scyphiphora hydrophyllacea\n",
      "Aktual :  Scyphiphora hydrophyllacea\n",
      "Prediksi :  Scyphiphora hydrophyllacea\n",
      "Aktual :  Scyphiphora hydrophyllacea\n",
      "Prediksi :  Scyphiphora hydrophyllacea\n",
      "Aktual :  Scyphiphora hydrophyllacea\n",
      "Prediksi :  Scyphiphora hydrophyllacea\n"
     ]
    },
    {
     "name": "stderr",
     "output_type": "stream",
     "text": [
      "Processing images:  93%|█████████▎| 225/243 [00:07<00:00, 29.11it/s]"
     ]
    },
    {
     "name": "stdout",
     "output_type": "stream",
     "text": [
      "Aktual :  Scyphiphora hydrophyllacea\n",
      "Prediksi :  Scyphiphora hydrophyllacea\n",
      "Aktual :  Scyphiphora hydrophyllacea\n",
      "Prediksi :  Scyphiphora hydrophyllacea\n",
      "Aktual :  Scyphiphora hydrophyllacea\n",
      "Prediksi :  Scyphiphora hydrophyllacea\n",
      "Aktual :  Scyphiphora hydrophyllacea\n",
      "Prediksi :  Scyphiphora hydrophyllacea\n",
      "Aktual :  Scyphiphora hydrophyllacea\n",
      "Prediksi :  Scyphiphora hydrophyllacea\n",
      "Aktual :  Scyphiphora hydrophyllacea\n",
      "Prediksi :  Scyphiphora hydrophyllacea\n",
      "Aktual :  Scyphiphora hydrophyllacea\n",
      "Prediksi :  Scyphiphora hydrophyllacea\n"
     ]
    },
    {
     "name": "stderr",
     "output_type": "stream",
     "text": [
      "Processing images:  95%|█████████▌| 231/243 [00:08<00:00, 28.14it/s]"
     ]
    },
    {
     "name": "stdout",
     "output_type": "stream",
     "text": [
      "Aktual :  Scyphiphora hydrophyllacea\n",
      "Prediksi :  Scyphiphora hydrophyllacea\n",
      "Aktual :  Scyphiphora hydrophyllacea\n",
      "Prediksi :  Scyphiphora hydrophyllacea\n",
      "Aktual :  Scyphiphora hydrophyllacea\n",
      "Prediksi :  Scyphiphora hydrophyllacea\n",
      "Aktual :  Scyphiphora hydrophyllacea\n",
      "Prediksi :  Scyphiphora hydrophyllacea\n",
      "Aktual :  Scyphiphora hydrophyllacea\n",
      "Prediksi :  Scyphiphora hydrophyllacea\n",
      "Aktual :  Scyphiphora hydrophyllacea\n",
      "Prediksi :  Scyphiphora hydrophyllacea\n",
      "Aktual :  Scyphiphora hydrophyllacea\n",
      "Prediksi :  Scyphiphora hydrophyllacea\n"
     ]
    },
    {
     "name": "stderr",
     "output_type": "stream",
     "text": [
      "Processing images:  98%|█████████▊| 239/243 [00:08<00:00, 30.46it/s]"
     ]
    },
    {
     "name": "stdout",
     "output_type": "stream",
     "text": [
      "Aktual :  Scyphiphora hydrophyllacea\n",
      "Prediksi :  Scyphiphora hydrophyllacea\n",
      "Aktual :  Scyphiphora hydrophyllacea\n",
      "Prediksi :  Scyphiphora hydrophyllacea\n",
      "Aktual :  Scyphiphora hydrophyllacea\n",
      "Prediksi :  Scyphiphora hydrophyllacea\n",
      "Aktual :  Scyphiphora hydrophyllacea\n",
      "Prediksi :  Scyphiphora hydrophyllacea\n",
      "Aktual :  Scyphiphora hydrophyllacea\n",
      "Prediksi :  Scyphiphora hydrophyllacea\n",
      "Aktual :  Scyphiphora hydrophyllacea\n",
      "Prediksi :  Scyphiphora hydrophyllacea\n",
      "Aktual :  Scyphiphora hydrophyllacea\n",
      "Prediksi :  Scyphiphora hydrophyllacea\n"
     ]
    },
    {
     "name": "stderr",
     "output_type": "stream",
     "text": [
      "Processing images: 100%|██████████| 243/243 [00:08<00:00, 28.28it/s]\n"
     ]
    },
    {
     "name": "stdout",
     "output_type": "stream",
     "text": [
      "Aktual :  Scyphiphora hydrophyllacea\n",
      "Prediksi :  Scyphiphora hydrophyllacea\n",
      "Aktual :  Scyphiphora hydrophyllacea\n",
      "Prediksi :  Scyphiphora hydrophyllacea\n",
      "Data True :  206\n",
      "Akurasi :  84.774\n"
     ]
    }
   ],
   "source": [
    "import os\n",
    "import pandas as pd\n",
    "from tqdm import tqdm\n",
    "from EkstraksiFitur import EkstrakFitur\n",
    "import numpy as np\n",
    "from matplotlib import pyplot as plt\n",
    "from sklearn.model_selection import train_test_split\n",
    "from sklearn.preprocessing import MinMaxScaler, LabelEncoder\n",
    "from sklearn.metrics import accuracy_score, mean_squared_error\n",
    "import pickle\n",
    "\n",
    "class Backpro:\n",
    "    def __init__(self, input_size, hidden_size1, hidden_size2, output_size):\n",
    "        self.W1 = np.random.randn(hidden_size1, input_size) * np.sqrt(2. / input_size)\n",
    "        self.b1 = np.zeros((hidden_size1, 1))\n",
    "        self.W2 = np.random.randn(hidden_size2, hidden_size1) * np.sqrt(2. / hidden_size1)\n",
    "        self.b2 = np.zeros((hidden_size2, 1))\n",
    "        self.W3 = np.random.randn(output_size, hidden_size2) * np.sqrt(2. / hidden_size2)\n",
    "        self.b3 = np.zeros((output_size, 1))\n",
    "\n",
    "    def ReLU(self, Z):\n",
    "        return np.maximum(Z, 0)\n",
    "\n",
    "    def softmax(self, Z):\n",
    "        A = np.exp(Z - np.max(Z)) / np.sum(np.exp(Z - np.max(Z)), axis=0, keepdims=True)\n",
    "        return A\n",
    "\n",
    "    def forward_prop(self, X):\n",
    "        self.Z1 = self.W1.dot(X) + self.b1\n",
    "        self.A1 = self.ReLU(self.Z1)\n",
    "        self.Z2 = self.W2.dot(self.A1) + self.b2\n",
    "        self.A2 = self.ReLU(self.Z2)\n",
    "        self.Z3 = self.W3.dot(self.A2) + self.b3\n",
    "        self.A3 = self.softmax(self.Z3)\n",
    "        return self.A3\n",
    "\n",
    "    def ReLU_deriv(self, Z):\n",
    "        return Z > 0\n",
    "\n",
    "    def one_hot(self, Y):\n",
    "        one_hot_Y = np.zeros((Y.size, Y.max() + 1))\n",
    "        one_hot_Y[np.arange(Y.size), Y] = 1\n",
    "        return one_hot_Y.T\n",
    "\n",
    "    def backward_prop(self, X, Y):\n",
    "        one_hot_Y = self.one_hot(Y)\n",
    "        dZ3 = self.A3 - one_hot_Y\n",
    "        dW3 = 1 / X.shape[1] * dZ3.dot(self.A2.T)\n",
    "        db3 = 1 / X.shape[1] * np.sum(dZ3, axis=1, keepdims=True)\n",
    "        dZ2 = self.W3.T.dot(dZ3) * self.ReLU_deriv(self.Z2)\n",
    "        dW2 = 1 / X.shape[1] * dZ2.dot(self.A1.T)\n",
    "        db2 = 1 / X.shape[1] * np.sum(dZ2, axis=1, keepdims=True)\n",
    "        dZ1 = self.W2.T.dot(dZ2) * self.ReLU_deriv(self.Z1)\n",
    "        dW1 = 1 / X.shape[1] * dZ1.dot(X.T)\n",
    "        db1 = 1 / X.shape[1] * np.sum(dZ1, axis=1, keepdims=True)\n",
    "        return dW1, db1, dW2, db2, dW3, db3\n",
    "\n",
    "    def update_params(self, dW1, db1, dW2, db2, dW3, db3, alpha):\n",
    "        self.W1 = self.W1 - alpha * dW1\n",
    "        self.b1 = self.b1 - alpha * db1\n",
    "        self.W2 = self.W2 - alpha * dW2\n",
    "        self.b2 = self.b2 - alpha * db2\n",
    "        self.W3 = self.W3 - alpha * dW3\n",
    "        self.b3 = self.b3 - alpha * db3\n",
    "\n",
    "    def get_predictions(self):\n",
    "        return np.argmax(self.A3, axis=0)\n",
    "\n",
    "    def get_accuracy(self, predictions, Y):\n",
    "        return np.sum(predictions == Y) / Y.size\n",
    "\n",
    "    def gradient_descent(self, X, Y, X_val, Y_val, alpha, iterations):\n",
    "        for i in range(iterations):\n",
    "            self.forward_prop(X)\n",
    "            dW1, db1, dW2, db2, dW3, db3 = self.backward_prop(X, Y)\n",
    "            self.update_params(dW1, db1, dW2, db2, dW3, db3, alpha)\n",
    "            if i % 10 == 0:\n",
    "                predictions_train = self.get_predictions()\n",
    "                accuracy_train = self.get_accuracy(predictions_train, Y)\n",
    "                predictions_val = self.make_predictions(X_val)\n",
    "                accuracy_val = self.get_accuracy(predictions_val, Y_val)\n",
    "                print(f\"Iteration: {i}, Training Accuracy: {accuracy_train:.4f}, Validation Accuracy: {accuracy_val:.4f}\")\n",
    "\n",
    "    def make_predictions(self, X):\n",
    "        self.forward_prop(X)\n",
    "        return self.get_predictions()\n",
    "\n",
    "    def test_prediction(self, index, X, Y):\n",
    "        current_data = X[:, index, None]\n",
    "        prediction = self.make_predictions(current_data)\n",
    "        label = Y[index]\n",
    "        print(f\"Prediction: {prediction[0]}\")\n",
    "        print(f\"Label: {label}\")\n",
    "\n",
    "    def save_model(self, file_path):\n",
    "        model_params = {\n",
    "            'W1': self.W1,\n",
    "            'b1': self.b1,\n",
    "            'W2': self.W2,\n",
    "            'b2': self.b2,\n",
    "            'W3': self.W3,\n",
    "            'b3': self.b3,\n",
    "        }\n",
    "        with open(file_path, 'wb') as f:\n",
    "            pickle.dump(model_params, f)\n",
    "\n",
    "    @staticmethod\n",
    "    def load_model(file_path):\n",
    "        with open(file_path, 'rb') as f:\n",
    "            model_params = pickle.load(f)\n",
    "        input_size = model_params['W1'].shape[1]\n",
    "        hidden_size1 = model_params['W1'].shape[0]\n",
    "        hidden_size2 = model_params['W2'].shape[0]\n",
    "        output_size = model_params['W3'].shape[0]\n",
    "        model = Backpro(input_size, hidden_size1, hidden_size2, output_size)\n",
    "        model.W1 = model_params['W1']\n",
    "        model.b1 = model_params['b1']\n",
    "        model.W2 = model_params['W2']\n",
    "        model.b2 = model_params['b2']\n",
    "        model.W3 = model_params['W3']\n",
    "        model.b3 = model_params['b3']\n",
    "        return model\n",
    "\n",
    "# Load data from CSV file\n",
    "def load_data(file_path):\n",
    "    df = pd.read_csv(file_path)\n",
    "    return df\n",
    "\n",
    "def preprocess_data(df, save_paths=None):\n",
    "    X = df[[\n",
    "        'Hu_Moment_1','Hu_Moment_2','Hu_Moment_3','Hu_Moment_4','Hu_Moment_5','Hu_Moment_6',\n",
    "        'Hu_Moment_7','Perimeter','Diameter','Area','ASM_0','ASM_45','ASM_90','ASM_135',\n",
    "        'Contrast_0','Contrast_45','Contrast_90','Contrast_135','IDM_0','IDM_45','IDM_90',\n",
    "        'IDM_135','Entropy_0','Entropy_45','Entropy_90','Entropy_135','Correlation_0',\n",
    "        'Correlation_45','Correlation_90','Correlation_135',\n",
    "    ]].values\n",
    "    y = df['Jenis'].values\n",
    "\n",
    "    scaler = MinMaxScaler()\n",
    "    X = scaler.fit_transform(X)\n",
    "    with open(r\"C:\\Users\\USER\\Documents\\Skripsi Ghora\\Skripsi Juli\\Skripsi Desember Ghora\\Pemrograman\\Uji coba data baru\\BackProOtsu\\scaler.pkl\", 'wb') as f:\n",
    "        pickle.dump(scaler, f)\n",
    "\n",
    "    label_encoder = LabelEncoder()\n",
    "    y = label_encoder.fit_transform(y)\n",
    "    with open(r\"C:\\Users\\USER\\Documents\\Skripsi Ghora\\Skripsi Juli\\Skripsi Desember Ghora\\Pemrograman\\Uji coba data baru\\BackProOtsu\\label_encoder.pkl\", 'wb') as f:\n",
    "        pickle.dump(label_encoder, f)\n",
    "\n",
    "    return X.T, y, scaler, label_encoder\n",
    "\n",
    "# Load and preprocess training data\n",
    "train_file_path = r\"C:\\Users\\USER\\Documents\\Skripsi Ghora\\Skripsi Juli\\Skripsi Desember Ghora\\Pemrograman\\Uji coba data baru\\OtsuLabeledData.csv\"\n",
    "train_df = load_data(train_file_path)\n",
    "_, _, scaler, label_encoder = preprocess_data(train_df)\n",
    "\n",
    "# Load the model from the file\n",
    "loaded_nn = Backpro.load_model(r\"C:\\Users\\USER\\Documents\\Skripsi Ghora\\Skripsi Juli\\Skripsi Desember Ghora\\Pemrograman\\Uji coba data baru\\BackProOtsu\\backpropagation_model.pkl\")\n",
    "print(\"Model loaded successfully.\")\n",
    "\n",
    "labels = ['Avicennia alba', 'Bruguiera cylindrica', 'Scaevola taccada', 'Scyphiphora hydrophyllacea']\n",
    "\n",
    "def process_image(image_path):\n",
    "    \"\"\"Process each image and extract features using EkstrakFitur\"\"\"\n",
    "    # Panggil EkstrakFitur\n",
    "    features = EkstrakFitur(image_path)\n",
    "\n",
    "    # Periksa jika EkstrakFitur mengembalikan None\n",
    "    if features is None:\n",
    "        return None\n",
    "\n",
    "    # Unpack fitur jika valid\n",
    "    hu1 = features['Hu_Moment_1']\n",
    "    hu2 = features['Hu_Moment_2']\n",
    "    hu3 = features['Hu_Moment_3']\n",
    "    hu4 = features['Hu_Moment_4']\n",
    "    hu5 = features['Hu_Moment_5']\n",
    "    hu6 = features['Hu_Moment_6']\n",
    "    hu7 = features['Hu_Moment_7']\n",
    "    perimeter = features['Perimeter']\n",
    "    diameter = features['Diameter']\n",
    "    area = features['Area']\n",
    "\n",
    "    asm_0 = features['ASM_0']\n",
    "    asm_45 = features['ASM_45']\n",
    "    asm_90 = features['ASM_90']\n",
    "    asm_135 = features['ASM_135']\n",
    "    contrast_0 = features['Contrast_0']\n",
    "    contrast_45 = features['Contrast_45']\n",
    "    contrast_90 = features['Contrast_90']\n",
    "    contrast_135 = features['Contrast_135']\n",
    "    idm_0 = features['IDM_0']\n",
    "    idm_45 = features['IDM_45']\n",
    "    idm_90 = features['IDM_90']\n",
    "    idm_135 = features['IDM_135']\n",
    "    entropy_0 = features['Entropy_0']\n",
    "    entropy_45 = features['Entropy_45']\n",
    "    entropy_90 = features['Entropy_90']\n",
    "    entropy_135 = features['Entropy_135']\n",
    "    correlation_0 = features['Correlation_0']\n",
    "    correlation_45 = features['Correlation_45']\n",
    "    correlation_90 = features['Correlation_90']\n",
    "    correlation_135 = features['Correlation_135']\n",
    "\n",
    "    # Gabungkan data ke array baru untuk prediksi\n",
    "    new_data = np.array([[\n",
    "        hu1, hu2, hu3, hu4, hu5, hu6, hu7,\n",
    "        perimeter, diameter, area,\n",
    "        asm_0, asm_45, asm_90, asm_135,\n",
    "        contrast_0, contrast_45, contrast_90, contrast_135,\n",
    "        idm_0, idm_45, idm_90, idm_135,\n",
    "        entropy_0, entropy_45, entropy_90, entropy_135,\n",
    "        correlation_0, correlation_45, correlation_90, correlation_135\n",
    "    ]])\n",
    "\n",
    "    new_data_scaled = scaler.transform(new_data)\n",
    "    predicted_class = loaded_nn.make_predictions(new_data_scaled.T)\n",
    "    predicted_label = label_encoder.inverse_transform(predicted_class)\n",
    "    return labels[predicted_label[0] - 1]\n",
    "\n",
    "\n",
    "def process_directory(base_dir):\n",
    "    data = 0\n",
    "    falseData = 0\n",
    "    totalData = 0\n",
    "    file_paths = []\n",
    "    plant_types = []\n",
    "\n",
    "    actual_labels = []\n",
    "    predicted_labels = []\n",
    "\n",
    "    for root, dirs, files in os.walk(base_dir):\n",
    "        for file in files:\n",
    "            if file.endswith((\".jpg\", \".jpeg\", \".png\", \".JPG\")):\n",
    "                file_path = os.path.join(root, file)\n",
    "                plant_type = os.path.basename(root)\n",
    "                file_paths.append(file_path)\n",
    "                plant_types.append(plant_type)\n",
    "\n",
    "    for file_path, plant_type in tqdm(zip(file_paths, plant_types), total=len(file_paths), desc=\"Processing images\"):\n",
    "        \n",
    "        prediction = process_image(file_path)\n",
    "        print(\"Aktual : \", plant_type)\n",
    "        print(\"Prediksi : \", prediction)\n",
    "        actual_labels.append(plant_type)\n",
    "        predicted_labels.append(prediction)\n",
    "        if plant_type == prediction:\n",
    "            data += 1\n",
    "        else:\n",
    "            falseData += 1\n",
    "        totalData += 1\n",
    "\n",
    "    print(\"Data True : \", data)\n",
    "    print(\"Akurasi : \", round(data / totalData * 100, 3))\n",
    "\n",
    "    # Save the results to Excel\n",
    "    results_df = pd.DataFrame({\n",
    "        'File Name': file_paths,\n",
    "        'Aktual': actual_labels,\n",
    "        'Prediksi': predicted_labels\n",
    "    })\n",
    "    results_df.to_excel(r\"C:\\Users\\USER\\Documents\\Skripsi Ghora\\Skripsi Juli\\Skripsi Desember Ghora\\Pemrograman\\Uji coba data baru\\HasilPrediksiBackPro_Otsu.xlsx\", index=False)\n",
    "\n",
    "def main():\n",
    "    base_dir = r\"C:\\Users\\USER\\Desktop\\Selected Perogram\\Data set\\Data set 4 Jenis\"\n",
    "    process_directory(base_dir)\n",
    "\n",
    "if __name__ == \"__main__\":\n",
    "    main()\n",
    "\n",
    "\n"
   ]
  },
  {
   "cell_type": "markdown",
   "metadata": {},
   "source": [
    "Comfussion matriks"
   ]
  },
  {
   "cell_type": "code",
   "execution_count": 61,
   "metadata": {},
   "outputs": [
    {
     "data": {
      "image/png": "[encoded data removed]",
      "text/plain": [
       "<Figure size 1000x800 with 2 Axes>"
      ]
     },
     "metadata": {},
     "output_type": "display_data"
    },
    {
     "name": "stdout",
     "output_type": "stream",
     "text": [
      "\n",
      "Classification Report:\n",
      "                            precision    recall  f1-score     support\n",
      "Avicennia alba               0.939394  0.574074  0.712644   54.000000\n",
      "Bruguiera cylindrica         0.614458  0.944444  0.744526   54.000000\n",
      "Scaevola taccada             1.000000  1.000000  1.000000   54.000000\n",
      "Scyphiphora hydrophyllacea   0.958904  0.864198  0.909091   81.000000\n",
      "accuracy                     0.847737  0.847737  0.847737    0.847737\n",
      "macro avg                    0.878189  0.845679  0.841565  243.000000\n",
      "weighted avg                 0.887157  0.847737  0.849068  243.000000\n",
      "\n",
      "Accuracy for each class:\n",
      "Avicennia alba: 57.41%\n",
      "Bruguiera cylindrica: 94.44%\n",
      "Scaevola taccada: 100.00%\n",
      "Scyphiphora hydrophyllacea: 86.42%\n",
      "\n",
      "Overall Accuracy: 84.77%\n"
     ]
    }
   ],
   "source": [
    "import pandas as pd\n",
    "from sklearn.metrics import confusion_matrix, classification_report, accuracy_score\n",
    "import seaborn as sns\n",
    "import matplotlib.pyplot as plt\n",
    "\n",
    "# Load the Excel file\n",
    "file_path = r\"C:\\Users\\USER\\Documents\\Skripsi Ghora\\Skripsi Juli\\Skripsi Desember Ghora\\Pemrograman\\Uji coba data baru\\HasilPrediksiBackPro_Otsu.xlsx\"\n",
    "data = pd.read_excel(file_path)\n",
    "\n",
    "# Extract the actual and predicted labels\n",
    "actual_labels = data['Aktual']\n",
    "predicted_labels = data['Prediksi']\n",
    "\n",
    "# Create the confusion matrix\n",
    "conf_matrix = confusion_matrix(actual_labels, predicted_labels, labels=actual_labels.unique())\n",
    "\n",
    "# Create a DataFrame for better visualization\n",
    "conf_matrix_df = pd.DataFrame(conf_matrix, index=actual_labels.unique(), columns=actual_labels.unique())\n",
    "\n",
    "# Plot the confusion matrix\n",
    "plt.figure(figsize=(10, 8))\n",
    "sns.heatmap(conf_matrix_df, annot=True, fmt='d', cmap='Blues')\n",
    "plt.xlabel('Predicted')\n",
    "plt.ylabel('Actual')\n",
    "plt.title('Confusion Matrix')\n",
    "plt.show()\n",
    "\n",
    "# Generate classification report\n",
    "class_report = classification_report(actual_labels, predicted_labels, labels=actual_labels.unique(), target_names=actual_labels.unique(), output_dict=True)\n",
    "\n",
    "# Convert classification report to DataFrame for better visualization\n",
    "class_report_df = pd.DataFrame(class_report).transpose()\n",
    "\n",
    "# Print Precision, Recall, F1-score, and Accuracy\n",
    "print(\"\\nClassification Report:\")\n",
    "print(class_report_df[['precision', 'recall', 'f1-score', 'support']])\n",
    "\n",
    "# Calculate accuracy for each class manually\n",
    "accuracies = {}\n",
    "for label in actual_labels.unique():\n",
    "    true_positive = conf_matrix_df.loc[label, label]\n",
    "    total_actual = conf_matrix_df.loc[label].sum()\n",
    "    accuracy = true_positive / total_actual if total_actual > 0 else 0\n",
    "    accuracies[label] = accuracy * 100  # Convert to percentage\n",
    "\n",
    "# Print accuracy for each class\n",
    "print(\"\\nAccuracy for each class:\")\n",
    "for label, accuracy in accuracies.items():\n",
    "    print(f\"{label}: {accuracy:.2f}%\")\n",
    "\n",
    "# Calculate overall accuracy\n",
    "total_accuracy = accuracy_score(actual_labels, predicted_labels) * 100  # Convert to percentage\n",
    "print(f\"\\nOverall Accuracy: {total_accuracy:.2f}%\")\n"
   ]
  }
 ],
 "metadata": {
  "kernelspec": {
   "display_name": "Python 3",
   "language": "python",
   "name": "python3"
  },
  "language_info": {
   "codemirror_mode": {
    "name": "ipython",
    "version": 3
   },
   "file_extension": ".py",
   "mimetype": "text/x-python",
   "name": "python",
   "nbconvert_exporter": "python",
   "pygments_lexer": "ipython3",
   "version": "3.12.1"
  }
 },
 "nbformat": 4,
 "nbformat_minor": 2
}
